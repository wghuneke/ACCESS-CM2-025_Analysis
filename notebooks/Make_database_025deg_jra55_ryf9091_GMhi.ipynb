{
 "cells": [
  {
   "cell_type": "markdown",
   "id": "b6e92784-a061-4f11-a9d6-51a88c522be6",
   "metadata": {},
   "source": [
    "# Create database for ASC perturbation experiment"
   ]
  },
  {
   "cell_type": "code",
   "execution_count": 1,
   "id": "dde46729-76b0-45a3-aa60-edfca99a22f8",
   "metadata": {},
   "outputs": [],
   "source": [
    "import cosima_cookbook as cc"
   ]
  },
  {
   "cell_type": "markdown",
   "id": "35c87701-15bc-4333-87bf-4fbc96a26aca",
   "metadata": {},
   "source": [
    "Create a database session"
   ]
  },
  {
   "cell_type": "code",
   "execution_count": 2,
   "id": "c3766d94-c5ef-4f52-8bad-832127727b36",
   "metadata": {},
   "outputs": [],
   "source": [
    "db = '/g/data/x77/wgh581/access-om2-databases/025deg_jra55_ryf9091_GMhi.db'\n",
    "session = cc.database.create_session(db)"
   ]
  },
  {
   "cell_type": "markdown",
   "id": "7d87e913-443d-4ee5-bf7c-f757260e07ac",
   "metadata": {},
   "source": [
    "Select which experiments to include in database"
   ]
  },
  {
   "cell_type": "code",
   "execution_count": 3,
   "id": "9bfdd038-39b2-47b8-916f-da226ea1756c",
   "metadata": {},
   "outputs": [],
   "source": [
    "directory_list=['/g/data/ik11/outputs/access-om2-025/025deg_jra55_ryf9091_GMhi']"
   ]
  },
  {
   "cell_type": "markdown",
   "id": "02b87fc7-68e8-41c5-a636-41546c94ea2d",
   "metadata": {},
   "source": [
    "Build database"
   ]
  },
  {
   "cell_type": "code",
   "execution_count": 4,
   "id": "aa9de1c8-de94-4779-ab53-daed784dab0e",
   "metadata": {},
   "outputs": [
    {
     "name": "stdout",
     "output_type": "stream",
     "text": [
      "Indexing experiment: 025deg_jra55_ryf9091_GMhi\n"
     ]
    },
    {
     "name": "stderr",
     "output_type": "stream",
     "text": [
      "100%|██████████| 1000/1000 [08:19<00:00,  2.00it/s]\n",
      "100%|██████████| 1000/1000 [11:14<00:00,  1.48it/s]\n",
      "100%|██████████| 1000/1000 [11:49<00:00,  1.41it/s]\n",
      "100%|██████████| 696/696 [07:44<00:00,  1.50it/s]\n"
     ]
    },
    {
     "data": {
      "text/plain": [
       "3696"
      ]
     },
     "execution_count": 4,
     "metadata": {},
     "output_type": "execute_result"
    }
   ],
   "source": [
    "cc.database.build_index(directory_list, session)"
   ]
  },
  {
   "cell_type": "markdown",
   "id": "97586e64-41f6-41bf-b29b-c217f1b8a626",
   "metadata": {},
   "source": [
    "---"
   ]
  },
  {
   "cell_type": "code",
   "execution_count": 5,
   "id": "4b6aad4b-e4c5-4070-9490-341a0d602156",
   "metadata": {},
   "outputs": [
    {
     "data": {
      "application/vnd.jupyter.widget-view+json": {
       "model_id": "c4cd0358e1c74ba680e88a2338308d24",
       "version_major": 2,
       "version_minor": 0
      },
      "text/plain": [
       "DatabaseExplorer(children=(HTML(value='<style>.header p{ line-height: 1.4; margin-bottom: 10px }</style>\\n    …"
      ]
     },
     "metadata": {},
     "output_type": "display_data"
    }
   ],
   "source": [
    "from cosima_cookbook import explore\n",
    "dbx = explore.DatabaseExplorer(session=session)\n",
    "dbx"
   ]
  },
  {
   "cell_type": "code",
   "execution_count": null,
   "id": "2d8fa7ed-5507-478c-aa02-0d51d40cfa41",
   "metadata": {},
   "outputs": [],
   "source": []
  }
 ],
 "metadata": {
  "kernelspec": {
   "display_name": "Python [conda env:analysis3-22.07]",
   "language": "python",
   "name": "conda-env-analysis3-22.07-py"
  },
  "language_info": {
   "codemirror_mode": {
    "name": "ipython",
    "version": 3
   },
   "file_extension": ".py",
   "mimetype": "text/x-python",
   "name": "python",
   "nbconvert_exporter": "python",
   "pygments_lexer": "ipython3",
   "version": "3.9.15"
  }
 },
 "nbformat": 4,
 "nbformat_minor": 5
}
