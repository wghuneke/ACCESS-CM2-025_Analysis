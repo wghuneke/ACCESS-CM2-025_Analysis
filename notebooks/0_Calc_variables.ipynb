{
 "cells": [
  {
   "cell_type": "markdown",
   "id": "565e4990-91dc-48d0-929f-4e7e70cb6c36",
   "metadata": {},
   "source": [
    "# Extract variables to be plotted in other scripts\n",
    "\n",
    "CM2-025 (cz861, present-day), CM2-1 (present-day), OM2-025 (IAF), OM2-1 (IAF)"
   ]
  },
  {
   "cell_type": "code",
   "execution_count": 1,
   "id": "d83e683f-3fbd-47cf-9711-3349c37799c8",
   "metadata": {},
   "outputs": [],
   "source": [
    "import cosima_cookbook as cc\n",
    "from dask.distributed import Client\n",
    "import intake\n",
    "import xarray as xr\n",
    "import numpy as np\n",
    "\n",
    "# Stop annoying warnings coming out of xarray.\n",
    "import warnings\n",
    "warnings.filterwarnings('ignore')"
   ]
  },
  {
   "cell_type": "markdown",
   "id": "f61d6075-4f5b-408c-bdbf-a8a60eb90207",
   "metadata": {},
   "source": [
    "Start a dask cluster"
   ]
  },
  {
   "cell_type": "code",
   "execution_count": 2,
   "id": "66732bbb-432f-4bbe-bf1a-141536c9f307",
   "metadata": {},
   "outputs": [
    {
     "data": {
      "text/html": [
       "<div>\n",
       "    <div style=\"width: 24px; height: 24px; background-color: #e1e1e1; border: 3px solid #9D9D9D; border-radius: 5px; position: absolute;\"> </div>\n",
       "    <div style=\"margin-left: 48px;\">\n",
       "        <h3 style=\"margin-bottom: 0px;\">Client</h3>\n",
       "        <p style=\"color: #9D9D9D; margin-bottom: 0px;\">Client-dd5819eb-f188-11ef-acfc-000007eefe80</p>\n",
       "        <table style=\"width: 100%; text-align: left;\">\n",
       "\n",
       "        <tr>\n",
       "        \n",
       "            <td style=\"text-align: left;\"><strong>Connection method:</strong> Cluster object</td>\n",
       "            <td style=\"text-align: left;\"><strong>Cluster type:</strong> distributed.LocalCluster</td>\n",
       "        \n",
       "        </tr>\n",
       "\n",
       "        \n",
       "            <tr>\n",
       "                <td style=\"text-align: left;\">\n",
       "                    <strong>Dashboard: </strong> <a href=\"/proxy/8787/status\" target=\"_blank\">/proxy/8787/status</a>\n",
       "                </td>\n",
       "                <td style=\"text-align: left;\"></td>\n",
       "            </tr>\n",
       "        \n",
       "\n",
       "        </table>\n",
       "\n",
       "        \n",
       "            <button style=\"margin-bottom: 12px;\" data-commandlinker-command=\"dask:populate-and-launch-layout\" data-commandlinker-args='{\"url\": \"/proxy/8787/status\" }'>\n",
       "                Launch dashboard in JupyterLab\n",
       "            </button>\n",
       "        \n",
       "\n",
       "        \n",
       "            <details>\n",
       "            <summary style=\"margin-bottom: 20px;\"><h3 style=\"display: inline;\">Cluster Info</h3></summary>\n",
       "            <div class=\"jp-RenderedHTMLCommon jp-RenderedHTML jp-mod-trusted jp-OutputArea-output\">\n",
       "    <div style=\"width: 24px; height: 24px; background-color: #e1e1e1; border: 3px solid #9D9D9D; border-radius: 5px; position: absolute;\">\n",
       "    </div>\n",
       "    <div style=\"margin-left: 48px;\">\n",
       "        <h3 style=\"margin-bottom: 0px; margin-top: 0px;\">LocalCluster</h3>\n",
       "        <p style=\"color: #9D9D9D; margin-bottom: 0px;\">a55e0d6e</p>\n",
       "        <table style=\"width: 100%; text-align: left;\">\n",
       "            <tr>\n",
       "                <td style=\"text-align: left;\">\n",
       "                    <strong>Dashboard:</strong> <a href=\"/proxy/8787/status\" target=\"_blank\">/proxy/8787/status</a>\n",
       "                </td>\n",
       "                <td style=\"text-align: left;\">\n",
       "                    <strong>Workers:</strong> 28\n",
       "                </td>\n",
       "            </tr>\n",
       "            <tr>\n",
       "                <td style=\"text-align: left;\">\n",
       "                    <strong>Total threads:</strong> 28\n",
       "                </td>\n",
       "                <td style=\"text-align: left;\">\n",
       "                    <strong>Total memory:</strong> 125.19 GiB\n",
       "                </td>\n",
       "            </tr>\n",
       "            \n",
       "            <tr>\n",
       "    <td style=\"text-align: left;\"><strong>Status:</strong> running</td>\n",
       "    <td style=\"text-align: left;\"><strong>Using processes:</strong> True</td>\n",
       "</tr>\n",
       "\n",
       "            \n",
       "        </table>\n",
       "\n",
       "        <details>\n",
       "            <summary style=\"margin-bottom: 20px;\">\n",
       "                <h3 style=\"display: inline;\">Scheduler Info</h3>\n",
       "            </summary>\n",
       "\n",
       "            <div style=\"\">\n",
       "    <div>\n",
       "        <div style=\"width: 24px; height: 24px; background-color: #FFF7E5; border: 3px solid #FF6132; border-radius: 5px; position: absolute;\"> </div>\n",
       "        <div style=\"margin-left: 48px;\">\n",
       "            <h3 style=\"margin-bottom: 0px;\">Scheduler</h3>\n",
       "            <p style=\"color: #9D9D9D; margin-bottom: 0px;\">Scheduler-fd382aee-e8c0-4007-b4fc-2d65b950ffdd</p>\n",
       "            <table style=\"width: 100%; text-align: left;\">\n",
       "                <tr>\n",
       "                    <td style=\"text-align: left;\">\n",
       "                        <strong>Comm:</strong> tcp://127.0.0.1:43979\n",
       "                    </td>\n",
       "                    <td style=\"text-align: left;\">\n",
       "                        <strong>Workers:</strong> 28\n",
       "                    </td>\n",
       "                </tr>\n",
       "                <tr>\n",
       "                    <td style=\"text-align: left;\">\n",
       "                        <strong>Dashboard:</strong> <a href=\"/proxy/8787/status\" target=\"_blank\">/proxy/8787/status</a>\n",
       "                    </td>\n",
       "                    <td style=\"text-align: left;\">\n",
       "                        <strong>Total threads:</strong> 28\n",
       "                    </td>\n",
       "                </tr>\n",
       "                <tr>\n",
       "                    <td style=\"text-align: left;\">\n",
       "                        <strong>Started:</strong> Just now\n",
       "                    </td>\n",
       "                    <td style=\"text-align: left;\">\n",
       "                        <strong>Total memory:</strong> 125.19 GiB\n",
       "                    </td>\n",
       "                </tr>\n",
       "            </table>\n",
       "        </div>\n",
       "    </div>\n",
       "\n",
       "    <details style=\"margin-left: 48px;\">\n",
       "        <summary style=\"margin-bottom: 20px;\">\n",
       "            <h3 style=\"display: inline;\">Workers</h3>\n",
       "        </summary>\n",
       "\n",
       "        \n",
       "        <div style=\"margin-bottom: 20px;\">\n",
       "            <div style=\"width: 24px; height: 24px; background-color: #DBF5FF; border: 3px solid #4CC9FF; border-radius: 5px; position: absolute;\"> </div>\n",
       "            <div style=\"margin-left: 48px;\">\n",
       "            <details>\n",
       "                <summary>\n",
       "                    <h4 style=\"margin-bottom: 0px; display: inline;\">Worker: 0</h4>\n",
       "                </summary>\n",
       "                <table style=\"width: 100%; text-align: left;\">\n",
       "                    <tr>\n",
       "                        <td style=\"text-align: left;\">\n",
       "                            <strong>Comm: </strong> tcp://127.0.0.1:33709\n",
       "                        </td>\n",
       "                        <td style=\"text-align: left;\">\n",
       "                            <strong>Total threads: </strong> 1\n",
       "                        </td>\n",
       "                    </tr>\n",
       "                    <tr>\n",
       "                        <td style=\"text-align: left;\">\n",
       "                            <strong>Dashboard: </strong> <a href=\"/proxy/42935/status\" target=\"_blank\">/proxy/42935/status</a>\n",
       "                        </td>\n",
       "                        <td style=\"text-align: left;\">\n",
       "                            <strong>Memory: </strong> 4.47 GiB\n",
       "                        </td>\n",
       "                    </tr>\n",
       "                    <tr>\n",
       "                        <td style=\"text-align: left;\">\n",
       "                            <strong>Nanny: </strong> tcp://127.0.0.1:38281\n",
       "                        </td>\n",
       "                        <td style=\"text-align: left;\"></td>\n",
       "                    </tr>\n",
       "                    <tr>\n",
       "                        <td colspan=\"2\" style=\"text-align: left;\">\n",
       "                            <strong>Local directory: </strong> /jobfs/135792632.gadi-pbs/dask-scratch-space/worker-71xf5icz\n",
       "                        </td>\n",
       "                    </tr>\n",
       "\n",
       "                    \n",
       "\n",
       "                    \n",
       "\n",
       "                </table>\n",
       "            </details>\n",
       "            </div>\n",
       "        </div>\n",
       "        \n",
       "        <div style=\"margin-bottom: 20px;\">\n",
       "            <div style=\"width: 24px; height: 24px; background-color: #DBF5FF; border: 3px solid #4CC9FF; border-radius: 5px; position: absolute;\"> </div>\n",
       "            <div style=\"margin-left: 48px;\">\n",
       "            <details>\n",
       "                <summary>\n",
       "                    <h4 style=\"margin-bottom: 0px; display: inline;\">Worker: 1</h4>\n",
       "                </summary>\n",
       "                <table style=\"width: 100%; text-align: left;\">\n",
       "                    <tr>\n",
       "                        <td style=\"text-align: left;\">\n",
       "                            <strong>Comm: </strong> tcp://127.0.0.1:39473\n",
       "                        </td>\n",
       "                        <td style=\"text-align: left;\">\n",
       "                            <strong>Total threads: </strong> 1\n",
       "                        </td>\n",
       "                    </tr>\n",
       "                    <tr>\n",
       "                        <td style=\"text-align: left;\">\n",
       "                            <strong>Dashboard: </strong> <a href=\"/proxy/45651/status\" target=\"_blank\">/proxy/45651/status</a>\n",
       "                        </td>\n",
       "                        <td style=\"text-align: left;\">\n",
       "                            <strong>Memory: </strong> 4.47 GiB\n",
       "                        </td>\n",
       "                    </tr>\n",
       "                    <tr>\n",
       "                        <td style=\"text-align: left;\">\n",
       "                            <strong>Nanny: </strong> tcp://127.0.0.1:43035\n",
       "                        </td>\n",
       "                        <td style=\"text-align: left;\"></td>\n",
       "                    </tr>\n",
       "                    <tr>\n",
       "                        <td colspan=\"2\" style=\"text-align: left;\">\n",
       "                            <strong>Local directory: </strong> /jobfs/135792632.gadi-pbs/dask-scratch-space/worker-4wy_39rm\n",
       "                        </td>\n",
       "                    </tr>\n",
       "\n",
       "                    \n",
       "\n",
       "                    \n",
       "\n",
       "                </table>\n",
       "            </details>\n",
       "            </div>\n",
       "        </div>\n",
       "        \n",
       "        <div style=\"margin-bottom: 20px;\">\n",
       "            <div style=\"width: 24px; height: 24px; background-color: #DBF5FF; border: 3px solid #4CC9FF; border-radius: 5px; position: absolute;\"> </div>\n",
       "            <div style=\"margin-left: 48px;\">\n",
       "            <details>\n",
       "                <summary>\n",
       "                    <h4 style=\"margin-bottom: 0px; display: inline;\">Worker: 2</h4>\n",
       "                </summary>\n",
       "                <table style=\"width: 100%; text-align: left;\">\n",
       "                    <tr>\n",
       "                        <td style=\"text-align: left;\">\n",
       "                            <strong>Comm: </strong> tcp://127.0.0.1:40139\n",
       "                        </td>\n",
       "                        <td style=\"text-align: left;\">\n",
       "                            <strong>Total threads: </strong> 1\n",
       "                        </td>\n",
       "                    </tr>\n",
       "                    <tr>\n",
       "                        <td style=\"text-align: left;\">\n",
       "                            <strong>Dashboard: </strong> <a href=\"/proxy/40391/status\" target=\"_blank\">/proxy/40391/status</a>\n",
       "                        </td>\n",
       "                        <td style=\"text-align: left;\">\n",
       "                            <strong>Memory: </strong> 4.47 GiB\n",
       "                        </td>\n",
       "                    </tr>\n",
       "                    <tr>\n",
       "                        <td style=\"text-align: left;\">\n",
       "                            <strong>Nanny: </strong> tcp://127.0.0.1:44257\n",
       "                        </td>\n",
       "                        <td style=\"text-align: left;\"></td>\n",
       "                    </tr>\n",
       "                    <tr>\n",
       "                        <td colspan=\"2\" style=\"text-align: left;\">\n",
       "                            <strong>Local directory: </strong> /jobfs/135792632.gadi-pbs/dask-scratch-space/worker-ls9atoe9\n",
       "                        </td>\n",
       "                    </tr>\n",
       "\n",
       "                    \n",
       "\n",
       "                    \n",
       "\n",
       "                </table>\n",
       "            </details>\n",
       "            </div>\n",
       "        </div>\n",
       "        \n",
       "        <div style=\"margin-bottom: 20px;\">\n",
       "            <div style=\"width: 24px; height: 24px; background-color: #DBF5FF; border: 3px solid #4CC9FF; border-radius: 5px; position: absolute;\"> </div>\n",
       "            <div style=\"margin-left: 48px;\">\n",
       "            <details>\n",
       "                <summary>\n",
       "                    <h4 style=\"margin-bottom: 0px; display: inline;\">Worker: 3</h4>\n",
       "                </summary>\n",
       "                <table style=\"width: 100%; text-align: left;\">\n",
       "                    <tr>\n",
       "                        <td style=\"text-align: left;\">\n",
       "                            <strong>Comm: </strong> tcp://127.0.0.1:41515\n",
       "                        </td>\n",
       "                        <td style=\"text-align: left;\">\n",
       "                            <strong>Total threads: </strong> 1\n",
       "                        </td>\n",
       "                    </tr>\n",
       "                    <tr>\n",
       "                        <td style=\"text-align: left;\">\n",
       "                            <strong>Dashboard: </strong> <a href=\"/proxy/37317/status\" target=\"_blank\">/proxy/37317/status</a>\n",
       "                        </td>\n",
       "                        <td style=\"text-align: left;\">\n",
       "                            <strong>Memory: </strong> 4.47 GiB\n",
       "                        </td>\n",
       "                    </tr>\n",
       "                    <tr>\n",
       "                        <td style=\"text-align: left;\">\n",
       "                            <strong>Nanny: </strong> tcp://127.0.0.1:40013\n",
       "                        </td>\n",
       "                        <td style=\"text-align: left;\"></td>\n",
       "                    </tr>\n",
       "                    <tr>\n",
       "                        <td colspan=\"2\" style=\"text-align: left;\">\n",
       "                            <strong>Local directory: </strong> /jobfs/135792632.gadi-pbs/dask-scratch-space/worker-oad66g7i\n",
       "                        </td>\n",
       "                    </tr>\n",
       "\n",
       "                    \n",
       "\n",
       "                    \n",
       "\n",
       "                </table>\n",
       "            </details>\n",
       "            </div>\n",
       "        </div>\n",
       "        \n",
       "        <div style=\"margin-bottom: 20px;\">\n",
       "            <div style=\"width: 24px; height: 24px; background-color: #DBF5FF; border: 3px solid #4CC9FF; border-radius: 5px; position: absolute;\"> </div>\n",
       "            <div style=\"margin-left: 48px;\">\n",
       "            <details>\n",
       "                <summary>\n",
       "                    <h4 style=\"margin-bottom: 0px; display: inline;\">Worker: 4</h4>\n",
       "                </summary>\n",
       "                <table style=\"width: 100%; text-align: left;\">\n",
       "                    <tr>\n",
       "                        <td style=\"text-align: left;\">\n",
       "                            <strong>Comm: </strong> tcp://127.0.0.1:45515\n",
       "                        </td>\n",
       "                        <td style=\"text-align: left;\">\n",
       "                            <strong>Total threads: </strong> 1\n",
       "                        </td>\n",
       "                    </tr>\n",
       "                    <tr>\n",
       "                        <td style=\"text-align: left;\">\n",
       "                            <strong>Dashboard: </strong> <a href=\"/proxy/35347/status\" target=\"_blank\">/proxy/35347/status</a>\n",
       "                        </td>\n",
       "                        <td style=\"text-align: left;\">\n",
       "                            <strong>Memory: </strong> 4.47 GiB\n",
       "                        </td>\n",
       "                    </tr>\n",
       "                    <tr>\n",
       "                        <td style=\"text-align: left;\">\n",
       "                            <strong>Nanny: </strong> tcp://127.0.0.1:38393\n",
       "                        </td>\n",
       "                        <td style=\"text-align: left;\"></td>\n",
       "                    </tr>\n",
       "                    <tr>\n",
       "                        <td colspan=\"2\" style=\"text-align: left;\">\n",
       "                            <strong>Local directory: </strong> /jobfs/135792632.gadi-pbs/dask-scratch-space/worker-a6ozdy0c\n",
       "                        </td>\n",
       "                    </tr>\n",
       "\n",
       "                    \n",
       "\n",
       "                    \n",
       "\n",
       "                </table>\n",
       "            </details>\n",
       "            </div>\n",
       "        </div>\n",
       "        \n",
       "        <div style=\"margin-bottom: 20px;\">\n",
       "            <div style=\"width: 24px; height: 24px; background-color: #DBF5FF; border: 3px solid #4CC9FF; border-radius: 5px; position: absolute;\"> </div>\n",
       "            <div style=\"margin-left: 48px;\">\n",
       "            <details>\n",
       "                <summary>\n",
       "                    <h4 style=\"margin-bottom: 0px; display: inline;\">Worker: 5</h4>\n",
       "                </summary>\n",
       "                <table style=\"width: 100%; text-align: left;\">\n",
       "                    <tr>\n",
       "                        <td style=\"text-align: left;\">\n",
       "                            <strong>Comm: </strong> tcp://127.0.0.1:33261\n",
       "                        </td>\n",
       "                        <td style=\"text-align: left;\">\n",
       "                            <strong>Total threads: </strong> 1\n",
       "                        </td>\n",
       "                    </tr>\n",
       "                    <tr>\n",
       "                        <td style=\"text-align: left;\">\n",
       "                            <strong>Dashboard: </strong> <a href=\"/proxy/44339/status\" target=\"_blank\">/proxy/44339/status</a>\n",
       "                        </td>\n",
       "                        <td style=\"text-align: left;\">\n",
       "                            <strong>Memory: </strong> 4.47 GiB\n",
       "                        </td>\n",
       "                    </tr>\n",
       "                    <tr>\n",
       "                        <td style=\"text-align: left;\">\n",
       "                            <strong>Nanny: </strong> tcp://127.0.0.1:43779\n",
       "                        </td>\n",
       "                        <td style=\"text-align: left;\"></td>\n",
       "                    </tr>\n",
       "                    <tr>\n",
       "                        <td colspan=\"2\" style=\"text-align: left;\">\n",
       "                            <strong>Local directory: </strong> /jobfs/135792632.gadi-pbs/dask-scratch-space/worker-07qavxj7\n",
       "                        </td>\n",
       "                    </tr>\n",
       "\n",
       "                    \n",
       "\n",
       "                    \n",
       "\n",
       "                </table>\n",
       "            </details>\n",
       "            </div>\n",
       "        </div>\n",
       "        \n",
       "        <div style=\"margin-bottom: 20px;\">\n",
       "            <div style=\"width: 24px; height: 24px; background-color: #DBF5FF; border: 3px solid #4CC9FF; border-radius: 5px; position: absolute;\"> </div>\n",
       "            <div style=\"margin-left: 48px;\">\n",
       "            <details>\n",
       "                <summary>\n",
       "                    <h4 style=\"margin-bottom: 0px; display: inline;\">Worker: 6</h4>\n",
       "                </summary>\n",
       "                <table style=\"width: 100%; text-align: left;\">\n",
       "                    <tr>\n",
       "                        <td style=\"text-align: left;\">\n",
       "                            <strong>Comm: </strong> tcp://127.0.0.1:46841\n",
       "                        </td>\n",
       "                        <td style=\"text-align: left;\">\n",
       "                            <strong>Total threads: </strong> 1\n",
       "                        </td>\n",
       "                    </tr>\n",
       "                    <tr>\n",
       "                        <td style=\"text-align: left;\">\n",
       "                            <strong>Dashboard: </strong> <a href=\"/proxy/39597/status\" target=\"_blank\">/proxy/39597/status</a>\n",
       "                        </td>\n",
       "                        <td style=\"text-align: left;\">\n",
       "                            <strong>Memory: </strong> 4.47 GiB\n",
       "                        </td>\n",
       "                    </tr>\n",
       "                    <tr>\n",
       "                        <td style=\"text-align: left;\">\n",
       "                            <strong>Nanny: </strong> tcp://127.0.0.1:33147\n",
       "                        </td>\n",
       "                        <td style=\"text-align: left;\"></td>\n",
       "                    </tr>\n",
       "                    <tr>\n",
       "                        <td colspan=\"2\" style=\"text-align: left;\">\n",
       "                            <strong>Local directory: </strong> /jobfs/135792632.gadi-pbs/dask-scratch-space/worker-9ibo4isf\n",
       "                        </td>\n",
       "                    </tr>\n",
       "\n",
       "                    \n",
       "\n",
       "                    \n",
       "\n",
       "                </table>\n",
       "            </details>\n",
       "            </div>\n",
       "        </div>\n",
       "        \n",
       "        <div style=\"margin-bottom: 20px;\">\n",
       "            <div style=\"width: 24px; height: 24px; background-color: #DBF5FF; border: 3px solid #4CC9FF; border-radius: 5px; position: absolute;\"> </div>\n",
       "            <div style=\"margin-left: 48px;\">\n",
       "            <details>\n",
       "                <summary>\n",
       "                    <h4 style=\"margin-bottom: 0px; display: inline;\">Worker: 7</h4>\n",
       "                </summary>\n",
       "                <table style=\"width: 100%; text-align: left;\">\n",
       "                    <tr>\n",
       "                        <td style=\"text-align: left;\">\n",
       "                            <strong>Comm: </strong> tcp://127.0.0.1:46015\n",
       "                        </td>\n",
       "                        <td style=\"text-align: left;\">\n",
       "                            <strong>Total threads: </strong> 1\n",
       "                        </td>\n",
       "                    </tr>\n",
       "                    <tr>\n",
       "                        <td style=\"text-align: left;\">\n",
       "                            <strong>Dashboard: </strong> <a href=\"/proxy/34049/status\" target=\"_blank\">/proxy/34049/status</a>\n",
       "                        </td>\n",
       "                        <td style=\"text-align: left;\">\n",
       "                            <strong>Memory: </strong> 4.47 GiB\n",
       "                        </td>\n",
       "                    </tr>\n",
       "                    <tr>\n",
       "                        <td style=\"text-align: left;\">\n",
       "                            <strong>Nanny: </strong> tcp://127.0.0.1:44461\n",
       "                        </td>\n",
       "                        <td style=\"text-align: left;\"></td>\n",
       "                    </tr>\n",
       "                    <tr>\n",
       "                        <td colspan=\"2\" style=\"text-align: left;\">\n",
       "                            <strong>Local directory: </strong> /jobfs/135792632.gadi-pbs/dask-scratch-space/worker-uvas9_s0\n",
       "                        </td>\n",
       "                    </tr>\n",
       "\n",
       "                    \n",
       "\n",
       "                    \n",
       "\n",
       "                </table>\n",
       "            </details>\n",
       "            </div>\n",
       "        </div>\n",
       "        \n",
       "        <div style=\"margin-bottom: 20px;\">\n",
       "            <div style=\"width: 24px; height: 24px; background-color: #DBF5FF; border: 3px solid #4CC9FF; border-radius: 5px; position: absolute;\"> </div>\n",
       "            <div style=\"margin-left: 48px;\">\n",
       "            <details>\n",
       "                <summary>\n",
       "                    <h4 style=\"margin-bottom: 0px; display: inline;\">Worker: 8</h4>\n",
       "                </summary>\n",
       "                <table style=\"width: 100%; text-align: left;\">\n",
       "                    <tr>\n",
       "                        <td style=\"text-align: left;\">\n",
       "                            <strong>Comm: </strong> tcp://127.0.0.1:42713\n",
       "                        </td>\n",
       "                        <td style=\"text-align: left;\">\n",
       "                            <strong>Total threads: </strong> 1\n",
       "                        </td>\n",
       "                    </tr>\n",
       "                    <tr>\n",
       "                        <td style=\"text-align: left;\">\n",
       "                            <strong>Dashboard: </strong> <a href=\"/proxy/42835/status\" target=\"_blank\">/proxy/42835/status</a>\n",
       "                        </td>\n",
       "                        <td style=\"text-align: left;\">\n",
       "                            <strong>Memory: </strong> 4.47 GiB\n",
       "                        </td>\n",
       "                    </tr>\n",
       "                    <tr>\n",
       "                        <td style=\"text-align: left;\">\n",
       "                            <strong>Nanny: </strong> tcp://127.0.0.1:41427\n",
       "                        </td>\n",
       "                        <td style=\"text-align: left;\"></td>\n",
       "                    </tr>\n",
       "                    <tr>\n",
       "                        <td colspan=\"2\" style=\"text-align: left;\">\n",
       "                            <strong>Local directory: </strong> /jobfs/135792632.gadi-pbs/dask-scratch-space/worker-1k6h4br_\n",
       "                        </td>\n",
       "                    </tr>\n",
       "\n",
       "                    \n",
       "\n",
       "                    \n",
       "\n",
       "                </table>\n",
       "            </details>\n",
       "            </div>\n",
       "        </div>\n",
       "        \n",
       "        <div style=\"margin-bottom: 20px;\">\n",
       "            <div style=\"width: 24px; height: 24px; background-color: #DBF5FF; border: 3px solid #4CC9FF; border-radius: 5px; position: absolute;\"> </div>\n",
       "            <div style=\"margin-left: 48px;\">\n",
       "            <details>\n",
       "                <summary>\n",
       "                    <h4 style=\"margin-bottom: 0px; display: inline;\">Worker: 9</h4>\n",
       "                </summary>\n",
       "                <table style=\"width: 100%; text-align: left;\">\n",
       "                    <tr>\n",
       "                        <td style=\"text-align: left;\">\n",
       "                            <strong>Comm: </strong> tcp://127.0.0.1:36755\n",
       "                        </td>\n",
       "                        <td style=\"text-align: left;\">\n",
       "                            <strong>Total threads: </strong> 1\n",
       "                        </td>\n",
       "                    </tr>\n",
       "                    <tr>\n",
       "                        <td style=\"text-align: left;\">\n",
       "                            <strong>Dashboard: </strong> <a href=\"/proxy/40829/status\" target=\"_blank\">/proxy/40829/status</a>\n",
       "                        </td>\n",
       "                        <td style=\"text-align: left;\">\n",
       "                            <strong>Memory: </strong> 4.47 GiB\n",
       "                        </td>\n",
       "                    </tr>\n",
       "                    <tr>\n",
       "                        <td style=\"text-align: left;\">\n",
       "                            <strong>Nanny: </strong> tcp://127.0.0.1:41147\n",
       "                        </td>\n",
       "                        <td style=\"text-align: left;\"></td>\n",
       "                    </tr>\n",
       "                    <tr>\n",
       "                        <td colspan=\"2\" style=\"text-align: left;\">\n",
       "                            <strong>Local directory: </strong> /jobfs/135792632.gadi-pbs/dask-scratch-space/worker-va2y3a12\n",
       "                        </td>\n",
       "                    </tr>\n",
       "\n",
       "                    \n",
       "\n",
       "                    \n",
       "\n",
       "                </table>\n",
       "            </details>\n",
       "            </div>\n",
       "        </div>\n",
       "        \n",
       "        <div style=\"margin-bottom: 20px;\">\n",
       "            <div style=\"width: 24px; height: 24px; background-color: #DBF5FF; border: 3px solid #4CC9FF; border-radius: 5px; position: absolute;\"> </div>\n",
       "            <div style=\"margin-left: 48px;\">\n",
       "            <details>\n",
       "                <summary>\n",
       "                    <h4 style=\"margin-bottom: 0px; display: inline;\">Worker: 10</h4>\n",
       "                </summary>\n",
       "                <table style=\"width: 100%; text-align: left;\">\n",
       "                    <tr>\n",
       "                        <td style=\"text-align: left;\">\n",
       "                            <strong>Comm: </strong> tcp://127.0.0.1:38579\n",
       "                        </td>\n",
       "                        <td style=\"text-align: left;\">\n",
       "                            <strong>Total threads: </strong> 1\n",
       "                        </td>\n",
       "                    </tr>\n",
       "                    <tr>\n",
       "                        <td style=\"text-align: left;\">\n",
       "                            <strong>Dashboard: </strong> <a href=\"/proxy/39979/status\" target=\"_blank\">/proxy/39979/status</a>\n",
       "                        </td>\n",
       "                        <td style=\"text-align: left;\">\n",
       "                            <strong>Memory: </strong> 4.47 GiB\n",
       "                        </td>\n",
       "                    </tr>\n",
       "                    <tr>\n",
       "                        <td style=\"text-align: left;\">\n",
       "                            <strong>Nanny: </strong> tcp://127.0.0.1:34213\n",
       "                        </td>\n",
       "                        <td style=\"text-align: left;\"></td>\n",
       "                    </tr>\n",
       "                    <tr>\n",
       "                        <td colspan=\"2\" style=\"text-align: left;\">\n",
       "                            <strong>Local directory: </strong> /jobfs/135792632.gadi-pbs/dask-scratch-space/worker-vq2kk97d\n",
       "                        </td>\n",
       "                    </tr>\n",
       "\n",
       "                    \n",
       "\n",
       "                    \n",
       "\n",
       "                </table>\n",
       "            </details>\n",
       "            </div>\n",
       "        </div>\n",
       "        \n",
       "        <div style=\"margin-bottom: 20px;\">\n",
       "            <div style=\"width: 24px; height: 24px; background-color: #DBF5FF; border: 3px solid #4CC9FF; border-radius: 5px; position: absolute;\"> </div>\n",
       "            <div style=\"margin-left: 48px;\">\n",
       "            <details>\n",
       "                <summary>\n",
       "                    <h4 style=\"margin-bottom: 0px; display: inline;\">Worker: 11</h4>\n",
       "                </summary>\n",
       "                <table style=\"width: 100%; text-align: left;\">\n",
       "                    <tr>\n",
       "                        <td style=\"text-align: left;\">\n",
       "                            <strong>Comm: </strong> tcp://127.0.0.1:38821\n",
       "                        </td>\n",
       "                        <td style=\"text-align: left;\">\n",
       "                            <strong>Total threads: </strong> 1\n",
       "                        </td>\n",
       "                    </tr>\n",
       "                    <tr>\n",
       "                        <td style=\"text-align: left;\">\n",
       "                            <strong>Dashboard: </strong> <a href=\"/proxy/37369/status\" target=\"_blank\">/proxy/37369/status</a>\n",
       "                        </td>\n",
       "                        <td style=\"text-align: left;\">\n",
       "                            <strong>Memory: </strong> 4.47 GiB\n",
       "                        </td>\n",
       "                    </tr>\n",
       "                    <tr>\n",
       "                        <td style=\"text-align: left;\">\n",
       "                            <strong>Nanny: </strong> tcp://127.0.0.1:45105\n",
       "                        </td>\n",
       "                        <td style=\"text-align: left;\"></td>\n",
       "                    </tr>\n",
       "                    <tr>\n",
       "                        <td colspan=\"2\" style=\"text-align: left;\">\n",
       "                            <strong>Local directory: </strong> /jobfs/135792632.gadi-pbs/dask-scratch-space/worker-_iif94sp\n",
       "                        </td>\n",
       "                    </tr>\n",
       "\n",
       "                    \n",
       "\n",
       "                    \n",
       "\n",
       "                </table>\n",
       "            </details>\n",
       "            </div>\n",
       "        </div>\n",
       "        \n",
       "        <div style=\"margin-bottom: 20px;\">\n",
       "            <div style=\"width: 24px; height: 24px; background-color: #DBF5FF; border: 3px solid #4CC9FF; border-radius: 5px; position: absolute;\"> </div>\n",
       "            <div style=\"margin-left: 48px;\">\n",
       "            <details>\n",
       "                <summary>\n",
       "                    <h4 style=\"margin-bottom: 0px; display: inline;\">Worker: 12</h4>\n",
       "                </summary>\n",
       "                <table style=\"width: 100%; text-align: left;\">\n",
       "                    <tr>\n",
       "                        <td style=\"text-align: left;\">\n",
       "                            <strong>Comm: </strong> tcp://127.0.0.1:36571\n",
       "                        </td>\n",
       "                        <td style=\"text-align: left;\">\n",
       "                            <strong>Total threads: </strong> 1\n",
       "                        </td>\n",
       "                    </tr>\n",
       "                    <tr>\n",
       "                        <td style=\"text-align: left;\">\n",
       "                            <strong>Dashboard: </strong> <a href=\"/proxy/43341/status\" target=\"_blank\">/proxy/43341/status</a>\n",
       "                        </td>\n",
       "                        <td style=\"text-align: left;\">\n",
       "                            <strong>Memory: </strong> 4.47 GiB\n",
       "                        </td>\n",
       "                    </tr>\n",
       "                    <tr>\n",
       "                        <td style=\"text-align: left;\">\n",
       "                            <strong>Nanny: </strong> tcp://127.0.0.1:45697\n",
       "                        </td>\n",
       "                        <td style=\"text-align: left;\"></td>\n",
       "                    </tr>\n",
       "                    <tr>\n",
       "                        <td colspan=\"2\" style=\"text-align: left;\">\n",
       "                            <strong>Local directory: </strong> /jobfs/135792632.gadi-pbs/dask-scratch-space/worker-8gg2nss4\n",
       "                        </td>\n",
       "                    </tr>\n",
       "\n",
       "                    \n",
       "\n",
       "                    \n",
       "\n",
       "                </table>\n",
       "            </details>\n",
       "            </div>\n",
       "        </div>\n",
       "        \n",
       "        <div style=\"margin-bottom: 20px;\">\n",
       "            <div style=\"width: 24px; height: 24px; background-color: #DBF5FF; border: 3px solid #4CC9FF; border-radius: 5px; position: absolute;\"> </div>\n",
       "            <div style=\"margin-left: 48px;\">\n",
       "            <details>\n",
       "                <summary>\n",
       "                    <h4 style=\"margin-bottom: 0px; display: inline;\">Worker: 13</h4>\n",
       "                </summary>\n",
       "                <table style=\"width: 100%; text-align: left;\">\n",
       "                    <tr>\n",
       "                        <td style=\"text-align: left;\">\n",
       "                            <strong>Comm: </strong> tcp://127.0.0.1:34601\n",
       "                        </td>\n",
       "                        <td style=\"text-align: left;\">\n",
       "                            <strong>Total threads: </strong> 1\n",
       "                        </td>\n",
       "                    </tr>\n",
       "                    <tr>\n",
       "                        <td style=\"text-align: left;\">\n",
       "                            <strong>Dashboard: </strong> <a href=\"/proxy/45881/status\" target=\"_blank\">/proxy/45881/status</a>\n",
       "                        </td>\n",
       "                        <td style=\"text-align: left;\">\n",
       "                            <strong>Memory: </strong> 4.47 GiB\n",
       "                        </td>\n",
       "                    </tr>\n",
       "                    <tr>\n",
       "                        <td style=\"text-align: left;\">\n",
       "                            <strong>Nanny: </strong> tcp://127.0.0.1:36439\n",
       "                        </td>\n",
       "                        <td style=\"text-align: left;\"></td>\n",
       "                    </tr>\n",
       "                    <tr>\n",
       "                        <td colspan=\"2\" style=\"text-align: left;\">\n",
       "                            <strong>Local directory: </strong> /jobfs/135792632.gadi-pbs/dask-scratch-space/worker-02_2hvlr\n",
       "                        </td>\n",
       "                    </tr>\n",
       "\n",
       "                    \n",
       "\n",
       "                    \n",
       "\n",
       "                </table>\n",
       "            </details>\n",
       "            </div>\n",
       "        </div>\n",
       "        \n",
       "        <div style=\"margin-bottom: 20px;\">\n",
       "            <div style=\"width: 24px; height: 24px; background-color: #DBF5FF; border: 3px solid #4CC9FF; border-radius: 5px; position: absolute;\"> </div>\n",
       "            <div style=\"margin-left: 48px;\">\n",
       "            <details>\n",
       "                <summary>\n",
       "                    <h4 style=\"margin-bottom: 0px; display: inline;\">Worker: 14</h4>\n",
       "                </summary>\n",
       "                <table style=\"width: 100%; text-align: left;\">\n",
       "                    <tr>\n",
       "                        <td style=\"text-align: left;\">\n",
       "                            <strong>Comm: </strong> tcp://127.0.0.1:36385\n",
       "                        </td>\n",
       "                        <td style=\"text-align: left;\">\n",
       "                            <strong>Total threads: </strong> 1\n",
       "                        </td>\n",
       "                    </tr>\n",
       "                    <tr>\n",
       "                        <td style=\"text-align: left;\">\n",
       "                            <strong>Dashboard: </strong> <a href=\"/proxy/37641/status\" target=\"_blank\">/proxy/37641/status</a>\n",
       "                        </td>\n",
       "                        <td style=\"text-align: left;\">\n",
       "                            <strong>Memory: </strong> 4.47 GiB\n",
       "                        </td>\n",
       "                    </tr>\n",
       "                    <tr>\n",
       "                        <td style=\"text-align: left;\">\n",
       "                            <strong>Nanny: </strong> tcp://127.0.0.1:44255\n",
       "                        </td>\n",
       "                        <td style=\"text-align: left;\"></td>\n",
       "                    </tr>\n",
       "                    <tr>\n",
       "                        <td colspan=\"2\" style=\"text-align: left;\">\n",
       "                            <strong>Local directory: </strong> /jobfs/135792632.gadi-pbs/dask-scratch-space/worker-rx1_xv_2\n",
       "                        </td>\n",
       "                    </tr>\n",
       "\n",
       "                    \n",
       "\n",
       "                    \n",
       "\n",
       "                </table>\n",
       "            </details>\n",
       "            </div>\n",
       "        </div>\n",
       "        \n",
       "        <div style=\"margin-bottom: 20px;\">\n",
       "            <div style=\"width: 24px; height: 24px; background-color: #DBF5FF; border: 3px solid #4CC9FF; border-radius: 5px; position: absolute;\"> </div>\n",
       "            <div style=\"margin-left: 48px;\">\n",
       "            <details>\n",
       "                <summary>\n",
       "                    <h4 style=\"margin-bottom: 0px; display: inline;\">Worker: 15</h4>\n",
       "                </summary>\n",
       "                <table style=\"width: 100%; text-align: left;\">\n",
       "                    <tr>\n",
       "                        <td style=\"text-align: left;\">\n",
       "                            <strong>Comm: </strong> tcp://127.0.0.1:35293\n",
       "                        </td>\n",
       "                        <td style=\"text-align: left;\">\n",
       "                            <strong>Total threads: </strong> 1\n",
       "                        </td>\n",
       "                    </tr>\n",
       "                    <tr>\n",
       "                        <td style=\"text-align: left;\">\n",
       "                            <strong>Dashboard: </strong> <a href=\"/proxy/44289/status\" target=\"_blank\">/proxy/44289/status</a>\n",
       "                        </td>\n",
       "                        <td style=\"text-align: left;\">\n",
       "                            <strong>Memory: </strong> 4.47 GiB\n",
       "                        </td>\n",
       "                    </tr>\n",
       "                    <tr>\n",
       "                        <td style=\"text-align: left;\">\n",
       "                            <strong>Nanny: </strong> tcp://127.0.0.1:36821\n",
       "                        </td>\n",
       "                        <td style=\"text-align: left;\"></td>\n",
       "                    </tr>\n",
       "                    <tr>\n",
       "                        <td colspan=\"2\" style=\"text-align: left;\">\n",
       "                            <strong>Local directory: </strong> /jobfs/135792632.gadi-pbs/dask-scratch-space/worker-vtlf_8yu\n",
       "                        </td>\n",
       "                    </tr>\n",
       "\n",
       "                    \n",
       "\n",
       "                    \n",
       "\n",
       "                </table>\n",
       "            </details>\n",
       "            </div>\n",
       "        </div>\n",
       "        \n",
       "        <div style=\"margin-bottom: 20px;\">\n",
       "            <div style=\"width: 24px; height: 24px; background-color: #DBF5FF; border: 3px solid #4CC9FF; border-radius: 5px; position: absolute;\"> </div>\n",
       "            <div style=\"margin-left: 48px;\">\n",
       "            <details>\n",
       "                <summary>\n",
       "                    <h4 style=\"margin-bottom: 0px; display: inline;\">Worker: 16</h4>\n",
       "                </summary>\n",
       "                <table style=\"width: 100%; text-align: left;\">\n",
       "                    <tr>\n",
       "                        <td style=\"text-align: left;\">\n",
       "                            <strong>Comm: </strong> tcp://127.0.0.1:42593\n",
       "                        </td>\n",
       "                        <td style=\"text-align: left;\">\n",
       "                            <strong>Total threads: </strong> 1\n",
       "                        </td>\n",
       "                    </tr>\n",
       "                    <tr>\n",
       "                        <td style=\"text-align: left;\">\n",
       "                            <strong>Dashboard: </strong> <a href=\"/proxy/32997/status\" target=\"_blank\">/proxy/32997/status</a>\n",
       "                        </td>\n",
       "                        <td style=\"text-align: left;\">\n",
       "                            <strong>Memory: </strong> 4.47 GiB\n",
       "                        </td>\n",
       "                    </tr>\n",
       "                    <tr>\n",
       "                        <td style=\"text-align: left;\">\n",
       "                            <strong>Nanny: </strong> tcp://127.0.0.1:43849\n",
       "                        </td>\n",
       "                        <td style=\"text-align: left;\"></td>\n",
       "                    </tr>\n",
       "                    <tr>\n",
       "                        <td colspan=\"2\" style=\"text-align: left;\">\n",
       "                            <strong>Local directory: </strong> /jobfs/135792632.gadi-pbs/dask-scratch-space/worker-k3kegdj2\n",
       "                        </td>\n",
       "                    </tr>\n",
       "\n",
       "                    \n",
       "\n",
       "                    \n",
       "\n",
       "                </table>\n",
       "            </details>\n",
       "            </div>\n",
       "        </div>\n",
       "        \n",
       "        <div style=\"margin-bottom: 20px;\">\n",
       "            <div style=\"width: 24px; height: 24px; background-color: #DBF5FF; border: 3px solid #4CC9FF; border-radius: 5px; position: absolute;\"> </div>\n",
       "            <div style=\"margin-left: 48px;\">\n",
       "            <details>\n",
       "                <summary>\n",
       "                    <h4 style=\"margin-bottom: 0px; display: inline;\">Worker: 17</h4>\n",
       "                </summary>\n",
       "                <table style=\"width: 100%; text-align: left;\">\n",
       "                    <tr>\n",
       "                        <td style=\"text-align: left;\">\n",
       "                            <strong>Comm: </strong> tcp://127.0.0.1:40703\n",
       "                        </td>\n",
       "                        <td style=\"text-align: left;\">\n",
       "                            <strong>Total threads: </strong> 1\n",
       "                        </td>\n",
       "                    </tr>\n",
       "                    <tr>\n",
       "                        <td style=\"text-align: left;\">\n",
       "                            <strong>Dashboard: </strong> <a href=\"/proxy/37957/status\" target=\"_blank\">/proxy/37957/status</a>\n",
       "                        </td>\n",
       "                        <td style=\"text-align: left;\">\n",
       "                            <strong>Memory: </strong> 4.47 GiB\n",
       "                        </td>\n",
       "                    </tr>\n",
       "                    <tr>\n",
       "                        <td style=\"text-align: left;\">\n",
       "                            <strong>Nanny: </strong> tcp://127.0.0.1:41615\n",
       "                        </td>\n",
       "                        <td style=\"text-align: left;\"></td>\n",
       "                    </tr>\n",
       "                    <tr>\n",
       "                        <td colspan=\"2\" style=\"text-align: left;\">\n",
       "                            <strong>Local directory: </strong> /jobfs/135792632.gadi-pbs/dask-scratch-space/worker-cxnh_ob9\n",
       "                        </td>\n",
       "                    </tr>\n",
       "\n",
       "                    \n",
       "\n",
       "                    \n",
       "\n",
       "                </table>\n",
       "            </details>\n",
       "            </div>\n",
       "        </div>\n",
       "        \n",
       "        <div style=\"margin-bottom: 20px;\">\n",
       "            <div style=\"width: 24px; height: 24px; background-color: #DBF5FF; border: 3px solid #4CC9FF; border-radius: 5px; position: absolute;\"> </div>\n",
       "            <div style=\"margin-left: 48px;\">\n",
       "            <details>\n",
       "                <summary>\n",
       "                    <h4 style=\"margin-bottom: 0px; display: inline;\">Worker: 18</h4>\n",
       "                </summary>\n",
       "                <table style=\"width: 100%; text-align: left;\">\n",
       "                    <tr>\n",
       "                        <td style=\"text-align: left;\">\n",
       "                            <strong>Comm: </strong> tcp://127.0.0.1:46341\n",
       "                        </td>\n",
       "                        <td style=\"text-align: left;\">\n",
       "                            <strong>Total threads: </strong> 1\n",
       "                        </td>\n",
       "                    </tr>\n",
       "                    <tr>\n",
       "                        <td style=\"text-align: left;\">\n",
       "                            <strong>Dashboard: </strong> <a href=\"/proxy/41585/status\" target=\"_blank\">/proxy/41585/status</a>\n",
       "                        </td>\n",
       "                        <td style=\"text-align: left;\">\n",
       "                            <strong>Memory: </strong> 4.47 GiB\n",
       "                        </td>\n",
       "                    </tr>\n",
       "                    <tr>\n",
       "                        <td style=\"text-align: left;\">\n",
       "                            <strong>Nanny: </strong> tcp://127.0.0.1:41291\n",
       "                        </td>\n",
       "                        <td style=\"text-align: left;\"></td>\n",
       "                    </tr>\n",
       "                    <tr>\n",
       "                        <td colspan=\"2\" style=\"text-align: left;\">\n",
       "                            <strong>Local directory: </strong> /jobfs/135792632.gadi-pbs/dask-scratch-space/worker-g0rd7bq8\n",
       "                        </td>\n",
       "                    </tr>\n",
       "\n",
       "                    \n",
       "\n",
       "                    \n",
       "\n",
       "                </table>\n",
       "            </details>\n",
       "            </div>\n",
       "        </div>\n",
       "        \n",
       "        <div style=\"margin-bottom: 20px;\">\n",
       "            <div style=\"width: 24px; height: 24px; background-color: #DBF5FF; border: 3px solid #4CC9FF; border-radius: 5px; position: absolute;\"> </div>\n",
       "            <div style=\"margin-left: 48px;\">\n",
       "            <details>\n",
       "                <summary>\n",
       "                    <h4 style=\"margin-bottom: 0px; display: inline;\">Worker: 19</h4>\n",
       "                </summary>\n",
       "                <table style=\"width: 100%; text-align: left;\">\n",
       "                    <tr>\n",
       "                        <td style=\"text-align: left;\">\n",
       "                            <strong>Comm: </strong> tcp://127.0.0.1:40365\n",
       "                        </td>\n",
       "                        <td style=\"text-align: left;\">\n",
       "                            <strong>Total threads: </strong> 1\n",
       "                        </td>\n",
       "                    </tr>\n",
       "                    <tr>\n",
       "                        <td style=\"text-align: left;\">\n",
       "                            <strong>Dashboard: </strong> <a href=\"/proxy/44405/status\" target=\"_blank\">/proxy/44405/status</a>\n",
       "                        </td>\n",
       "                        <td style=\"text-align: left;\">\n",
       "                            <strong>Memory: </strong> 4.47 GiB\n",
       "                        </td>\n",
       "                    </tr>\n",
       "                    <tr>\n",
       "                        <td style=\"text-align: left;\">\n",
       "                            <strong>Nanny: </strong> tcp://127.0.0.1:35661\n",
       "                        </td>\n",
       "                        <td style=\"text-align: left;\"></td>\n",
       "                    </tr>\n",
       "                    <tr>\n",
       "                        <td colspan=\"2\" style=\"text-align: left;\">\n",
       "                            <strong>Local directory: </strong> /jobfs/135792632.gadi-pbs/dask-scratch-space/worker-s8zbocky\n",
       "                        </td>\n",
       "                    </tr>\n",
       "\n",
       "                    \n",
       "\n",
       "                    \n",
       "\n",
       "                </table>\n",
       "            </details>\n",
       "            </div>\n",
       "        </div>\n",
       "        \n",
       "        <div style=\"margin-bottom: 20px;\">\n",
       "            <div style=\"width: 24px; height: 24px; background-color: #DBF5FF; border: 3px solid #4CC9FF; border-radius: 5px; position: absolute;\"> </div>\n",
       "            <div style=\"margin-left: 48px;\">\n",
       "            <details>\n",
       "                <summary>\n",
       "                    <h4 style=\"margin-bottom: 0px; display: inline;\">Worker: 20</h4>\n",
       "                </summary>\n",
       "                <table style=\"width: 100%; text-align: left;\">\n",
       "                    <tr>\n",
       "                        <td style=\"text-align: left;\">\n",
       "                            <strong>Comm: </strong> tcp://127.0.0.1:46673\n",
       "                        </td>\n",
       "                        <td style=\"text-align: left;\">\n",
       "                            <strong>Total threads: </strong> 1\n",
       "                        </td>\n",
       "                    </tr>\n",
       "                    <tr>\n",
       "                        <td style=\"text-align: left;\">\n",
       "                            <strong>Dashboard: </strong> <a href=\"/proxy/45321/status\" target=\"_blank\">/proxy/45321/status</a>\n",
       "                        </td>\n",
       "                        <td style=\"text-align: left;\">\n",
       "                            <strong>Memory: </strong> 4.47 GiB\n",
       "                        </td>\n",
       "                    </tr>\n",
       "                    <tr>\n",
       "                        <td style=\"text-align: left;\">\n",
       "                            <strong>Nanny: </strong> tcp://127.0.0.1:33473\n",
       "                        </td>\n",
       "                        <td style=\"text-align: left;\"></td>\n",
       "                    </tr>\n",
       "                    <tr>\n",
       "                        <td colspan=\"2\" style=\"text-align: left;\">\n",
       "                            <strong>Local directory: </strong> /jobfs/135792632.gadi-pbs/dask-scratch-space/worker-j8x2i_6c\n",
       "                        </td>\n",
       "                    </tr>\n",
       "\n",
       "                    \n",
       "\n",
       "                    \n",
       "\n",
       "                </table>\n",
       "            </details>\n",
       "            </div>\n",
       "        </div>\n",
       "        \n",
       "        <div style=\"margin-bottom: 20px;\">\n",
       "            <div style=\"width: 24px; height: 24px; background-color: #DBF5FF; border: 3px solid #4CC9FF; border-radius: 5px; position: absolute;\"> </div>\n",
       "            <div style=\"margin-left: 48px;\">\n",
       "            <details>\n",
       "                <summary>\n",
       "                    <h4 style=\"margin-bottom: 0px; display: inline;\">Worker: 21</h4>\n",
       "                </summary>\n",
       "                <table style=\"width: 100%; text-align: left;\">\n",
       "                    <tr>\n",
       "                        <td style=\"text-align: left;\">\n",
       "                            <strong>Comm: </strong> tcp://127.0.0.1:36695\n",
       "                        </td>\n",
       "                        <td style=\"text-align: left;\">\n",
       "                            <strong>Total threads: </strong> 1\n",
       "                        </td>\n",
       "                    </tr>\n",
       "                    <tr>\n",
       "                        <td style=\"text-align: left;\">\n",
       "                            <strong>Dashboard: </strong> <a href=\"/proxy/43809/status\" target=\"_blank\">/proxy/43809/status</a>\n",
       "                        </td>\n",
       "                        <td style=\"text-align: left;\">\n",
       "                            <strong>Memory: </strong> 4.47 GiB\n",
       "                        </td>\n",
       "                    </tr>\n",
       "                    <tr>\n",
       "                        <td style=\"text-align: left;\">\n",
       "                            <strong>Nanny: </strong> tcp://127.0.0.1:40131\n",
       "                        </td>\n",
       "                        <td style=\"text-align: left;\"></td>\n",
       "                    </tr>\n",
       "                    <tr>\n",
       "                        <td colspan=\"2\" style=\"text-align: left;\">\n",
       "                            <strong>Local directory: </strong> /jobfs/135792632.gadi-pbs/dask-scratch-space/worker-r6cfr64r\n",
       "                        </td>\n",
       "                    </tr>\n",
       "\n",
       "                    \n",
       "\n",
       "                    \n",
       "\n",
       "                </table>\n",
       "            </details>\n",
       "            </div>\n",
       "        </div>\n",
       "        \n",
       "        <div style=\"margin-bottom: 20px;\">\n",
       "            <div style=\"width: 24px; height: 24px; background-color: #DBF5FF; border: 3px solid #4CC9FF; border-radius: 5px; position: absolute;\"> </div>\n",
       "            <div style=\"margin-left: 48px;\">\n",
       "            <details>\n",
       "                <summary>\n",
       "                    <h4 style=\"margin-bottom: 0px; display: inline;\">Worker: 22</h4>\n",
       "                </summary>\n",
       "                <table style=\"width: 100%; text-align: left;\">\n",
       "                    <tr>\n",
       "                        <td style=\"text-align: left;\">\n",
       "                            <strong>Comm: </strong> tcp://127.0.0.1:34785\n",
       "                        </td>\n",
       "                        <td style=\"text-align: left;\">\n",
       "                            <strong>Total threads: </strong> 1\n",
       "                        </td>\n",
       "                    </tr>\n",
       "                    <tr>\n",
       "                        <td style=\"text-align: left;\">\n",
       "                            <strong>Dashboard: </strong> <a href=\"/proxy/39687/status\" target=\"_blank\">/proxy/39687/status</a>\n",
       "                        </td>\n",
       "                        <td style=\"text-align: left;\">\n",
       "                            <strong>Memory: </strong> 4.47 GiB\n",
       "                        </td>\n",
       "                    </tr>\n",
       "                    <tr>\n",
       "                        <td style=\"text-align: left;\">\n",
       "                            <strong>Nanny: </strong> tcp://127.0.0.1:44109\n",
       "                        </td>\n",
       "                        <td style=\"text-align: left;\"></td>\n",
       "                    </tr>\n",
       "                    <tr>\n",
       "                        <td colspan=\"2\" style=\"text-align: left;\">\n",
       "                            <strong>Local directory: </strong> /jobfs/135792632.gadi-pbs/dask-scratch-space/worker-k17dvfg6\n",
       "                        </td>\n",
       "                    </tr>\n",
       "\n",
       "                    \n",
       "\n",
       "                    \n",
       "\n",
       "                </table>\n",
       "            </details>\n",
       "            </div>\n",
       "        </div>\n",
       "        \n",
       "        <div style=\"margin-bottom: 20px;\">\n",
       "            <div style=\"width: 24px; height: 24px; background-color: #DBF5FF; border: 3px solid #4CC9FF; border-radius: 5px; position: absolute;\"> </div>\n",
       "            <div style=\"margin-left: 48px;\">\n",
       "            <details>\n",
       "                <summary>\n",
       "                    <h4 style=\"margin-bottom: 0px; display: inline;\">Worker: 23</h4>\n",
       "                </summary>\n",
       "                <table style=\"width: 100%; text-align: left;\">\n",
       "                    <tr>\n",
       "                        <td style=\"text-align: left;\">\n",
       "                            <strong>Comm: </strong> tcp://127.0.0.1:40385\n",
       "                        </td>\n",
       "                        <td style=\"text-align: left;\">\n",
       "                            <strong>Total threads: </strong> 1\n",
       "                        </td>\n",
       "                    </tr>\n",
       "                    <tr>\n",
       "                        <td style=\"text-align: left;\">\n",
       "                            <strong>Dashboard: </strong> <a href=\"/proxy/43909/status\" target=\"_blank\">/proxy/43909/status</a>\n",
       "                        </td>\n",
       "                        <td style=\"text-align: left;\">\n",
       "                            <strong>Memory: </strong> 4.47 GiB\n",
       "                        </td>\n",
       "                    </tr>\n",
       "                    <tr>\n",
       "                        <td style=\"text-align: left;\">\n",
       "                            <strong>Nanny: </strong> tcp://127.0.0.1:38695\n",
       "                        </td>\n",
       "                        <td style=\"text-align: left;\"></td>\n",
       "                    </tr>\n",
       "                    <tr>\n",
       "                        <td colspan=\"2\" style=\"text-align: left;\">\n",
       "                            <strong>Local directory: </strong> /jobfs/135792632.gadi-pbs/dask-scratch-space/worker-sror8y52\n",
       "                        </td>\n",
       "                    </tr>\n",
       "\n",
       "                    \n",
       "\n",
       "                    \n",
       "\n",
       "                </table>\n",
       "            </details>\n",
       "            </div>\n",
       "        </div>\n",
       "        \n",
       "        <div style=\"margin-bottom: 20px;\">\n",
       "            <div style=\"width: 24px; height: 24px; background-color: #DBF5FF; border: 3px solid #4CC9FF; border-radius: 5px; position: absolute;\"> </div>\n",
       "            <div style=\"margin-left: 48px;\">\n",
       "            <details>\n",
       "                <summary>\n",
       "                    <h4 style=\"margin-bottom: 0px; display: inline;\">Worker: 24</h4>\n",
       "                </summary>\n",
       "                <table style=\"width: 100%; text-align: left;\">\n",
       "                    <tr>\n",
       "                        <td style=\"text-align: left;\">\n",
       "                            <strong>Comm: </strong> tcp://127.0.0.1:40017\n",
       "                        </td>\n",
       "                        <td style=\"text-align: left;\">\n",
       "                            <strong>Total threads: </strong> 1\n",
       "                        </td>\n",
       "                    </tr>\n",
       "                    <tr>\n",
       "                        <td style=\"text-align: left;\">\n",
       "                            <strong>Dashboard: </strong> <a href=\"/proxy/40731/status\" target=\"_blank\">/proxy/40731/status</a>\n",
       "                        </td>\n",
       "                        <td style=\"text-align: left;\">\n",
       "                            <strong>Memory: </strong> 4.47 GiB\n",
       "                        </td>\n",
       "                    </tr>\n",
       "                    <tr>\n",
       "                        <td style=\"text-align: left;\">\n",
       "                            <strong>Nanny: </strong> tcp://127.0.0.1:40667\n",
       "                        </td>\n",
       "                        <td style=\"text-align: left;\"></td>\n",
       "                    </tr>\n",
       "                    <tr>\n",
       "                        <td colspan=\"2\" style=\"text-align: left;\">\n",
       "                            <strong>Local directory: </strong> /jobfs/135792632.gadi-pbs/dask-scratch-space/worker-yqjqd3ie\n",
       "                        </td>\n",
       "                    </tr>\n",
       "\n",
       "                    \n",
       "\n",
       "                    \n",
       "\n",
       "                </table>\n",
       "            </details>\n",
       "            </div>\n",
       "        </div>\n",
       "        \n",
       "        <div style=\"margin-bottom: 20px;\">\n",
       "            <div style=\"width: 24px; height: 24px; background-color: #DBF5FF; border: 3px solid #4CC9FF; border-radius: 5px; position: absolute;\"> </div>\n",
       "            <div style=\"margin-left: 48px;\">\n",
       "            <details>\n",
       "                <summary>\n",
       "                    <h4 style=\"margin-bottom: 0px; display: inline;\">Worker: 25</h4>\n",
       "                </summary>\n",
       "                <table style=\"width: 100%; text-align: left;\">\n",
       "                    <tr>\n",
       "                        <td style=\"text-align: left;\">\n",
       "                            <strong>Comm: </strong> tcp://127.0.0.1:35719\n",
       "                        </td>\n",
       "                        <td style=\"text-align: left;\">\n",
       "                            <strong>Total threads: </strong> 1\n",
       "                        </td>\n",
       "                    </tr>\n",
       "                    <tr>\n",
       "                        <td style=\"text-align: left;\">\n",
       "                            <strong>Dashboard: </strong> <a href=\"/proxy/43483/status\" target=\"_blank\">/proxy/43483/status</a>\n",
       "                        </td>\n",
       "                        <td style=\"text-align: left;\">\n",
       "                            <strong>Memory: </strong> 4.47 GiB\n",
       "                        </td>\n",
       "                    </tr>\n",
       "                    <tr>\n",
       "                        <td style=\"text-align: left;\">\n",
       "                            <strong>Nanny: </strong> tcp://127.0.0.1:39493\n",
       "                        </td>\n",
       "                        <td style=\"text-align: left;\"></td>\n",
       "                    </tr>\n",
       "                    <tr>\n",
       "                        <td colspan=\"2\" style=\"text-align: left;\">\n",
       "                            <strong>Local directory: </strong> /jobfs/135792632.gadi-pbs/dask-scratch-space/worker-vcxl7dfq\n",
       "                        </td>\n",
       "                    </tr>\n",
       "\n",
       "                    \n",
       "\n",
       "                    \n",
       "\n",
       "                </table>\n",
       "            </details>\n",
       "            </div>\n",
       "        </div>\n",
       "        \n",
       "        <div style=\"margin-bottom: 20px;\">\n",
       "            <div style=\"width: 24px; height: 24px; background-color: #DBF5FF; border: 3px solid #4CC9FF; border-radius: 5px; position: absolute;\"> </div>\n",
       "            <div style=\"margin-left: 48px;\">\n",
       "            <details>\n",
       "                <summary>\n",
       "                    <h4 style=\"margin-bottom: 0px; display: inline;\">Worker: 26</h4>\n",
       "                </summary>\n",
       "                <table style=\"width: 100%; text-align: left;\">\n",
       "                    <tr>\n",
       "                        <td style=\"text-align: left;\">\n",
       "                            <strong>Comm: </strong> tcp://127.0.0.1:37263\n",
       "                        </td>\n",
       "                        <td style=\"text-align: left;\">\n",
       "                            <strong>Total threads: </strong> 1\n",
       "                        </td>\n",
       "                    </tr>\n",
       "                    <tr>\n",
       "                        <td style=\"text-align: left;\">\n",
       "                            <strong>Dashboard: </strong> <a href=\"/proxy/44585/status\" target=\"_blank\">/proxy/44585/status</a>\n",
       "                        </td>\n",
       "                        <td style=\"text-align: left;\">\n",
       "                            <strong>Memory: </strong> 4.47 GiB\n",
       "                        </td>\n",
       "                    </tr>\n",
       "                    <tr>\n",
       "                        <td style=\"text-align: left;\">\n",
       "                            <strong>Nanny: </strong> tcp://127.0.0.1:38207\n",
       "                        </td>\n",
       "                        <td style=\"text-align: left;\"></td>\n",
       "                    </tr>\n",
       "                    <tr>\n",
       "                        <td colspan=\"2\" style=\"text-align: left;\">\n",
       "                            <strong>Local directory: </strong> /jobfs/135792632.gadi-pbs/dask-scratch-space/worker-_24iu6hq\n",
       "                        </td>\n",
       "                    </tr>\n",
       "\n",
       "                    \n",
       "\n",
       "                    \n",
       "\n",
       "                </table>\n",
       "            </details>\n",
       "            </div>\n",
       "        </div>\n",
       "        \n",
       "        <div style=\"margin-bottom: 20px;\">\n",
       "            <div style=\"width: 24px; height: 24px; background-color: #DBF5FF; border: 3px solid #4CC9FF; border-radius: 5px; position: absolute;\"> </div>\n",
       "            <div style=\"margin-left: 48px;\">\n",
       "            <details>\n",
       "                <summary>\n",
       "                    <h4 style=\"margin-bottom: 0px; display: inline;\">Worker: 27</h4>\n",
       "                </summary>\n",
       "                <table style=\"width: 100%; text-align: left;\">\n",
       "                    <tr>\n",
       "                        <td style=\"text-align: left;\">\n",
       "                            <strong>Comm: </strong> tcp://127.0.0.1:35565\n",
       "                        </td>\n",
       "                        <td style=\"text-align: left;\">\n",
       "                            <strong>Total threads: </strong> 1\n",
       "                        </td>\n",
       "                    </tr>\n",
       "                    <tr>\n",
       "                        <td style=\"text-align: left;\">\n",
       "                            <strong>Dashboard: </strong> <a href=\"/proxy/40303/status\" target=\"_blank\">/proxy/40303/status</a>\n",
       "                        </td>\n",
       "                        <td style=\"text-align: left;\">\n",
       "                            <strong>Memory: </strong> 4.47 GiB\n",
       "                        </td>\n",
       "                    </tr>\n",
       "                    <tr>\n",
       "                        <td style=\"text-align: left;\">\n",
       "                            <strong>Nanny: </strong> tcp://127.0.0.1:43229\n",
       "                        </td>\n",
       "                        <td style=\"text-align: left;\"></td>\n",
       "                    </tr>\n",
       "                    <tr>\n",
       "                        <td colspan=\"2\" style=\"text-align: left;\">\n",
       "                            <strong>Local directory: </strong> /jobfs/135792632.gadi-pbs/dask-scratch-space/worker-af19l8sp\n",
       "                        </td>\n",
       "                    </tr>\n",
       "\n",
       "                    \n",
       "\n",
       "                    \n",
       "\n",
       "                </table>\n",
       "            </details>\n",
       "            </div>\n",
       "        </div>\n",
       "        \n",
       "\n",
       "    </details>\n",
       "</div>\n",
       "\n",
       "        </details>\n",
       "    </div>\n",
       "</div>\n",
       "            </details>\n",
       "        \n",
       "\n",
       "    </div>\n",
       "</div>"
      ],
      "text/plain": [
       "<Client: 'tcp://127.0.0.1:43979' processes=28 threads=28, memory=125.19 GiB>"
      ]
     },
     "execution_count": 2,
     "metadata": {},
     "output_type": "execute_result"
    }
   ],
   "source": [
    "from os import environ\n",
    "environ[\"PYTHONWARNINGS\"] = \"ignore\"\n",
    "\n",
    "from dask.distributed import Client\n",
    "\n",
    "client = Client(threads_per_worker=1)\n",
    "client"
   ]
  },
  {
   "cell_type": "markdown",
   "id": "da42db70-fe07-4140-afa7-e70ee9bd18c5",
   "metadata": {},
   "source": [
    "CM2-025 can be accessed through an intake catalogue, created in `0_Make_NRI_intake_catalogue_ACCESS_CM2_025_cz861.ipynb`"
   ]
  },
  {
   "cell_type": "code",
   "execution_count": 3,
   "id": "5da40435-4652-4da2-956f-529660a14ee6",
   "metadata": {},
   "outputs": [],
   "source": [
    "cat = intake.open_esm_datastore(\n",
    "    \"/g/data/lg87/wgh581/datastore_ACCESS_CM2_025_cz861.json\",\n",
    "    columns_with_iterables=[\"variable\"] # This is important\n",
    ")"
   ]
  },
  {
   "cell_type": "markdown",
   "id": "ae603e2b-1543-4200-97b5-9ebdef8bba56",
   "metadata": {},
   "source": [
    "The other data is in a Cosima Cookbook database (depreciated but still works)"
   ]
  },
  {
   "cell_type": "code",
   "execution_count": 4,
   "id": "e5de365d-e40b-465c-abc5-2617793e54ba",
   "metadata": {
    "tags": []
   },
   "outputs": [],
   "source": [
    "# CM2 database\n",
    "#session_CM2 = cc.database.create_session('/g/data/p73/archive/non-CMIP/ACCESS-CM2/cj877/cj877.db') \n",
    "session_CM2 = cc.database.create_session('/g/data/p73/archive/non-CMIP/ACCESS-CM2/CM2.db')\n",
    "#expt_CM2_025 = 'cj877'\n",
    "expt_CM2_1   = 'bz687'"
   ]
  },
  {
   "cell_type": "code",
   "execution_count": 5,
   "id": "1dc19ee6-a4cd-4ed4-90c4-084aaacc68bc",
   "metadata": {
    "tags": []
   },
   "outputs": [],
   "source": [
    "# OM2 database\n",
    "session_OM2  = cc.database.create_session('/g/data/ik11/databases/cosima_master.db')\n",
    "expt_OM2_025 = '025deg_jra55_ryf9091_gadi'\n",
    "expt_OM2_1   = '1deg_jra55_ryf9091_gadi'"
   ]
  },
  {
   "cell_type": "markdown",
   "id": "bfe887c0-fc23-4083-8293-5c2900da5f3b",
   "metadata": {},
   "source": [
    "Define path where extracted variables will be saved"
   ]
  },
  {
   "cell_type": "code",
   "execution_count": 6,
   "id": "99e3b41a-4b2f-4ab8-ac68-c9f9051378d0",
   "metadata": {
    "tags": []
   },
   "outputs": [],
   "source": [
    "path_to_data = '/g/data/x77/wgh581/Post_Process/ACCESS_CM2_025/'\n",
    "path_to_data_cz861 = '/g/data/x77/wgh581/Post_Process/ACCESS_CM2_025_cz861/'"
   ]
  },
  {
   "cell_type": "code",
   "execution_count": 5,
   "id": "89a90571-7be7-446f-93b2-2d06da4bba6e",
   "metadata": {},
   "outputs": [],
   "source": [
    "start_time = '0001-01-01'\n",
    "end_time   = '0501-12-31'"
   ]
  },
  {
   "cell_type": "markdown",
   "id": "9fc57b02-22d1-48fb-9e57-b047156eb623",
   "metadata": {},
   "source": [
    "---\n",
    "## 1) Scalar diagnostics"
   ]
  },
  {
   "cell_type": "code",
   "execution_count": 8,
   "id": "107db25d-3b73-44a2-b209-73b5633dc2ad",
   "metadata": {},
   "outputs": [],
   "source": [
    "def get_scalar_timeseries(expt, session, var, start_time=start_time, end_time=end_time, frequency='1 daily'):\n",
    "    data = cc.querying.getvar(expt, var, session, start_time=start_time, end_time=end_time, frequency=frequency)\n",
    "    data = data.sel(time=slice(start_time, end_time)).resample(time='Y').mean()\n",
    "    data = data.load()\n",
    "    \n",
    "    return data"
   ]
  },
  {
   "cell_type": "markdown",
   "id": "68f9f8c1-29ad-4f09-9379-af7b59bc34e0",
   "metadata": {},
   "source": [
    "Atmospheric variables don't seem to work:"
   ]
  },
  {
   "cell_type": "code",
   "execution_count": 19,
   "id": "6ee57c60-d5be-4142-b9d2-9d72b696fa89",
   "metadata": {},
   "outputs": [],
   "source": [
    "#cat.search(variable=\"fld_s03i234\").keys()"
   ]
  },
  {
   "cell_type": "code",
   "execution_count": 20,
   "id": "42ca3706-b16e-43d3-8df7-53c9c8f567c7",
   "metadata": {},
   "outputs": [],
   "source": [
    "test = cat.search(variable=\"fld_s03i234\", frequency=\"1mon\")#.to_dataset_dict() #.to_dask()#"
   ]
  },
  {
   "cell_type": "code",
   "execution_count": 23,
   "id": "81241c7e-5f79-4ba8-aa79-c73f2597280e",
   "metadata": {},
   "outputs": [
    {
     "data": {
      "text/html": [
       "<p><strong>datastore_ACCESS_CM2_025_cz861 catalog with 6000 dataset(s) from 6000 asset(s)</strong>:</p> <div>\n",
       "<style scoped>\n",
       "    .dataframe tbody tr th:only-of-type {\n",
       "        vertical-align: middle;\n",
       "    }\n",
       "\n",
       "    .dataframe tbody tr th {\n",
       "        vertical-align: top;\n",
       "    }\n",
       "\n",
       "    .dataframe thead th {\n",
       "        text-align: right;\n",
       "    }\n",
       "</style>\n",
       "<table border=\"1\" class=\"dataframe\">\n",
       "  <thead>\n",
       "    <tr style=\"text-align: right;\">\n",
       "      <th></th>\n",
       "      <th>unique</th>\n",
       "    </tr>\n",
       "  </thead>\n",
       "  <tbody>\n",
       "    <tr>\n",
       "      <th>path</th>\n",
       "      <td>6000</td>\n",
       "    </tr>\n",
       "    <tr>\n",
       "      <th>realm</th>\n",
       "      <td>1</td>\n",
       "    </tr>\n",
       "    <tr>\n",
       "      <th>variable</th>\n",
       "      <td>223</td>\n",
       "    </tr>\n",
       "    <tr>\n",
       "      <th>frequency</th>\n",
       "      <td>1</td>\n",
       "    </tr>\n",
       "    <tr>\n",
       "      <th>start_date</th>\n",
       "      <td>6000</td>\n",
       "    </tr>\n",
       "    <tr>\n",
       "      <th>end_date</th>\n",
       "      <td>6000</td>\n",
       "    </tr>\n",
       "    <tr>\n",
       "      <th>member</th>\n",
       "      <td>1</td>\n",
       "    </tr>\n",
       "    <tr>\n",
       "      <th>variable_long_name</th>\n",
       "      <td>1</td>\n",
       "    </tr>\n",
       "    <tr>\n",
       "      <th>variable_standard_name</th>\n",
       "      <td>1</td>\n",
       "    </tr>\n",
       "    <tr>\n",
       "      <th>variable_cell_methods</th>\n",
       "      <td>1</td>\n",
       "    </tr>\n",
       "    <tr>\n",
       "      <th>variable_units</th>\n",
       "      <td>1</td>\n",
       "    </tr>\n",
       "    <tr>\n",
       "      <th>filename</th>\n",
       "      <td>6000</td>\n",
       "    </tr>\n",
       "    <tr>\n",
       "      <th>file_id</th>\n",
       "      <td>6000</td>\n",
       "    </tr>\n",
       "    <tr>\n",
       "      <th>derived_variable</th>\n",
       "      <td>0</td>\n",
       "    </tr>\n",
       "  </tbody>\n",
       "</table>\n",
       "</div>"
      ],
      "text/plain": [
       "<IPython.core.display.HTML object>"
      ]
     },
     "metadata": {},
     "output_type": "display_data"
    }
   ],
   "source": [
    "test"
   ]
  },
  {
   "cell_type": "markdown",
   "id": "9b70e147-daf7-4360-8514-ae305444ec21",
   "metadata": {},
   "source": [
    "#### Total ocean heat content"
   ]
  },
  {
   "cell_type": "markdown",
   "id": "2d8ba96a-6475-4901-a3ac-281581c69a56",
   "metadata": {},
   "source": [
    "CM2-025"
   ]
  },
  {
   "cell_type": "code",
   "execution_count": 7,
   "id": "22e56f03-23e6-4ec6-807c-e49c9bac2a51",
   "metadata": {},
   "outputs": [
    {
     "name": "stdout",
     "output_type": "stream",
     "text": [
      "CPU times: user 9.36 s, sys: 1.29 s, total: 10.7 s\n",
      "Wall time: 20 s\n"
     ]
    }
   ],
   "source": [
    "%%time\n",
    "temp_global_ave = cat.search(variable=\"temp_global_ave\").to_dask().temp_global_ave\n",
    "#salt_global_ave = cat.search(variable=\"salt_global_ave\").to_dask().salt_global_ave"
   ]
  },
  {
   "cell_type": "code",
   "execution_count": 10,
   "id": "6951af3c-432f-4e8e-9bf0-0004b8d69954",
   "metadata": {},
   "outputs": [],
   "source": [
    "temp_global_ave.to_netcdf(path_to_data_cz861 + 'temp_global_ave_monthly.nc')"
   ]
  },
  {
   "cell_type": "markdown",
   "id": "f09d62ac-8819-46a6-9dc2-543ac8624a88",
   "metadata": {},
   "source": [
    "CM2-1"
   ]
  },
  {
   "cell_type": "code",
   "execution_count": null,
   "id": "f4065306-cd2f-424a-b46b-f297445a13aa",
   "metadata": {},
   "outputs": [],
   "source": [
    "temp_CM2_1 = cc.querying.getvar(expt=expt_CM2_1, variable='temp_global_ave', session=session_CM2, frequency='1 monthly', start_time='0001-01-31', end_time='1079-12-31')\n",
    "temp_CM2_1 = temp_CM2_1.resample(time='Y').mean().load()\n",
    "temp_CM2_1.to_netcdf(path_to_data + 'Comparison_ACCESS_CM2_1/temp_global_ave_annual_CM2_1.nc')"
   ]
  },
  {
   "cell_type": "markdown",
   "id": "5b81b1f9-c828-498a-8858-e90300ba1b3d",
   "metadata": {},
   "source": [
    "OM2-025"
   ]
  },
  {
   "cell_type": "code",
   "execution_count": null,
   "id": "84d07129-a3c0-492f-be9a-b1d6f6f54302",
   "metadata": {},
   "outputs": [],
   "source": [
    "temp_OM2_025 = cc.querying.getvar(expt=expt_OM2_025, variable='temp_global_ave', session=session_OM2, frequency='1 monthly', start_time='1900-01-31', end_time='2549-12-31')\n",
    "temp_OM2_025 = temp_OM2_025.resample(time='Y').mean().load()\n",
    "temp_OM2_025.to_netcdf(path_to_data + 'Comparison_ACCESS_OM2_025/temp_global_ave_annual_OM2_025.nc')"
   ]
  },
  {
   "cell_type": "markdown",
   "id": "8496b6de-5f67-45ba-8ad7-d933b0ee2e05",
   "metadata": {},
   "source": [
    "OM2-1"
   ]
  },
  {
   "cell_type": "code",
   "execution_count": null,
   "id": "7cc9c48a-487c-4949-962d-413257c9b97e",
   "metadata": {},
   "outputs": [],
   "source": [
    "temp_OM2_1 = cc.querying.getvar(expt=expt_OM2_1, variable='temp_global_ave', session=session_OM2, frequency='1 monthly', start_time='1900-01-31', end_time='2679-12-31')\n",
    "temp_OM2_1 = temp_OM2_1.resample(time='Y').mean().load()\n",
    "temp_OM2_1.to_netcdf(path_to_data + 'Comparison_ACCESS_OM2_1/temp_global_ave_annual_OM2_1.nc')"
   ]
  },
  {
   "cell_type": "markdown",
   "id": "84637241-b462-4034-a25e-befa6b511170",
   "metadata": {},
   "source": [
    "#### Total ocean kinetic energy"
   ]
  },
  {
   "cell_type": "markdown",
   "id": "37e3d8e9-cbd1-44f2-87bf-96052d404e8b",
   "metadata": {},
   "source": [
    "CM2-025"
   ]
  },
  {
   "cell_type": "code",
   "execution_count": 12,
   "id": "d939e734-d9aa-40bd-9da3-8ccf166c3eb2",
   "metadata": {},
   "outputs": [
    {
     "name": "stdout",
     "output_type": "stream",
     "text": [
      "CPU times: user 6.21 s, sys: 394 ms, total: 6.6 s\n",
      "Wall time: 6.91 s\n"
     ]
    }
   ],
   "source": [
    "%%time\n",
    "ke_global_ave = cat.search(variable=\"ke_tot\").to_dask().ke_tot"
   ]
  },
  {
   "cell_type": "code",
   "execution_count": 13,
   "id": "18ba4894-1b28-4d34-a07d-2381993d8713",
   "metadata": {},
   "outputs": [],
   "source": [
    "ke_global_ave = ke_global_ave.load()"
   ]
  },
  {
   "cell_type": "code",
   "execution_count": 15,
   "id": "4c279512-fabc-4fd1-9345-e42c38630c0d",
   "metadata": {},
   "outputs": [],
   "source": [
    "ke_global_ave.to_netcdf(path_to_data_cz861 + 'ke_tot_monthly.nc')"
   ]
  },
  {
   "cell_type": "markdown",
   "id": "c73f9b21-d2d4-4018-bd99-1bf55fb89694",
   "metadata": {},
   "source": [
    "CM2-1"
   ]
  },
  {
   "cell_type": "code",
   "execution_count": null,
   "id": "40b8ad47-a9dd-47fe-8e8d-60a62881c1bd",
   "metadata": {},
   "outputs": [],
   "source": [
    "ke_tot_CM2_1 = cc.querying.getvar(expt=expt_CM2_1, variable='ke_tot', session=session_CM2, frequency='1 monthly', start_time='0001-01-31', end_time='1079-12-31')\n",
    "ke_tot_CM2_1 = ke_tot_CM2_1.resample(time='Y').mean().load()\n",
    "ke_tot_CM2_1.to_netcdf(path_to_data + 'Comparison_ACCESS_CM2_1/ke_tot_annual_CM2_1.nc')"
   ]
  },
  {
   "cell_type": "markdown",
   "id": "08a96ff5-3862-4249-966c-ad7cf1d6d8d4",
   "metadata": {},
   "source": [
    "OM2-025"
   ]
  },
  {
   "cell_type": "code",
   "execution_count": null,
   "id": "0f87c94a-3546-419a-b56c-0e07f0b74505",
   "metadata": {},
   "outputs": [],
   "source": [
    "ke_tot_OM2_025 = cc.querying.getvar(expt=expt_OM2_025, variable='ke_tot', session=session_OM2, frequency='1 monthly', start_time='1900-01-31', end_time='2549-12-31')\n",
    "ke_tot_OM2_025 = ke_tot_OM2_025.resample(time='Y').mean().load()\n",
    "ke_tot_OM2_025.to_netcdf(path_to_data + 'Comparison_ACCESS_OM2_025/ke_tot_annual_OM2_025.nc')"
   ]
  },
  {
   "cell_type": "markdown",
   "id": "fa6944f1-b358-4491-a34b-14bdd6e561dd",
   "metadata": {},
   "source": [
    "OM2-1"
   ]
  },
  {
   "cell_type": "code",
   "execution_count": null,
   "id": "145c7b44-84e0-44bd-859b-2203abbdc92c",
   "metadata": {},
   "outputs": [],
   "source": [
    "ke_tot_OM2_1 = cc.querying.getvar(expt=expt_OM2_1, variable='ke_tot', session=session_OM2, frequency='1 monthly', start_time='1900-01-31', end_time='2679-12-31')\n",
    "ke_tot_OM2_1 = ke_tot_OM2_1.resample(time='Y').mean().load()\n",
    "ke_tot_OM2_1.to_netcdf(path_to_data + 'Comparison_ACCESS_OM2_1/ke_tot_annual_OM2_1.nc')"
   ]
  },
  {
   "cell_type": "markdown",
   "id": "10aaa8c5-933a-4d84-98bd-3edbbc28d922",
   "metadata": {},
   "source": [
    "#### Sea surface temperature"
   ]
  },
  {
   "cell_type": "markdown",
   "id": "ad75ab04-c335-4b91-af84-9f202fb3db2e",
   "metadata": {},
   "source": [
    "CM2-025"
   ]
  },
  {
   "cell_type": "code",
   "execution_count": 9,
   "id": "4929cc2d-7fe5-4903-b384-3afb3add2018",
   "metadata": {},
   "outputs": [],
   "source": [
    "ds = cat.search(variable=\"temp_surface_ave\",frequency=\"1mon\").to_dask()"
   ]
  },
  {
   "cell_type": "code",
   "execution_count": 16,
   "id": "fe250e09-9da6-426e-8563-69f38679de13",
   "metadata": {},
   "outputs": [
    {
     "name": "stdout",
     "output_type": "stream",
     "text": [
      "CPU times: user 33.4 s, sys: 1.88 s, total: 35.3 s\n",
      "Wall time: 35.2 s\n"
     ]
    },
    {
     "data": {
      "text/html": [
       "<div><svg style=\"position: absolute; width: 0; height: 0; overflow: hidden\">\n",
       "<defs>\n",
       "<symbol id=\"icon-database\" viewBox=\"0 0 32 32\">\n",
       "<path d=\"M16 0c-8.837 0-16 2.239-16 5v4c0 2.761 7.163 5 16 5s16-2.239 16-5v-4c0-2.761-7.163-5-16-5z\"></path>\n",
       "<path d=\"M16 17c-8.837 0-16-2.239-16-5v6c0 2.761 7.163 5 16 5s16-2.239 16-5v-6c0 2.761-7.163 5-16 5z\"></path>\n",
       "<path d=\"M16 26c-8.837 0-16-2.239-16-5v6c0 2.761 7.163 5 16 5s16-2.239 16-5v-6c0 2.761-7.163 5-16 5z\"></path>\n",
       "</symbol>\n",
       "<symbol id=\"icon-file-text2\" viewBox=\"0 0 32 32\">\n",
       "<path d=\"M28.681 7.159c-0.694-0.947-1.662-2.053-2.724-3.116s-2.169-2.030-3.116-2.724c-1.612-1.182-2.393-1.319-2.841-1.319h-15.5c-1.378 0-2.5 1.121-2.5 2.5v27c0 1.378 1.122 2.5 2.5 2.5h23c1.378 0 2.5-1.122 2.5-2.5v-19.5c0-0.448-0.137-1.23-1.319-2.841zM24.543 5.457c0.959 0.959 1.712 1.825 2.268 2.543h-4.811v-4.811c0.718 0.556 1.584 1.309 2.543 2.268zM28 29.5c0 0.271-0.229 0.5-0.5 0.5h-23c-0.271 0-0.5-0.229-0.5-0.5v-27c0-0.271 0.229-0.5 0.5-0.5 0 0 15.499-0 15.5 0v7c0 0.552 0.448 1 1 1h7v19.5z\"></path>\n",
       "<path d=\"M23 26h-14c-0.552 0-1-0.448-1-1s0.448-1 1-1h14c0.552 0 1 0.448 1 1s-0.448 1-1 1z\"></path>\n",
       "<path d=\"M23 22h-14c-0.552 0-1-0.448-1-1s0.448-1 1-1h14c0.552 0 1 0.448 1 1s-0.448 1-1 1z\"></path>\n",
       "<path d=\"M23 18h-14c-0.552 0-1-0.448-1-1s0.448-1 1-1h14c0.552 0 1 0.448 1 1s-0.448 1-1 1z\"></path>\n",
       "</symbol>\n",
       "</defs>\n",
       "</svg>\n",
       "<style>/* CSS stylesheet for displaying xarray objects in jupyterlab.\n",
       " *\n",
       " */\n",
       "\n",
       ":root {\n",
       "  --xr-font-color0: var(--jp-content-font-color0, rgba(0, 0, 0, 1));\n",
       "  --xr-font-color2: var(--jp-content-font-color2, rgba(0, 0, 0, 0.54));\n",
       "  --xr-font-color3: var(--jp-content-font-color3, rgba(0, 0, 0, 0.38));\n",
       "  --xr-border-color: var(--jp-border-color2, #e0e0e0);\n",
       "  --xr-disabled-color: var(--jp-layout-color3, #bdbdbd);\n",
       "  --xr-background-color: var(--jp-layout-color0, white);\n",
       "  --xr-background-color-row-even: var(--jp-layout-color1, white);\n",
       "  --xr-background-color-row-odd: var(--jp-layout-color2, #eeeeee);\n",
       "}\n",
       "\n",
       "html[theme=\"dark\"],\n",
       "html[data-theme=\"dark\"],\n",
       "body[data-theme=\"dark\"],\n",
       "body.vscode-dark {\n",
       "  --xr-font-color0: rgba(255, 255, 255, 1);\n",
       "  --xr-font-color2: rgba(255, 255, 255, 0.54);\n",
       "  --xr-font-color3: rgba(255, 255, 255, 0.38);\n",
       "  --xr-border-color: #1f1f1f;\n",
       "  --xr-disabled-color: #515151;\n",
       "  --xr-background-color: #111111;\n",
       "  --xr-background-color-row-even: #111111;\n",
       "  --xr-background-color-row-odd: #313131;\n",
       "}\n",
       "\n",
       ".xr-wrap {\n",
       "  display: block !important;\n",
       "  min-width: 300px;\n",
       "  max-width: 700px;\n",
       "}\n",
       "\n",
       ".xr-text-repr-fallback {\n",
       "  /* fallback to plain text repr when CSS is not injected (untrusted notebook) */\n",
       "  display: none;\n",
       "}\n",
       "\n",
       ".xr-header {\n",
       "  padding-top: 6px;\n",
       "  padding-bottom: 6px;\n",
       "  margin-bottom: 4px;\n",
       "  border-bottom: solid 1px var(--xr-border-color);\n",
       "}\n",
       "\n",
       ".xr-header > div,\n",
       ".xr-header > ul {\n",
       "  display: inline;\n",
       "  margin-top: 0;\n",
       "  margin-bottom: 0;\n",
       "}\n",
       "\n",
       ".xr-obj-type,\n",
       ".xr-array-name {\n",
       "  margin-left: 2px;\n",
       "  margin-right: 10px;\n",
       "}\n",
       "\n",
       ".xr-obj-type {\n",
       "  color: var(--xr-font-color2);\n",
       "}\n",
       "\n",
       ".xr-sections {\n",
       "  padding-left: 0 !important;\n",
       "  display: grid;\n",
       "  grid-template-columns: 150px auto auto 1fr 0 20px 0 20px;\n",
       "}\n",
       "\n",
       ".xr-section-item {\n",
       "  display: contents;\n",
       "}\n",
       "\n",
       ".xr-section-item input {\n",
       "  display: inline-block;\n",
       "  opacity: 0;\n",
       "  height: 0;\n",
       "}\n",
       "\n",
       ".xr-section-item input + label {\n",
       "  color: var(--xr-disabled-color);\n",
       "}\n",
       "\n",
       ".xr-section-item input:enabled + label {\n",
       "  cursor: pointer;\n",
       "  color: var(--xr-font-color2);\n",
       "}\n",
       "\n",
       ".xr-section-item input:focus + label {\n",
       "  border: 2px solid var(--xr-font-color0);\n",
       "}\n",
       "\n",
       ".xr-section-item input:enabled + label:hover {\n",
       "  color: var(--xr-font-color0);\n",
       "}\n",
       "\n",
       ".xr-section-summary {\n",
       "  grid-column: 1;\n",
       "  color: var(--xr-font-color2);\n",
       "  font-weight: 500;\n",
       "}\n",
       "\n",
       ".xr-section-summary > span {\n",
       "  display: inline-block;\n",
       "  padding-left: 0.5em;\n",
       "}\n",
       "\n",
       ".xr-section-summary-in:disabled + label {\n",
       "  color: var(--xr-font-color2);\n",
       "}\n",
       "\n",
       ".xr-section-summary-in + label:before {\n",
       "  display: inline-block;\n",
       "  content: \"►\";\n",
       "  font-size: 11px;\n",
       "  width: 15px;\n",
       "  text-align: center;\n",
       "}\n",
       "\n",
       ".xr-section-summary-in:disabled + label:before {\n",
       "  color: var(--xr-disabled-color);\n",
       "}\n",
       "\n",
       ".xr-section-summary-in:checked + label:before {\n",
       "  content: \"▼\";\n",
       "}\n",
       "\n",
       ".xr-section-summary-in:checked + label > span {\n",
       "  display: none;\n",
       "}\n",
       "\n",
       ".xr-section-summary,\n",
       ".xr-section-inline-details {\n",
       "  padding-top: 4px;\n",
       "  padding-bottom: 4px;\n",
       "}\n",
       "\n",
       ".xr-section-inline-details {\n",
       "  grid-column: 2 / -1;\n",
       "}\n",
       "\n",
       ".xr-section-details {\n",
       "  display: none;\n",
       "  grid-column: 1 / -1;\n",
       "  margin-bottom: 5px;\n",
       "}\n",
       "\n",
       ".xr-section-summary-in:checked ~ .xr-section-details {\n",
       "  display: contents;\n",
       "}\n",
       "\n",
       ".xr-array-wrap {\n",
       "  grid-column: 1 / -1;\n",
       "  display: grid;\n",
       "  grid-template-columns: 20px auto;\n",
       "}\n",
       "\n",
       ".xr-array-wrap > label {\n",
       "  grid-column: 1;\n",
       "  vertical-align: top;\n",
       "}\n",
       "\n",
       ".xr-preview {\n",
       "  color: var(--xr-font-color3);\n",
       "}\n",
       "\n",
       ".xr-array-preview,\n",
       ".xr-array-data {\n",
       "  padding: 0 5px !important;\n",
       "  grid-column: 2;\n",
       "}\n",
       "\n",
       ".xr-array-data,\n",
       ".xr-array-in:checked ~ .xr-array-preview {\n",
       "  display: none;\n",
       "}\n",
       "\n",
       ".xr-array-in:checked ~ .xr-array-data,\n",
       ".xr-array-preview {\n",
       "  display: inline-block;\n",
       "}\n",
       "\n",
       ".xr-dim-list {\n",
       "  display: inline-block !important;\n",
       "  list-style: none;\n",
       "  padding: 0 !important;\n",
       "  margin: 0;\n",
       "}\n",
       "\n",
       ".xr-dim-list li {\n",
       "  display: inline-block;\n",
       "  padding: 0;\n",
       "  margin: 0;\n",
       "}\n",
       "\n",
       ".xr-dim-list:before {\n",
       "  content: \"(\";\n",
       "}\n",
       "\n",
       ".xr-dim-list:after {\n",
       "  content: \")\";\n",
       "}\n",
       "\n",
       ".xr-dim-list li:not(:last-child):after {\n",
       "  content: \",\";\n",
       "  padding-right: 5px;\n",
       "}\n",
       "\n",
       ".xr-has-index {\n",
       "  font-weight: bold;\n",
       "}\n",
       "\n",
       ".xr-var-list,\n",
       ".xr-var-item {\n",
       "  display: contents;\n",
       "}\n",
       "\n",
       ".xr-var-item > div,\n",
       ".xr-var-item label,\n",
       ".xr-var-item > .xr-var-name span {\n",
       "  background-color: var(--xr-background-color-row-even);\n",
       "  margin-bottom: 0;\n",
       "}\n",
       "\n",
       ".xr-var-item > .xr-var-name:hover span {\n",
       "  padding-right: 5px;\n",
       "}\n",
       "\n",
       ".xr-var-list > li:nth-child(odd) > div,\n",
       ".xr-var-list > li:nth-child(odd) > label,\n",
       ".xr-var-list > li:nth-child(odd) > .xr-var-name span {\n",
       "  background-color: var(--xr-background-color-row-odd);\n",
       "}\n",
       "\n",
       ".xr-var-name {\n",
       "  grid-column: 1;\n",
       "}\n",
       "\n",
       ".xr-var-dims {\n",
       "  grid-column: 2;\n",
       "}\n",
       "\n",
       ".xr-var-dtype {\n",
       "  grid-column: 3;\n",
       "  text-align: right;\n",
       "  color: var(--xr-font-color2);\n",
       "}\n",
       "\n",
       ".xr-var-preview {\n",
       "  grid-column: 4;\n",
       "}\n",
       "\n",
       ".xr-index-preview {\n",
       "  grid-column: 2 / 5;\n",
       "  color: var(--xr-font-color2);\n",
       "}\n",
       "\n",
       ".xr-var-name,\n",
       ".xr-var-dims,\n",
       ".xr-var-dtype,\n",
       ".xr-preview,\n",
       ".xr-attrs dt {\n",
       "  white-space: nowrap;\n",
       "  overflow: hidden;\n",
       "  text-overflow: ellipsis;\n",
       "  padding-right: 10px;\n",
       "}\n",
       "\n",
       ".xr-var-name:hover,\n",
       ".xr-var-dims:hover,\n",
       ".xr-var-dtype:hover,\n",
       ".xr-attrs dt:hover {\n",
       "  overflow: visible;\n",
       "  width: auto;\n",
       "  z-index: 1;\n",
       "}\n",
       "\n",
       ".xr-var-attrs,\n",
       ".xr-var-data,\n",
       ".xr-index-data {\n",
       "  display: none;\n",
       "  background-color: var(--xr-background-color) !important;\n",
       "  padding-bottom: 5px !important;\n",
       "}\n",
       "\n",
       ".xr-var-attrs-in:checked ~ .xr-var-attrs,\n",
       ".xr-var-data-in:checked ~ .xr-var-data,\n",
       ".xr-index-data-in:checked ~ .xr-index-data {\n",
       "  display: block;\n",
       "}\n",
       "\n",
       ".xr-var-data > table {\n",
       "  float: right;\n",
       "}\n",
       "\n",
       ".xr-var-name span,\n",
       ".xr-var-data,\n",
       ".xr-index-name div,\n",
       ".xr-index-data,\n",
       ".xr-attrs {\n",
       "  padding-left: 25px !important;\n",
       "}\n",
       "\n",
       ".xr-attrs,\n",
       ".xr-var-attrs,\n",
       ".xr-var-data,\n",
       ".xr-index-data {\n",
       "  grid-column: 1 / -1;\n",
       "}\n",
       "\n",
       "dl.xr-attrs {\n",
       "  padding: 0;\n",
       "  margin: 0;\n",
       "  display: grid;\n",
       "  grid-template-columns: 125px auto;\n",
       "}\n",
       "\n",
       ".xr-attrs dt,\n",
       ".xr-attrs dd {\n",
       "  padding: 0;\n",
       "  margin: 0;\n",
       "  float: left;\n",
       "  padding-right: 10px;\n",
       "  width: auto;\n",
       "}\n",
       "\n",
       ".xr-attrs dt {\n",
       "  font-weight: normal;\n",
       "  grid-column: 1;\n",
       "}\n",
       "\n",
       ".xr-attrs dt:hover span {\n",
       "  display: inline-block;\n",
       "  background: var(--xr-background-color);\n",
       "  padding-right: 10px;\n",
       "}\n",
       "\n",
       ".xr-attrs dd {\n",
       "  grid-column: 2;\n",
       "  white-space: pre-wrap;\n",
       "  word-break: break-all;\n",
       "}\n",
       "\n",
       ".xr-icon-database,\n",
       ".xr-icon-file-text2,\n",
       ".xr-no-icon {\n",
       "  display: inline-block;\n",
       "  vertical-align: middle;\n",
       "  width: 1em;\n",
       "  height: 1.5em !important;\n",
       "  stroke-width: 0;\n",
       "  stroke: currentColor;\n",
       "  fill: currentColor;\n",
       "}\n",
       "</style><pre class='xr-text-repr-fallback'>&lt;xarray.DataArray &#x27;temp_surface_ave&#x27; (time: 500, scalar_axis: 1)&gt; Size: 4kB\n",
       "array([[18.39379191],\n",
       "       [18.35994234],\n",
       "       [18.3705908 ],\n",
       "       [18.35687737],\n",
       "       [18.26919121],\n",
       "       [18.16903726],\n",
       "       [18.1567817 ],\n",
       "       [18.24849789],\n",
       "       [18.14316667],\n",
       "       [17.95518993],\n",
       "       [17.89763599],\n",
       "       [17.89404652],\n",
       "       [17.8089416 ],\n",
       "       [17.75650938],\n",
       "       [17.89715232],\n",
       "       [18.03969562],\n",
       "       [18.12761835],\n",
       "       [18.15005433],\n",
       "       [18.00513272],\n",
       "       [17.96370625],\n",
       "...\n",
       "       [18.93561516],\n",
       "       [18.89075497],\n",
       "       [18.90099895],\n",
       "       [18.95016439],\n",
       "       [19.08782254],\n",
       "       [18.98943564],\n",
       "       [18.94552831],\n",
       "       [19.01433539],\n",
       "       [19.03991027],\n",
       "       [19.00299105],\n",
       "       [18.96263935],\n",
       "       [18.91795609],\n",
       "       [19.10161154],\n",
       "       [19.08745764],\n",
       "       [18.95167931],\n",
       "       [18.95825194],\n",
       "       [19.00274474],\n",
       "       [19.01680677],\n",
       "       [18.87773816],\n",
       "       [18.90976311]])\n",
       "Coordinates:\n",
       "  * scalar_axis  (scalar_axis) float64 8B 0.0\n",
       "  * time         (time) object 4kB 0001-12-31 00:00:00 ... 0500-12-31 00:00:00\n",
       "Attributes:\n",
       "    long_name:      Global mass weighted mean surface temp in liquid seawater\n",
       "    units:          deg_C\n",
       "    valid_range:    [ -10. 1000.]\n",
       "    cell_methods:   time: mean\n",
       "    time_avg_info:  average_T1,average_T2,average_DT</pre><div class='xr-wrap' style='display:none'><div class='xr-header'><div class='xr-obj-type'>xarray.DataArray</div><div class='xr-array-name'>'temp_surface_ave'</div><ul class='xr-dim-list'><li><span class='xr-has-index'>time</span>: 500</li><li><span class='xr-has-index'>scalar_axis</span>: 1</li></ul></div><ul class='xr-sections'><li class='xr-section-item'><div class='xr-array-wrap'><input id='section-67412a7b-017f-4700-ae0f-330e5766bc5c' class='xr-array-in' type='checkbox' checked><label for='section-67412a7b-017f-4700-ae0f-330e5766bc5c' title='Show/hide data repr'><svg class='icon xr-icon-database'><use xlink:href='#icon-database'></use></svg></label><div class='xr-array-preview xr-preview'><span>18.39 18.36 18.37 18.36 18.27 18.17 ... 18.96 19.0 19.02 18.88 18.91</span></div><div class='xr-array-data'><pre>array([[18.39379191],\n",
       "       [18.35994234],\n",
       "       [18.3705908 ],\n",
       "       [18.35687737],\n",
       "       [18.26919121],\n",
       "       [18.16903726],\n",
       "       [18.1567817 ],\n",
       "       [18.24849789],\n",
       "       [18.14316667],\n",
       "       [17.95518993],\n",
       "       [17.89763599],\n",
       "       [17.89404652],\n",
       "       [17.8089416 ],\n",
       "       [17.75650938],\n",
       "       [17.89715232],\n",
       "       [18.03969562],\n",
       "       [18.12761835],\n",
       "       [18.15005433],\n",
       "       [18.00513272],\n",
       "       [17.96370625],\n",
       "...\n",
       "       [18.93561516],\n",
       "       [18.89075497],\n",
       "       [18.90099895],\n",
       "       [18.95016439],\n",
       "       [19.08782254],\n",
       "       [18.98943564],\n",
       "       [18.94552831],\n",
       "       [19.01433539],\n",
       "       [19.03991027],\n",
       "       [19.00299105],\n",
       "       [18.96263935],\n",
       "       [18.91795609],\n",
       "       [19.10161154],\n",
       "       [19.08745764],\n",
       "       [18.95167931],\n",
       "       [18.95825194],\n",
       "       [19.00274474],\n",
       "       [19.01680677],\n",
       "       [18.87773816],\n",
       "       [18.90976311]])</pre></div></div></li><li class='xr-section-item'><input id='section-3dd328b8-c467-47b0-8821-cf8b58cfbde0' class='xr-section-summary-in' type='checkbox'  checked><label for='section-3dd328b8-c467-47b0-8821-cf8b58cfbde0' class='xr-section-summary' >Coordinates: <span>(2)</span></label><div class='xr-section-inline-details'></div><div class='xr-section-details'><ul class='xr-var-list'><li class='xr-var-item'><div class='xr-var-name'><span class='xr-has-index'>scalar_axis</span></div><div class='xr-var-dims'>(scalar_axis)</div><div class='xr-var-dtype'>float64</div><div class='xr-var-preview xr-preview'>0.0</div><input id='attrs-2c8e0c9b-f7e4-485d-a97a-c26f7e1af69c' class='xr-var-attrs-in' type='checkbox' ><label for='attrs-2c8e0c9b-f7e4-485d-a97a-c26f7e1af69c' title='Show/Hide attributes'><svg class='icon xr-icon-file-text2'><use xlink:href='#icon-file-text2'></use></svg></label><input id='data-f28ecc2b-b50d-4353-b708-73effd4a18e7' class='xr-var-data-in' type='checkbox'><label for='data-f28ecc2b-b50d-4353-b708-73effd4a18e7' title='Show/Hide data repr'><svg class='icon xr-icon-database'><use xlink:href='#icon-database'></use></svg></label><div class='xr-var-attrs'><dl class='xr-attrs'><dt><span>long_name :</span></dt><dd>none</dd><dt><span>units :</span></dt><dd>none</dd><dt><span>cartesian_axis :</span></dt><dd>N</dd></dl></div><div class='xr-var-data'><pre>array([0.])</pre></div></li><li class='xr-var-item'><div class='xr-var-name'><span class='xr-has-index'>time</span></div><div class='xr-var-dims'>(time)</div><div class='xr-var-dtype'>object</div><div class='xr-var-preview xr-preview'>0001-12-31 00:00:00 ... 0500-12-...</div><input id='attrs-95004722-2356-4cd1-be24-6fbeb5c8d5f6' class='xr-var-attrs-in' type='checkbox' ><label for='attrs-95004722-2356-4cd1-be24-6fbeb5c8d5f6' title='Show/Hide attributes'><svg class='icon xr-icon-file-text2'><use xlink:href='#icon-file-text2'></use></svg></label><input id='data-32965490-84f4-4d56-b858-8b91d08cd057' class='xr-var-data-in' type='checkbox'><label for='data-32965490-84f4-4d56-b858-8b91d08cd057' title='Show/Hide data repr'><svg class='icon xr-icon-database'><use xlink:href='#icon-database'></use></svg></label><div class='xr-var-attrs'><dl class='xr-attrs'><dt><span>long_name :</span></dt><dd>time</dd><dt><span>cartesian_axis :</span></dt><dd>T</dd><dt><span>bounds :</span></dt><dd>time_bnds</dd></dl></div><div class='xr-var-data'><pre>array([cftime.DatetimeProlepticGregorian(1, 12, 31, 0, 0, 0, 0, has_year_zero=True),\n",
       "       cftime.DatetimeProlepticGregorian(2, 12, 31, 0, 0, 0, 0, has_year_zero=True),\n",
       "       cftime.DatetimeProlepticGregorian(3, 12, 31, 0, 0, 0, 0, has_year_zero=True),\n",
       "       ...,\n",
       "       cftime.DatetimeProlepticGregorian(498, 12, 31, 0, 0, 0, 0, has_year_zero=True),\n",
       "       cftime.DatetimeProlepticGregorian(499, 12, 31, 0, 0, 0, 0, has_year_zero=True),\n",
       "       cftime.DatetimeProlepticGregorian(500, 12, 31, 0, 0, 0, 0, has_year_zero=True)],\n",
       "      dtype=object)</pre></div></li></ul></div></li><li class='xr-section-item'><input id='section-8c05a063-61c9-4557-9aaf-dc20f33ca1d4' class='xr-section-summary-in' type='checkbox'  ><label for='section-8c05a063-61c9-4557-9aaf-dc20f33ca1d4' class='xr-section-summary' >Indexes: <span>(2)</span></label><div class='xr-section-inline-details'></div><div class='xr-section-details'><ul class='xr-var-list'><li class='xr-var-item'><div class='xr-index-name'><div>scalar_axis</div></div><div class='xr-index-preview'>PandasIndex</div><input type='checkbox' disabled/><label></label><input id='index-4ef6042e-e955-40df-b474-2041f0b8c213' class='xr-index-data-in' type='checkbox'/><label for='index-4ef6042e-e955-40df-b474-2041f0b8c213' title='Show/Hide index repr'><svg class='icon xr-icon-database'><use xlink:href='#icon-database'></use></svg></label><div class='xr-index-data'><pre>PandasIndex(Index([0.0], dtype=&#x27;float64&#x27;, name=&#x27;scalar_axis&#x27;))</pre></div></li><li class='xr-var-item'><div class='xr-index-name'><div>time</div></div><div class='xr-index-preview'>PandasIndex</div><input type='checkbox' disabled/><label></label><input id='index-b7871a91-30b4-4e09-8964-c91a1f9322bf' class='xr-index-data-in' type='checkbox'/><label for='index-b7871a91-30b4-4e09-8964-c91a1f9322bf' title='Show/Hide index repr'><svg class='icon xr-icon-database'><use xlink:href='#icon-database'></use></svg></label><div class='xr-index-data'><pre>PandasIndex(CFTimeIndex([0001-12-31 00:00:00, 0002-12-31 00:00:00, 0003-12-31 00:00:00,\n",
       "             0004-12-31 00:00:00, 0005-12-31 00:00:00, 0006-12-31 00:00:00,\n",
       "             0007-12-31 00:00:00, 0008-12-31 00:00:00, 0009-12-31 00:00:00,\n",
       "             0010-12-31 00:00:00,\n",
       "             ...\n",
       "             0491-12-31 00:00:00, 0492-12-31 00:00:00, 0493-12-31 00:00:00,\n",
       "             0494-12-31 00:00:00, 0495-12-31 00:00:00, 0496-12-31 00:00:00,\n",
       "             0497-12-31 00:00:00, 0498-12-31 00:00:00, 0499-12-31 00:00:00,\n",
       "             0500-12-31 00:00:00],\n",
       "            dtype=&#x27;object&#x27;,\n",
       "            length=500,\n",
       "            calendar=&#x27;proleptic_gregorian&#x27;,\n",
       "            freq=&#x27;YE-DEC&#x27;))</pre></div></li></ul></div></li><li class='xr-section-item'><input id='section-40504886-b2f7-4cdc-8998-efe7df6a5d29' class='xr-section-summary-in' type='checkbox'  checked><label for='section-40504886-b2f7-4cdc-8998-efe7df6a5d29' class='xr-section-summary' >Attributes: <span>(5)</span></label><div class='xr-section-inline-details'></div><div class='xr-section-details'><dl class='xr-attrs'><dt><span>long_name :</span></dt><dd>Global mass weighted mean surface temp in liquid seawater</dd><dt><span>units :</span></dt><dd>deg_C</dd><dt><span>valid_range :</span></dt><dd>[ -10. 1000.]</dd><dt><span>cell_methods :</span></dt><dd>time: mean</dd><dt><span>time_avg_info :</span></dt><dd>average_T1,average_T2,average_DT</dd></dl></div></li></ul></div></div>"
      ],
      "text/plain": [
       "<xarray.DataArray 'temp_surface_ave' (time: 500, scalar_axis: 1)> Size: 4kB\n",
       "array([[18.39379191],\n",
       "       [18.35994234],\n",
       "       [18.3705908 ],\n",
       "       [18.35687737],\n",
       "       [18.26919121],\n",
       "       [18.16903726],\n",
       "       [18.1567817 ],\n",
       "       [18.24849789],\n",
       "       [18.14316667],\n",
       "       [17.95518993],\n",
       "       [17.89763599],\n",
       "       [17.89404652],\n",
       "       [17.8089416 ],\n",
       "       [17.75650938],\n",
       "       [17.89715232],\n",
       "       [18.03969562],\n",
       "       [18.12761835],\n",
       "       [18.15005433],\n",
       "       [18.00513272],\n",
       "       [17.96370625],\n",
       "...\n",
       "       [18.93561516],\n",
       "       [18.89075497],\n",
       "       [18.90099895],\n",
       "       [18.95016439],\n",
       "       [19.08782254],\n",
       "       [18.98943564],\n",
       "       [18.94552831],\n",
       "       [19.01433539],\n",
       "       [19.03991027],\n",
       "       [19.00299105],\n",
       "       [18.96263935],\n",
       "       [18.91795609],\n",
       "       [19.10161154],\n",
       "       [19.08745764],\n",
       "       [18.95167931],\n",
       "       [18.95825194],\n",
       "       [19.00274474],\n",
       "       [19.01680677],\n",
       "       [18.87773816],\n",
       "       [18.90976311]])\n",
       "Coordinates:\n",
       "  * scalar_axis  (scalar_axis) float64 8B 0.0\n",
       "  * time         (time) object 4kB 0001-12-31 00:00:00 ... 0500-12-31 00:00:00\n",
       "Attributes:\n",
       "    long_name:      Global mass weighted mean surface temp in liquid seawater\n",
       "    units:          deg_C\n",
       "    valid_range:    [ -10. 1000.]\n",
       "    cell_methods:   time: mean\n",
       "    time_avg_info:  average_T1,average_T2,average_DT"
      ]
     },
     "execution_count": 16,
     "metadata": {},
     "output_type": "execute_result"
    }
   ],
   "source": [
    "%%time\n",
    "data = ds.temp_surface_ave.sel(time=slice('0001-01-01','0501-12-31')).resample(time='YE').mean()  # '0501-12-31'\n",
    "data = data.where(data>10, np.nan)\n",
    "data.load()"
   ]
  },
  {
   "cell_type": "code",
   "execution_count": 18,
   "id": "f40a04b7-f4d4-469b-a92b-40f3f204d75c",
   "metadata": {},
   "outputs": [],
   "source": [
    "data.to_netcdf(path_to_data_cz861 + 'temp_surface_ave_annual.nc')"
   ]
  },
  {
   "cell_type": "markdown",
   "id": "2e0549ca-efaa-43c7-9d25-151f72de2764",
   "metadata": {},
   "source": [
    "CM2-1"
   ]
  },
  {
   "cell_type": "code",
   "execution_count": 25,
   "id": "9af29f95-e204-4a37-ab8b-24a9fe70c48b",
   "metadata": {},
   "outputs": [
    {
     "name": "stdout",
     "output_type": "stream",
     "text": [
      "CPU times: user 1min 12s, sys: 3.31 s, total: 1min 15s\n",
      "Wall time: 1min 40s\n"
     ]
    }
   ],
   "source": [
    "%%time\n",
    "SST_CM2_1 = get_scalar_timeseries(expt_CM2_1, session_CM2, 'temp_surface_ave', start_time='0001-01-01', end_time='1079-12-31', frequency='1 monthly')"
   ]
  },
  {
   "cell_type": "code",
   "execution_count": 27,
   "id": "99c8bb65-7e1c-4d9a-9508-c637f9ee7497",
   "metadata": {},
   "outputs": [],
   "source": [
    "SST_CM2_1.to_netcdf(path_to_data + '/Comparison_ACCESS_CM2_1/temp_surface_ave_annual_CM2_1.nc')"
   ]
  },
  {
   "cell_type": "markdown",
   "id": "8e166179-05d6-4101-ba99-95ebd7238272",
   "metadata": {},
   "source": [
    "OM2-025"
   ]
  },
  {
   "cell_type": "code",
   "execution_count": null,
   "id": "56516a4e-e0c8-4920-bffb-a4434c2cdfaf",
   "metadata": {},
   "outputs": [],
   "source": [
    "%%time\n",
    "SST_OM2_025 = get_scalar_timeseries(expt_OM2_025, session_OM2, 'temp_surface_ave', start_time='1900-01-01', end_time='2400-12-31', frequency='1 monthly')"
   ]
  },
  {
   "cell_type": "code",
   "execution_count": 15,
   "id": "d46b45f1-92cb-430b-96ff-116d7f8abdff",
   "metadata": {},
   "outputs": [],
   "source": [
    "SST_OM2_025.to_netcdf(path_to_data + '/Comparison_ACCESS_OM2_025/temp_surface_ave_annual_OM2_025.nc')"
   ]
  },
  {
   "cell_type": "markdown",
   "id": "5b844117-19fe-4b31-9050-66a39f0905e8",
   "metadata": {},
   "source": [
    "OM2-1"
   ]
  },
  {
   "cell_type": "code",
   "execution_count": null,
   "id": "993a32d0-4716-4f3e-857c-3c1899111bad",
   "metadata": {},
   "outputs": [],
   "source": [
    "%%time\n",
    "SST_OM2_1 = get_scalar_timeseries(expt_OM2_1, session_OM2, 'temp_surface_ave', start_time='1900-01-01', end_time='2400-12-31', frequency='1 monthly')"
   ]
  },
  {
   "cell_type": "code",
   "execution_count": 13,
   "id": "dea366b5-3952-417c-862e-28e0a3a781b7",
   "metadata": {},
   "outputs": [],
   "source": [
    "SST_OM2_1.to_netcdf(path_to_data + '/Comparison_ACCESS_OM2_1/temp_surface_ave_annual_OM2_1.nc')"
   ]
  },
  {
   "cell_type": "markdown",
   "id": "221fbdba-2f81-476b-8d4f-8001e9bf522c",
   "metadata": {},
   "source": [
    "#### Sea surface salinity"
   ]
  },
  {
   "cell_type": "markdown",
   "id": "18b6d7b1-d049-45f0-9ee3-94e4a4248b80",
   "metadata": {},
   "source": [
    "CM2-025"
   ]
  },
  {
   "cell_type": "code",
   "execution_count": 19,
   "id": "ab1fd371-02fc-4fff-a59f-0db1d323e96f",
   "metadata": {},
   "outputs": [],
   "source": [
    "ds = cat.search(variable=\"salt_surface_ave\",frequency=\"1mon\").to_dask()"
   ]
  },
  {
   "cell_type": "code",
   "execution_count": 20,
   "id": "5569d26e-0c54-4209-9e32-eb6affb8bb94",
   "metadata": {},
   "outputs": [
    {
     "name": "stdout",
     "output_type": "stream",
     "text": [
      "CPU times: user 36.8 s, sys: 2.42 s, total: 39.3 s\n",
      "Wall time: 38.7 s\n"
     ]
    },
    {
     "data": {
      "text/html": [
       "<div><svg style=\"position: absolute; width: 0; height: 0; overflow: hidden\">\n",
       "<defs>\n",
       "<symbol id=\"icon-database\" viewBox=\"0 0 32 32\">\n",
       "<path d=\"M16 0c-8.837 0-16 2.239-16 5v4c0 2.761 7.163 5 16 5s16-2.239 16-5v-4c0-2.761-7.163-5-16-5z\"></path>\n",
       "<path d=\"M16 17c-8.837 0-16-2.239-16-5v6c0 2.761 7.163 5 16 5s16-2.239 16-5v-6c0 2.761-7.163 5-16 5z\"></path>\n",
       "<path d=\"M16 26c-8.837 0-16-2.239-16-5v6c0 2.761 7.163 5 16 5s16-2.239 16-5v-6c0 2.761-7.163 5-16 5z\"></path>\n",
       "</symbol>\n",
       "<symbol id=\"icon-file-text2\" viewBox=\"0 0 32 32\">\n",
       "<path d=\"M28.681 7.159c-0.694-0.947-1.662-2.053-2.724-3.116s-2.169-2.030-3.116-2.724c-1.612-1.182-2.393-1.319-2.841-1.319h-15.5c-1.378 0-2.5 1.121-2.5 2.5v27c0 1.378 1.122 2.5 2.5 2.5h23c1.378 0 2.5-1.122 2.5-2.5v-19.5c0-0.448-0.137-1.23-1.319-2.841zM24.543 5.457c0.959 0.959 1.712 1.825 2.268 2.543h-4.811v-4.811c0.718 0.556 1.584 1.309 2.543 2.268zM28 29.5c0 0.271-0.229 0.5-0.5 0.5h-23c-0.271 0-0.5-0.229-0.5-0.5v-27c0-0.271 0.229-0.5 0.5-0.5 0 0 15.499-0 15.5 0v7c0 0.552 0.448 1 1 1h7v19.5z\"></path>\n",
       "<path d=\"M23 26h-14c-0.552 0-1-0.448-1-1s0.448-1 1-1h14c0.552 0 1 0.448 1 1s-0.448 1-1 1z\"></path>\n",
       "<path d=\"M23 22h-14c-0.552 0-1-0.448-1-1s0.448-1 1-1h14c0.552 0 1 0.448 1 1s-0.448 1-1 1z\"></path>\n",
       "<path d=\"M23 18h-14c-0.552 0-1-0.448-1-1s0.448-1 1-1h14c0.552 0 1 0.448 1 1s-0.448 1-1 1z\"></path>\n",
       "</symbol>\n",
       "</defs>\n",
       "</svg>\n",
       "<style>/* CSS stylesheet for displaying xarray objects in jupyterlab.\n",
       " *\n",
       " */\n",
       "\n",
       ":root {\n",
       "  --xr-font-color0: var(--jp-content-font-color0, rgba(0, 0, 0, 1));\n",
       "  --xr-font-color2: var(--jp-content-font-color2, rgba(0, 0, 0, 0.54));\n",
       "  --xr-font-color3: var(--jp-content-font-color3, rgba(0, 0, 0, 0.38));\n",
       "  --xr-border-color: var(--jp-border-color2, #e0e0e0);\n",
       "  --xr-disabled-color: var(--jp-layout-color3, #bdbdbd);\n",
       "  --xr-background-color: var(--jp-layout-color0, white);\n",
       "  --xr-background-color-row-even: var(--jp-layout-color1, white);\n",
       "  --xr-background-color-row-odd: var(--jp-layout-color2, #eeeeee);\n",
       "}\n",
       "\n",
       "html[theme=\"dark\"],\n",
       "html[data-theme=\"dark\"],\n",
       "body[data-theme=\"dark\"],\n",
       "body.vscode-dark {\n",
       "  --xr-font-color0: rgba(255, 255, 255, 1);\n",
       "  --xr-font-color2: rgba(255, 255, 255, 0.54);\n",
       "  --xr-font-color3: rgba(255, 255, 255, 0.38);\n",
       "  --xr-border-color: #1f1f1f;\n",
       "  --xr-disabled-color: #515151;\n",
       "  --xr-background-color: #111111;\n",
       "  --xr-background-color-row-even: #111111;\n",
       "  --xr-background-color-row-odd: #313131;\n",
       "}\n",
       "\n",
       ".xr-wrap {\n",
       "  display: block !important;\n",
       "  min-width: 300px;\n",
       "  max-width: 700px;\n",
       "}\n",
       "\n",
       ".xr-text-repr-fallback {\n",
       "  /* fallback to plain text repr when CSS is not injected (untrusted notebook) */\n",
       "  display: none;\n",
       "}\n",
       "\n",
       ".xr-header {\n",
       "  padding-top: 6px;\n",
       "  padding-bottom: 6px;\n",
       "  margin-bottom: 4px;\n",
       "  border-bottom: solid 1px var(--xr-border-color);\n",
       "}\n",
       "\n",
       ".xr-header > div,\n",
       ".xr-header > ul {\n",
       "  display: inline;\n",
       "  margin-top: 0;\n",
       "  margin-bottom: 0;\n",
       "}\n",
       "\n",
       ".xr-obj-type,\n",
       ".xr-array-name {\n",
       "  margin-left: 2px;\n",
       "  margin-right: 10px;\n",
       "}\n",
       "\n",
       ".xr-obj-type {\n",
       "  color: var(--xr-font-color2);\n",
       "}\n",
       "\n",
       ".xr-sections {\n",
       "  padding-left: 0 !important;\n",
       "  display: grid;\n",
       "  grid-template-columns: 150px auto auto 1fr 0 20px 0 20px;\n",
       "}\n",
       "\n",
       ".xr-section-item {\n",
       "  display: contents;\n",
       "}\n",
       "\n",
       ".xr-section-item input {\n",
       "  display: inline-block;\n",
       "  opacity: 0;\n",
       "  height: 0;\n",
       "}\n",
       "\n",
       ".xr-section-item input + label {\n",
       "  color: var(--xr-disabled-color);\n",
       "}\n",
       "\n",
       ".xr-section-item input:enabled + label {\n",
       "  cursor: pointer;\n",
       "  color: var(--xr-font-color2);\n",
       "}\n",
       "\n",
       ".xr-section-item input:focus + label {\n",
       "  border: 2px solid var(--xr-font-color0);\n",
       "}\n",
       "\n",
       ".xr-section-item input:enabled + label:hover {\n",
       "  color: var(--xr-font-color0);\n",
       "}\n",
       "\n",
       ".xr-section-summary {\n",
       "  grid-column: 1;\n",
       "  color: var(--xr-font-color2);\n",
       "  font-weight: 500;\n",
       "}\n",
       "\n",
       ".xr-section-summary > span {\n",
       "  display: inline-block;\n",
       "  padding-left: 0.5em;\n",
       "}\n",
       "\n",
       ".xr-section-summary-in:disabled + label {\n",
       "  color: var(--xr-font-color2);\n",
       "}\n",
       "\n",
       ".xr-section-summary-in + label:before {\n",
       "  display: inline-block;\n",
       "  content: \"►\";\n",
       "  font-size: 11px;\n",
       "  width: 15px;\n",
       "  text-align: center;\n",
       "}\n",
       "\n",
       ".xr-section-summary-in:disabled + label:before {\n",
       "  color: var(--xr-disabled-color);\n",
       "}\n",
       "\n",
       ".xr-section-summary-in:checked + label:before {\n",
       "  content: \"▼\";\n",
       "}\n",
       "\n",
       ".xr-section-summary-in:checked + label > span {\n",
       "  display: none;\n",
       "}\n",
       "\n",
       ".xr-section-summary,\n",
       ".xr-section-inline-details {\n",
       "  padding-top: 4px;\n",
       "  padding-bottom: 4px;\n",
       "}\n",
       "\n",
       ".xr-section-inline-details {\n",
       "  grid-column: 2 / -1;\n",
       "}\n",
       "\n",
       ".xr-section-details {\n",
       "  display: none;\n",
       "  grid-column: 1 / -1;\n",
       "  margin-bottom: 5px;\n",
       "}\n",
       "\n",
       ".xr-section-summary-in:checked ~ .xr-section-details {\n",
       "  display: contents;\n",
       "}\n",
       "\n",
       ".xr-array-wrap {\n",
       "  grid-column: 1 / -1;\n",
       "  display: grid;\n",
       "  grid-template-columns: 20px auto;\n",
       "}\n",
       "\n",
       ".xr-array-wrap > label {\n",
       "  grid-column: 1;\n",
       "  vertical-align: top;\n",
       "}\n",
       "\n",
       ".xr-preview {\n",
       "  color: var(--xr-font-color3);\n",
       "}\n",
       "\n",
       ".xr-array-preview,\n",
       ".xr-array-data {\n",
       "  padding: 0 5px !important;\n",
       "  grid-column: 2;\n",
       "}\n",
       "\n",
       ".xr-array-data,\n",
       ".xr-array-in:checked ~ .xr-array-preview {\n",
       "  display: none;\n",
       "}\n",
       "\n",
       ".xr-array-in:checked ~ .xr-array-data,\n",
       ".xr-array-preview {\n",
       "  display: inline-block;\n",
       "}\n",
       "\n",
       ".xr-dim-list {\n",
       "  display: inline-block !important;\n",
       "  list-style: none;\n",
       "  padding: 0 !important;\n",
       "  margin: 0;\n",
       "}\n",
       "\n",
       ".xr-dim-list li {\n",
       "  display: inline-block;\n",
       "  padding: 0;\n",
       "  margin: 0;\n",
       "}\n",
       "\n",
       ".xr-dim-list:before {\n",
       "  content: \"(\";\n",
       "}\n",
       "\n",
       ".xr-dim-list:after {\n",
       "  content: \")\";\n",
       "}\n",
       "\n",
       ".xr-dim-list li:not(:last-child):after {\n",
       "  content: \",\";\n",
       "  padding-right: 5px;\n",
       "}\n",
       "\n",
       ".xr-has-index {\n",
       "  font-weight: bold;\n",
       "}\n",
       "\n",
       ".xr-var-list,\n",
       ".xr-var-item {\n",
       "  display: contents;\n",
       "}\n",
       "\n",
       ".xr-var-item > div,\n",
       ".xr-var-item label,\n",
       ".xr-var-item > .xr-var-name span {\n",
       "  background-color: var(--xr-background-color-row-even);\n",
       "  margin-bottom: 0;\n",
       "}\n",
       "\n",
       ".xr-var-item > .xr-var-name:hover span {\n",
       "  padding-right: 5px;\n",
       "}\n",
       "\n",
       ".xr-var-list > li:nth-child(odd) > div,\n",
       ".xr-var-list > li:nth-child(odd) > label,\n",
       ".xr-var-list > li:nth-child(odd) > .xr-var-name span {\n",
       "  background-color: var(--xr-background-color-row-odd);\n",
       "}\n",
       "\n",
       ".xr-var-name {\n",
       "  grid-column: 1;\n",
       "}\n",
       "\n",
       ".xr-var-dims {\n",
       "  grid-column: 2;\n",
       "}\n",
       "\n",
       ".xr-var-dtype {\n",
       "  grid-column: 3;\n",
       "  text-align: right;\n",
       "  color: var(--xr-font-color2);\n",
       "}\n",
       "\n",
       ".xr-var-preview {\n",
       "  grid-column: 4;\n",
       "}\n",
       "\n",
       ".xr-index-preview {\n",
       "  grid-column: 2 / 5;\n",
       "  color: var(--xr-font-color2);\n",
       "}\n",
       "\n",
       ".xr-var-name,\n",
       ".xr-var-dims,\n",
       ".xr-var-dtype,\n",
       ".xr-preview,\n",
       ".xr-attrs dt {\n",
       "  white-space: nowrap;\n",
       "  overflow: hidden;\n",
       "  text-overflow: ellipsis;\n",
       "  padding-right: 10px;\n",
       "}\n",
       "\n",
       ".xr-var-name:hover,\n",
       ".xr-var-dims:hover,\n",
       ".xr-var-dtype:hover,\n",
       ".xr-attrs dt:hover {\n",
       "  overflow: visible;\n",
       "  width: auto;\n",
       "  z-index: 1;\n",
       "}\n",
       "\n",
       ".xr-var-attrs,\n",
       ".xr-var-data,\n",
       ".xr-index-data {\n",
       "  display: none;\n",
       "  background-color: var(--xr-background-color) !important;\n",
       "  padding-bottom: 5px !important;\n",
       "}\n",
       "\n",
       ".xr-var-attrs-in:checked ~ .xr-var-attrs,\n",
       ".xr-var-data-in:checked ~ .xr-var-data,\n",
       ".xr-index-data-in:checked ~ .xr-index-data {\n",
       "  display: block;\n",
       "}\n",
       "\n",
       ".xr-var-data > table {\n",
       "  float: right;\n",
       "}\n",
       "\n",
       ".xr-var-name span,\n",
       ".xr-var-data,\n",
       ".xr-index-name div,\n",
       ".xr-index-data,\n",
       ".xr-attrs {\n",
       "  padding-left: 25px !important;\n",
       "}\n",
       "\n",
       ".xr-attrs,\n",
       ".xr-var-attrs,\n",
       ".xr-var-data,\n",
       ".xr-index-data {\n",
       "  grid-column: 1 / -1;\n",
       "}\n",
       "\n",
       "dl.xr-attrs {\n",
       "  padding: 0;\n",
       "  margin: 0;\n",
       "  display: grid;\n",
       "  grid-template-columns: 125px auto;\n",
       "}\n",
       "\n",
       ".xr-attrs dt,\n",
       ".xr-attrs dd {\n",
       "  padding: 0;\n",
       "  margin: 0;\n",
       "  float: left;\n",
       "  padding-right: 10px;\n",
       "  width: auto;\n",
       "}\n",
       "\n",
       ".xr-attrs dt {\n",
       "  font-weight: normal;\n",
       "  grid-column: 1;\n",
       "}\n",
       "\n",
       ".xr-attrs dt:hover span {\n",
       "  display: inline-block;\n",
       "  background: var(--xr-background-color);\n",
       "  padding-right: 10px;\n",
       "}\n",
       "\n",
       ".xr-attrs dd {\n",
       "  grid-column: 2;\n",
       "  white-space: pre-wrap;\n",
       "  word-break: break-all;\n",
       "}\n",
       "\n",
       ".xr-icon-database,\n",
       ".xr-icon-file-text2,\n",
       ".xr-no-icon {\n",
       "  display: inline-block;\n",
       "  vertical-align: middle;\n",
       "  width: 1em;\n",
       "  height: 1.5em !important;\n",
       "  stroke-width: 0;\n",
       "  stroke: currentColor;\n",
       "  fill: currentColor;\n",
       "}\n",
       "</style><pre class='xr-text-repr-fallback'>&lt;xarray.DataArray &#x27;salt_surface_ave&#x27; (time: 500, scalar_axis: 1)&gt; Size: 4kB\n",
       "array([[34.64093616],\n",
       "       [34.59283219],\n",
       "       [34.56841263],\n",
       "       [34.55656432],\n",
       "       [34.5491118 ],\n",
       "       [34.54830501],\n",
       "       [34.5539942 ],\n",
       "       [34.54951365],\n",
       "       [34.54775134],\n",
       "       [34.53227833],\n",
       "       [34.5416454 ],\n",
       "       [34.54167466],\n",
       "       [34.55377623],\n",
       "       [34.54461435],\n",
       "       [34.56403394],\n",
       "       [34.56017186],\n",
       "       [34.56859871],\n",
       "       [34.55275548],\n",
       "       [34.53928381],\n",
       "       [34.53405178],\n",
       "...\n",
       "       [34.21962479],\n",
       "       [34.22281975],\n",
       "       [34.23533718],\n",
       "       [34.23384595],\n",
       "       [34.23780918],\n",
       "       [34.229441  ],\n",
       "       [34.2260647 ],\n",
       "       [34.23076075],\n",
       "       [34.21802576],\n",
       "       [34.22630696],\n",
       "       [34.23040937],\n",
       "       [34.2315017 ],\n",
       "       [34.23754928],\n",
       "       [34.24010315],\n",
       "       [34.23528852],\n",
       "       [34.23972059],\n",
       "       [34.24759473],\n",
       "       [34.23676329],\n",
       "       [34.23138126],\n",
       "       [34.22628766]])\n",
       "Coordinates:\n",
       "  * scalar_axis  (scalar_axis) float64 8B 0.0\n",
       "  * time         (time) object 4kB 0001-12-31 00:00:00 ... 0500-12-31 00:00:00\n",
       "Attributes:\n",
       "    long_name:      Global mass weighted mean surface salt in liquid seawater\n",
       "    units:          psu\n",
       "    valid_range:    [ -10. 1000.]\n",
       "    cell_methods:   time: mean\n",
       "    time_avg_info:  average_T1,average_T2,average_DT</pre><div class='xr-wrap' style='display:none'><div class='xr-header'><div class='xr-obj-type'>xarray.DataArray</div><div class='xr-array-name'>'salt_surface_ave'</div><ul class='xr-dim-list'><li><span class='xr-has-index'>time</span>: 500</li><li><span class='xr-has-index'>scalar_axis</span>: 1</li></ul></div><ul class='xr-sections'><li class='xr-section-item'><div class='xr-array-wrap'><input id='section-34bca22f-cee8-4690-a9b0-ccac0eea0633' class='xr-array-in' type='checkbox' checked><label for='section-34bca22f-cee8-4690-a9b0-ccac0eea0633' title='Show/hide data repr'><svg class='icon xr-icon-database'><use xlink:href='#icon-database'></use></svg></label><div class='xr-array-preview xr-preview'><span>34.64 34.59 34.57 34.56 34.55 34.55 ... 34.24 34.25 34.24 34.23 34.23</span></div><div class='xr-array-data'><pre>array([[34.64093616],\n",
       "       [34.59283219],\n",
       "       [34.56841263],\n",
       "       [34.55656432],\n",
       "       [34.5491118 ],\n",
       "       [34.54830501],\n",
       "       [34.5539942 ],\n",
       "       [34.54951365],\n",
       "       [34.54775134],\n",
       "       [34.53227833],\n",
       "       [34.5416454 ],\n",
       "       [34.54167466],\n",
       "       [34.55377623],\n",
       "       [34.54461435],\n",
       "       [34.56403394],\n",
       "       [34.56017186],\n",
       "       [34.56859871],\n",
       "       [34.55275548],\n",
       "       [34.53928381],\n",
       "       [34.53405178],\n",
       "...\n",
       "       [34.21962479],\n",
       "       [34.22281975],\n",
       "       [34.23533718],\n",
       "       [34.23384595],\n",
       "       [34.23780918],\n",
       "       [34.229441  ],\n",
       "       [34.2260647 ],\n",
       "       [34.23076075],\n",
       "       [34.21802576],\n",
       "       [34.22630696],\n",
       "       [34.23040937],\n",
       "       [34.2315017 ],\n",
       "       [34.23754928],\n",
       "       [34.24010315],\n",
       "       [34.23528852],\n",
       "       [34.23972059],\n",
       "       [34.24759473],\n",
       "       [34.23676329],\n",
       "       [34.23138126],\n",
       "       [34.22628766]])</pre></div></div></li><li class='xr-section-item'><input id='section-a55f850c-c2fc-426b-9d29-070f1c06742c' class='xr-section-summary-in' type='checkbox'  checked><label for='section-a55f850c-c2fc-426b-9d29-070f1c06742c' class='xr-section-summary' >Coordinates: <span>(2)</span></label><div class='xr-section-inline-details'></div><div class='xr-section-details'><ul class='xr-var-list'><li class='xr-var-item'><div class='xr-var-name'><span class='xr-has-index'>scalar_axis</span></div><div class='xr-var-dims'>(scalar_axis)</div><div class='xr-var-dtype'>float64</div><div class='xr-var-preview xr-preview'>0.0</div><input id='attrs-663f9b69-614a-443d-b538-de49c115f507' class='xr-var-attrs-in' type='checkbox' ><label for='attrs-663f9b69-614a-443d-b538-de49c115f507' title='Show/Hide attributes'><svg class='icon xr-icon-file-text2'><use xlink:href='#icon-file-text2'></use></svg></label><input id='data-1b7bf921-e585-43dc-9d7d-6e05fe086912' class='xr-var-data-in' type='checkbox'><label for='data-1b7bf921-e585-43dc-9d7d-6e05fe086912' title='Show/Hide data repr'><svg class='icon xr-icon-database'><use xlink:href='#icon-database'></use></svg></label><div class='xr-var-attrs'><dl class='xr-attrs'><dt><span>long_name :</span></dt><dd>none</dd><dt><span>units :</span></dt><dd>none</dd><dt><span>cartesian_axis :</span></dt><dd>N</dd></dl></div><div class='xr-var-data'><pre>array([0.])</pre></div></li><li class='xr-var-item'><div class='xr-var-name'><span class='xr-has-index'>time</span></div><div class='xr-var-dims'>(time)</div><div class='xr-var-dtype'>object</div><div class='xr-var-preview xr-preview'>0001-12-31 00:00:00 ... 0500-12-...</div><input id='attrs-78335dc6-188d-44ee-a587-580f6e0722f5' class='xr-var-attrs-in' type='checkbox' ><label for='attrs-78335dc6-188d-44ee-a587-580f6e0722f5' title='Show/Hide attributes'><svg class='icon xr-icon-file-text2'><use xlink:href='#icon-file-text2'></use></svg></label><input id='data-4b860655-3fb0-4bb2-bc78-75ded6c2fcb4' class='xr-var-data-in' type='checkbox'><label for='data-4b860655-3fb0-4bb2-bc78-75ded6c2fcb4' title='Show/Hide data repr'><svg class='icon xr-icon-database'><use xlink:href='#icon-database'></use></svg></label><div class='xr-var-attrs'><dl class='xr-attrs'><dt><span>long_name :</span></dt><dd>time</dd><dt><span>cartesian_axis :</span></dt><dd>T</dd><dt><span>bounds :</span></dt><dd>time_bnds</dd></dl></div><div class='xr-var-data'><pre>array([cftime.DatetimeProlepticGregorian(1, 12, 31, 0, 0, 0, 0, has_year_zero=True),\n",
       "       cftime.DatetimeProlepticGregorian(2, 12, 31, 0, 0, 0, 0, has_year_zero=True),\n",
       "       cftime.DatetimeProlepticGregorian(3, 12, 31, 0, 0, 0, 0, has_year_zero=True),\n",
       "       ...,\n",
       "       cftime.DatetimeProlepticGregorian(498, 12, 31, 0, 0, 0, 0, has_year_zero=True),\n",
       "       cftime.DatetimeProlepticGregorian(499, 12, 31, 0, 0, 0, 0, has_year_zero=True),\n",
       "       cftime.DatetimeProlepticGregorian(500, 12, 31, 0, 0, 0, 0, has_year_zero=True)],\n",
       "      dtype=object)</pre></div></li></ul></div></li><li class='xr-section-item'><input id='section-0c1c9250-4336-4c78-b40b-4b9ef7744bf8' class='xr-section-summary-in' type='checkbox'  ><label for='section-0c1c9250-4336-4c78-b40b-4b9ef7744bf8' class='xr-section-summary' >Indexes: <span>(2)</span></label><div class='xr-section-inline-details'></div><div class='xr-section-details'><ul class='xr-var-list'><li class='xr-var-item'><div class='xr-index-name'><div>scalar_axis</div></div><div class='xr-index-preview'>PandasIndex</div><input type='checkbox' disabled/><label></label><input id='index-9ce07f6f-54b4-46c6-a105-d172196b31f7' class='xr-index-data-in' type='checkbox'/><label for='index-9ce07f6f-54b4-46c6-a105-d172196b31f7' title='Show/Hide index repr'><svg class='icon xr-icon-database'><use xlink:href='#icon-database'></use></svg></label><div class='xr-index-data'><pre>PandasIndex(Index([0.0], dtype=&#x27;float64&#x27;, name=&#x27;scalar_axis&#x27;))</pre></div></li><li class='xr-var-item'><div class='xr-index-name'><div>time</div></div><div class='xr-index-preview'>PandasIndex</div><input type='checkbox' disabled/><label></label><input id='index-67043b1e-9274-4345-a117-c36237698c30' class='xr-index-data-in' type='checkbox'/><label for='index-67043b1e-9274-4345-a117-c36237698c30' title='Show/Hide index repr'><svg class='icon xr-icon-database'><use xlink:href='#icon-database'></use></svg></label><div class='xr-index-data'><pre>PandasIndex(CFTimeIndex([0001-12-31 00:00:00, 0002-12-31 00:00:00, 0003-12-31 00:00:00,\n",
       "             0004-12-31 00:00:00, 0005-12-31 00:00:00, 0006-12-31 00:00:00,\n",
       "             0007-12-31 00:00:00, 0008-12-31 00:00:00, 0009-12-31 00:00:00,\n",
       "             0010-12-31 00:00:00,\n",
       "             ...\n",
       "             0491-12-31 00:00:00, 0492-12-31 00:00:00, 0493-12-31 00:00:00,\n",
       "             0494-12-31 00:00:00, 0495-12-31 00:00:00, 0496-12-31 00:00:00,\n",
       "             0497-12-31 00:00:00, 0498-12-31 00:00:00, 0499-12-31 00:00:00,\n",
       "             0500-12-31 00:00:00],\n",
       "            dtype=&#x27;object&#x27;,\n",
       "            length=500,\n",
       "            calendar=&#x27;proleptic_gregorian&#x27;,\n",
       "            freq=&#x27;YE-DEC&#x27;))</pre></div></li></ul></div></li><li class='xr-section-item'><input id='section-0b38b69d-6da5-4769-844c-ed71aaf849c2' class='xr-section-summary-in' type='checkbox'  checked><label for='section-0b38b69d-6da5-4769-844c-ed71aaf849c2' class='xr-section-summary' >Attributes: <span>(5)</span></label><div class='xr-section-inline-details'></div><div class='xr-section-details'><dl class='xr-attrs'><dt><span>long_name :</span></dt><dd>Global mass weighted mean surface salt in liquid seawater</dd><dt><span>units :</span></dt><dd>psu</dd><dt><span>valid_range :</span></dt><dd>[ -10. 1000.]</dd><dt><span>cell_methods :</span></dt><dd>time: mean</dd><dt><span>time_avg_info :</span></dt><dd>average_T1,average_T2,average_DT</dd></dl></div></li></ul></div></div>"
      ],
      "text/plain": [
       "<xarray.DataArray 'salt_surface_ave' (time: 500, scalar_axis: 1)> Size: 4kB\n",
       "array([[34.64093616],\n",
       "       [34.59283219],\n",
       "       [34.56841263],\n",
       "       [34.55656432],\n",
       "       [34.5491118 ],\n",
       "       [34.54830501],\n",
       "       [34.5539942 ],\n",
       "       [34.54951365],\n",
       "       [34.54775134],\n",
       "       [34.53227833],\n",
       "       [34.5416454 ],\n",
       "       [34.54167466],\n",
       "       [34.55377623],\n",
       "       [34.54461435],\n",
       "       [34.56403394],\n",
       "       [34.56017186],\n",
       "       [34.56859871],\n",
       "       [34.55275548],\n",
       "       [34.53928381],\n",
       "       [34.53405178],\n",
       "...\n",
       "       [34.21962479],\n",
       "       [34.22281975],\n",
       "       [34.23533718],\n",
       "       [34.23384595],\n",
       "       [34.23780918],\n",
       "       [34.229441  ],\n",
       "       [34.2260647 ],\n",
       "       [34.23076075],\n",
       "       [34.21802576],\n",
       "       [34.22630696],\n",
       "       [34.23040937],\n",
       "       [34.2315017 ],\n",
       "       [34.23754928],\n",
       "       [34.24010315],\n",
       "       [34.23528852],\n",
       "       [34.23972059],\n",
       "       [34.24759473],\n",
       "       [34.23676329],\n",
       "       [34.23138126],\n",
       "       [34.22628766]])\n",
       "Coordinates:\n",
       "  * scalar_axis  (scalar_axis) float64 8B 0.0\n",
       "  * time         (time) object 4kB 0001-12-31 00:00:00 ... 0500-12-31 00:00:00\n",
       "Attributes:\n",
       "    long_name:      Global mass weighted mean surface salt in liquid seawater\n",
       "    units:          psu\n",
       "    valid_range:    [ -10. 1000.]\n",
       "    cell_methods:   time: mean\n",
       "    time_avg_info:  average_T1,average_T2,average_DT"
      ]
     },
     "execution_count": 20,
     "metadata": {},
     "output_type": "execute_result"
    }
   ],
   "source": [
    "%%time\n",
    "data = ds.salt_surface_ave.sel(time=slice('0001-01-01','0501-12-31')).resample(time='YE').mean()\n",
    "data = data.where(data>10, np.nan)\n",
    "data.load()"
   ]
  },
  {
   "cell_type": "code",
   "execution_count": 21,
   "id": "c12f6800-4460-471d-b4b7-fa974bebc8e4",
   "metadata": {},
   "outputs": [],
   "source": [
    "data.to_netcdf(path_to_data_cz861 + 'salt_surface_ave_annual.nc')"
   ]
  },
  {
   "cell_type": "markdown",
   "id": "64b31425-819f-444e-8e67-690c1b58f4c8",
   "metadata": {},
   "source": [
    "CM2-1"
   ]
  },
  {
   "cell_type": "code",
   "execution_count": null,
   "id": "10167859-479e-4376-8416-393242fa5d23",
   "metadata": {},
   "outputs": [],
   "source": [
    "SSS_CM2_1 = cc.querying.getvar(expt=expt_CM2_1, variable='salt_surface_ave', session=session_CM2, frequency='1 monthly', start_time='0001-01-31', end_time='1079-12-31')\n",
    "# SSS_CM2_1 = SSS_CM2_1.sel(time=slice(start_time_CM2, '0002-12-31')).resample(time='Y').mean()\n",
    "SSS_CM2_1 = SSS_CM2_1.resample(time='Y').mean()\n",
    "SSS_CM2_1 = SSS_CM2_1.load()\n",
    "SSS_CM2_1.to_netcdf(path_to_data + 'Comparison_ACCESS_CM2_1/salt_surface_ave_annual_CM2_1.nc')"
   ]
  },
  {
   "cell_type": "markdown",
   "id": "42f17ac3-212b-4c23-81a8-5a1c1cf43bf9",
   "metadata": {},
   "source": [
    "OM2-025"
   ]
  },
  {
   "cell_type": "code",
   "execution_count": null,
   "id": "53085b74-0994-49ba-8cf8-17432fb31a33",
   "metadata": {},
   "outputs": [],
   "source": [
    "SSS_OM2_025 = cc.querying.getvar(expt=expt_OM2_025, variable='salt_surface_ave', session=session_OM2, frequency='1 monthly', start_time='1900-01-31', end_time='2549-12-31')\n",
    "SSS_OM2_025 = SSS_OM2_025.resample(time='Y').mean().load()\n",
    "SSS_OM2_025.to_netcdf(path_to_data + 'Comparison_ACCESS_OM2_025/salt_surface_ave_annual_OM2_025.nc')"
   ]
  },
  {
   "cell_type": "markdown",
   "id": "f0ca71b6-13af-4bd7-85fb-3b9e8b8b9472",
   "metadata": {},
   "source": [
    "OM2-1"
   ]
  },
  {
   "cell_type": "code",
   "execution_count": null,
   "id": "51d2f9b8-3859-441b-b0c5-0d2d8e1a9a91",
   "metadata": {},
   "outputs": [],
   "source": [
    "SSS_OM2_1 = cc.querying.getvar(expt=expt_OM2_1, variable='salt_surface_ave', session=session_OM2, frequency='1 monthly', start_time='1900-01-31', end_time='2679-12-31')\n",
    "SSS_OM2_1 = SSS_OM2_1.resample(time='Y').mean().load()\n",
    "SSS_OM2_1.to_netcdf(path_to_data + 'Comparison_ACCESS_OM2_1/salt_surface_ave_annual_OM2_1.nc')"
   ]
  },
  {
   "cell_type": "markdown",
   "id": "f15156fc-545e-4c58-ad61-b874157d4175",
   "metadata": {},
   "source": [
    "---\n",
    "## 2) Surface fields (2D)"
   ]
  },
  {
   "cell_type": "markdown",
   "id": "3274f70e-c305-4c7e-bde9-4502ad4109aa",
   "metadata": {},
   "source": [
    "#### Sea surface temperature"
   ]
  },
  {
   "cell_type": "code",
   "execution_count": 7,
   "id": "de6c717a-3c39-4a55-a69b-d4d7f7c4d8ee",
   "metadata": {},
   "outputs": [],
   "source": [
    "ds = cat.search(variable=\"temp\", frequency=\"1mon\").to_dask()"
   ]
  },
  {
   "cell_type": "code",
   "execution_count": 9,
   "id": "b78183cc-5586-4edb-9df7-790c13a11488",
   "metadata": {},
   "outputs": [],
   "source": [
    "data = ds.temp.sel(time=slice('0400-01-01','0499-12-31')).sel(st_ocean=0, method='nearest').resample(time='YE').mean()\n",
    "data = data.where(data>10, np.nan)"
   ]
  },
  {
   "cell_type": "code",
   "execution_count": 11,
   "id": "e83f7199-9008-4caf-b1a7-be7f0135804f",
   "metadata": {},
   "outputs": [],
   "source": [
    "data = data.load()"
   ]
  },
  {
   "cell_type": "code",
   "execution_count": 15,
   "id": "b341d414-e194-48d0-8e8c-e2eb0e37947a",
   "metadata": {},
   "outputs": [],
   "source": [
    "(data-273.15).to_netcdf(path_to_data_cz861 + 'SST_global_annual_cz861.nc')"
   ]
  },
  {
   "cell_type": "markdown",
   "id": "1d3743e6-cfe2-4b2d-81bd-1a57aa62a3ba",
   "metadata": {},
   "source": [
    "#### Sea surface salinity"
   ]
  },
  {
   "cell_type": "code",
   "execution_count": 16,
   "id": "114ea2f2-8029-46bf-b1b1-7ed124a78f99",
   "metadata": {},
   "outputs": [],
   "source": [
    "ds = cat.search(variable=\"salt\", frequency=\"1mon\").to_dask()"
   ]
  },
  {
   "cell_type": "code",
   "execution_count": 26,
   "id": "678d1bc0-4c69-4231-89a8-ed8579e8b22d",
   "metadata": {},
   "outputs": [],
   "source": [
    "data = ds.salt.sel(time=slice('0400-01-01','0499-12-31')).sel(st_ocean=0, method='nearest').resample(time='YE').mean()\n",
    "data = data.where(data>0.1, np.nan)"
   ]
  },
  {
   "cell_type": "code",
   "execution_count": 27,
   "id": "55620d3a-a937-423a-9925-3eafe31fe406",
   "metadata": {},
   "outputs": [
    {
     "name": "stdout",
     "output_type": "stream",
     "text": [
      "CPU times: user 2min 28s, sys: 8.89 s, total: 2min 37s\n",
      "Wall time: 2min 42s\n"
     ]
    }
   ],
   "source": [
    "%%time\n",
    "data = data.load()"
   ]
  },
  {
   "cell_type": "code",
   "execution_count": 30,
   "id": "9603e488-84da-4883-9af3-908ff982e467",
   "metadata": {},
   "outputs": [],
   "source": [
    "data.to_netcdf(path_to_data_cz861 + 'SSS_global_annual_cz861.nc')"
   ]
  },
  {
   "cell_type": "markdown",
   "id": "7dadf373-11ba-420f-8cbc-6a7847f4b666",
   "metadata": {},
   "source": [
    "OM2-1"
   ]
  },
  {
   "cell_type": "code",
   "execution_count": 50,
   "id": "bc3dbd6d-9915-4818-abaf-09516e374238",
   "metadata": {},
   "outputs": [],
   "source": [
    "# %%time\n",
    "SSS_OM2_1 = cc.querying.getvar(expt=expt_OM2_1, variable='salt', session=session_OM2, frequency='1 monthly', start_time='2420-01-01', end_time='2519-12-31')\n",
    "SSS_OM2_1 = SSS_OM2_1.sel(st_ocean=0, method='nearest').resample(time='Y').mean().load()\n",
    "SSS_OM2_1.to_netcdf(path_to_data + 'Comparison_ACCESS_OM2_1/SSS_OM2_1_annual_2420_2519.nc')"
   ]
  },
  {
   "cell_type": "markdown",
   "id": "8e39e1fc-19d2-47bc-9585-02246df5a76c",
   "metadata": {},
   "source": [
    "#### Calculate model rms sea level anomaly"
   ]
  },
  {
   "cell_type": "markdown",
   "id": "5f41a0d7-135c-4384-a755-8bc83cf6b013",
   "metadata": {},
   "source": [
    "Compare models' sea level anomaly with AVISO SSH data.\n",
    "\n",
    "Calculate model anomaly following https://github.com/COSIMA/ACCESS-OM2-1-025-010deg-report/blob/master/figures/ssh_variance/SeaLevelRMS.ipynb."
   ]
  },
  {
   "cell_type": "code",
   "execution_count": 10,
   "id": "305c9456-94ee-400f-b839-24929f00ba28",
   "metadata": {
    "tags": []
   },
   "outputs": [],
   "source": [
    "start_time = '0400-01-01'\n",
    "end_time   = '0499-12-31'"
   ]
  },
  {
   "cell_type": "code",
   "execution_count": 10,
   "id": "40c476a3-c170-4fce-9108-782c3540272e",
   "metadata": {},
   "outputs": [],
   "source": [
    "ds_sea_level = cat.search(variable=\"sea_level\", frequency=\"1mon\").to_dask()\n",
    "ds_sea_level = ds_sea_level.sea_level.sel(time=slice('0400-01-01','0499-12-31')).mean('time')"
   ]
  },
  {
   "cell_type": "code",
   "execution_count": 8,
   "id": "942cbe76-53fb-4274-95dd-153a8ff7b618",
   "metadata": {},
   "outputs": [],
   "source": [
    "#%%time\n",
    "ds_sea_level_sq = cat.search(variable=\"sea_levelsq\", frequency=\"1mon\").to_dask()\n",
    "ds_sea_level_sq = ds_sea_level_sq.sea_levelsq.sel(time=slice('0400-01-01','0499-12-31')).mean('time')"
   ]
  },
  {
   "cell_type": "code",
   "execution_count": 14,
   "id": "4327ba29-5399-4b97-94c0-fff093929701",
   "metadata": {},
   "outputs": [],
   "source": [
    "# RMS of sea level anomaly\n",
    "sla_rm = (ds_sea_level_sq - ds_sea_level**(2.0))**(0.5)"
   ]
  },
  {
   "cell_type": "code",
   "execution_count": 15,
   "id": "838abedc-1d4c-4198-b6b9-29c3bf840606",
   "metadata": {},
   "outputs": [
    {
     "name": "stdout",
     "output_type": "stream",
     "text": [
      "CPU times: user 29.3 s, sys: 5.82 s, total: 35.1 s\n",
      "Wall time: 35.3 s\n"
     ]
    }
   ],
   "source": [
    "%%time\n",
    "sla_rm = sla_rm.load()"
   ]
  },
  {
   "cell_type": "code",
   "execution_count": 16,
   "id": "1afa5fd6-07bd-4ec9-8096-7787cdd85596",
   "metadata": {},
   "outputs": [],
   "source": [
    "sla_rm.to_netcdf(path_to_data_cz861 + 'sla_rms_CM2_025_400_499_cz861.nc')"
   ]
  },
  {
   "cell_type": "markdown",
   "id": "9141bdb8-b70e-478d-8a71-8698c636b47c",
   "metadata": {},
   "source": [
    "Other models"
   ]
  },
  {
   "cell_type": "code",
   "execution_count": 40,
   "id": "cae09368-4d5e-4b92-91ff-d4fdb0efc06e",
   "metadata": {
    "tags": []
   },
   "outputs": [],
   "source": [
    "def get_rms_sla(expt, session, start_time='0400-01-01', end_time='0400-12-31'):\n",
    "    sea_level = cc.querying.getvar(expt, 'sea_level', session, start_time=start_time, end_time=end_time, frequency='1 monthly')\n",
    "    sea_level = sea_level.sel(time=slice(start_time, end_time)).mean('time')\n",
    "\n",
    "    sea_level_sq = cc.querying.getvar(expt, 'sea_level_sq', session, start_time=start_time, end_time=end_time, frequency='1 monthly')\n",
    "    sea_level_sq = sea_level_sq.sel(time=slice(start_time, end_time)).mean('time')\n",
    "    \n",
    "    # RMS of sea level anomaly\n",
    "    sla_rm = (sea_level_sq - sea_level**(2.0))**(0.5)\n",
    "    \n",
    "    return sla_rm\n",
    "\n",
    "\n",
    "def get_rms_sla_OM2(expt, session, start_time='0400-01-01', end_time='0400-12-31'):\n",
    "    sea_level = cc.querying.getvar(expt, 'sea_level', session, start_time=start_time, end_time=end_time, frequency='1 monthly')\n",
    "    sea_level = sea_level.sel(time=slice(start_time, end_time)).mean('time')\n",
    "\n",
    "    sea_level_sq = cc.querying.getvar(expt, 'sea_levelsq', session, start_time=start_time, end_time=end_time, frequency='1 monthly')\n",
    "    sea_level_sq = sea_level_sq.sel(time=slice(start_time, end_time)).mean('time')\n",
    "    \n",
    "    # RMS of sea level anomaly\n",
    "    sla_rm = (sea_level_sq - sea_level**(2.0))**(0.5)\n",
    "    \n",
    "    return sla_rm"
   ]
  },
  {
   "cell_type": "code",
   "execution_count": null,
   "id": "db7817d6-5d9b-4196-9413-15e51aba1979",
   "metadata": {
    "tags": []
   },
   "outputs": [],
   "source": [
    "%%time\n",
    "sla_rm_CM2_025 = get_rms_sla(expt_CM2_025, session_CM2, start_time=start_time, end_time=end_time)"
   ]
  },
  {
   "cell_type": "code",
   "execution_count": null,
   "id": "c72d4586-141b-4dbf-a15e-8c0aac7427a5",
   "metadata": {
    "tags": []
   },
   "outputs": [],
   "source": [
    "sla_rm_CM2_1 = get_rms_sla(expt_CM2_1, session_CM2, start_time=start_time, end_time=end_time)"
   ]
  },
  {
   "cell_type": "code",
   "execution_count": null,
   "id": "3b6541f1-95c9-4e7d-8eab-7be490d5cf5f",
   "metadata": {
    "tags": []
   },
   "outputs": [],
   "source": [
    "sla_rm_OM2_025 = get_rms_sla_OM2(expt_OM2_025, session_OM2, start_time='2300-01-01', end_time='2399-12-31')"
   ]
  },
  {
   "cell_type": "code",
   "execution_count": null,
   "id": "472e6ef1-57ed-4f22-aab6-6604e2efff2b",
   "metadata": {
    "tags": []
   },
   "outputs": [],
   "source": [
    "# Different time (later in run as data is missing for the years I usually take)\n",
    "sla_rm_OM2_1 = get_rms_sla_OM2(expt_OM2_1, session_OM2, start_time='2420-01-01', end_time='2519-12-31')"
   ]
  },
  {
   "cell_type": "markdown",
   "id": "e849971b-5581-4c53-ab92-fcfac60d97cc",
   "metadata": {},
   "source": [
    "Load data"
   ]
  },
  {
   "cell_type": "code",
   "execution_count": null,
   "id": "cf5946f6-1664-4655-adcc-6f1146aa096e",
   "metadata": {
    "tags": []
   },
   "outputs": [],
   "source": [
    "sla_rm_CM2_025 = sla_rm_CM2_025.load()"
   ]
  },
  {
   "cell_type": "code",
   "execution_count": 38,
   "id": "16b6e8c9-b3d7-4bb7-97ba-9d7b29fa4426",
   "metadata": {
    "tags": []
   },
   "outputs": [],
   "source": [
    "sla_rm_CM2_1 = sla_rm_CM2_1.load()"
   ]
  },
  {
   "cell_type": "code",
   "execution_count": null,
   "id": "109bbc44-8646-493f-8982-bd85d52333eb",
   "metadata": {
    "tags": []
   },
   "outputs": [],
   "source": [
    "sla_rm_OM2_025 = sla_rm_OM2_025.load()"
   ]
  },
  {
   "cell_type": "code",
   "execution_count": 47,
   "id": "c7f5a72d-d901-4bc5-bbe6-d70b9f7d8cdb",
   "metadata": {
    "tags": []
   },
   "outputs": [],
   "source": [
    "sla_rm_OM2_1 = sla_rm_OM2_1.load()"
   ]
  },
  {
   "cell_type": "markdown",
   "id": "282f0acf-5aa3-48a3-90c4-26c3c0c51158",
   "metadata": {},
   "source": [
    "Save output"
   ]
  },
  {
   "cell_type": "code",
   "execution_count": 37,
   "id": "529a8571-c16d-455f-bd27-516d530abac6",
   "metadata": {
    "tags": []
   },
   "outputs": [],
   "source": [
    "sla_rm_CM2_025.to_netcdf(path_to_data + 'sla_rms_CM2_025_400_499.nc')"
   ]
  },
  {
   "cell_type": "code",
   "execution_count": 39,
   "id": "81f20067-a5c6-4929-a370-92f0f7d7f95c",
   "metadata": {
    "tags": []
   },
   "outputs": [],
   "source": [
    "sla_rm_CM2_1.to_netcdf(path_to_data + 'Comparison_ACCESS_CM2_1/sla_rms_CM2_1_400_499.nc')"
   ]
  },
  {
   "cell_type": "code",
   "execution_count": 44,
   "id": "de719104-8de9-4393-9d40-608cdb632e1d",
   "metadata": {
    "tags": []
   },
   "outputs": [],
   "source": [
    "sla_rm_OM2_025.to_netcdf(path_to_data + 'Comparison_ACCESS_OM2_025/sla_rms_OM2_025_2300_2399.nc')"
   ]
  },
  {
   "cell_type": "code",
   "execution_count": 48,
   "id": "c42cedca-25d1-4b38-923c-3afce193e430",
   "metadata": {
    "tags": []
   },
   "outputs": [],
   "source": [
    "sla_rm_OM2_1.to_netcdf(path_to_data + 'Comparison_ACCESS_OM2_1/sla_rms_OM2_1_2420_2519.nc')"
   ]
  },
  {
   "cell_type": "markdown",
   "id": "90cc5ced-a834-49ea-a3ed-4c674b79e9c3",
   "metadata": {},
   "source": [
    "#### Mixed layer depth\n",
    "\n",
    "Monthly climatology"
   ]
  },
  {
   "cell_type": "markdown",
   "id": "2486365b-5508-462e-a566-2e6d12dd9e6c",
   "metadata": {},
   "source": [
    "CM2-025"
   ]
  },
  {
   "cell_type": "code",
   "execution_count": 7,
   "id": "37f9da46-ac08-4421-99ed-bffcb2670bfd",
   "metadata": {},
   "outputs": [],
   "source": [
    "ds = cat.search(variable=\"mld\",frequency=\"1mon\").to_dask()"
   ]
  },
  {
   "cell_type": "code",
   "execution_count": 8,
   "id": "807d6509-9074-4cf8-bea5-63f4f06953b6",
   "metadata": {},
   "outputs": [],
   "source": [
    "data = ds.mld.sel(time=slice('0400-01-01','0499-12-31'))\n",
    "mld_CM2_025_clim = data.groupby('time.month').mean('time')\n",
    "#data = data.where(data>10, np.nan)\n",
    "#data.load()"
   ]
  },
  {
   "cell_type": "code",
   "execution_count": 9,
   "id": "5fb9d6f0-3909-49be-8cf7-fae0842a458d",
   "metadata": {},
   "outputs": [
    {
     "name": "stdout",
     "output_type": "stream",
     "text": [
      "CPU times: user 28.4 s, sys: 2.72 s, total: 31.1 s\n",
      "Wall time: 33.1 s\n"
     ]
    }
   ],
   "source": [
    "%%time\n",
    "mld_CM2_025_clim = mld_CM2_025_clim.load()"
   ]
  },
  {
   "cell_type": "code",
   "execution_count": 11,
   "id": "6273d2f2-b4ca-4b1c-b2c3-ab1573c2b5d0",
   "metadata": {},
   "outputs": [],
   "source": [
    "# Save data\n",
    "mld_CM2_025_clim.to_netcdf(path_to_data_cz861 + 'mld_clim_CM2_025_400_499_cz861.nc')"
   ]
  },
  {
   "cell_type": "markdown",
   "id": "5546d1cb-e78b-4486-afb8-8587f96e64e1",
   "metadata": {},
   "source": [
    "Other models, define function to load data"
   ]
  },
  {
   "cell_type": "code",
   "execution_count": 12,
   "id": "3dcdecbb-576b-46b4-91ef-1f8af2905288",
   "metadata": {
    "tags": []
   },
   "outputs": [],
   "source": [
    "def get_mld_clim(expt, session, start_time, end_time, frequency='1 monthly'):\n",
    "    \n",
    "    mld = cc.querying.getvar(expt, 'mld', session, start_time=start_time, end_time=end_time, frequency='1 monthly')\n",
    "    mld = mld.sel(time=slice(start_time, end_time))\n",
    "    mld_clim = mld.groupby('time.month').mean('time')\n",
    "    \n",
    "    return mld_clim.compute()"
   ]
  },
  {
   "cell_type": "code",
   "execution_count": 18,
   "id": "e7605e0e-6e3a-41a2-9e5a-aff2f22ffec5",
   "metadata": {
    "tags": []
   },
   "outputs": [
    {
     "name": "stdout",
     "output_type": "stream",
     "text": [
      "CPU times: user 13.6 s, sys: 638 ms, total: 14.3 s\n",
      "Wall time: 15.6 s\n"
     ]
    }
   ],
   "source": [
    "#%%time\n",
    "#mld_CM2_025_clim = get_mld_clim(expt_CM2_025, session_CM2, start_time='0400-01-01', end_time='0499-12-31')"
   ]
  },
  {
   "cell_type": "markdown",
   "id": "46b0fcd6-0e36-473e-8575-63a1400a7673",
   "metadata": {},
   "source": [
    "CM2-1"
   ]
  },
  {
   "cell_type": "code",
   "execution_count": 13,
   "id": "ae88ad4d-4d86-434a-a037-4f8c203161a0",
   "metadata": {
    "tags": []
   },
   "outputs": [
    {
     "name": "stdout",
     "output_type": "stream",
     "text": [
      "CPU times: user 50.8 s, sys: 8.28 s, total: 59.1 s\n",
      "Wall time: 2min 5s\n"
     ]
    }
   ],
   "source": [
    "%%time\n",
    "mld_CM2_1_clim = get_mld_clim(expt_CM2_1, session_CM2, start_time='0400-01-01', end_time='0499-12-31')"
   ]
  },
  {
   "cell_type": "code",
   "execution_count": 14,
   "id": "039cbe1b-1f5c-4d5f-9b40-341675b7ec3e",
   "metadata": {},
   "outputs": [],
   "source": [
    "# Save data\n",
    "mld_CM2_1_clim.to_netcdf(path_to_data + 'Comparison_ACCESS_CM2_1/mld_clim_CM2_1_400_499.nc')"
   ]
  },
  {
   "cell_type": "markdown",
   "id": "517724f5-67ea-4074-a770-6971596b483f",
   "metadata": {},
   "source": [
    "OM2-025"
   ]
  },
  {
   "cell_type": "code",
   "execution_count": 15,
   "id": "5553a3b7-00b7-402d-9433-89929fcc649c",
   "metadata": {
    "tags": []
   },
   "outputs": [
    {
     "name": "stdout",
     "output_type": "stream",
     "text": [
      "CPU times: user 31 s, sys: 3.1 s, total: 34.1 s\n",
      "Wall time: 38.9 s\n"
     ]
    }
   ],
   "source": [
    "%%time\n",
    "mld_OM2_025_clim = get_mld_clim(expt_OM2_025, session_OM2, start_time='2300-01-01', end_time='2399-12-31')"
   ]
  },
  {
   "cell_type": "code",
   "execution_count": 16,
   "id": "1726e0f5-86ed-4379-a81c-97b2348fbc23",
   "metadata": {},
   "outputs": [],
   "source": [
    "# Save data\n",
    "mld_OM2_025_clim.to_netcdf(path_to_data + 'Comparison_ACCESS_OM2_025/mld_clim_OM2_025_2300_2399.nc')"
   ]
  },
  {
   "cell_type": "markdown",
   "id": "a2566243-0ffa-41bd-9cea-9d1c238431d5",
   "metadata": {},
   "source": [
    "OM2-1"
   ]
  },
  {
   "cell_type": "code",
   "execution_count": 17,
   "id": "4539d434-4d3e-4b07-85dd-d90d79aa2d07",
   "metadata": {
    "tags": []
   },
   "outputs": [
    {
     "name": "stdout",
     "output_type": "stream",
     "text": [
      "CPU times: user 8.32 s, sys: 858 ms, total: 9.18 s\n",
      "Wall time: 11.3 s\n"
     ]
    }
   ],
   "source": [
    "%%time\n",
    "mld_OM2_1_clim = get_mld_clim(expt_OM2_1, session_OM2, start_time='2300-01-01', end_time='2399-12-31')"
   ]
  },
  {
   "cell_type": "code",
   "execution_count": 18,
   "id": "21db0cb0-0d4e-4856-9c20-c72509965a37",
   "metadata": {},
   "outputs": [],
   "source": [
    "# Save data\n",
    "mld_OM2_1_clim.to_netcdf(path_to_data + 'Comparison_ACCESS_OM2_1/mld_clim_OM2_1_2300_2399.nc')"
   ]
  },
  {
   "cell_type": "markdown",
   "id": "3b17063f-af1e-4137-be9f-5d556c58dde8",
   "metadata": {},
   "source": [
    "#### Sea ice"
   ]
  },
  {
   "cell_type": "code",
   "execution_count": 19,
   "id": "17225195-9737-4169-adb0-ddc54eeba0be",
   "metadata": {
    "tags": []
   },
   "outputs": [],
   "source": [
    "# Grid information\n",
    "area_t025 = cc.querying.getvar(expt_OM2_025, 'area_t', session_OM2, n=1)\n",
    "area_t1   = cc.querying.getvar(expt_OM2_1, 'area_t', session_OM2, n=1)"
   ]
  },
  {
   "cell_type": "markdown",
   "id": "4af6135f-6e08-4818-b698-29bc61490564",
   "metadata": {},
   "source": [
    "**CM2-025**"
   ]
  },
  {
   "cell_type": "code",
   "execution_count": null,
   "id": "025cf1f2-90b6-43e1-aeb8-6ba9357bae5c",
   "metadata": {},
   "outputs": [],
   "source": [
    "# NOT WORKING YET (LOADING TAKES SUPER LONG) - DATABASE ONLY WORKING PROPERLY FOR OCEAN MODEL OUTPUT AT THE MOMENT\n",
    "#ds = cat.search(variable=\"aice\",frequency=\"1mon\").to_dask()"
   ]
  },
  {
   "cell_type": "code",
   "execution_count": null,
   "id": "e0fe6d8c-4e50-4183-8517-e99f3f0fb891",
   "metadata": {},
   "outputs": [],
   "source": []
  },
  {
   "cell_type": "code",
   "execution_count": null,
   "id": "2e52e21a-c77a-4ff7-9c68-31a1512eda25",
   "metadata": {},
   "outputs": [],
   "source": []
  },
  {
   "cell_type": "code",
   "execution_count": null,
   "id": "32c8bdba-eb6e-40ee-b6f5-2f8494a4c2a9",
   "metadata": {},
   "outputs": [],
   "source": []
  },
  {
   "cell_type": "markdown",
   "id": "03071e41-bc44-4925-8ab2-13144ed9b9ef",
   "metadata": {},
   "source": [
    "**OM2-025**"
   ]
  },
  {
   "cell_type": "code",
   "execution_count": 23,
   "id": "0e2ad156-5426-408d-af24-a2e003c6c8fb",
   "metadata": {},
   "outputs": [
    {
     "name": "stdout",
     "output_type": "stream",
     "text": [
      "CPU times: user 4min 56s, sys: 30.9 s, total: 5min 27s\n",
      "Wall time: 15min 13s\n"
     ]
    }
   ],
   "source": [
    "%%time\n",
    "aice_OM2_025 = cc.querying.getvar(expt_OM2_025, 'aice_m', session_OM2, frequency='1 monthly', start_time='2300-01-01', end_time='2400-01-31')"
   ]
  },
  {
   "cell_type": "code",
   "execution_count": 24,
   "id": "16d94cfb-3ab3-4d94-b65d-8b1897bb92e3",
   "metadata": {},
   "outputs": [],
   "source": [
    "aice_OM2_025 = aice_OM2_025.sel(time=slice('2300-01-01', '2400-01-31'))\n",
    "aice_OM2_025['time'] = aice_OM2_025.time.to_pandas() - timedelta(hours = 12) # shift time to make sure it is in the correct month\n",
    "aice_OM2_025 = aice_OM2_025.sel(time=slice('2300-01-01', '2399-12-31'))"
   ]
  },
  {
   "cell_type": "code",
   "execution_count": 26,
   "id": "fad3a69e-3081-4730-b62a-e2650ed06767",
   "metadata": {},
   "outputs": [],
   "source": [
    "aice_OM2_025.coords['ni'] = area_t025['xt_ocean'].values\n",
    "aice_OM2_025.coords['nj'] = area_t025['yt_ocean'].values\n",
    "aice_OM2_025 = aice_OM2_025.rename(({'ni':'xt_ocean', 'nj':'yt_ocean'}))"
   ]
  },
  {
   "cell_type": "markdown",
   "id": "6bf178cd-1779-4390-972e-673392081180",
   "metadata": {},
   "source": [
    "Extract SH and NH"
   ]
  },
  {
   "cell_type": "code",
   "execution_count": 28,
   "id": "62323fb4-43ae-48e0-a570-3bed8fe004f1",
   "metadata": {},
   "outputs": [],
   "source": [
    "aice_OM2_025_NH = aice_OM2_025.sel(yt_ocean=slice(40, 90))\n",
    "aice_OM2_025_SH = aice_OM2_025.sel(yt_ocean=slice(-90, -40))  "
   ]
  },
  {
   "cell_type": "markdown",
   "id": "a3f59400-1316-42b0-9b8a-945d04024758",
   "metadata": {},
   "source": [
    "Climatology"
   ]
  },
  {
   "cell_type": "code",
   "execution_count": 29,
   "id": "7031c3bb-d7d0-4dc7-bf84-4f857754dc34",
   "metadata": {},
   "outputs": [],
   "source": [
    "aice_OM2_025_SH_clim = aice_OM2_025_SH.groupby('time.month').mean('time', skipna=True)\n",
    "aice_OM2_025_NH_clim = aice_OM2_025_NH.groupby('time.month').mean('time', skipna=True)"
   ]
  },
  {
   "cell_type": "markdown",
   "id": "b23371a3-bafb-4621-b071-65eb3525ce7b",
   "metadata": {},
   "source": [
    "Load data"
   ]
  },
  {
   "cell_type": "code",
   "execution_count": 30,
   "id": "8f3eaebd-f45f-4a0f-9dc5-ab8b9196eef2",
   "metadata": {},
   "outputs": [],
   "source": [
    "aice_OM2_025_SH_clim = aice_OM2_025_SH_clim.load()\n",
    "aice_OM2_025_NH_clim = aice_OM2_025_NH_clim.load()"
   ]
  },
  {
   "cell_type": "markdown",
   "id": "ed0da130-977a-4303-8d52-123e6ba0dd9f",
   "metadata": {},
   "source": [
    "Save data"
   ]
  },
  {
   "cell_type": "code",
   "execution_count": 31,
   "id": "f7809712-6839-40e4-bfec-794f2b6278c6",
   "metadata": {},
   "outputs": [],
   "source": [
    "aice_OM2_025_NH_clim.to_netcdf(path_to_data + 'Comparison_ACCESS_OM2_025/aice_OM2_025_NH_clim_2300_2399.nc')\n",
    "aice_OM2_025_SH_clim.to_netcdf(path_to_data + 'Comparison_ACCESS_OM2_025/aice_OM2_025_SH_clim_2300_2399.nc')"
   ]
  },
  {
   "cell_type": "markdown",
   "id": "210ec2f7-b5b2-4851-92b6-546840b19adf",
   "metadata": {},
   "source": [
    "**OM2-1**"
   ]
  },
  {
   "cell_type": "code",
   "execution_count": 32,
   "id": "a72cb8b0-a5ee-40d5-8464-d57163951270",
   "metadata": {
    "tags": []
   },
   "outputs": [
    {
     "name": "stdout",
     "output_type": "stream",
     "text": [
      "CPU times: user 2min 47s, sys: 15.3 s, total: 3min 2s\n",
      "Wall time: 7min 36s\n"
     ]
    }
   ],
   "source": [
    "%%time\n",
    "aice_OM2_1 = cc.querying.getvar(expt_OM2_1, 'aice_m', session_OM2, frequency='1 monthly', start_time='2300-01-01', end_time='2400-01-31')"
   ]
  },
  {
   "cell_type": "code",
   "execution_count": 33,
   "id": "c3c01569-0419-4d12-a240-c493f3e865f9",
   "metadata": {},
   "outputs": [],
   "source": [
    "aice_OM2_1 = aice_OM2_1.sel(time=slice('2300-01-01', '2400-01-31'))\n",
    "aice_OM2_1['time'] = aice_OM2_1.time.to_pandas() - timedelta(hours = 12) # shift time to make sure it is in the correct month\n",
    "aice_OM2_1 = aice_OM2_1.sel(time=slice('2300-01-01', '2399-12-31'))"
   ]
  },
  {
   "cell_type": "code",
   "execution_count": 34,
   "id": "4fdc039d-7a6e-492e-b030-555f2fe0c6c2",
   "metadata": {},
   "outputs": [],
   "source": [
    "aice_OM2_1.coords['ni'] = area_t1['xt_ocean'].values\n",
    "aice_OM2_1.coords['nj'] = area_t1['yt_ocean'].values\n",
    "aice_OM2_1 = aice_OM2_1.rename(({'ni':'xt_ocean', 'nj':'yt_ocean'}))"
   ]
  },
  {
   "cell_type": "markdown",
   "id": "f61448c4-e0e0-4717-a059-289ada1c5342",
   "metadata": {},
   "source": [
    "Extract SH and NH"
   ]
  },
  {
   "cell_type": "code",
   "execution_count": 35,
   "id": "a009a47d-a3fa-4517-ab1e-b2710fda32c9",
   "metadata": {},
   "outputs": [],
   "source": [
    "aice_OM2_1_NH = aice_OM2_1.sel(yt_ocean=slice(40, 90))\n",
    "aice_OM2_1_SH = aice_OM2_1.sel(yt_ocean=slice(-90, -40))  "
   ]
  },
  {
   "cell_type": "markdown",
   "id": "11719be6-bc87-408c-806a-189b627cfbc7",
   "metadata": {},
   "source": [
    "Climatology"
   ]
  },
  {
   "cell_type": "code",
   "execution_count": 36,
   "id": "29ce9819-4bfc-4ea6-b326-7feacad58323",
   "metadata": {},
   "outputs": [],
   "source": [
    "aice_OM2_1_SH_clim = aice_OM2_1_SH.groupby('time.month').mean('time', skipna=True)\n",
    "aice_OM2_1_NH_clim = aice_OM2_1_NH.groupby('time.month').mean('time', skipna=True)"
   ]
  },
  {
   "cell_type": "markdown",
   "id": "0d971c46-bbc2-4fce-8e10-81dcb8139a67",
   "metadata": {},
   "source": [
    "Load data"
   ]
  },
  {
   "cell_type": "code",
   "execution_count": 37,
   "id": "d83d5b49-38e3-4766-9697-28855b981653",
   "metadata": {},
   "outputs": [],
   "source": [
    "aice_OM2_1_SH_clim = aice_OM2_1_SH_clim.load()\n",
    "aice_OM2_1_NH_clim = aice_OM2_1_NH_clim.load()"
   ]
  },
  {
   "cell_type": "markdown",
   "id": "1f224d13-ce0b-4c54-abb5-30e6b5924639",
   "metadata": {},
   "source": [
    "Save data"
   ]
  },
  {
   "cell_type": "code",
   "execution_count": 38,
   "id": "6b93fdff-28f8-48a1-9d65-13c789dbc7a6",
   "metadata": {},
   "outputs": [],
   "source": [
    "aice_OM2_1_NH_clim.to_netcdf(path_to_data + 'Comparison_ACCESS_OM2_1/aice_OM2_1_NH_clim_2300_2399.nc')\n",
    "aice_OM2_1_SH_clim.to_netcdf(path_to_data + 'Comparison_ACCESS_OM2_1/aice_OM2_1_SH_clim_2300_2399.nc')"
   ]
  },
  {
   "cell_type": "markdown",
   "id": "f04c2357-bf08-4ef6-b01a-ed89874a478b",
   "metadata": {},
   "source": [
    "**CM2-1**\n",
    "\n",
    "At the moment, only the ocean data from u-bz687 is in the database.\n",
    "\n",
    "Direct access to data:\n",
    "`/g/data/p73/archive/non-CMIP/ACCESS-CM2/bz687/history/ice`"
   ]
  },
  {
   "cell_type": "code",
   "execution_count": 19,
   "id": "4bdcd06c-a811-4073-a0a8-cccde3bb2815",
   "metadata": {
    "tags": []
   },
   "outputs": [],
   "source": [
    "import glob\n",
    "path_sort = np.sort(glob.glob('/g/data/p73/archive/non-CMIP/ACCESS-CM2/bz687/history/ice/iceh_d.04*.nc'))"
   ]
  },
  {
   "cell_type": "code",
   "execution_count": 94,
   "id": "c2a275d1-e98e-4745-b580-b30ae6bd4190",
   "metadata": {
    "tags": []
   },
   "outputs": [],
   "source": [
    "# Load in first month\n",
    "aice_tmp = xr.open_dataset('/g/data/p73/archive/non-CMIP/ACCESS-CM2/bz687/history/ice/iceh_d.0400-01.nc').aice\n",
    "# Monthly average, offline\n",
    "aice_bz687 = aice_tmp.mean('time')\n",
    "# Add time information (first entry in month)\n",
    "aice_bz687.expand_dims(dim={\"time\": np.arange(1)}, axis=0)\n",
    "aice_bz687['time'] = aice_tmp.time[0]\n",
    "\n",
    "# Now repeat for remaining months and concatenate along time dimension\n",
    "for i in range(1, len(path_sort)):\n",
    "    aice_tmp = xr.open_dataset(path_sort[i]).aice\n",
    "    aice_tmp_mean = aice_tmp.mean('time')\n",
    "    aice_tmp_mean.expand_dims(dim={\"time\": np.arange(1)}, axis=0)\n",
    "    aice_tmp_mean['time'] = aice_tmp.time[0]\n",
    "    \n",
    "    aice_bz687 = xr.concat([aice_bz687, aice_tmp_mean], dim='time')"
   ]
  },
  {
   "cell_type": "markdown",
   "id": "d5ce2bb6-c8ea-4119-8d59-4e79e17d019d",
   "metadata": {},
   "source": [
    "Update coordinates to match ocean grid"
   ]
  },
  {
   "cell_type": "code",
   "execution_count": 95,
   "id": "4b1d80a4-121e-4e75-a71f-577a799c172a",
   "metadata": {
    "tags": []
   },
   "outputs": [],
   "source": [
    "aice_bz687.coords['ni'] = area_t1['xt_ocean'].values\n",
    "aice_bz687.coords['nj'] = area_t1['yt_ocean'].values\n",
    "aice_bz687 = aice_bz687.rename(({'ni':'xt_ocean', 'nj':'yt_ocean'}))"
   ]
  },
  {
   "cell_type": "markdown",
   "id": "e0ea0a2e-277f-4ace-a2ab-774c71d3b1e2",
   "metadata": {},
   "source": [
    "Extract SH and NH"
   ]
  },
  {
   "cell_type": "code",
   "execution_count": 96,
   "id": "4abbfc5f-c44f-49ae-a29d-ab5d769da87d",
   "metadata": {
    "tags": []
   },
   "outputs": [],
   "source": [
    "aice_CM2_1_NH = aice_bz687.sel(yt_ocean=slice(40, 90))\n",
    "aice_CM2_1_SH = aice_bz687.sel(yt_ocean=slice(-90, -40))  "
   ]
  },
  {
   "cell_type": "markdown",
   "id": "6ee58d0f-75d9-4519-ab6c-28c55366c24f",
   "metadata": {},
   "source": [
    "Climatology"
   ]
  },
  {
   "cell_type": "code",
   "execution_count": 99,
   "id": "ae6ac7c1-24cb-4bcf-b0d3-8058bec75fa3",
   "metadata": {
    "tags": []
   },
   "outputs": [],
   "source": [
    "aice_CM2_1_SH_clim = aice_CM2_1_SH.groupby('time.month').mean('time', skipna=True)\n",
    "aice_CM2_1_NH_clim = aice_CM2_1_NH.groupby('time.month').mean('time', skipna=True)"
   ]
  },
  {
   "cell_type": "markdown",
   "id": "87313709-175d-4777-9507-06be6b59b096",
   "metadata": {},
   "source": [
    "Load data"
   ]
  },
  {
   "cell_type": "code",
   "execution_count": 103,
   "id": "de5c9b8a-d9a6-4524-8715-ddd0e602fea0",
   "metadata": {
    "tags": []
   },
   "outputs": [],
   "source": [
    "aice_CM2_1_SH_clim = aice_CM2_1_SH_clim.load()\n",
    "aice_CM2_1_NH_clim = aice_CM2_1_NH_clim.load()"
   ]
  },
  {
   "cell_type": "markdown",
   "id": "24e20d55-3630-4eaf-884a-d372ac44acdc",
   "metadata": {},
   "source": [
    "Save data"
   ]
  },
  {
   "cell_type": "code",
   "execution_count": 104,
   "id": "b6099c6b-7a07-443c-9c47-d0094eab5c67",
   "metadata": {
    "tags": []
   },
   "outputs": [],
   "source": [
    "aice_CM2_1_NH_clim.to_netcdf(path_to_data + 'Comparison_ACCESS_CM2_1/aice_CM2_1_NH_clim_400_499.nc')\n",
    "aice_CM2_1_SH_clim.to_netcdf(path_to_data + 'Comparison_ACCESS_CM2_1/aice_CM2_1_SH_clim_400_499.nc')"
   ]
  },
  {
   "cell_type": "markdown",
   "id": "251c680f-a0ad-46fe-a2de-2c5c38e45e35",
   "metadata": {},
   "source": [
    "---\n",
    "# 3D variables"
   ]
  },
  {
   "cell_type": "markdown",
   "id": "71e51511-fcde-4146-a442-62a7810c1352",
   "metadata": {},
   "source": [
    "#### Temperature"
   ]
  },
  {
   "cell_type": "markdown",
   "id": "e9e274e8-de9f-4238-9597-21fe5a20e559",
   "metadata": {},
   "source": [
    "CM2-025"
   ]
  },
  {
   "cell_type": "code",
   "execution_count": 7,
   "id": "d8b08e5c-cc06-44f2-86db-ebbf62433a3f",
   "metadata": {},
   "outputs": [],
   "source": [
    "ds = cat.search(variable=\"temp\",frequency=\"1mon\").to_dask()"
   ]
  },
  {
   "cell_type": "code",
   "execution_count": 12,
   "id": "91c6bca2-fd3f-42c4-987b-3b00d3a90b8f",
   "metadata": {},
   "outputs": [
    {
     "name": "stdout",
     "output_type": "stream",
     "text": [
      "CPU times: user 2.2 s, sys: 123 ms, total: 2.32 s\n",
      "Wall time: 2.31 s\n"
     ]
    }
   ],
   "source": [
    "# %%time\n",
    "# data = ds.temp.sel(time=slice('0400-01-01','0499-12-31'))\n",
    "# temp_CM2_025 = data.mean('time')\n",
    "# temp_CM2_025 = temp_CM2_025.where(temp_CM2_025>10, np.nan) - 273.15"
   ]
  },
  {
   "cell_type": "code",
   "execution_count": 37,
   "id": "a28fc2ea-1446-47a5-9402-50f97199a25d",
   "metadata": {},
   "outputs": [
    {
     "name": "stdout",
     "output_type": "stream",
     "text": [
      "CPU times: user 188 ms, sys: 13.4 ms, total: 202 ms\n",
      "Wall time: 197 ms\n"
     ]
    }
   ],
   "source": [
    "%%time\n",
    "data = ds.temp.sel(time=slice('0490-01-01','0499-12-31'))\n",
    "temp_CM2_025 = data.mean('time')\n",
    "temp_CM2_025 = temp_CM2_025.where(temp_CM2_025>10, np.nan) - 273.15"
   ]
  },
  {
   "cell_type": "code",
   "execution_count": 38,
   "id": "10ddee0b-94a9-486f-886b-fd117178ab8b",
   "metadata": {},
   "outputs": [
    {
     "name": "stdout",
     "output_type": "stream",
     "text": [
      "CPU times: user 39.3 s, sys: 6.24 s, total: 45.5 s\n",
      "Wall time: 49.8 s\n"
     ]
    }
   ],
   "source": [
    "%%time\n",
    "temp_CM2_025 = temp_CM2_025.load()"
   ]
  },
  {
   "cell_type": "code",
   "execution_count": 39,
   "id": "1c929a33-8115-46b6-8ba0-ae33240e0c36",
   "metadata": {},
   "outputs": [],
   "source": [
    "temp_CM2_025.to_netcdf(path_to_data_cz861 + 'temp_3d_CM2_025_400_499_mean_cz861_100.nc')"
   ]
  },
  {
   "cell_type": "code",
   "execution_count": 73,
   "id": "f0ea8685-bd68-461e-b038-b14beb0b844b",
   "metadata": {},
   "outputs": [],
   "source": [
    "# Load individually saved files and concatenate, save again\n",
    "d1 = xr.open_dataarray(path_to_data_cz861 + 'temp_3d_CM2_025_400_499_mean_cz861_10.nc')\n",
    "d2 = xr.open_dataarray(path_to_data_cz861 + 'temp_3d_CM2_025_400_499_mean_cz861_20.nc')\n",
    "d3 = xr.open_dataarray(path_to_data_cz861 + 'temp_3d_CM2_025_400_499_mean_cz861_30.nc')\n",
    "d4 = xr.open_dataarray(path_to_data_cz861 + 'temp_3d_CM2_025_400_499_mean_cz861_40.nc')\n",
    "d5 = xr.open_dataarray(path_to_data_cz861 + 'temp_3d_CM2_025_400_499_mean_cz861_50.nc')\n",
    "d6 = xr.open_dataarray(path_to_data_cz861 + 'temp_3d_CM2_025_400_499_mean_cz861_60.nc')\n",
    "d7 = xr.open_dataarray(path_to_data_cz861 + 'temp_3d_CM2_025_400_499_mean_cz861_70.nc')\n",
    "d8 = xr.open_dataarray(path_to_data_cz861 + 'temp_3d_CM2_025_400_499_mean_cz861_80.nc')\n",
    "d9 = xr.open_dataarray(path_to_data_cz861 + 'temp_3d_CM2_025_400_499_mean_cz861_90.nc')\n",
    "d10 = xr.open_dataarray(path_to_data_cz861 + 'temp_3d_CM2_025_400_499_mean_cz861_100.nc')\n"
   ]
  },
  {
   "cell_type": "code",
   "execution_count": 74,
   "id": "6f994f12-9bf5-4849-8a83-145bdcb472a8",
   "metadata": {},
   "outputs": [],
   "source": [
    "temp_CM2_025 = xr.concat([d1, d2, d3, d4, d5, d6, d7, d8, d9, d10], dim='time', coords='all')"
   ]
  },
  {
   "cell_type": "code",
   "execution_count": 75,
   "id": "47651bd4-1641-4065-bc53-28c533c37086",
   "metadata": {},
   "outputs": [],
   "source": [
    "temp_CM2_025 = temp_CM2_025.mean('time').load()"
   ]
  },
  {
   "cell_type": "code",
   "execution_count": 76,
   "id": "3c15b2c7-0b23-4a1e-bad2-59a0f2e09774",
   "metadata": {},
   "outputs": [],
   "source": [
    "temp_CM2_025.to_netcdf(path_to_data_cz861 + 'temp_3d_CM2_025_400_499_mean_cz861.nc')"
   ]
  },
  {
   "cell_type": "code",
   "execution_count": null,
   "id": "62643533-3160-46c2-8738-af30e3113bb2",
   "metadata": {},
   "outputs": [],
   "source": []
  },
  {
   "cell_type": "code",
   "execution_count": null,
   "id": "88fcc677-8471-45e2-ac8b-baadd4a8978a",
   "metadata": {},
   "outputs": [],
   "source": []
  },
  {
   "cell_type": "code",
   "execution_count": null,
   "id": "ffd96734-49ff-4a3e-a8f7-4a02c7864264",
   "metadata": {},
   "outputs": [],
   "source": [
    "# temp_CM2_025 = cc.querying.getvar(expt_CM2_025, 'temp', session_CM2, start_time=start_time, end_time=end_time, frequency='1 monthly')# - 273.15\n",
    "# temp_CM2_025 = temp_CM2_025.sel(time=slice(start_time,end_time))"
   ]
  },
  {
   "cell_type": "code",
   "execution_count": 38,
   "id": "358afdb4-b6e0-43cf-b3c1-044606555651",
   "metadata": {
    "tags": []
   },
   "outputs": [],
   "source": [
    "# temp_CM2_025.mean('time').to_netcdf(path_to_data + 'temp_3d_CM2_025_400_499_mean.nc')"
   ]
  },
  {
   "cell_type": "markdown",
   "id": "2d7c219d-5171-4064-aed0-8637730c9ab9",
   "metadata": {},
   "source": [
    "CM2-1"
   ]
  },
  {
   "cell_type": "code",
   "execution_count": null,
   "id": "20b0e579-7d17-46d7-b29c-b8384df0860f",
   "metadata": {},
   "outputs": [],
   "source": [
    "temp_CM2_1 = cc.querying.getvar(expt_CM2_1, 'temp', session_CM2, start_time=start_time, end_time=end_time, frequency='1 monthly') - 273.15\n",
    "temp_CM2_1 = temp_CM2_1.sel(time=slice(start_time,end_time))"
   ]
  },
  {
   "cell_type": "code",
   "execution_count": 25,
   "id": "88d51393-9e02-4daf-82d8-b861366bed41",
   "metadata": {
    "tags": []
   },
   "outputs": [],
   "source": [
    "temp_CM2_1.mean('time').to_netcdf(path_to_data + 'Comparison_ACCESS_CM2_1/temp_3d_CM2_1_400_499_mean.nc')"
   ]
  },
  {
   "cell_type": "markdown",
   "id": "0709eaea-afc0-49d7-9c65-316463f1c3c3",
   "metadata": {},
   "source": [
    "OM2-025"
   ]
  },
  {
   "cell_type": "code",
   "execution_count": null,
   "id": "db8d2a8f-a164-49e1-9c4c-ab32336dfc01",
   "metadata": {},
   "outputs": [],
   "source": [
    "temp_OM2_025 = cc.querying.getvar(expt_OM2_025, 'temp', session_OM2, start_time='2300-01-01', end_time='2399-12-31', frequency='1 monthly') - 273.15\n",
    "temp_OM2_025 = temp_OM2_025.sel(time=slice('2300-01-01','2399-12-31'))"
   ]
  },
  {
   "cell_type": "code",
   "execution_count": 98,
   "id": "69b77bb4-1f40-48e1-b814-dbc113e72d4f",
   "metadata": {
    "tags": []
   },
   "outputs": [],
   "source": [
    "temp_OM2_025.mean('time').to_netcdf(path_to_data + 'Comparison_ACCESS_OM2_025/temp_3d_OM2_025_2300_2399_mean.nc')"
   ]
  },
  {
   "cell_type": "markdown",
   "id": "04b3fbe1-449b-446b-bf91-70aefcf7c4ed",
   "metadata": {},
   "source": [
    "OM2-1"
   ]
  },
  {
   "cell_type": "code",
   "execution_count": 14,
   "id": "a143c3b8-d448-4f71-b1ce-3438ec3d1b91",
   "metadata": {},
   "outputs": [
    {
     "name": "stdout",
     "output_type": "stream",
     "text": [
      "CPU times: user 3.31 s, sys: 638 ms, total: 3.95 s\n",
      "Wall time: 10.2 s\n"
     ]
    }
   ],
   "source": [
    "%%time\n",
    "temp_OM2_1 = cc.querying.getvar(expt_OM2_1, 'temp', session_OM2, start_time='2420-01-01', end_time='2519-12-31', frequency='1 monthly') - 273.15\n",
    "temp_OM2_1 = temp_OM2_1.sel(time=slice('2420-01-01','2519-12-31'))"
   ]
  },
  {
   "cell_type": "code",
   "execution_count": 16,
   "id": "9c478515-13a4-4ad8-8bf7-1510c051865a",
   "metadata": {},
   "outputs": [
    {
     "name": "stdout",
     "output_type": "stream",
     "text": [
      "CPU times: user 29.9 s, sys: 2.49 s, total: 32.4 s\n",
      "Wall time: 39.4 s\n"
     ]
    }
   ],
   "source": [
    "%%time\n",
    "temp_OM2_1 = temp_OM2_1.mean('time').load()"
   ]
  },
  {
   "cell_type": "code",
   "execution_count": 17,
   "id": "37cfd46d-8b4f-432a-9789-d771b3f96c4d",
   "metadata": {},
   "outputs": [],
   "source": [
    "temp_OM2_1.to_netcdf(path_to_data + 'Comparison_ACCESS_OM2_1/temp_3d_OM2_1_2420_2519_mean.nc')"
   ]
  },
  {
   "cell_type": "markdown",
   "id": "21083fe8-b61b-4ea0-8fdb-7e459e884795",
   "metadata": {},
   "source": [
    "#### Salinity"
   ]
  },
  {
   "cell_type": "markdown",
   "id": "99d1320d-60bb-4ed2-bc82-cf8fc9a1278c",
   "metadata": {},
   "source": [
    "CM2-025"
   ]
  },
  {
   "cell_type": "code",
   "execution_count": 40,
   "id": "f4624d1c-512c-41cb-be74-65170747f095",
   "metadata": {},
   "outputs": [],
   "source": [
    "ds = cat.search(variable=\"salt\",frequency=\"1mon\").to_dask()"
   ]
  },
  {
   "cell_type": "code",
   "execution_count": 59,
   "id": "cf98aff1-9fda-4955-a7df-24cfc73998c4",
   "metadata": {},
   "outputs": [
    {
     "name": "stdout",
     "output_type": "stream",
     "text": [
      "CPU times: user 309 ms, sys: 43.2 ms, total: 352 ms\n",
      "Wall time: 377 ms\n"
     ]
    }
   ],
   "source": [
    "%%time\n",
    "data = ds.salt.sel(time=slice('0480-01-01','0499-12-31'))\n",
    "salt_CM2_025 = data.mean('time')\n",
    "salt_CM2_025 = salt_CM2_025.where(salt_CM2_025>0.1, np.nan)"
   ]
  },
  {
   "cell_type": "code",
   "execution_count": 60,
   "id": "69063d50-16c9-46fb-b483-78b29efc7155",
   "metadata": {},
   "outputs": [
    {
     "name": "stdout",
     "output_type": "stream",
     "text": [
      "CPU times: user 1min 14s, sys: 29.5 s, total: 1min 44s\n",
      "Wall time: 1min 55s\n"
     ]
    }
   ],
   "source": [
    "%%time\n",
    "salt_CM2_025 = salt_CM2_025.load()"
   ]
  },
  {
   "cell_type": "code",
   "execution_count": 61,
   "id": "a8ada4a5-f391-4c1f-9fe1-3433c11095b0",
   "metadata": {},
   "outputs": [],
   "source": [
    "salt_CM2_025.to_netcdf(path_to_data_cz861 + 'salt_3d_CM2_025_400_499_mean_cz861_100.nc')"
   ]
  },
  {
   "cell_type": "code",
   "execution_count": 63,
   "id": "6f7dfee8-9d45-483e-bb24-0299174240f5",
   "metadata": {},
   "outputs": [],
   "source": [
    "# Load individually saved files and concatenate, save again\n",
    "d1 = xr.open_dataarray(path_to_data_cz861 + 'salt_3d_CM2_025_400_499_mean_cz861_20.nc')\n",
    "d2 = xr.open_dataarray(path_to_data_cz861 + 'salt_3d_CM2_025_400_499_mean_cz861_40.nc')\n",
    "d3 = xr.open_dataarray(path_to_data_cz861 + 'salt_3d_CM2_025_400_499_mean_cz861_60.nc')\n",
    "d4 = xr.open_dataarray(path_to_data_cz861 + 'salt_3d_CM2_025_400_499_mean_cz861_80.nc')\n",
    "d5 = xr.open_dataarray(path_to_data_cz861 + 'salt_3d_CM2_025_400_499_mean_cz861_100.nc')\n"
   ]
  },
  {
   "cell_type": "code",
   "execution_count": 69,
   "id": "46df5c70-3fad-4eef-80f3-952ca2a3a47a",
   "metadata": {},
   "outputs": [],
   "source": [
    "salt_CM2_025 = xr.concat([d1, d2, d3, d4, d5], dim='time', coords='all')"
   ]
  },
  {
   "cell_type": "code",
   "execution_count": 70,
   "id": "3e03f803-96d5-4e5e-870d-03e34111601a",
   "metadata": {},
   "outputs": [],
   "source": [
    "salt_CM2_025 = salt_CM2_025.mean('time').load()"
   ]
  },
  {
   "cell_type": "code",
   "execution_count": 71,
   "id": "07e42ec5-9e2e-4fb5-a6c2-f796a6ee5281",
   "metadata": {},
   "outputs": [],
   "source": [
    "salt_CM2_025.to_netcdf(path_to_data_cz861 + 'salt_3d_CM2_025_400_499_mean_cz861.nc')"
   ]
  },
  {
   "cell_type": "code",
   "execution_count": null,
   "id": "b985f5d6-d407-4d10-b80b-51627e55e764",
   "metadata": {},
   "outputs": [],
   "source": [
    "# salt_CM2_025 = cc.querying.getvar(expt_CM2_025, 'salt', session_CM2, start_time=start_time, end_time=end_time, frequency='1 monthly')\n",
    "# salt_CM2_025 = salt_CM2_025.sel(time=slice(start_time,end_time))"
   ]
  },
  {
   "cell_type": "code",
   "execution_count": 40,
   "id": "3746a6f7-30d1-4f29-8802-bc52c00ca85d",
   "metadata": {
    "tags": []
   },
   "outputs": [],
   "source": [
    "# salt_CM2_025.mean('time').to_netcdf(path_to_data + 'salt_3d_CM2_025_400_499_mean.nc')"
   ]
  },
  {
   "cell_type": "markdown",
   "id": "961be15a-9c23-4b47-932e-a3cf5f7560c6",
   "metadata": {},
   "source": [
    "CM2-1"
   ]
  },
  {
   "cell_type": "code",
   "execution_count": null,
   "id": "bf4410f0-0ee4-4304-93f3-c5234e34e6ab",
   "metadata": {},
   "outputs": [],
   "source": [
    "salt_CM2_1 = cc.querying.getvar(expt_CM2_1, 'salt', session_CM2, start_time=start_time, end_time=end_time, frequency='1 monthly')\n",
    "salt_CM2_1 = salt_CM2_1.sel(time=slice(start_time,end_time))"
   ]
  },
  {
   "cell_type": "code",
   "execution_count": 42,
   "id": "f010c9e2-c7bb-4aaf-9d93-6c7ba21c90d9",
   "metadata": {
    "tags": []
   },
   "outputs": [],
   "source": [
    "salt_CM2_1.mean('time').to_netcdf(path_to_data + 'Comparison_ACCESS_CM2_1/salt_3d_CM2_1_400_499_mean.nc')"
   ]
  },
  {
   "cell_type": "markdown",
   "id": "5e3dbbe8-ee4f-475c-b74c-4b3856a4d709",
   "metadata": {},
   "source": [
    "OM2-025"
   ]
  },
  {
   "cell_type": "code",
   "execution_count": null,
   "id": "1fd9dd1b-600b-498d-aa93-507fe0566329",
   "metadata": {},
   "outputs": [],
   "source": [
    "salt_OM2_025 = cc.querying.getvar(expt_OM2_025, 'salt', session_OM2, start_time='2300-01-01', end_time='2399-12-31', frequency='1 monthly')\n",
    "salt_OM2_025 = salt_OM2_025.sel(time=slice('2300-01-01','2399-12-31'))"
   ]
  },
  {
   "cell_type": "code",
   "execution_count": 9,
   "id": "3b8fbe02-7c44-4c5d-a104-1bd0dd7a324c",
   "metadata": {
    "tags": []
   },
   "outputs": [],
   "source": [
    "salt_OM2_025.mean('time').to_netcdf(path_to_data + 'Comparison_ACCESS_OM2_025/salt_3d_OM2_025_2300_2399_mean.nc')"
   ]
  },
  {
   "cell_type": "markdown",
   "id": "1ddc47a9-45a3-4a88-9c9b-e75cc1c9bad3",
   "metadata": {},
   "source": [
    "OM2-1"
   ]
  },
  {
   "cell_type": "code",
   "execution_count": 18,
   "id": "2ee37e1a-b791-4ec7-9e09-a71a28fd4dc3",
   "metadata": {},
   "outputs": [
    {
     "name": "stdout",
     "output_type": "stream",
     "text": [
      "CPU times: user 2.2 s, sys: 417 ms, total: 2.62 s\n",
      "Wall time: 6.99 s\n"
     ]
    }
   ],
   "source": [
    "%%time\n",
    "salt_OM2_1 = cc.querying.getvar(expt_OM2_1, 'salt', session_OM2, start_time='2420-01-01', end_time='2519-12-31', frequency='1 monthly') \n",
    "salt_OM2_1 = salt_OM2_1.sel(time=slice('2420-01-01','2519-12-31'))"
   ]
  },
  {
   "cell_type": "code",
   "execution_count": 21,
   "id": "3e844748-ba2d-419f-bc8b-d1c6898d08b1",
   "metadata": {},
   "outputs": [
    {
     "name": "stdout",
     "output_type": "stream",
     "text": [
      "CPU times: user 27.5 s, sys: 2.32 s, total: 29.8 s\n",
      "Wall time: 36 s\n"
     ]
    }
   ],
   "source": [
    "%%time\n",
    "salt_OM2_1 = salt_OM2_1.mean('time').load()"
   ]
  },
  {
   "cell_type": "code",
   "execution_count": 22,
   "id": "bd96b96d-c2cb-4438-a569-f8e023cb13c9",
   "metadata": {},
   "outputs": [],
   "source": [
    "salt_OM2_1.to_netcdf(path_to_data + 'Comparison_ACCESS_OM2_1/salt_3d_OM2_1_2420_2519_mean.nc')"
   ]
  },
  {
   "cell_type": "code",
   "execution_count": null,
   "id": "ab3bd7c2-c93e-4722-b3b3-7b13aba13f49",
   "metadata": {},
   "outputs": [],
   "source": []
  }
 ],
 "metadata": {
  "kernelspec": {
   "display_name": "Python [conda env:analysis3-24.07] *",
   "language": "python",
   "name": "conda-env-analysis3-24.07-py"
  },
  "language_info": {
   "codemirror_mode": {
    "name": "ipython",
    "version": 3
   },
   "file_extension": ".py",
   "mimetype": "text/x-python",
   "name": "python",
   "nbconvert_exporter": "python",
   "pygments_lexer": "ipython3",
   "version": "3.10.16"
  }
 },
 "nbformat": 4,
 "nbformat_minor": 5
}
