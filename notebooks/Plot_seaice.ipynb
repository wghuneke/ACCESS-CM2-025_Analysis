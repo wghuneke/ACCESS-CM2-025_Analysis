{
 "cells": [
  {
   "cell_type": "markdown",
   "id": "4c02c09e-f586-4bc5-871a-d8a09638aa6a",
   "metadata": {},
   "source": [
    "# Plotting sea ice "
   ]
  },
  {
   "cell_type": "code",
   "execution_count": 1,
   "id": "94d1e3b8-5364-4279-9ac1-330dc9964810",
   "metadata": {},
   "outputs": [],
   "source": [
    "import cosima_cookbook as cc\n",
    "from dask.distributed import Client\n",
    "\n",
    "import xarray as xr\n",
    "import matplotlib.pyplot as plt\n",
    "import cmocean as cm\n",
    "import cartopy.crs as ccrs\n",
    "import matplotlib.path as mpath\n",
    "import numpy as np\n",
    "%matplotlib inline\n",
    "\n",
    "# To costumise subplots\n",
    "import matplotlib.gridspec as gridspec\n",
    "\n",
    "#import glob\n",
    "\n",
    "#import xesmf\n",
    "#import os\n",
    "#import pandas as pd\n",
    "#import calendar\n",
    "#from tqdm import tqdm_notebook\n",
    "from datetime import timedelta\n",
    "\n",
    "# Stop annoying warnings coming out of xarray.\n",
    "import warnings\n",
    "warnings.filterwarnings('ignore')"
   ]
  },
  {
   "cell_type": "code",
   "execution_count": 2,
   "id": "197a3998-438f-4318-a1a5-1ff4b581e69e",
   "metadata": {},
   "outputs": [
    {
     "data": {
      "text/html": [
       "<div>\n",
       "    <div style=\"width: 24px; height: 24px; background-color: #e1e1e1; border: 3px solid #9D9D9D; border-radius: 5px; position: absolute;\"> </div>\n",
       "    <div style=\"margin-left: 48px;\">\n",
       "        <h3 style=\"margin-bottom: 0px;\">Client</h3>\n",
       "        <p style=\"color: #9D9D9D; margin-bottom: 0px;\">Client-0598737f-bee2-11ed-b9ed-00000758fe80</p>\n",
       "        <table style=\"width: 100%; text-align: left;\">\n",
       "\n",
       "        <tr>\n",
       "        \n",
       "            <td style=\"text-align: left;\"><strong>Connection method:</strong> Cluster object</td>\n",
       "            <td style=\"text-align: left;\"><strong>Cluster type:</strong> distributed.LocalCluster</td>\n",
       "        \n",
       "        </tr>\n",
       "\n",
       "        \n",
       "            <tr>\n",
       "                <td style=\"text-align: left;\">\n",
       "                    <strong>Dashboard: </strong> <a href=\"/proxy/8787/status\" target=\"_blank\">/proxy/8787/status</a>\n",
       "                </td>\n",
       "                <td style=\"text-align: left;\"></td>\n",
       "            </tr>\n",
       "        \n",
       "\n",
       "        </table>\n",
       "\n",
       "        \n",
       "\n",
       "        \n",
       "            <details>\n",
       "            <summary style=\"margin-bottom: 20px;\"><h3 style=\"display: inline;\">Cluster Info</h3></summary>\n",
       "            <div class=\"jp-RenderedHTMLCommon jp-RenderedHTML jp-mod-trusted jp-OutputArea-output\">\n",
       "    <div style=\"width: 24px; height: 24px; background-color: #e1e1e1; border: 3px solid #9D9D9D; border-radius: 5px; position: absolute;\">\n",
       "    </div>\n",
       "    <div style=\"margin-left: 48px;\">\n",
       "        <h3 style=\"margin-bottom: 0px; margin-top: 0px;\">LocalCluster</h3>\n",
       "        <p style=\"color: #9D9D9D; margin-bottom: 0px;\">a9c3ef27</p>\n",
       "        <table style=\"width: 100%; text-align: left;\">\n",
       "            <tr>\n",
       "                <td style=\"text-align: left;\">\n",
       "                    <strong>Dashboard:</strong> <a href=\"/proxy/8787/status\" target=\"_blank\">/proxy/8787/status</a>\n",
       "                </td>\n",
       "                <td style=\"text-align: left;\">\n",
       "                    <strong>Workers:</strong> 7\n",
       "                </td>\n",
       "            </tr>\n",
       "            <tr>\n",
       "                <td style=\"text-align: left;\">\n",
       "                    <strong>Total threads:</strong> 28\n",
       "                </td>\n",
       "                <td style=\"text-align: left;\">\n",
       "                    <strong>Total memory:</strong> 125.20 GiB\n",
       "                </td>\n",
       "            </tr>\n",
       "            \n",
       "            <tr>\n",
       "    <td style=\"text-align: left;\"><strong>Status:</strong> running</td>\n",
       "    <td style=\"text-align: left;\"><strong>Using processes:</strong> True</td>\n",
       "</tr>\n",
       "\n",
       "            \n",
       "        </table>\n",
       "\n",
       "        <details>\n",
       "            <summary style=\"margin-bottom: 20px;\">\n",
       "                <h3 style=\"display: inline;\">Scheduler Info</h3>\n",
       "            </summary>\n",
       "\n",
       "            <div style=\"\">\n",
       "    <div>\n",
       "        <div style=\"width: 24px; height: 24px; background-color: #FFF7E5; border: 3px solid #FF6132; border-radius: 5px; position: absolute;\"> </div>\n",
       "        <div style=\"margin-left: 48px;\">\n",
       "            <h3 style=\"margin-bottom: 0px;\">Scheduler</h3>\n",
       "            <p style=\"color: #9D9D9D; margin-bottom: 0px;\">Scheduler-67951790-e8c7-4c69-b0f5-58e2f2abf3bb</p>\n",
       "            <table style=\"width: 100%; text-align: left;\">\n",
       "                <tr>\n",
       "                    <td style=\"text-align: left;\">\n",
       "                        <strong>Comm:</strong> tcp://127.0.0.1:40139\n",
       "                    </td>\n",
       "                    <td style=\"text-align: left;\">\n",
       "                        <strong>Workers:</strong> 7\n",
       "                    </td>\n",
       "                </tr>\n",
       "                <tr>\n",
       "                    <td style=\"text-align: left;\">\n",
       "                        <strong>Dashboard:</strong> <a href=\"/proxy/8787/status\" target=\"_blank\">/proxy/8787/status</a>\n",
       "                    </td>\n",
       "                    <td style=\"text-align: left;\">\n",
       "                        <strong>Total threads:</strong> 28\n",
       "                    </td>\n",
       "                </tr>\n",
       "                <tr>\n",
       "                    <td style=\"text-align: left;\">\n",
       "                        <strong>Started:</strong> Just now\n",
       "                    </td>\n",
       "                    <td style=\"text-align: left;\">\n",
       "                        <strong>Total memory:</strong> 125.20 GiB\n",
       "                    </td>\n",
       "                </tr>\n",
       "            </table>\n",
       "        </div>\n",
       "    </div>\n",
       "\n",
       "    <details style=\"margin-left: 48px;\">\n",
       "        <summary style=\"margin-bottom: 20px;\">\n",
       "            <h3 style=\"display: inline;\">Workers</h3>\n",
       "        </summary>\n",
       "\n",
       "        \n",
       "        <div style=\"margin-bottom: 20px;\">\n",
       "            <div style=\"width: 24px; height: 24px; background-color: #DBF5FF; border: 3px solid #4CC9FF; border-radius: 5px; position: absolute;\"> </div>\n",
       "            <div style=\"margin-left: 48px;\">\n",
       "            <details>\n",
       "                <summary>\n",
       "                    <h4 style=\"margin-bottom: 0px; display: inline;\">Worker: 0</h4>\n",
       "                </summary>\n",
       "                <table style=\"width: 100%; text-align: left;\">\n",
       "                    <tr>\n",
       "                        <td style=\"text-align: left;\">\n",
       "                            <strong>Comm: </strong> tcp://127.0.0.1:46205\n",
       "                        </td>\n",
       "                        <td style=\"text-align: left;\">\n",
       "                            <strong>Total threads: </strong> 4\n",
       "                        </td>\n",
       "                    </tr>\n",
       "                    <tr>\n",
       "                        <td style=\"text-align: left;\">\n",
       "                            <strong>Dashboard: </strong> <a href=\"/proxy/42563/status\" target=\"_blank\">/proxy/42563/status</a>\n",
       "                        </td>\n",
       "                        <td style=\"text-align: left;\">\n",
       "                            <strong>Memory: </strong> 17.89 GiB\n",
       "                        </td>\n",
       "                    </tr>\n",
       "                    <tr>\n",
       "                        <td style=\"text-align: left;\">\n",
       "                            <strong>Nanny: </strong> tcp://127.0.0.1:45115\n",
       "                        </td>\n",
       "                        <td style=\"text-align: left;\"></td>\n",
       "                    </tr>\n",
       "                    <tr>\n",
       "                        <td colspan=\"2\" style=\"text-align: left;\">\n",
       "                            <strong>Local directory: </strong> /jobfs/76083832.gadi-pbs/dask-worker-space/worker-dooblphi\n",
       "                        </td>\n",
       "                    </tr>\n",
       "\n",
       "                    \n",
       "\n",
       "                    \n",
       "\n",
       "                </table>\n",
       "            </details>\n",
       "            </div>\n",
       "        </div>\n",
       "        \n",
       "        <div style=\"margin-bottom: 20px;\">\n",
       "            <div style=\"width: 24px; height: 24px; background-color: #DBF5FF; border: 3px solid #4CC9FF; border-radius: 5px; position: absolute;\"> </div>\n",
       "            <div style=\"margin-left: 48px;\">\n",
       "            <details>\n",
       "                <summary>\n",
       "                    <h4 style=\"margin-bottom: 0px; display: inline;\">Worker: 1</h4>\n",
       "                </summary>\n",
       "                <table style=\"width: 100%; text-align: left;\">\n",
       "                    <tr>\n",
       "                        <td style=\"text-align: left;\">\n",
       "                            <strong>Comm: </strong> tcp://127.0.0.1:36069\n",
       "                        </td>\n",
       "                        <td style=\"text-align: left;\">\n",
       "                            <strong>Total threads: </strong> 4\n",
       "                        </td>\n",
       "                    </tr>\n",
       "                    <tr>\n",
       "                        <td style=\"text-align: left;\">\n",
       "                            <strong>Dashboard: </strong> <a href=\"/proxy/34419/status\" target=\"_blank\">/proxy/34419/status</a>\n",
       "                        </td>\n",
       "                        <td style=\"text-align: left;\">\n",
       "                            <strong>Memory: </strong> 17.89 GiB\n",
       "                        </td>\n",
       "                    </tr>\n",
       "                    <tr>\n",
       "                        <td style=\"text-align: left;\">\n",
       "                            <strong>Nanny: </strong> tcp://127.0.0.1:33053\n",
       "                        </td>\n",
       "                        <td style=\"text-align: left;\"></td>\n",
       "                    </tr>\n",
       "                    <tr>\n",
       "                        <td colspan=\"2\" style=\"text-align: left;\">\n",
       "                            <strong>Local directory: </strong> /jobfs/76083832.gadi-pbs/dask-worker-space/worker-yfd5tgvd\n",
       "                        </td>\n",
       "                    </tr>\n",
       "\n",
       "                    \n",
       "\n",
       "                    \n",
       "\n",
       "                </table>\n",
       "            </details>\n",
       "            </div>\n",
       "        </div>\n",
       "        \n",
       "        <div style=\"margin-bottom: 20px;\">\n",
       "            <div style=\"width: 24px; height: 24px; background-color: #DBF5FF; border: 3px solid #4CC9FF; border-radius: 5px; position: absolute;\"> </div>\n",
       "            <div style=\"margin-left: 48px;\">\n",
       "            <details>\n",
       "                <summary>\n",
       "                    <h4 style=\"margin-bottom: 0px; display: inline;\">Worker: 2</h4>\n",
       "                </summary>\n",
       "                <table style=\"width: 100%; text-align: left;\">\n",
       "                    <tr>\n",
       "                        <td style=\"text-align: left;\">\n",
       "                            <strong>Comm: </strong> tcp://127.0.0.1:39503\n",
       "                        </td>\n",
       "                        <td style=\"text-align: left;\">\n",
       "                            <strong>Total threads: </strong> 4\n",
       "                        </td>\n",
       "                    </tr>\n",
       "                    <tr>\n",
       "                        <td style=\"text-align: left;\">\n",
       "                            <strong>Dashboard: </strong> <a href=\"/proxy/38761/status\" target=\"_blank\">/proxy/38761/status</a>\n",
       "                        </td>\n",
       "                        <td style=\"text-align: left;\">\n",
       "                            <strong>Memory: </strong> 17.89 GiB\n",
       "                        </td>\n",
       "                    </tr>\n",
       "                    <tr>\n",
       "                        <td style=\"text-align: left;\">\n",
       "                            <strong>Nanny: </strong> tcp://127.0.0.1:40415\n",
       "                        </td>\n",
       "                        <td style=\"text-align: left;\"></td>\n",
       "                    </tr>\n",
       "                    <tr>\n",
       "                        <td colspan=\"2\" style=\"text-align: left;\">\n",
       "                            <strong>Local directory: </strong> /jobfs/76083832.gadi-pbs/dask-worker-space/worker-6xv4ywzn\n",
       "                        </td>\n",
       "                    </tr>\n",
       "\n",
       "                    \n",
       "\n",
       "                    \n",
       "\n",
       "                </table>\n",
       "            </details>\n",
       "            </div>\n",
       "        </div>\n",
       "        \n",
       "        <div style=\"margin-bottom: 20px;\">\n",
       "            <div style=\"width: 24px; height: 24px; background-color: #DBF5FF; border: 3px solid #4CC9FF; border-radius: 5px; position: absolute;\"> </div>\n",
       "            <div style=\"margin-left: 48px;\">\n",
       "            <details>\n",
       "                <summary>\n",
       "                    <h4 style=\"margin-bottom: 0px; display: inline;\">Worker: 3</h4>\n",
       "                </summary>\n",
       "                <table style=\"width: 100%; text-align: left;\">\n",
       "                    <tr>\n",
       "                        <td style=\"text-align: left;\">\n",
       "                            <strong>Comm: </strong> tcp://127.0.0.1:33745\n",
       "                        </td>\n",
       "                        <td style=\"text-align: left;\">\n",
       "                            <strong>Total threads: </strong> 4\n",
       "                        </td>\n",
       "                    </tr>\n",
       "                    <tr>\n",
       "                        <td style=\"text-align: left;\">\n",
       "                            <strong>Dashboard: </strong> <a href=\"/proxy/41531/status\" target=\"_blank\">/proxy/41531/status</a>\n",
       "                        </td>\n",
       "                        <td style=\"text-align: left;\">\n",
       "                            <strong>Memory: </strong> 17.89 GiB\n",
       "                        </td>\n",
       "                    </tr>\n",
       "                    <tr>\n",
       "                        <td style=\"text-align: left;\">\n",
       "                            <strong>Nanny: </strong> tcp://127.0.0.1:33551\n",
       "                        </td>\n",
       "                        <td style=\"text-align: left;\"></td>\n",
       "                    </tr>\n",
       "                    <tr>\n",
       "                        <td colspan=\"2\" style=\"text-align: left;\">\n",
       "                            <strong>Local directory: </strong> /jobfs/76083832.gadi-pbs/dask-worker-space/worker-0t314_xb\n",
       "                        </td>\n",
       "                    </tr>\n",
       "\n",
       "                    \n",
       "\n",
       "                    \n",
       "\n",
       "                </table>\n",
       "            </details>\n",
       "            </div>\n",
       "        </div>\n",
       "        \n",
       "        <div style=\"margin-bottom: 20px;\">\n",
       "            <div style=\"width: 24px; height: 24px; background-color: #DBF5FF; border: 3px solid #4CC9FF; border-radius: 5px; position: absolute;\"> </div>\n",
       "            <div style=\"margin-left: 48px;\">\n",
       "            <details>\n",
       "                <summary>\n",
       "                    <h4 style=\"margin-bottom: 0px; display: inline;\">Worker: 4</h4>\n",
       "                </summary>\n",
       "                <table style=\"width: 100%; text-align: left;\">\n",
       "                    <tr>\n",
       "                        <td style=\"text-align: left;\">\n",
       "                            <strong>Comm: </strong> tcp://127.0.0.1:32889\n",
       "                        </td>\n",
       "                        <td style=\"text-align: left;\">\n",
       "                            <strong>Total threads: </strong> 4\n",
       "                        </td>\n",
       "                    </tr>\n",
       "                    <tr>\n",
       "                        <td style=\"text-align: left;\">\n",
       "                            <strong>Dashboard: </strong> <a href=\"/proxy/36753/status\" target=\"_blank\">/proxy/36753/status</a>\n",
       "                        </td>\n",
       "                        <td style=\"text-align: left;\">\n",
       "                            <strong>Memory: </strong> 17.89 GiB\n",
       "                        </td>\n",
       "                    </tr>\n",
       "                    <tr>\n",
       "                        <td style=\"text-align: left;\">\n",
       "                            <strong>Nanny: </strong> tcp://127.0.0.1:43779\n",
       "                        </td>\n",
       "                        <td style=\"text-align: left;\"></td>\n",
       "                    </tr>\n",
       "                    <tr>\n",
       "                        <td colspan=\"2\" style=\"text-align: left;\">\n",
       "                            <strong>Local directory: </strong> /jobfs/76083832.gadi-pbs/dask-worker-space/worker-026ipxn5\n",
       "                        </td>\n",
       "                    </tr>\n",
       "\n",
       "                    \n",
       "\n",
       "                    \n",
       "\n",
       "                </table>\n",
       "            </details>\n",
       "            </div>\n",
       "        </div>\n",
       "        \n",
       "        <div style=\"margin-bottom: 20px;\">\n",
       "            <div style=\"width: 24px; height: 24px; background-color: #DBF5FF; border: 3px solid #4CC9FF; border-radius: 5px; position: absolute;\"> </div>\n",
       "            <div style=\"margin-left: 48px;\">\n",
       "            <details>\n",
       "                <summary>\n",
       "                    <h4 style=\"margin-bottom: 0px; display: inline;\">Worker: 5</h4>\n",
       "                </summary>\n",
       "                <table style=\"width: 100%; text-align: left;\">\n",
       "                    <tr>\n",
       "                        <td style=\"text-align: left;\">\n",
       "                            <strong>Comm: </strong> tcp://127.0.0.1:40379\n",
       "                        </td>\n",
       "                        <td style=\"text-align: left;\">\n",
       "                            <strong>Total threads: </strong> 4\n",
       "                        </td>\n",
       "                    </tr>\n",
       "                    <tr>\n",
       "                        <td style=\"text-align: left;\">\n",
       "                            <strong>Dashboard: </strong> <a href=\"/proxy/43881/status\" target=\"_blank\">/proxy/43881/status</a>\n",
       "                        </td>\n",
       "                        <td style=\"text-align: left;\">\n",
       "                            <strong>Memory: </strong> 17.89 GiB\n",
       "                        </td>\n",
       "                    </tr>\n",
       "                    <tr>\n",
       "                        <td style=\"text-align: left;\">\n",
       "                            <strong>Nanny: </strong> tcp://127.0.0.1:33629\n",
       "                        </td>\n",
       "                        <td style=\"text-align: left;\"></td>\n",
       "                    </tr>\n",
       "                    <tr>\n",
       "                        <td colspan=\"2\" style=\"text-align: left;\">\n",
       "                            <strong>Local directory: </strong> /jobfs/76083832.gadi-pbs/dask-worker-space/worker-59yo2j1g\n",
       "                        </td>\n",
       "                    </tr>\n",
       "\n",
       "                    \n",
       "\n",
       "                    \n",
       "\n",
       "                </table>\n",
       "            </details>\n",
       "            </div>\n",
       "        </div>\n",
       "        \n",
       "        <div style=\"margin-bottom: 20px;\">\n",
       "            <div style=\"width: 24px; height: 24px; background-color: #DBF5FF; border: 3px solid #4CC9FF; border-radius: 5px; position: absolute;\"> </div>\n",
       "            <div style=\"margin-left: 48px;\">\n",
       "            <details>\n",
       "                <summary>\n",
       "                    <h4 style=\"margin-bottom: 0px; display: inline;\">Worker: 6</h4>\n",
       "                </summary>\n",
       "                <table style=\"width: 100%; text-align: left;\">\n",
       "                    <tr>\n",
       "                        <td style=\"text-align: left;\">\n",
       "                            <strong>Comm: </strong> tcp://127.0.0.1:36151\n",
       "                        </td>\n",
       "                        <td style=\"text-align: left;\">\n",
       "                            <strong>Total threads: </strong> 4\n",
       "                        </td>\n",
       "                    </tr>\n",
       "                    <tr>\n",
       "                        <td style=\"text-align: left;\">\n",
       "                            <strong>Dashboard: </strong> <a href=\"/proxy/34887/status\" target=\"_blank\">/proxy/34887/status</a>\n",
       "                        </td>\n",
       "                        <td style=\"text-align: left;\">\n",
       "                            <strong>Memory: </strong> 17.89 GiB\n",
       "                        </td>\n",
       "                    </tr>\n",
       "                    <tr>\n",
       "                        <td style=\"text-align: left;\">\n",
       "                            <strong>Nanny: </strong> tcp://127.0.0.1:32991\n",
       "                        </td>\n",
       "                        <td style=\"text-align: left;\"></td>\n",
       "                    </tr>\n",
       "                    <tr>\n",
       "                        <td colspan=\"2\" style=\"text-align: left;\">\n",
       "                            <strong>Local directory: </strong> /jobfs/76083832.gadi-pbs/dask-worker-space/worker-o079cjh0\n",
       "                        </td>\n",
       "                    </tr>\n",
       "\n",
       "                    \n",
       "\n",
       "                    \n",
       "\n",
       "                </table>\n",
       "            </details>\n",
       "            </div>\n",
       "        </div>\n",
       "        \n",
       "\n",
       "    </details>\n",
       "</div>\n",
       "\n",
       "        </details>\n",
       "    </div>\n",
       "</div>\n",
       "            </details>\n",
       "        \n",
       "\n",
       "    </div>\n",
       "</div>"
      ],
      "text/plain": [
       "<Client: 'tcp://127.0.0.1:40139' processes=7 threads=28, memory=125.20 GiB>"
      ]
     },
     "execution_count": 2,
     "metadata": {},
     "output_type": "execute_result"
    }
   ],
   "source": [
    "client = Client()\n",
    "client"
   ]
  },
  {
   "cell_type": "code",
   "execution_count": 3,
   "id": "07a8d58a-1aa0-4c07-8a00-0804fd7acd7f",
   "metadata": {},
   "outputs": [],
   "source": [
    "session_CM2  = cc.database.create_session('/g/data/p73/archive/non-CMIP/ACCESS-CM2/CM2.db')\n",
    "expt_CM2_025 = 'cj877'\n",
    "expt_CM2_1   = 'bz687'"
   ]
  },
  {
   "cell_type": "code",
   "execution_count": 4,
   "id": "746a6f9d-9a98-44f8-afb4-bf6156f3d40a",
   "metadata": {},
   "outputs": [],
   "source": [
    "# OM2 database\n",
    "session_OM2  = cc.database.create_session('/g/data/ik11/databases/cosima_master.db')\n",
    "expt_OM2_025 = '025deg_jra55_ryf9091_gadi'\n",
    "expt_OM2_1   = '1deg_jra55_ryf9091_gadi'"
   ]
  },
  {
   "cell_type": "markdown",
   "id": "ea84784d-edd7-4ea1-b530-c34d549e323f",
   "metadata": {},
   "source": [
    "If you get a 'read-only database' warning, it is because the database has not finished building. "
   ]
  },
  {
   "cell_type": "code",
   "execution_count": 5,
   "id": "66c9333e-521a-4381-b600-0fa0a00ed1d1",
   "metadata": {},
   "outputs": [],
   "source": [
    "path_to_data = '/g/data/x77/wgh581/Post_Process/ACCESS_CM2_025/'\n",
    "fig_path     = '/g/data/x77/wgh581/Figures/Figures_ACCESS_CM2/'"
   ]
  },
  {
   "cell_type": "code",
   "execution_count": 6,
   "id": "ae033c05-bcbd-4894-8b0a-ceb20f757a77",
   "metadata": {},
   "outputs": [],
   "source": [
    "# Plotting info\n",
    "ft_size = 16\n",
    "plt.rcParams.update({'font.size': ft_size})\n",
    "month_label = ['J','F','M','A','M','J','J','A','S','O','N','D']"
   ]
  },
  {
   "cell_type": "markdown",
   "id": "d732e094-ad77-4cde-8eee-1c1c7c393826",
   "metadata": {},
   "source": [
    "### Grid information"
   ]
  },
  {
   "cell_type": "code",
   "execution_count": 7,
   "id": "19eac7fe-3565-41bd-b4e5-ba1a001bbf02",
   "metadata": {
    "tags": []
   },
   "outputs": [],
   "source": [
    "area_t025 = cc.querying.getvar(expt_OM2_025, 'area_t', session_OM2, n=1)\n",
    "area_t1   = cc.querying.getvar(expt_OM2_1, 'area_t', session_OM2, n=1)"
   ]
  },
  {
   "cell_type": "code",
   "execution_count": 8,
   "id": "31b2453d-0022-46bd-ad57-089601d3e41a",
   "metadata": {
    "tags": []
   },
   "outputs": [],
   "source": [
    "geolon_t025 = xr.open_dataset('/g/data/ik11/grids/ocean_grid_025.nc').geolon_t\n",
    "geolat_t025 = xr.open_dataset('/g/data/ik11/grids/ocean_grid_025.nc').geolat_t"
   ]
  },
  {
   "cell_type": "code",
   "execution_count": 44,
   "id": "d6c04ea2-8913-4b01-ad74-a541a4b065e5",
   "metadata": {
    "tags": []
   },
   "outputs": [],
   "source": [
    "geolon_t1 = xr.open_dataset('/g/data/ik11/grids/ocean_grid_10.nc').geolon_t\n",
    "geolat_t1 = xr.open_dataset('/g/data/ik11/grids/ocean_grid_10.nc').geolat_t"
   ]
  },
  {
   "cell_type": "markdown",
   "id": "920f9601-2311-4b4f-b972-43ad07578310",
   "metadata": {},
   "source": [
    "### Observations\n",
    "\n",
    "Sea ice concentration is previously interpolated onto OM2 grid in `Calc_NSIDC_sic_onto_OM2_grid.ipynb`."
   ]
  },
  {
   "cell_type": "code",
   "execution_count": 9,
   "id": "b912f62b-912c-4785-8f98-d9b2fe181852",
   "metadata": {},
   "outputs": [],
   "source": [
    "NH_sic_obs = xr.open_dataarray('/g/data/x77/wgh581/Post_Process/Observations/' + 'NSIDC_sic_1979_2019_monthly_NH_grid_OM2_025.nc')\n",
    "SH_sic_obs = xr.open_dataarray('/g/data/x77/wgh581/Post_Process/Observations/' + 'NSIDC_sic_1979_2019_monthly_SH_grid_OM2_025.nc')"
   ]
  },
  {
   "cell_type": "markdown",
   "id": "42d6889e-4155-4878-9d90-2efa8c6747c0",
   "metadata": {},
   "source": [
    "Sea ice concentration in peak season"
   ]
  },
  {
   "cell_type": "code",
   "execution_count": 11,
   "id": "d7bc5d8f-cc52-4be2-9d95-d184cadc9930",
   "metadata": {
    "tags": []
   },
   "outputs": [],
   "source": [
    "# # NH: March\n",
    "# NH_sic_obs_Mar = NH_sic_obs[({\"time\": NH_sic_obs.time.dt.month == 3})]\n",
    "# # SH: Sep\n",
    "# SH_sic_obs_Sep = SH_sic_obs[({\"time\": SH_sic_obs.time.dt.month == 9})]"
   ]
  },
  {
   "cell_type": "markdown",
   "id": "c37f8bc9-026f-4299-a694-3fe585422ba0",
   "metadata": {},
   "source": [
    "Monthly sic climatology all years"
   ]
  },
  {
   "cell_type": "code",
   "execution_count": 110,
   "id": "010aff2d-4ecc-4102-b084-d58a3feccf64",
   "metadata": {},
   "outputs": [],
   "source": [
    "NH_sic_obs_clim = NH_sic_obs.groupby('time.month').mean('time',skipna=True).sel(yt_ocean=slice(40, 90))\n",
    "SH_sic_obs_clim = SH_sic_obs.groupby('time.month').mean('time',skipna=True).sel(yt_ocean=slice(-90, -40)) "
   ]
  },
  {
   "cell_type": "markdown",
   "id": "0c920ef6-d0d4-4303-a81b-8fd4b5dc834d",
   "metadata": {},
   "source": [
    "Monthly sea ice area/extend climatology, in km2"
   ]
  },
  {
   "cell_type": "code",
   "execution_count": 111,
   "id": "a6c9f911-5620-4f5c-a212-e676481e84fa",
   "metadata": {
    "tags": []
   },
   "outputs": [],
   "source": [
    "NH_sia_obs_clim = (NH_sic_obs_clim * area_t025.sel(yt_ocean=slice(40, 90))).sum('xt_ocean').sum('yt_ocean') * 1e-6\n",
    "SH_sia_obs_clim = (SH_sic_obs_clim * area_t025.sel(yt_ocean=slice(-90, -40))).sum('xt_ocean').sum('yt_ocean') * 1e-6"
   ]
  },
  {
   "cell_type": "code",
   "execution_count": 112,
   "id": "c3ca8002-4a3f-4ab7-93e6-88022e7a8231",
   "metadata": {
    "tags": []
   },
   "outputs": [],
   "source": [
    "NH_sia_obs_clim = NH_sia_obs_clim.load()\n",
    "SH_sia_obs_clim = SH_sia_obs_clim.load()"
   ]
  },
  {
   "cell_type": "markdown",
   "id": "c18eda52-4d54-4a0b-bc52-3f455bae34ae",
   "metadata": {},
   "source": [
    "Mean, max, min sea ice extent"
   ]
  },
  {
   "cell_type": "code",
   "execution_count": 15,
   "id": "d13000bc-e6e9-4b4b-b0f3-7219e0480823",
   "metadata": {
    "tags": []
   },
   "outputs": [
    {
     "name": "stdout",
     "output_type": "stream",
     "text": [
      "Antarctic\n",
      "mean = 9.53 10^6 km^2\n",
      "max = 15.98 10^6 km^2\n",
      "min = 2.04 10^6 km^2\n",
      "\n",
      "Arctic\n",
      "mean = 9.41 10^6 km^2\n",
      "max = 12.73 10^6 km^2\n",
      "min = 5.15 10^6 km^2\n"
     ]
    }
   ],
   "source": [
    "print('Antarctic')\n",
    "print('mean =', np.round(SH_sia_obs_clim.mean().values*1e-6,2), '10^6 km^2')\n",
    "print('max =', np.round(SH_sia_obs_clim.max().values*1e-6,2), '10^6 km^2')\n",
    "print('min =', np.round(SH_sia_obs_clim.min().values*1e-6,2), '10^6 km^2')\n",
    "print('')\n",
    "print('Arctic')\n",
    "print('mean =', np.round(NH_sia_obs_clim.mean().values*1e-6,2), '10^6 km^2')\n",
    "print('max =', np.round(NH_sia_obs_clim.max().values*1e-6,2), '10^6 km^2')\n",
    "print('min =', np.round(NH_sia_obs_clim.min().values*1e-6,2), '10^6 km^2')"
   ]
  },
  {
   "cell_type": "markdown",
   "id": "32a88e6d-e4d0-4a65-8206-c419ec5237be",
   "metadata": {},
   "source": [
    "**I haven't detrended the sea ice observations**\n",
    "\n",
    "**No 0.15 sea ice coverage threshold**"
   ]
  },
  {
   "cell_type": "markdown",
   "id": "e1450854-2903-49e8-81c0-9c890182939f",
   "metadata": {},
   "source": [
    "For NH, change the lat, lon values (rotated pole)"
   ]
  },
  {
   "cell_type": "code",
   "execution_count": 113,
   "id": "645cfa4a-f5cb-4235-bef7-7b6849e29765",
   "metadata": {
    "tags": []
   },
   "outputs": [],
   "source": [
    "NH_sic_obs_clim = NH_sic_obs_clim.assign_coords({'geolon_t': geolon_t025, 'geolat_t': geolat_t025})"
   ]
  },
  {
   "cell_type": "markdown",
   "id": "7b50caa4-2f53-4079-98a3-d927e0f9ca1c",
   "metadata": {},
   "source": [
    "### Model sea ice"
   ]
  },
  {
   "cell_type": "markdown",
   "id": "f94cfa43-a13b-42b2-9eee-ca58ddb52bb3",
   "metadata": {},
   "source": [
    "Load sea ice concentration climatology (calculated further down in this script)."
   ]
  },
  {
   "cell_type": "code",
   "execution_count": 106,
   "id": "ff7721b4-8ce8-4b25-ad47-39076795c28b",
   "metadata": {},
   "outputs": [],
   "source": [
    "aice_CM2_025_NH_clim = xr.open_dataarray(path_to_data + 'aice_CM2_025_NH_clim_400_499.nc')\n",
    "aice_CM2_025_SH_clim = xr.open_dataarray(path_to_data + 'aice_CM2_025_SH_clim_400_499.nc')"
   ]
  },
  {
   "cell_type": "code",
   "execution_count": 107,
   "id": "402fae99-1c63-4573-8287-de821c10ec85",
   "metadata": {
    "tags": []
   },
   "outputs": [],
   "source": [
    "aice_OM2_025_NH_clim = xr.open_dataarray(path_to_data + 'Comparison_ACCESS_OM2_025/aice_OM2_025_NH_clim_2300_2399.nc')\n",
    "aice_OM2_025_SH_clim = xr.open_dataarray(path_to_data + 'Comparison_ACCESS_OM2_025/aice_OM2_025_SH_clim_2300_2399.nc')"
   ]
  },
  {
   "cell_type": "code",
   "execution_count": 108,
   "id": "0abd04a8-f330-4399-8364-a8ca5672644f",
   "metadata": {
    "tags": []
   },
   "outputs": [],
   "source": [
    "aice_OM2_1_NH_clim = xr.open_dataarray(path_to_data + 'Comparison_ACCESS_OM2_1/aice_OM2_1_NH_clim_2300_2399.nc')\n",
    "aice_OM2_1_SH_clim = xr.open_dataarray(path_to_data + 'Comparison_ACCESS_OM2_1/aice_OM2_1_SH_clim_2300_2399.nc')"
   ]
  },
  {
   "cell_type": "code",
   "execution_count": 105,
   "id": "6a454f01-5f20-4a95-9a89-27b6a4cdb545",
   "metadata": {
    "tags": []
   },
   "outputs": [],
   "source": [
    "aice_CM2_1_NH_clim = xr.open_dataarray(path_to_data + 'Comparison_ACCESS_CM2_1/aice_CM2_1_NH_clim_400_499.nc')\n",
    "aice_CM2_1_SH_clim = xr.open_dataarray(path_to_data + 'Comparison_ACCESS_CM2_1/aice_CM2_1_SH_clim_400_499.nc')"
   ]
  },
  {
   "cell_type": "code",
   "execution_count": 65,
   "id": "764e48bf-44e4-46b0-b52b-c32a24fee299",
   "metadata": {},
   "outputs": [],
   "source": [
    "# test.geolat_t.values = geolat_t1.sel(yt_ocean=slice(40,90))\n",
    "# test.geolon_t.values = geolon_t1.sel(yt_ocean=slice(40,90))"
   ]
  },
  {
   "cell_type": "markdown",
   "id": "16842716-2847-4597-9fd5-b082ab588000",
   "metadata": {},
   "source": [
    "For NH, change the lat, lon values (rotated pole)"
   ]
  },
  {
   "cell_type": "code",
   "execution_count": 114,
   "id": "de861aed-10c5-4d2b-b358-6b664c872a28",
   "metadata": {
    "tags": []
   },
   "outputs": [],
   "source": [
    "aice_CM2_025_NH_clim = aice_CM2_025_NH_clim.assign_coords({'geolon_t': geolon_t025, 'geolat_t': geolat_t025})\n",
    "aice_CM2_1_NH_clim   = aice_CM2_1_NH_clim.assign_coords({'geolon_t': geolon_t1, 'geolat_t': geolat_t1})\n",
    "aice_OM2_025_NH_clim = aice_OM2_025_NH_clim.assign_coords({'geolon_t': geolon_t025, 'geolat_t': geolat_t025})\n",
    "aice_OM2_1_NH_clim   = aice_OM2_1_NH_clim.assign_coords({'geolon_t': geolon_t1, 'geolat_t': geolat_t1})"
   ]
  },
  {
   "cell_type": "code",
   "execution_count": 145,
   "id": "01fe5555-b922-45f5-8366-c9fa43089eb0",
   "metadata": {
    "tags": []
   },
   "outputs": [],
   "source": [
    "# Above code doesn't properly work for CM2-1 abd OM2-1 (gives nans only), assign geolon_t, geolat_t values per hand\n",
    "aice_CM2_1_NH_clim.geolat_t.values = geolat_t1.sel(yt_ocean=slice(40,90))\n",
    "aice_CM2_1_NH_clim.geolon_t.values = geolon_t1.sel(yt_ocean=slice(40,90))\n",
    "\n",
    "aice_OM2_1_NH_clim.geolat_t.values = geolat_t1.sel(yt_ocean=slice(40,90))\n",
    "aice_OM2_1_NH_clim.geolon_t.values = geolon_t1.sel(yt_ocean=slice(40,90))"
   ]
  },
  {
   "cell_type": "markdown",
   "id": "7050730e-c758-48dc-b70b-0101d3bee49b",
   "metadata": {},
   "source": [
    "Get sea ice extent"
   ]
  },
  {
   "cell_type": "code",
   "execution_count": 116,
   "id": "01b312fe-7f2f-42fa-9455-4203e19b906e",
   "metadata": {
    "tags": []
   },
   "outputs": [],
   "source": [
    "sie_CM2_025_NH_clim = (aice_CM2_025_NH_clim * area_t025.sel(yt_ocean=slice(40, 90))).sum('xt_ocean').sum('yt_ocean') * 1e-6\n",
    "sie_CM2_025_SH_clim = (aice_CM2_025_SH_clim * area_t025.sel(yt_ocean=slice(-90, -40))).sum('xt_ocean').sum('yt_ocean') * 1e-6\n",
    "sie_CM2_025_NH_clim = sie_CM2_025_NH_clim.load()\n",
    "sie_CM2_025_SH_clim = sie_CM2_025_SH_clim.load()"
   ]
  },
  {
   "cell_type": "code",
   "execution_count": 146,
   "id": "0c730c83-d3a7-4fc6-8582-0e1c70a00abc",
   "metadata": {
    "tags": []
   },
   "outputs": [],
   "source": [
    "sie_CM2_1_NH_clim = (aice_CM2_1_NH_clim * area_t1.sel(yt_ocean=slice(40, 90))).sum('xt_ocean').sum('yt_ocean') * 1e-6\n",
    "sie_CM2_1_SH_clim = (aice_CM2_1_SH_clim * area_t1.sel(yt_ocean=slice(-90, -40))).sum('xt_ocean').sum('yt_ocean') * 1e-6\n",
    "sie_CM2_1_NH_clim = sie_CM2_1_NH_clim.load()\n",
    "sie_CM2_1_SH_clim = sie_CM2_1_SH_clim.load()"
   ]
  },
  {
   "cell_type": "code",
   "execution_count": 118,
   "id": "6f494c57-9cea-45e7-a850-71d7df2eed49",
   "metadata": {
    "tags": []
   },
   "outputs": [],
   "source": [
    "sie_OM2_025_NH_clim = (aice_OM2_025_NH_clim * area_t025.sel(yt_ocean=slice(40, 90))).sum('xt_ocean').sum('yt_ocean') * 1e-6\n",
    "sie_OM2_025_SH_clim = (aice_OM2_025_SH_clim * area_t025.sel(yt_ocean=slice(-90, -40))).sum('xt_ocean').sum('yt_ocean') * 1e-6\n",
    "sie_OM2_025_NH_clim = sie_OM2_025_NH_clim.load()\n",
    "sie_OM2_025_SH_clim = sie_OM2_025_SH_clim.load()"
   ]
  },
  {
   "cell_type": "code",
   "execution_count": 119,
   "id": "3e32d021-8973-4633-b254-d128a6c9db07",
   "metadata": {
    "tags": []
   },
   "outputs": [],
   "source": [
    "sie_OM2_1_NH_clim = (aice_OM2_1_NH_clim * area_t1.sel(yt_ocean=slice(40, 90))).sum('xt_ocean').sum('yt_ocean') * 1e-6\n",
    "sie_OM2_1_SH_clim = (aice_OM2_1_SH_clim * area_t1.sel(yt_ocean=slice(-90, -40))).sum('xt_ocean').sum('yt_ocean') * 1e-6\n",
    "sie_OM2_1_NH_clim = sie_OM2_1_NH_clim.load()\n",
    "sie_OM2_1_SH_clim = sie_OM2_1_SH_clim.load()"
   ]
  },
  {
   "cell_type": "code",
   "execution_count": 147,
   "id": "999310df-715e-4e0c-97e8-02ef81bae44a",
   "metadata": {
    "tags": []
   },
   "outputs": [
    {
     "name": "stdout",
     "output_type": "stream",
     "text": [
      "CM2-025\n",
      "Antarctic\n",
      "mean = 7.06 10^6 km^2\n",
      "max = 12.91 10^6 km^2\n",
      "min = 0.26 10^6 km^2\n",
      "Arctic\n",
      "mean = 10.74 10^6 km^2\n",
      "max = 15.69 10^6 km^2\n",
      "min = 4.59 10^6 km^2\n",
      "\n",
      "CM2-1\n",
      "Antarctic\n",
      "mean = 8.01 10^6 km^2\n",
      "max = 14.21 10^6 km^2\n",
      "min = 0.65 10^6 km^2\n",
      "Arctic\n",
      "mean = 10.99 10^6 km^2\n",
      "max = 15.72 10^6 km^2\n",
      "min = 5.09 10^6 km^2\n",
      "\n",
      "OM2-025\n",
      "Antarctic\n",
      "mean = 9.91 10^6 km^2\n",
      "max = 15.76 10^6 km^2\n",
      "min = 1.08 10^6 km^2\n",
      "Arctic\n",
      "mean = 10.45 10^6 km^2\n",
      "max = 14.34 10^6 km^2\n",
      "min = 5.02 10^6 km^2\n",
      "\n",
      "OM2-1\n",
      "Antarctic\n",
      "mean = 9.04 10^6 km^2\n",
      "max = 14.92 10^6 km^2\n",
      "min = 0.75 10^6 km^2\n",
      "Arctic\n",
      "mean = 10.53 10^6 km^2\n",
      "max = 14.6 10^6 km^2\n",
      "min = 4.81 10^6 km^2\n",
      "\n"
     ]
    }
   ],
   "source": [
    "print('CM2-025')\n",
    "print('Antarctic')\n",
    "print('mean =', np.round(sie_CM2_025_SH_clim.mean().values*1e-6,2), '10^6 km^2')\n",
    "print('max =', np.round(sie_CM2_025_SH_clim.max().values*1e-6,2), '10^6 km^2')\n",
    "print('min =', np.round(sie_CM2_025_SH_clim.min().values*1e-6,2), '10^6 km^2')\n",
    "print('Arctic')\n",
    "print('mean =', np.round(sie_CM2_025_NH_clim.mean().values*1e-6,2), '10^6 km^2')\n",
    "print('max =', np.round(sie_CM2_025_NH_clim.max().values*1e-6,2), '10^6 km^2')\n",
    "print('min =', np.round(sie_CM2_025_NH_clim.min().values*1e-6,2), '10^6 km^2')\n",
    "print('')\n",
    "print('CM2-1')\n",
    "print('Antarctic')\n",
    "print('mean =', np.round(sie_CM2_1_SH_clim.mean().values*1e-6,2), '10^6 km^2')\n",
    "print('max =', np.round(sie_CM2_1_SH_clim.max().values*1e-6,2), '10^6 km^2')\n",
    "print('min =', np.round(sie_CM2_1_SH_clim.min().values*1e-6,2), '10^6 km^2')\n",
    "print('Arctic')\n",
    "print('mean =', np.round(sie_CM2_1_NH_clim.mean().values*1e-6,2), '10^6 km^2')\n",
    "print('max =', np.round(sie_CM2_1_NH_clim.max().values*1e-6,2), '10^6 km^2')\n",
    "print('min =', np.round(sie_CM2_1_NH_clim.min().values*1e-6,2), '10^6 km^2')\n",
    "print('')\n",
    "print('OM2-025')\n",
    "print('Antarctic')\n",
    "print('mean =', np.round(sie_OM2_025_SH_clim.mean().values*1e-6,2), '10^6 km^2')\n",
    "print('max =', np.round(sie_OM2_025_SH_clim.max().values*1e-6,2), '10^6 km^2')\n",
    "print('min =', np.round(sie_OM2_025_SH_clim.min().values*1e-6,2), '10^6 km^2')\n",
    "print('Arctic')\n",
    "print('mean =', np.round(sie_OM2_025_NH_clim.mean().values*1e-6,2), '10^6 km^2')\n",
    "print('max =', np.round(sie_OM2_025_NH_clim.max().values*1e-6,2), '10^6 km^2')\n",
    "print('min =', np.round(sie_OM2_025_NH_clim.min().values*1e-6,2), '10^6 km^2')\n",
    "print('')\n",
    "print('OM2-1')\n",
    "print('Antarctic')\n",
    "print('mean =', np.round(sie_OM2_1_SH_clim.mean().values*1e-6,2), '10^6 km^2')\n",
    "print('max =', np.round(sie_OM2_1_SH_clim.max().values*1e-6,2), '10^6 km^2')\n",
    "print('min =', np.round(sie_OM2_1_SH_clim.min().values*1e-6,2), '10^6 km^2')\n",
    "print('Arctic')\n",
    "print('mean =', np.round(sie_OM2_1_NH_clim.mean().values*1e-6,2), '10^6 km^2')\n",
    "print('max =', np.round(sie_OM2_1_NH_clim.max().values*1e-6,2), '10^6 km^2')\n",
    "print('min =', np.round(sie_OM2_1_NH_clim.min().values*1e-6,2), '10^6 km^2')\n",
    "print('')"
   ]
  },
  {
   "cell_type": "markdown",
   "id": "3c16d98a-207b-443e-824e-07ffcd5c011f",
   "metadata": {},
   "source": [
    "### Plot monthly climatology"
   ]
  },
  {
   "cell_type": "code",
   "execution_count": 121,
   "id": "a17c4e42-b68c-4c75-9d8d-0a60f834ef52",
   "metadata": {
    "tags": []
   },
   "outputs": [],
   "source": [
    "CLEX_Red = '#DA1E48'\n",
    "CLEX_Pink = '#F48580'\n",
    "CLEX_SkyBlue = '#00BDF2'\n",
    "CLEX_MidBlue = '#008DD0'\n",
    "CLEX_CobaldBlue = '#0066B3'\n",
    "CLEX_MidnightBlue = '#113559'\n",
    "CLEX_Gray = '#4D4D47'"
   ]
  },
  {
   "cell_type": "code",
   "execution_count": 127,
   "id": "266bb973-71a7-4138-99e0-899dff92e367",
   "metadata": {
    "tags": []
   },
   "outputs": [
    {
     "data": {
      "image/png": "[encoded data removed]",
      "text/plain": [
       "<Figure size 720x360 with 2 Axes>"
      ]
     },
     "metadata": {
      "needs_background": "light"
     },
     "output_type": "display_data"
    }
   ],
   "source": [
    "fig = plt.figure(figsize=(10,5))\n",
    "\n",
    "plt.subplot(211)\n",
    "(SH_sia_obs_clim*1e-6).plot(label='NSDIC', color='k')\n",
    "(sie_CM2_025_SH_clim*1e-6).plot(label='CM2-025', color=CLEX_CobaldBlue)\n",
    "(sie_CM2_1_SH_clim*1e-6).plot(label='CM2-1', color=CLEX_SkyBlue)\n",
    "(sie_OM2_025_SH_clim*1e-6).plot(label='OM2-025', color=CLEX_Red)\n",
    "(sie_OM2_1_SH_clim*1e-6).plot(label='OM2-1', color=CLEX_Pink)\n",
    "plt.legend(ncol=1, fontsize=ft_size-4)\n",
    "plt.xlim(1,12)\n",
    "plt.ylim(0, 17)\n",
    "plt.title('a) Antarctic sea ice extent', loc='left')\n",
    "plt.xlabel('')\n",
    "plt.ylabel('10$^{6}$ km$^{2}$')\n",
    "#plt.xticks(ticks=np.arange(1,13,1), labels=month_label)\n",
    "plt.tick_params(labelbottom=False)\n",
    "\n",
    "plt.subplot(212)\n",
    "(NH_sia_obs_clim*1e-6).plot(label='NSDIC, NH', color='k')\n",
    "(sie_CM2_025_NH_clim*1e-6).plot(label='CM2-025, NH', color=CLEX_CobaldBlue)\n",
    "(sie_CM2_1_NH_clim*1e-6).plot(label='CM2-1, NH', color=CLEX_SkyBlue)\n",
    "(sie_OM2_025_NH_clim*1e-6).plot(label='OM2-025, NH', color=CLEX_Red)\n",
    "(sie_OM2_1_NH_clim*1e-6).plot(label='OM2-1, NH', color=CLEX_Pink)\n",
    "plt.xlim(1,12)\n",
    "plt.ylim(0, 17)\n",
    "plt.title('b) Arctic sea ice extent', loc='left')\n",
    "plt.xlabel('Month')\n",
    "plt.ylabel('10$^{6}$ km$^{2}$')\n",
    "plt.xticks(ticks=np.arange(1,13,1), labels=month_label)\n",
    "\n",
    "# Finished\n",
    "save_flag = 1\n",
    "if save_flag == 1:\n",
    "    fig_name = 'Fig_sie_climatology_maps.png'\n",
    "    plt.savefig(fig_path + fig_name, dpi=300, bbox_inches='tight', facecolor='white');"
   ]
  },
  {
   "cell_type": "markdown",
   "id": "0233c35b-877b-43de-94d4-57384edf1f69",
   "metadata": {},
   "source": [
    "Antarctic:\n",
    "- min in Feb for all models\n",
    "- max in Sep for coupled model\n",
    "- max in Aug for ocean-only model\n",
    "\n",
    "Arctic:\n",
    "- max in Mar for all models (Feb very similar)\n",
    "- min in Sep for all models (close to Aug)"
   ]
  },
  {
   "cell_type": "markdown",
   "id": "2aea82cf-efc6-4df3-adf7-0c47bf59f9a8",
   "metadata": {},
   "source": [
    "### Circumpolar plot of sea ice concentration"
   ]
  },
  {
   "cell_type": "code",
   "execution_count": 128,
   "id": "1430f6bb-dcab-40da-9136-5671cb0eb21f",
   "metadata": {},
   "outputs": [],
   "source": [
    "theta  = np.linspace(0, 2*np.pi, 100)\n",
    "center, radius = [0.5, 0.5], 0.5#0.455\n",
    "verts  = np.vstack([np.sin(theta), np.cos(theta)]).T\n",
    "circle = mpath.Path(verts * radius + center)"
   ]
  },
  {
   "cell_type": "code",
   "execution_count": 129,
   "id": "842ce87b-2c41-4791-b0df-2a815428302b",
   "metadata": {
    "tags": []
   },
   "outputs": [],
   "source": [
    "# Use cartopy land for now (option to update to model land but will change with resolution)\n",
    "import cartopy.feature as cft\n",
    "land_50m = cft.NaturalEarthFeature('physical', 'land', '50m', edgecolor='black', facecolor='darkgrey', linewidth=0.5)"
   ]
  },
  {
   "cell_type": "code",
   "execution_count": 150,
   "id": "aeb5434e-7f4e-4a79-b825-668f10d3a96a",
   "metadata": {
    "tags": []
   },
   "outputs": [
    {
     "data": {
      "image/png": "[encoded data removed]",
      "text/plain": [
       "<Figure size 720x720 with 5 Axes>"
      ]
     },
     "metadata": {
      "needs_background": "light"
     },
     "output_type": "display_data"
    }
   ],
   "source": [
    "fig = plt.figure(figsize=(10,10))\n",
    "\n",
    "#gs  = gridspec.GridSpec(6, 43, width_ratios=[1, 1, 0.05])#, hspace=0.2, wspace=0.15)\n",
    "\n",
    "# a) Antarctic, max\n",
    "ax = plt.subplot(2,2,1, projection=ccrs.SouthPolarStereo())\n",
    "ax.set_boundary(circle, transform=ax.transAxes)\n",
    "sc = SH_sic_obs_clim[8,...].plot.pcolormesh(transform=ccrs.PlateCarree(), cmap=cm.cm.ice, vmin=0, vmax=1, add_colorbar=False)\n",
    "SH_sic_obs_clim[8,...].plot.contour(transform=ccrs.PlateCarree(), levels=[0.15], colors='w')\n",
    "aice_CM2_025_SH_clim[8,...].plot.contour(transform=ccrs.PlateCarree(), levels=[0.15], colors=CLEX_CobaldBlue)\n",
    "aice_CM2_1_SH_clim[8,...].plot.contour(transform=ccrs.PlateCarree(), levels=[0.15], colors=CLEX_SkyBlue)\n",
    "aice_OM2_025_SH_clim[7,...].plot.contour(transform=ccrs.PlateCarree(), levels=[0.15], colors=CLEX_Red)\n",
    "aice_OM2_1_SH_clim[7,...].plot.contour(transform=ccrs.PlateCarree(), levels=[0.15], colors=CLEX_Pink)\n",
    "ax.coastlines(resolution='50m')\n",
    "ax.add_feature(land_50m)\n",
    "plt.title('a) Antarctic (max)')\n",
    "\n",
    "# b) Arctic, max\n",
    "ax = plt.subplot(2,2,2, projection=ccrs.NorthPolarStereo())\n",
    "ax.set_boundary(circle, transform=ax.transAxes)\n",
    "NH_sic_obs_clim[2,...].plot.pcolormesh(x='geolon_t', y='geolat_t', transform=ccrs.PlateCarree(), cmap=cm.cm.ice, vmin=0, vmax=1, add_colorbar=False)\n",
    "NH_sic_obs_clim[2,...].plot.contour(x='geolon_t', y='geolat_t', transform=ccrs.PlateCarree(), levels=[0.15], colors='w')\n",
    "aice_CM2_025_NH_clim[2,...].plot.contour(x='geolon_t', y='geolat_t', transform=ccrs.PlateCarree(), levels=[0.15], colors=CLEX_CobaldBlue)\n",
    "aice_CM2_1_NH_clim[2,...].plot.contour(x='geolon_t', y='geolat_t', transform=ccrs.PlateCarree(), levels=[0.15], colors=CLEX_SkyBlue)\n",
    "aice_OM2_025_NH_clim[2,...].plot.contour(x='geolon_t', y='geolat_t', transform=ccrs.PlateCarree(), levels=[0.15], colors=CLEX_Red)\n",
    "aice_OM2_1_NH_clim[2,...].plot.contour(x='geolon_t', y='geolat_t', transform=ccrs.PlateCarree(), levels=[0.15], colors=CLEX_Pink)\n",
    "ax.coastlines(resolution='50m')\n",
    "ax.add_feature(land_50m)\n",
    "plt.title('b) Arctic (max)')\n",
    "\n",
    "# c) Antarctic, min\n",
    "ax = plt.subplot(2,2,3, projection=ccrs.SouthPolarStereo())\n",
    "ax.set_boundary(circle, transform=ax.transAxes)\n",
    "SH_sic_obs_clim[1,...].plot.pcolormesh(transform=ccrs.PlateCarree(), cmap=cm.cm.ice, vmin=0, vmax=1, add_colorbar=False)\n",
    "SH_sic_obs_clim[1,...].plot.contour(transform=ccrs.PlateCarree(), levels=[0.15], colors='w')\n",
    "aice_CM2_025_SH_clim[1,...].plot.contour(transform=ccrs.PlateCarree(), levels=[0.15], colors=CLEX_CobaldBlue)\n",
    "aice_CM2_1_SH_clim[1,...].plot.contour(transform=ccrs.PlateCarree(), levels=[0.15], colors=CLEX_SkyBlue)\n",
    "aice_OM2_025_SH_clim[1,...].plot.contour(transform=ccrs.PlateCarree(), levels=[0.15], colors=CLEX_Red)\n",
    "aice_OM2_1_SH_clim[1,...].plot.contour(transform=ccrs.PlateCarree(), levels=[0.15], colors=CLEX_Pink)\n",
    "ax.coastlines(resolution='50m')\n",
    "ax.add_feature(land_50m)\n",
    "plt.title('c) Antarctic (min)')\n",
    "\n",
    "# d) Arctic, min\n",
    "ax = plt.subplot(2,2,4, projection=ccrs.NorthPolarStereo())\n",
    "ax.set_boundary(circle, transform=ax.transAxes)\n",
    "NH_sic_obs_clim[8,...].plot.pcolormesh(x='geolon_t', y='geolat_t', transform=ccrs.PlateCarree(), cmap=cm.cm.ice, vmin=0, vmax=1, add_colorbar=False)\n",
    "NH_sic_obs_clim[8,...].plot.contour(x='geolon_t', y='geolat_t', transform=ccrs.PlateCarree(), levels=[0.15], colors='w')\n",
    "aice_CM2_025_NH_clim[8,...].plot.contour(x='geolon_t', y='geolat_t', transform=ccrs.PlateCarree(), levels=[0.15], colors=CLEX_CobaldBlue)\n",
    "aice_CM2_1_NH_clim[8,...].plot.contour(x='geolon_t', y='geolat_t', transform=ccrs.PlateCarree(), levels=[0.15], colors=CLEX_SkyBlue)\n",
    "aice_OM2_025_NH_clim[8,...].plot.contour(x='geolon_t', y='geolat_t', transform=ccrs.PlateCarree(), levels=[0.15], colors=CLEX_Red)\n",
    "aice_OM2_1_NH_clim[8,...].plot.contour(x='geolon_t', y='geolat_t', transform=ccrs.PlateCarree(), levels=[0.15], colors=CLEX_Pink)\n",
    "ax.coastlines(resolution='50m')\n",
    "ax.add_feature(land_50m)\n",
    "plt.title('d) Arctic (min)')\n",
    "\n",
    "# Colorbar\n",
    "cbar_ax = fig.add_axes([0.9, 0.4, 0.015, 0.2])\n",
    "cbar = plt.colorbar(sc, cax=cbar_ax, ticks=np.arange(0,1.1,0.5))\n",
    "cbar.set_label('Sea ice concentration')\n",
    "\n",
    "# Finished\n",
    "save_flag = 1\n",
    "if save_flag == 1:\n",
    "    fig_name = 'Fig_sie_maps.png'\n",
    "    plt.savefig(fig_path + fig_name, dpi=300, bbox_inches='tight', facecolor='white');"
   ]
  },
  {
   "cell_type": "code",
   "execution_count": null,
   "id": "ccf34777-020b-4f96-a0ee-bc7f1d2e7e44",
   "metadata": {},
   "outputs": [],
   "source": []
  },
  {
   "cell_type": "code",
   "execution_count": null,
   "id": "8eeefd3d-debc-436c-a305-aeb684cab67e",
   "metadata": {},
   "outputs": [],
   "source": []
  },
  {
   "cell_type": "markdown",
   "id": "87cc0eb1-71d2-4ece-8fb1-89f5da19f5e6",
   "metadata": {},
   "source": [
    "---"
   ]
  },
  {
   "cell_type": "markdown",
   "id": "757e3813-b0f5-4872-b8d1-943f6d5f96c3",
   "metadata": {},
   "source": [
    "### Calculate and save sea ice climatology"
   ]
  },
  {
   "cell_type": "markdown",
   "id": "7ddeb10d-2e6f-4526-a91f-b8f0bbb1e1e8",
   "metadata": {},
   "source": [
    "**CM2-025**"
   ]
  },
  {
   "cell_type": "code",
   "execution_count": null,
   "id": "681fdf95-d1a4-49a3-8626-c264dcfb09e8",
   "metadata": {},
   "outputs": [],
   "source": [
    "%%time\n",
    "aice_CM2_025 = cc.querying.getvar(expt_CM2_025, 'aice', session_CM2, frequency='1 monthly', start_time='0400-01-01', end_time='0500-01-31')\n",
    "aice_CM2_025 = aice_CM2_025.sel(time=slice('0400-01-01', '0500-01-31'))\n",
    "# shift time to make sure it is in the correct month\n",
    "aice_CM2_025['time'] = aice_CM2_025.time.to_pandas() - timedelta(hours = 12) \n",
    "aice_CM2_025 = aice_CM2_025.sel(time=slice('0400-01-01', '0499-12-31'))"
   ]
  },
  {
   "cell_type": "code",
   "execution_count": 13,
   "id": "7bae22eb-e800-49ad-aff5-48b0c7327a93",
   "metadata": {
    "tags": []
   },
   "outputs": [],
   "source": [
    "# change lat, lon names to match ocean model convention\n",
    "aice_CM2_025.coords['ni'] = area_t025['xt_ocean'].values\n",
    "aice_CM2_025.coords['nj'] = area_t025['yt_ocean'].values\n",
    "aice_CM2_025 = aice_CM2_025.rename(({'ni':'xt_ocean', 'nj':'yt_ocean'}))"
   ]
  },
  {
   "cell_type": "code",
   "execution_count": 14,
   "id": "7bf020c1-31e0-4e9c-9862-569ee1fb6942",
   "metadata": {},
   "outputs": [],
   "source": [
    "aice_CM2_025_NH = aice_CM2_025.sel(yt_ocean=slice(40, 90))\n",
    "aice_CM2_025_SH = aice_CM2_025.sel(yt_ocean=slice(-90, -40))  "
   ]
  },
  {
   "cell_type": "code",
   "execution_count": 15,
   "id": "12628396-b75d-4622-bd56-fd5d947dda6c",
   "metadata": {},
   "outputs": [],
   "source": [
    "aice_CM2_025_SH_clim = aice_CM2_025_SH.groupby('time.month').mean('time', skipna=True)\n",
    "aice_CM2_025_NH_clim = aice_CM2_025_NH.groupby('time.month').mean('time', skipna=True)"
   ]
  },
  {
   "cell_type": "code",
   "execution_count": 16,
   "id": "8f87272f-1386-4ae0-92ee-7dd79bb6be28",
   "metadata": {},
   "outputs": [],
   "source": [
    "aice_CM2_025_SH_clim = aice_CM2_025_SH_clim.load()\n",
    "aice_CM2_025_NH_clim = aice_CM2_025_NH_clim.load()"
   ]
  },
  {
   "cell_type": "code",
   "execution_count": 22,
   "id": "4a2ecbea-f7f2-439f-ac45-268a58ab1fd9",
   "metadata": {},
   "outputs": [],
   "source": [
    "aice_CM2_025_NH_clim.to_netcdf(path_to_data + 'aice_CM2_025_NH_clim_400_499.nc')\n",
    "aice_CM2_025_SH_clim.to_netcdf(path_to_data + 'aice_CM2_025_SH_clim_400_499.nc')"
   ]
  },
  {
   "cell_type": "markdown",
   "id": "de2996a9-bb58-4f38-ac51-280629ab08e4",
   "metadata": {},
   "source": [
    "**OM2-025**"
   ]
  },
  {
   "cell_type": "code",
   "execution_count": 23,
   "id": "7526d07e-9fc3-46cf-88da-7ea8d865ae19",
   "metadata": {},
   "outputs": [
    {
     "name": "stdout",
     "output_type": "stream",
     "text": [
      "CPU times: user 4min 56s, sys: 30.9 s, total: 5min 27s\n",
      "Wall time: 15min 13s\n"
     ]
    }
   ],
   "source": [
    "%%time\n",
    "aice_OM2_025 = cc.querying.getvar(expt_OM2_025, 'aice_m', session_OM2, frequency='1 monthly', start_time='2300-01-01', end_time='2400-01-31')"
   ]
  },
  {
   "cell_type": "code",
   "execution_count": 24,
   "id": "28dbba97-834e-4119-be89-bb5bb3a7cd0a",
   "metadata": {},
   "outputs": [],
   "source": [
    "aice_OM2_025 = aice_OM2_025.sel(time=slice('2300-01-01', '2400-01-31'))\n",
    "aice_OM2_025['time'] = aice_OM2_025.time.to_pandas() - timedelta(hours = 12) # shift time to make sure it is in the correct month\n",
    "aice_OM2_025 = aice_OM2_025.sel(time=slice('2300-01-01', '2399-12-31'))"
   ]
  },
  {
   "cell_type": "code",
   "execution_count": 26,
   "id": "2088aec0-4a8f-4f85-948b-45c5f6444316",
   "metadata": {},
   "outputs": [],
   "source": [
    "aice_OM2_025.coords['ni'] = area_t025['xt_ocean'].values\n",
    "aice_OM2_025.coords['nj'] = area_t025['yt_ocean'].values\n",
    "aice_OM2_025 = aice_OM2_025.rename(({'ni':'xt_ocean', 'nj':'yt_ocean'}))"
   ]
  },
  {
   "cell_type": "markdown",
   "id": "759ce947-5a2a-433d-ad53-b8320a686560",
   "metadata": {},
   "source": [
    "Extract SH and NH"
   ]
  },
  {
   "cell_type": "code",
   "execution_count": 28,
   "id": "f54fd96b-e611-4370-b0ab-084056d26767",
   "metadata": {},
   "outputs": [],
   "source": [
    "aice_OM2_025_NH = aice_OM2_025.sel(yt_ocean=slice(40, 90))\n",
    "aice_OM2_025_SH = aice_OM2_025.sel(yt_ocean=slice(-90, -40))  "
   ]
  },
  {
   "cell_type": "markdown",
   "id": "dd9874cc-7b29-475d-92b1-d19081110fd6",
   "metadata": {},
   "source": [
    "Climatology"
   ]
  },
  {
   "cell_type": "code",
   "execution_count": 29,
   "id": "d94ea153-8751-49dc-b9fd-869e7c775ce6",
   "metadata": {},
   "outputs": [],
   "source": [
    "aice_OM2_025_SH_clim = aice_OM2_025_SH.groupby('time.month').mean('time', skipna=True)\n",
    "aice_OM2_025_NH_clim = aice_OM2_025_NH.groupby('time.month').mean('time', skipna=True)"
   ]
  },
  {
   "cell_type": "markdown",
   "id": "11f4465a-65eb-4e1f-b2a5-c67e741192e6",
   "metadata": {},
   "source": [
    "Load data"
   ]
  },
  {
   "cell_type": "code",
   "execution_count": 30,
   "id": "63718f21-8188-446a-a654-a132fc3489e8",
   "metadata": {},
   "outputs": [],
   "source": [
    "aice_OM2_025_SH_clim = aice_OM2_025_SH_clim.load()\n",
    "aice_OM2_025_NH_clim = aice_OM2_025_NH_clim.load()"
   ]
  },
  {
   "cell_type": "markdown",
   "id": "bce7ad03-785d-4714-aa47-0a7c5abaede6",
   "metadata": {},
   "source": [
    "Save data"
   ]
  },
  {
   "cell_type": "code",
   "execution_count": 31,
   "id": "826b5694-6646-4cdb-a39d-41cd98976685",
   "metadata": {},
   "outputs": [],
   "source": [
    "aice_OM2_025_NH_clim.to_netcdf(path_to_data + 'Comparison_ACCESS_OM2_025/aice_OM2_025_NH_clim_2300_2399.nc')\n",
    "aice_OM2_025_SH_clim.to_netcdf(path_to_data + 'Comparison_ACCESS_OM2_025/aice_OM2_025_SH_clim_2300_2399.nc')"
   ]
  },
  {
   "cell_type": "markdown",
   "id": "85365c35-f358-4eab-8d30-5aced9c54b7c",
   "metadata": {},
   "source": [
    "**OM2-1**"
   ]
  },
  {
   "cell_type": "code",
   "execution_count": 32,
   "id": "f77ab6d7-9816-49b6-9536-269d1723c739",
   "metadata": {
    "tags": []
   },
   "outputs": [
    {
     "name": "stdout",
     "output_type": "stream",
     "text": [
      "CPU times: user 2min 47s, sys: 15.3 s, total: 3min 2s\n",
      "Wall time: 7min 36s\n"
     ]
    }
   ],
   "source": [
    "%%time\n",
    "aice_OM2_1 = cc.querying.getvar(expt_OM2_1, 'aice_m', session_OM2, frequency='1 monthly', start_time='2300-01-01', end_time='2400-01-31')"
   ]
  },
  {
   "cell_type": "code",
   "execution_count": 33,
   "id": "fe8e6393-f5c7-4d57-83da-768d77e82ad3",
   "metadata": {},
   "outputs": [],
   "source": [
    "aice_OM2_1 = aice_OM2_1.sel(time=slice('2300-01-01', '2400-01-31'))\n",
    "aice_OM2_1['time'] = aice_OM2_1.time.to_pandas() - timedelta(hours = 12) # shift time to make sure it is in the correct month\n",
    "aice_OM2_1 = aice_OM2_1.sel(time=slice('2300-01-01', '2399-12-31'))"
   ]
  },
  {
   "cell_type": "code",
   "execution_count": 34,
   "id": "106db18c-cc82-4ad2-b7d7-51dce6a349b3",
   "metadata": {},
   "outputs": [],
   "source": [
    "aice_OM2_1.coords['ni'] = area_t1['xt_ocean'].values\n",
    "aice_OM2_1.coords['nj'] = area_t1['yt_ocean'].values\n",
    "aice_OM2_1 = aice_OM2_1.rename(({'ni':'xt_ocean', 'nj':'yt_ocean'}))"
   ]
  },
  {
   "cell_type": "markdown",
   "id": "da357f71-fdeb-46f2-b6ef-440437ebaa04",
   "metadata": {},
   "source": [
    "Extract SH and NH"
   ]
  },
  {
   "cell_type": "code",
   "execution_count": 35,
   "id": "f33e5d4c-8dd2-4c8d-86f7-e88c505f1067",
   "metadata": {},
   "outputs": [],
   "source": [
    "aice_OM2_1_NH = aice_OM2_1.sel(yt_ocean=slice(40, 90))\n",
    "aice_OM2_1_SH = aice_OM2_1.sel(yt_ocean=slice(-90, -40))  "
   ]
  },
  {
   "cell_type": "markdown",
   "id": "c8b7bb14-6d79-4d72-a721-3d5e724477da",
   "metadata": {},
   "source": [
    "Climatology"
   ]
  },
  {
   "cell_type": "code",
   "execution_count": 36,
   "id": "7cef73cc-507c-440e-8449-c7563491418a",
   "metadata": {},
   "outputs": [],
   "source": [
    "aice_OM2_1_SH_clim = aice_OM2_1_SH.groupby('time.month').mean('time', skipna=True)\n",
    "aice_OM2_1_NH_clim = aice_OM2_1_NH.groupby('time.month').mean('time', skipna=True)"
   ]
  },
  {
   "cell_type": "markdown",
   "id": "f1378bd9-b7f8-4209-a37d-4cee7f19e35f",
   "metadata": {},
   "source": [
    "Load data"
   ]
  },
  {
   "cell_type": "code",
   "execution_count": 37,
   "id": "3c0ad635-4082-46cf-9e5b-970ac4797207",
   "metadata": {},
   "outputs": [],
   "source": [
    "aice_OM2_1_SH_clim = aice_OM2_1_SH_clim.load()\n",
    "aice_OM2_1_NH_clim = aice_OM2_1_NH_clim.load()"
   ]
  },
  {
   "cell_type": "markdown",
   "id": "40910dbb-e90f-4fe1-90ee-08b5222424bc",
   "metadata": {},
   "source": [
    "Save data"
   ]
  },
  {
   "cell_type": "code",
   "execution_count": 38,
   "id": "1f71256d-80ce-41c5-b7a3-27d1514e11c8",
   "metadata": {},
   "outputs": [],
   "source": [
    "aice_OM2_1_NH_clim.to_netcdf(path_to_data + 'Comparison_ACCESS_OM2_1/aice_OM2_1_NH_clim_2300_2399.nc')\n",
    "aice_OM2_1_SH_clim.to_netcdf(path_to_data + 'Comparison_ACCESS_OM2_1/aice_OM2_1_SH_clim_2300_2399.nc')"
   ]
  },
  {
   "cell_type": "markdown",
   "id": "fe9e8829-af88-4fbc-aad6-dfe29b0e22af",
   "metadata": {},
   "source": [
    "**CM2-1**\n",
    "\n",
    "At the moment, only the ocean data from u-bz687 is in the database.\n",
    "\n",
    "Direct access to data:\n",
    "`/g/data/p73/archive/non-CMIP/ACCESS-CM2/bz687/history/ice`"
   ]
  },
  {
   "cell_type": "code",
   "execution_count": 19,
   "id": "5241b80b-3251-4e46-a77a-17060b9fe6bb",
   "metadata": {
    "tags": []
   },
   "outputs": [],
   "source": [
    "import glob\n",
    "path_sort = np.sort(glob.glob('/g/data/p73/archive/non-CMIP/ACCESS-CM2/bz687/history/ice/iceh_d.04*.nc'))"
   ]
  },
  {
   "cell_type": "code",
   "execution_count": 94,
   "id": "ba02a369-a40b-4b0b-b467-94ab89d66d6a",
   "metadata": {
    "tags": []
   },
   "outputs": [],
   "source": [
    "# Load in first month\n",
    "aice_tmp = xr.open_dataset('/g/data/p73/archive/non-CMIP/ACCESS-CM2/bz687/history/ice/iceh_d.0400-01.nc').aice\n",
    "# Monthly average, offline\n",
    "aice_bz687 = aice_tmp.mean('time')\n",
    "# Add time information (first entry in month)\n",
    "aice_bz687.expand_dims(dim={\"time\": np.arange(1)}, axis=0)\n",
    "aice_bz687['time'] = aice_tmp.time[0]\n",
    "\n",
    "# Now repeat for remaining months and concatenate along time dimension\n",
    "for i in range(1, len(path_sort)):\n",
    "    aice_tmp = xr.open_dataset(path_sort[i]).aice\n",
    "    aice_tmp_mean = aice_tmp.mean('time')\n",
    "    aice_tmp_mean.expand_dims(dim={\"time\": np.arange(1)}, axis=0)\n",
    "    aice_tmp_mean['time'] = aice_tmp.time[0]\n",
    "    \n",
    "    aice_bz687 = xr.concat([aice_bz687, aice_tmp_mean], dim='time')"
   ]
  },
  {
   "cell_type": "markdown",
   "id": "d2dd718a-9cbe-4b29-b79e-be29143731d2",
   "metadata": {},
   "source": [
    "Update coordinates to match ocean grid"
   ]
  },
  {
   "cell_type": "code",
   "execution_count": 95,
   "id": "afb5a287-2bcc-44eb-9e63-e814f917638f",
   "metadata": {
    "tags": []
   },
   "outputs": [],
   "source": [
    "aice_bz687.coords['ni'] = area_t1['xt_ocean'].values\n",
    "aice_bz687.coords['nj'] = area_t1['yt_ocean'].values\n",
    "aice_bz687 = aice_bz687.rename(({'ni':'xt_ocean', 'nj':'yt_ocean'}))"
   ]
  },
  {
   "cell_type": "markdown",
   "id": "b66c48e0-150c-4ddf-8e8b-8697a2c254fa",
   "metadata": {},
   "source": [
    "Extract SH and NH"
   ]
  },
  {
   "cell_type": "code",
   "execution_count": 96,
   "id": "bb8052d3-3e82-4e8f-90f7-7f27dec25fd8",
   "metadata": {
    "tags": []
   },
   "outputs": [],
   "source": [
    "aice_CM2_1_NH = aice_bz687.sel(yt_ocean=slice(40, 90))\n",
    "aice_CM2_1_SH = aice_bz687.sel(yt_ocean=slice(-90, -40))  "
   ]
  },
  {
   "cell_type": "markdown",
   "id": "c0f0e0e1-5d6d-470b-9a41-0daa92b36e61",
   "metadata": {},
   "source": [
    "Climatology"
   ]
  },
  {
   "cell_type": "code",
   "execution_count": 99,
   "id": "915ef745-b4aa-4653-b852-448a890c12f4",
   "metadata": {
    "tags": []
   },
   "outputs": [],
   "source": [
    "aice_CM2_1_SH_clim = aice_CM2_1_SH.groupby('time.month').mean('time', skipna=True)\n",
    "aice_CM2_1_NH_clim = aice_CM2_1_NH.groupby('time.month').mean('time', skipna=True)"
   ]
  },
  {
   "cell_type": "markdown",
   "id": "70970921-b656-434c-85a0-0466e3e625c2",
   "metadata": {},
   "source": [
    "Load data"
   ]
  },
  {
   "cell_type": "code",
   "execution_count": 103,
   "id": "c9a4eb19-0d43-4128-98d4-e5c601d44500",
   "metadata": {
    "tags": []
   },
   "outputs": [],
   "source": [
    "aice_CM2_1_SH_clim = aice_CM2_1_SH_clim.load()\n",
    "aice_CM2_1_NH_clim = aice_CM2_1_NH_clim.load()"
   ]
  },
  {
   "cell_type": "markdown",
   "id": "575045b5-f7e4-446b-b62d-37c811621b30",
   "metadata": {},
   "source": [
    "Save data"
   ]
  },
  {
   "cell_type": "code",
   "execution_count": 104,
   "id": "6975b645-4ea1-4b23-9b86-7b00c12f7f61",
   "metadata": {
    "tags": []
   },
   "outputs": [],
   "source": [
    "aice_CM2_1_NH_clim.to_netcdf(path_to_data + 'Comparison_ACCESS_CM2_1/aice_CM2_1_NH_clim_400_499.nc')\n",
    "aice_CM2_1_SH_clim.to_netcdf(path_to_data + 'Comparison_ACCESS_CM2_1/aice_CM2_1_SH_clim_400_499.nc')"
   ]
  },
  {
   "cell_type": "code",
   "execution_count": null,
   "id": "77131d38-a0fa-4726-9299-13ef85f00ee0",
   "metadata": {},
   "outputs": [],
   "source": []
  },
  {
   "cell_type": "code",
   "execution_count": null,
   "id": "dfcfd57e-0df8-4bff-b47a-e021daf25fdf",
   "metadata": {},
   "outputs": [],
   "source": []
  },
  {
   "cell_type": "markdown",
   "id": "097f310b-a121-493c-9bef-704056dc0c29",
   "metadata": {},
   "source": [
    "---\n",
    "Load CMIP6 data"
   ]
  },
  {
   "cell_type": "code",
   "execution_count": 7,
   "id": "f432a489-4035-44f4-ac4d-bdbc0e2b0399",
   "metadata": {
    "tags": []
   },
   "outputs": [],
   "source": [
    "import intake\n",
    "cat = intake.cat.nci\n",
    "#cat = intake.open_catalog('/g/data/hh5/public/apps/nci-intake-catalogue/catalogue.yaml')\n",
    "cmip6 = cat['esgf'].cmip6  # only works with  conda env:analysis3-22.07 (newer version has something changed)\n",
    "# subset = cmip6.search(experiment_id = ['historical'],  \n",
    "#                       member_id = 'r1i1p1f1', table_id = ['Amon'], #monthly averages\n",
    "#                       source_id='ACCESS-CM2') \n",
    "\n",
    "# values_dict = subset.unique()\n",
    "# values_dict['variable_id'] # This will print the list of variables in the subset"
   ]
  },
  {
   "cell_type": "code",
   "execution_count": 2,
   "id": "1d4113ff-585a-44d3-a8de-63786470309d",
   "metadata": {},
   "outputs": [],
   "source": [
    "subset = cmip6.search(activity_id='CMIP', experiment_id='1pctCO2', source_id='ACCESS-CM2', member_id='r1i1p1f1', table_id='SImon', variable_id='siareas')"
   ]
  },
  {
   "cell_type": "code",
   "execution_count": 3,
   "id": "3f2bf034-9646-4b5b-8713-5401ce7bc274",
   "metadata": {
    "tags": []
   },
   "outputs": [
    {
     "data": {
      "text/plain": [
       "dict_keys(['CMIP6.CMIP.CSIRO-ARCCSS.ACCESS-CM2.1pctCO2.r1i1p1f1.SImon.siareas.gn.v20200817'])"
      ]
     },
     "execution_count": 3,
     "metadata": {},
     "output_type": "execute_result"
    }
   ],
   "source": [
    "subset.keys()"
   ]
  },
  {
   "cell_type": "code",
   "execution_count": 5,
   "id": "b5fd4e56-995a-4d11-b3cb-167048f04014",
   "metadata": {
    "tags": []
   },
   "outputs": [],
   "source": [
    "subset_n = cmip6.search(activity_id='CMIP', experiment_id='1pctCO2', source_id='ACCESS-CM2', member_id='r1i1p1f1', table_id='SImon', variable_id='siarean')"
   ]
  },
  {
   "cell_type": "code",
   "execution_count": 6,
   "id": "23a71351-5281-46f1-964f-148e2c67c9a1",
   "metadata": {
    "tags": []
   },
   "outputs": [
    {
     "data": {
      "text/plain": [
       "dict_keys(['CMIP6.CMIP.CSIRO-ARCCSS.ACCESS-CM2.1pctCO2.r1i1p1f1.SImon.siarean.gn.v20200817'])"
      ]
     },
     "execution_count": 6,
     "metadata": {},
     "output_type": "execute_result"
    }
   ],
   "source": [
    "subset_n.keys()"
   ]
  },
  {
   "cell_type": "code",
   "execution_count": null,
   "id": "b00cdced-591c-41bd-bf6d-daa1d4430fb6",
   "metadata": {},
   "outputs": [],
   "source": []
  },
  {
   "cell_type": "code",
   "execution_count": null,
   "id": "b28b9aa4-ce66-4066-8e9e-b06cea48f35a",
   "metadata": {
    "tags": []
   },
   "outputs": [
    {
     "name": "stdout",
     "output_type": "stream",
     "text": [
      "\n",
      "--> The keys in the returned dictionary of datasets are constructed as follows:\n",
      "\t'project.activity_id.institution_id.source_id.experiment_id.member_id.table_id.variable_id.grid_label.version'\n"
     ]
    },
    {
     "name": "stderr",
     "output_type": "stream",
     "text": [
      "/g/data/hh5/public/apps/miniconda3/envs/analysis3-22.07/lib/python3.9/site-packages/xarray/coding/times.py:150: SerializationWarning: Ambiguous reference date string: 950-01-01. The first value is assumed to be the year hence will be padded with zeros to remove the ambiguity (the padded reference date string is: 0950-01-01). To remove this message, remove the ambiguity by padding your reference date strings with zeros.\n",
      "  warnings.warn(warning_msg, SerializationWarning)\n",
      "/g/data/hh5/public/apps/miniconda3/envs/analysis3-22.07/lib/python3.9/site-packages/xarray/coding/times.py:699: SerializationWarning: Unable to decode time axis into full numpy.datetime64 objects, continuing using cftime.datetime objects instead, reason: dates out of range\n",
      "  dtype = _decode_cf_datetime_dtype(data, units, calendar, self.use_cftime)\n",
      "/g/data/hh5/public/apps/miniconda3/envs/analysis3-22.07/lib/python3.9/site-packages/xarray/core/indexing.py:524: SerializationWarning: Unable to decode time axis into full numpy.datetime64 objects, continuing using cftime.datetime objects instead, reason: dates out of range\n",
      "  return np.asarray(array[self.key], dtype=None)\n"
     ]
    },
    {
     "data": {
      "text/html": [
       "\n",
       "<style>\n",
       "    /* Turns off some styling */\n",
       "    progress {\n",
       "        /* gets rid of default border in Firefox and Opera. */\n",
       "        border: none;\n",
       "        /* Needs to be in here for Safari polyfill so background images work as expected. */\n",
       "        background-size: auto;\n",
       "    }\n",
       "    .progress-bar-interrupted, .progress-bar-interrupted::-webkit-progress-bar {\n",
       "        background: #F44336;\n",
       "    }\n",
       "</style>\n"
      ],
      "text/plain": [
       "<IPython.core.display.HTML object>"
      ]
     },
     "metadata": {},
     "output_type": "display_data"
    },
    {
     "data": {
      "text/html": [
       "\n",
       "    <div>\n",
       "      <progress value='1' class='' max='1' style='width:300px; height:20px; vertical-align: middle;'></progress>\n",
       "      100.00% [1/1 00:00<00:00]\n",
       "    </div>\n",
       "    "
      ],
      "text/plain": [
       "<IPython.core.display.HTML object>"
      ]
     },
     "metadata": {},
     "output_type": "display_data"
    }
   ],
   "source": [
    "dset = subset.to_dataset_dict()"
   ]
  },
  {
   "cell_type": "code",
   "execution_count": 8,
   "id": "f37eb31d-da6d-474c-9e26-5017b63dcf30",
   "metadata": {
    "tags": []
   },
   "outputs": [
    {
     "data": {
      "text/plain": [
       "{'CMIP6.CMIP.CSIRO-ARCCSS.ACCESS-CM2.1pctCO2.r1i1p1f1.SImon.siareas.gn.v20200817': <xarray.Dataset>\n",
       " Dimensions:    (time: 1800, bnds: 2)\n",
       " Coordinates:\n",
       "   * time       (time) object 0950-01-16 12:00:00 ... 1099-12-16 12:00:00\n",
       " Dimensions without coordinates: bnds\n",
       " Data variables:\n",
       "     time_bnds  (time, bnds) object dask.array<chunksize=(1800, 2), meta=np.ndarray>\n",
       "     siareas    (time) float32 dask.array<chunksize=(1800,), meta=np.ndarray>\n",
       " Attributes: (12/48)\n",
       "     Conventions:             CF-1.7 CMIP-6.2\n",
       "     activity_id:             CMIP\n",
       "     branch_method:           standard\n",
       "     branch_time_in_child:    0.0\n",
       "     branch_time_in_parent:   0.0\n",
       "     creation_date:           2020-08-17T02:04:03Z\n",
       "     ...                      ...\n",
       "     version:                 v20200817\n",
       "     license:                 CMIP6 model data produced by CSIRO is licensed u...\n",
       "     cmor_version:            3.4.0\n",
       "     tracking_id:             hdl:21.14100/e56869b8-b303-4633-baae-ba92607b16e4\n",
       "     intake_esm_varname:      ['siareas']\n",
       "     intake_esm_dataset_key:  CMIP6.CMIP.CSIRO-ARCCSS.ACCESS-CM2.1pctCO2.r1i1p...}"
      ]
     },
     "execution_count": 8,
     "metadata": {},
     "output_type": "execute_result"
    }
   ],
   "source": [
    "dset"
   ]
  },
  {
   "cell_type": "code",
   "execution_count": 10,
   "id": "1f088735-3b51-41a4-acd5-de6e640e6b2e",
   "metadata": {
    "tags": []
   },
   "outputs": [],
   "source": [
    "siareas = dset['CMIP6.CMIP.CSIRO-ARCCSS.ACCESS-CM2.1pctCO2.r1i1p1f1.SImon.siareas.gn.v20200817']"
   ]
  },
  {
   "cell_type": "code",
   "execution_count": 45,
   "id": "d6ea8ab1-04f2-4a03-927c-28d18de7ceb9",
   "metadata": {
    "tags": []
   },
   "outputs": [],
   "source": [
    "test = siareas.siareas.sel(time=slice('0800-01-01','0899-12-31'))"
   ]
  },
  {
   "cell_type": "code",
   "execution_count": 53,
   "id": "c4911041-2c4a-4741-91a8-ecc9671b4e83",
   "metadata": {
    "tags": []
   },
   "outputs": [
    {
     "data": {
      "text/plain": [
       "[<matplotlib.lines.Line2D at 0x14cef38359d0>]"
      ]
     },
     "execution_count": 53,
     "metadata": {},
     "output_type": "execute_result"
    },
    {
     "data": {
      "image/png": "[encoded data removed]",
      "text/plain": [
       "<Figure size 432x288 with 1 Axes>"
      ]
     },
     "metadata": {
      "needs_background": "light"
     },
     "output_type": "display_data"
    }
   ],
   "source": [
    "plt.plot(siareas.siareas.values)"
   ]
  },
  {
   "cell_type": "code",
   "execution_count": 51,
   "id": "233bda68-a26f-4be5-bd07-e477a3e26e70",
   "metadata": {
    "tags": []
   },
   "outputs": [
    {
     "data": {
      "text/html": [
       "<div><svg style=\"position: absolute; width: 0; height: 0; overflow: hidden\">\n",
       "<defs>\n",
       "<symbol id=\"icon-database\" viewBox=\"0 0 32 32\">\n",
       "<path d=\"M16 0c-8.837 0-16 2.239-16 5v4c0 2.761 7.163 5 16 5s16-2.239 16-5v-4c0-2.761-7.163-5-16-5z\"></path>\n",
       "<path d=\"M16 17c-8.837 0-16-2.239-16-5v6c0 2.761 7.163 5 16 5s16-2.239 16-5v-6c0 2.761-7.163 5-16 5z\"></path>\n",
       "<path d=\"M16 26c-8.837 0-16-2.239-16-5v6c0 2.761 7.163 5 16 5s16-2.239 16-5v-6c0 2.761-7.163 5-16 5z\"></path>\n",
       "</symbol>\n",
       "<symbol id=\"icon-file-text2\" viewBox=\"0 0 32 32\">\n",
       "<path d=\"M28.681 7.159c-0.694-0.947-1.662-2.053-2.724-3.116s-2.169-2.030-3.116-2.724c-1.612-1.182-2.393-1.319-2.841-1.319h-15.5c-1.378 0-2.5 1.121-2.5 2.5v27c0 1.378 1.122 2.5 2.5 2.5h23c1.378 0 2.5-1.122 2.5-2.5v-19.5c0-0.448-0.137-1.23-1.319-2.841zM24.543 5.457c0.959 0.959 1.712 1.825 2.268 2.543h-4.811v-4.811c0.718 0.556 1.584 1.309 2.543 2.268zM28 29.5c0 0.271-0.229 0.5-0.5 0.5h-23c-0.271 0-0.5-0.229-0.5-0.5v-27c0-0.271 0.229-0.5 0.5-0.5 0 0 15.499-0 15.5 0v7c0 0.552 0.448 1 1 1h7v19.5z\"></path>\n",
       "<path d=\"M23 26h-14c-0.552 0-1-0.448-1-1s0.448-1 1-1h14c0.552 0 1 0.448 1 1s-0.448 1-1 1z\"></path>\n",
       "<path d=\"M23 22h-14c-0.552 0-1-0.448-1-1s0.448-1 1-1h14c0.552 0 1 0.448 1 1s-0.448 1-1 1z\"></path>\n",
       "<path d=\"M23 18h-14c-0.552 0-1-0.448-1-1s0.448-1 1-1h14c0.552 0 1 0.448 1 1s-0.448 1-1 1z\"></path>\n",
       "</symbol>\n",
       "</defs>\n",
       "</svg>\n",
       "<style>/* CSS stylesheet for displaying xarray objects in jupyterlab.\n",
       " *\n",
       " */\n",
       "\n",
       ":root {\n",
       "  --xr-font-color0: var(--jp-content-font-color0, rgba(0, 0, 0, 1));\n",
       "  --xr-font-color2: var(--jp-content-font-color2, rgba(0, 0, 0, 0.54));\n",
       "  --xr-font-color3: var(--jp-content-font-color3, rgba(0, 0, 0, 0.38));\n",
       "  --xr-border-color: var(--jp-border-color2, #e0e0e0);\n",
       "  --xr-disabled-color: var(--jp-layout-color3, #bdbdbd);\n",
       "  --xr-background-color: var(--jp-layout-color0, white);\n",
       "  --xr-background-color-row-even: var(--jp-layout-color1, white);\n",
       "  --xr-background-color-row-odd: var(--jp-layout-color2, #eeeeee);\n",
       "}\n",
       "\n",
       "html[theme=dark],\n",
       "body[data-theme=dark],\n",
       "body.vscode-dark {\n",
       "  --xr-font-color0: rgba(255, 255, 255, 1);\n",
       "  --xr-font-color2: rgba(255, 255, 255, 0.54);\n",
       "  --xr-font-color3: rgba(255, 255, 255, 0.38);\n",
       "  --xr-border-color: #1F1F1F;\n",
       "  --xr-disabled-color: #515151;\n",
       "  --xr-background-color: #111111;\n",
       "  --xr-background-color-row-even: #111111;\n",
       "  --xr-background-color-row-odd: #313131;\n",
       "}\n",
       "\n",
       ".xr-wrap {\n",
       "  display: block !important;\n",
       "  min-width: 300px;\n",
       "  max-width: 700px;\n",
       "}\n",
       "\n",
       ".xr-text-repr-fallback {\n",
       "  /* fallback to plain text repr when CSS is not injected (untrusted notebook) */\n",
       "  display: none;\n",
       "}\n",
       "\n",
       ".xr-header {\n",
       "  padding-top: 6px;\n",
       "  padding-bottom: 6px;\n",
       "  margin-bottom: 4px;\n",
       "  border-bottom: solid 1px var(--xr-border-color);\n",
       "}\n",
       "\n",
       ".xr-header > div,\n",
       ".xr-header > ul {\n",
       "  display: inline;\n",
       "  margin-top: 0;\n",
       "  margin-bottom: 0;\n",
       "}\n",
       "\n",
       ".xr-obj-type,\n",
       ".xr-array-name {\n",
       "  margin-left: 2px;\n",
       "  margin-right: 10px;\n",
       "}\n",
       "\n",
       ".xr-obj-type {\n",
       "  color: var(--xr-font-color2);\n",
       "}\n",
       "\n",
       ".xr-sections {\n",
       "  padding-left: 0 !important;\n",
       "  display: grid;\n",
       "  grid-template-columns: 150px auto auto 1fr 20px 20px;\n",
       "}\n",
       "\n",
       ".xr-section-item {\n",
       "  display: contents;\n",
       "}\n",
       "\n",
       ".xr-section-item input {\n",
       "  display: none;\n",
       "}\n",
       "\n",
       ".xr-section-item input + label {\n",
       "  color: var(--xr-disabled-color);\n",
       "}\n",
       "\n",
       ".xr-section-item input:enabled + label {\n",
       "  cursor: pointer;\n",
       "  color: var(--xr-font-color2);\n",
       "}\n",
       "\n",
       ".xr-section-item input:enabled + label:hover {\n",
       "  color: var(--xr-font-color0);\n",
       "}\n",
       "\n",
       ".xr-section-summary {\n",
       "  grid-column: 1;\n",
       "  color: var(--xr-font-color2);\n",
       "  font-weight: 500;\n",
       "}\n",
       "\n",
       ".xr-section-summary > span {\n",
       "  display: inline-block;\n",
       "  padding-left: 0.5em;\n",
       "}\n",
       "\n",
       ".xr-section-summary-in:disabled + label {\n",
       "  color: var(--xr-font-color2);\n",
       "}\n",
       "\n",
       ".xr-section-summary-in + label:before {\n",
       "  display: inline-block;\n",
       "  content: '►';\n",
       "  font-size: 11px;\n",
       "  width: 15px;\n",
       "  text-align: center;\n",
       "}\n",
       "\n",
       ".xr-section-summary-in:disabled + label:before {\n",
       "  color: var(--xr-disabled-color);\n",
       "}\n",
       "\n",
       ".xr-section-summary-in:checked + label:before {\n",
       "  content: '▼';\n",
       "}\n",
       "\n",
       ".xr-section-summary-in:checked + label > span {\n",
       "  display: none;\n",
       "}\n",
       "\n",
       ".xr-section-summary,\n",
       ".xr-section-inline-details {\n",
       "  padding-top: 4px;\n",
       "  padding-bottom: 4px;\n",
       "}\n",
       "\n",
       ".xr-section-inline-details {\n",
       "  grid-column: 2 / -1;\n",
       "}\n",
       "\n",
       ".xr-section-details {\n",
       "  display: none;\n",
       "  grid-column: 1 / -1;\n",
       "  margin-bottom: 5px;\n",
       "}\n",
       "\n",
       ".xr-section-summary-in:checked ~ .xr-section-details {\n",
       "  display: contents;\n",
       "}\n",
       "\n",
       ".xr-array-wrap {\n",
       "  grid-column: 1 / -1;\n",
       "  display: grid;\n",
       "  grid-template-columns: 20px auto;\n",
       "}\n",
       "\n",
       ".xr-array-wrap > label {\n",
       "  grid-column: 1;\n",
       "  vertical-align: top;\n",
       "}\n",
       "\n",
       ".xr-preview {\n",
       "  color: var(--xr-font-color3);\n",
       "}\n",
       "\n",
       ".xr-array-preview,\n",
       ".xr-array-data {\n",
       "  padding: 0 5px !important;\n",
       "  grid-column: 2;\n",
       "}\n",
       "\n",
       ".xr-array-data,\n",
       ".xr-array-in:checked ~ .xr-array-preview {\n",
       "  display: none;\n",
       "}\n",
       "\n",
       ".xr-array-in:checked ~ .xr-array-data,\n",
       ".xr-array-preview {\n",
       "  display: inline-block;\n",
       "}\n",
       "\n",
       ".xr-dim-list {\n",
       "  display: inline-block !important;\n",
       "  list-style: none;\n",
       "  padding: 0 !important;\n",
       "  margin: 0;\n",
       "}\n",
       "\n",
       ".xr-dim-list li {\n",
       "  display: inline-block;\n",
       "  padding: 0;\n",
       "  margin: 0;\n",
       "}\n",
       "\n",
       ".xr-dim-list:before {\n",
       "  content: '(';\n",
       "}\n",
       "\n",
       ".xr-dim-list:after {\n",
       "  content: ')';\n",
       "}\n",
       "\n",
       ".xr-dim-list li:not(:last-child):after {\n",
       "  content: ',';\n",
       "  padding-right: 5px;\n",
       "}\n",
       "\n",
       ".xr-has-index {\n",
       "  font-weight: bold;\n",
       "}\n",
       "\n",
       ".xr-var-list,\n",
       ".xr-var-item {\n",
       "  display: contents;\n",
       "}\n",
       "\n",
       ".xr-var-item > div,\n",
       ".xr-var-item label,\n",
       ".xr-var-item > .xr-var-name span {\n",
       "  background-color: var(--xr-background-color-row-even);\n",
       "  margin-bottom: 0;\n",
       "}\n",
       "\n",
       ".xr-var-item > .xr-var-name:hover span {\n",
       "  padding-right: 5px;\n",
       "}\n",
       "\n",
       ".xr-var-list > li:nth-child(odd) > div,\n",
       ".xr-var-list > li:nth-child(odd) > label,\n",
       ".xr-var-list > li:nth-child(odd) > .xr-var-name span {\n",
       "  background-color: var(--xr-background-color-row-odd);\n",
       "}\n",
       "\n",
       ".xr-var-name {\n",
       "  grid-column: 1;\n",
       "}\n",
       "\n",
       ".xr-var-dims {\n",
       "  grid-column: 2;\n",
       "}\n",
       "\n",
       ".xr-var-dtype {\n",
       "  grid-column: 3;\n",
       "  text-align: right;\n",
       "  color: var(--xr-font-color2);\n",
       "}\n",
       "\n",
       ".xr-var-preview {\n",
       "  grid-column: 4;\n",
       "}\n",
       "\n",
       ".xr-index-preview {\n",
       "  grid-column: 2 / 5;\n",
       "  color: var(--xr-font-color2);\n",
       "}\n",
       "\n",
       ".xr-var-name,\n",
       ".xr-var-dims,\n",
       ".xr-var-dtype,\n",
       ".xr-preview,\n",
       ".xr-attrs dt {\n",
       "  white-space: nowrap;\n",
       "  overflow: hidden;\n",
       "  text-overflow: ellipsis;\n",
       "  padding-right: 10px;\n",
       "}\n",
       "\n",
       ".xr-var-name:hover,\n",
       ".xr-var-dims:hover,\n",
       ".xr-var-dtype:hover,\n",
       ".xr-attrs dt:hover {\n",
       "  overflow: visible;\n",
       "  width: auto;\n",
       "  z-index: 1;\n",
       "}\n",
       "\n",
       ".xr-var-attrs,\n",
       ".xr-var-data,\n",
       ".xr-index-data {\n",
       "  display: none;\n",
       "  background-color: var(--xr-background-color) !important;\n",
       "  padding-bottom: 5px !important;\n",
       "}\n",
       "\n",
       ".xr-var-attrs-in:checked ~ .xr-var-attrs,\n",
       ".xr-var-data-in:checked ~ .xr-var-data,\n",
       ".xr-index-data-in:checked ~ .xr-index-data {\n",
       "  display: block;\n",
       "}\n",
       "\n",
       ".xr-var-data > table {\n",
       "  float: right;\n",
       "}\n",
       "\n",
       ".xr-var-name span,\n",
       ".xr-var-data,\n",
       ".xr-index-name div,\n",
       ".xr-index-data,\n",
       ".xr-attrs {\n",
       "  padding-left: 25px !important;\n",
       "}\n",
       "\n",
       ".xr-attrs,\n",
       ".xr-var-attrs,\n",
       ".xr-var-data,\n",
       ".xr-index-data {\n",
       "  grid-column: 1 / -1;\n",
       "}\n",
       "\n",
       "dl.xr-attrs {\n",
       "  padding: 0;\n",
       "  margin: 0;\n",
       "  display: grid;\n",
       "  grid-template-columns: 125px auto;\n",
       "}\n",
       "\n",
       ".xr-attrs dt,\n",
       ".xr-attrs dd {\n",
       "  padding: 0;\n",
       "  margin: 0;\n",
       "  float: left;\n",
       "  padding-right: 10px;\n",
       "  width: auto;\n",
       "}\n",
       "\n",
       ".xr-attrs dt {\n",
       "  font-weight: normal;\n",
       "  grid-column: 1;\n",
       "}\n",
       "\n",
       ".xr-attrs dt:hover span {\n",
       "  display: inline-block;\n",
       "  background: var(--xr-background-color);\n",
       "  padding-right: 10px;\n",
       "}\n",
       "\n",
       ".xr-attrs dd {\n",
       "  grid-column: 2;\n",
       "  white-space: pre-wrap;\n",
       "  word-break: break-all;\n",
       "}\n",
       "\n",
       ".xr-icon-database,\n",
       ".xr-icon-file-text2,\n",
       ".xr-no-icon {\n",
       "  display: inline-block;\n",
       "  vertical-align: middle;\n",
       "  width: 1em;\n",
       "  height: 1.5em !important;\n",
       "  stroke-width: 0;\n",
       "  stroke: currentColor;\n",
       "  fill: currentColor;\n",
       "}\n",
       "</style><pre class='xr-text-repr-fallback'>&lt;xarray.DataArray &#x27;time&#x27; (time: 1800)&gt;\n",
       "array([cftime.DatetimeProlepticGregorian(950, 1, 16, 12, 0, 0, 0, has_year_zero=True),\n",
       "       cftime.DatetimeProlepticGregorian(950, 2, 15, 0, 0, 0, 0, has_year_zero=True),\n",
       "       cftime.DatetimeProlepticGregorian(950, 3, 16, 12, 0, 0, 0, has_year_zero=True),\n",
       "       ...,\n",
       "       cftime.DatetimeProlepticGregorian(1099, 10, 16, 12, 0, 0, 0, has_year_zero=True),\n",
       "       cftime.DatetimeProlepticGregorian(1099, 11, 16, 0, 0, 0, 0, has_year_zero=True),\n",
       "       cftime.DatetimeProlepticGregorian(1099, 12, 16, 12, 0, 0, 0, has_year_zero=True)],\n",
       "      dtype=object)\n",
       "Coordinates:\n",
       "  * time     (time) object 0950-01-16 12:00:00 ... 1099-12-16 12:00:00\n",
       "Attributes:\n",
       "    bounds:         time_bnds\n",
       "    axis:           T\n",
       "    long_name:      time\n",
       "    standard_name:  time</pre><div class='xr-wrap' style='display:none'><div class='xr-header'><div class='xr-obj-type'>xarray.DataArray</div><div class='xr-array-name'>'time'</div><ul class='xr-dim-list'><li><span class='xr-has-index'>time</span>: 1800</li></ul></div><ul class='xr-sections'><li class='xr-section-item'><div class='xr-array-wrap'><input id='section-6822bb84-b1bd-43e1-bbb7-bd8a9dcfef4e' class='xr-array-in' type='checkbox' checked><label for='section-6822bb84-b1bd-43e1-bbb7-bd8a9dcfef4e' title='Show/hide data repr'><svg class='icon xr-icon-database'><use xlink:href='#icon-database'></use></svg></label><div class='xr-array-preview xr-preview'><span>0950-01-16 12:00:00 0950-02-15 00:00:00 ... 1099-12-16 12:00:00</span></div><div class='xr-array-data'><pre>array([cftime.DatetimeProlepticGregorian(950, 1, 16, 12, 0, 0, 0, has_year_zero=True),\n",
       "       cftime.DatetimeProlepticGregorian(950, 2, 15, 0, 0, 0, 0, has_year_zero=True),\n",
       "       cftime.DatetimeProlepticGregorian(950, 3, 16, 12, 0, 0, 0, has_year_zero=True),\n",
       "       ...,\n",
       "       cftime.DatetimeProlepticGregorian(1099, 10, 16, 12, 0, 0, 0, has_year_zero=True),\n",
       "       cftime.DatetimeProlepticGregorian(1099, 11, 16, 0, 0, 0, 0, has_year_zero=True),\n",
       "       cftime.DatetimeProlepticGregorian(1099, 12, 16, 12, 0, 0, 0, has_year_zero=True)],\n",
       "      dtype=object)</pre></div></div></li><li class='xr-section-item'><input id='section-d5e02882-405c-45f6-9b04-01a7411a70e9' class='xr-section-summary-in' type='checkbox'  checked><label for='section-d5e02882-405c-45f6-9b04-01a7411a70e9' class='xr-section-summary' >Coordinates: <span>(1)</span></label><div class='xr-section-inline-details'></div><div class='xr-section-details'><ul class='xr-var-list'><li class='xr-var-item'><div class='xr-var-name'><span class='xr-has-index'>time</span></div><div class='xr-var-dims'>(time)</div><div class='xr-var-dtype'>object</div><div class='xr-var-preview xr-preview'>0950-01-16 12:00:00 ... 1099-12-...</div><input id='attrs-61567fb1-626a-44d4-9953-9b0977f0f081' class='xr-var-attrs-in' type='checkbox' ><label for='attrs-61567fb1-626a-44d4-9953-9b0977f0f081' title='Show/Hide attributes'><svg class='icon xr-icon-file-text2'><use xlink:href='#icon-file-text2'></use></svg></label><input id='data-da322c8c-c696-4fa6-ab2b-9b78b187bc5f' class='xr-var-data-in' type='checkbox'><label for='data-da322c8c-c696-4fa6-ab2b-9b78b187bc5f' title='Show/Hide data repr'><svg class='icon xr-icon-database'><use xlink:href='#icon-database'></use></svg></label><div class='xr-var-attrs'><dl class='xr-attrs'><dt><span>bounds :</span></dt><dd>time_bnds</dd><dt><span>axis :</span></dt><dd>T</dd><dt><span>long_name :</span></dt><dd>time</dd><dt><span>standard_name :</span></dt><dd>time</dd></dl></div><div class='xr-var-data'><pre>array([cftime.DatetimeProlepticGregorian(950, 1, 16, 12, 0, 0, 0, has_year_zero=True),\n",
       "       cftime.DatetimeProlepticGregorian(950, 2, 15, 0, 0, 0, 0, has_year_zero=True),\n",
       "       cftime.DatetimeProlepticGregorian(950, 3, 16, 12, 0, 0, 0, has_year_zero=True),\n",
       "       ...,\n",
       "       cftime.DatetimeProlepticGregorian(1099, 10, 16, 12, 0, 0, 0, has_year_zero=True),\n",
       "       cftime.DatetimeProlepticGregorian(1099, 11, 16, 0, 0, 0, 0, has_year_zero=True),\n",
       "       cftime.DatetimeProlepticGregorian(1099, 12, 16, 12, 0, 0, 0, has_year_zero=True)],\n",
       "      dtype=object)</pre></div></li></ul></div></li><li class='xr-section-item'><input id='section-6fda0f20-5e01-4ff4-a400-f48224d4701d' class='xr-section-summary-in' type='checkbox'  ><label for='section-6fda0f20-5e01-4ff4-a400-f48224d4701d' class='xr-section-summary' >Indexes: <span>(1)</span></label><div class='xr-section-inline-details'></div><div class='xr-section-details'><ul class='xr-var-list'><li class='xr-var-item'><div class='xr-index-name'><div>time</div></div><div class='xr-index-preview'>PandasIndex</div><div></div><input id='index-6ddc5c8c-f871-473d-a38b-85298dfda37f' class='xr-index-data-in' type='checkbox'/><label for='index-6ddc5c8c-f871-473d-a38b-85298dfda37f' title='Show/Hide index repr'><svg class='icon xr-icon-database'><use xlink:href='#icon-database'></use></svg></label><div class='xr-index-data'><pre>PandasIndex(CFTimeIndex([0950-01-16 12:00:00, 0950-02-15 00:00:00, 0950-03-16 12:00:00,\n",
       "             0950-04-16 00:00:00, 0950-05-16 12:00:00, 0950-06-16 00:00:00,\n",
       "             0950-07-16 12:00:00, 0950-08-16 12:00:00, 0950-09-16 00:00:00,\n",
       "             0950-10-16 12:00:00,\n",
       "             ...\n",
       "             1099-03-16 12:00:00, 1099-04-16 00:00:00, 1099-05-16 12:00:00,\n",
       "             1099-06-16 00:00:00, 1099-07-16 12:00:00, 1099-08-16 12:00:00,\n",
       "             1099-09-16 00:00:00, 1099-10-16 12:00:00, 1099-11-16 00:00:00,\n",
       "             1099-12-16 12:00:00],\n",
       "            dtype=&#x27;object&#x27;,\n",
       "            length=1800,\n",
       "            calendar=&#x27;proleptic_gregorian&#x27;,\n",
       "            freq=&#x27;None&#x27;))</pre></div></li></ul></div></li><li class='xr-section-item'><input id='section-7e201941-71e7-404a-92b3-ffc292765ba1' class='xr-section-summary-in' type='checkbox'  checked><label for='section-7e201941-71e7-404a-92b3-ffc292765ba1' class='xr-section-summary' >Attributes: <span>(4)</span></label><div class='xr-section-inline-details'></div><div class='xr-section-details'><dl class='xr-attrs'><dt><span>bounds :</span></dt><dd>time_bnds</dd><dt><span>axis :</span></dt><dd>T</dd><dt><span>long_name :</span></dt><dd>time</dd><dt><span>standard_name :</span></dt><dd>time</dd></dl></div></li></ul></div></div>"
      ],
      "text/plain": [
       "<xarray.DataArray 'time' (time: 1800)>\n",
       "array([cftime.DatetimeProlepticGregorian(950, 1, 16, 12, 0, 0, 0, has_year_zero=True),\n",
       "       cftime.DatetimeProlepticGregorian(950, 2, 15, 0, 0, 0, 0, has_year_zero=True),\n",
       "       cftime.DatetimeProlepticGregorian(950, 3, 16, 12, 0, 0, 0, has_year_zero=True),\n",
       "       ...,\n",
       "       cftime.DatetimeProlepticGregorian(1099, 10, 16, 12, 0, 0, 0, has_year_zero=True),\n",
       "       cftime.DatetimeProlepticGregorian(1099, 11, 16, 0, 0, 0, 0, has_year_zero=True),\n",
       "       cftime.DatetimeProlepticGregorian(1099, 12, 16, 12, 0, 0, 0, has_year_zero=True)],\n",
       "      dtype=object)\n",
       "Coordinates:\n",
       "  * time     (time) object 0950-01-16 12:00:00 ... 1099-12-16 12:00:00\n",
       "Attributes:\n",
       "    bounds:         time_bnds\n",
       "    axis:           T\n",
       "    long_name:      time\n",
       "    standard_name:  time"
      ]
     },
     "execution_count": 51,
     "metadata": {},
     "output_type": "execute_result"
    }
   ],
   "source": [
    "siareas.siareas.time"
   ]
  },
  {
   "cell_type": "code",
   "execution_count": null,
   "id": "bbd3d73a-a2de-4864-a66f-4efdc5ddb6a0",
   "metadata": {},
   "outputs": [],
   "source": []
  },
  {
   "cell_type": "code",
   "execution_count": null,
   "id": "793b8fcc-69e2-4f2d-89e4-addf842cd5f5",
   "metadata": {},
   "outputs": [],
   "source": []
  },
  {
   "cell_type": "code",
   "execution_count": null,
   "id": "d2fd1a86-ff7f-4fcc-9ca9-7683ba8dc258",
   "metadata": {},
   "outputs": [],
   "source": []
  },
  {
   "cell_type": "code",
   "execution_count": 42,
   "id": "fce65135-4fdc-4e9b-87d6-6dcd1991a1ff",
   "metadata": {
    "tags": []
   },
   "outputs": [
    {
     "data": {
      "text/html": [
       "<div><svg style=\"position: absolute; width: 0; height: 0; overflow: hidden\">\n",
       "<defs>\n",
       "<symbol id=\"icon-database\" viewBox=\"0 0 32 32\">\n",
       "<path d=\"M16 0c-8.837 0-16 2.239-16 5v4c0 2.761 7.163 5 16 5s16-2.239 16-5v-4c0-2.761-7.163-5-16-5z\"></path>\n",
       "<path d=\"M16 17c-8.837 0-16-2.239-16-5v6c0 2.761 7.163 5 16 5s16-2.239 16-5v-6c0 2.761-7.163 5-16 5z\"></path>\n",
       "<path d=\"M16 26c-8.837 0-16-2.239-16-5v6c0 2.761 7.163 5 16 5s16-2.239 16-5v-6c0 2.761-7.163 5-16 5z\"></path>\n",
       "</symbol>\n",
       "<symbol id=\"icon-file-text2\" viewBox=\"0 0 32 32\">\n",
       "<path d=\"M28.681 7.159c-0.694-0.947-1.662-2.053-2.724-3.116s-2.169-2.030-3.116-2.724c-1.612-1.182-2.393-1.319-2.841-1.319h-15.5c-1.378 0-2.5 1.121-2.5 2.5v27c0 1.378 1.122 2.5 2.5 2.5h23c1.378 0 2.5-1.122 2.5-2.5v-19.5c0-0.448-0.137-1.23-1.319-2.841zM24.543 5.457c0.959 0.959 1.712 1.825 2.268 2.543h-4.811v-4.811c0.718 0.556 1.584 1.309 2.543 2.268zM28 29.5c0 0.271-0.229 0.5-0.5 0.5h-23c-0.271 0-0.5-0.229-0.5-0.5v-27c0-0.271 0.229-0.5 0.5-0.5 0 0 15.499-0 15.5 0v7c0 0.552 0.448 1 1 1h7v19.5z\"></path>\n",
       "<path d=\"M23 26h-14c-0.552 0-1-0.448-1-1s0.448-1 1-1h14c0.552 0 1 0.448 1 1s-0.448 1-1 1z\"></path>\n",
       "<path d=\"M23 22h-14c-0.552 0-1-0.448-1-1s0.448-1 1-1h14c0.552 0 1 0.448 1 1s-0.448 1-1 1z\"></path>\n",
       "<path d=\"M23 18h-14c-0.552 0-1-0.448-1-1s0.448-1 1-1h14c0.552 0 1 0.448 1 1s-0.448 1-1 1z\"></path>\n",
       "</symbol>\n",
       "</defs>\n",
       "</svg>\n",
       "<style>/* CSS stylesheet for displaying xarray objects in jupyterlab.\n",
       " *\n",
       " */\n",
       "\n",
       ":root {\n",
       "  --xr-font-color0: var(--jp-content-font-color0, rgba(0, 0, 0, 1));\n",
       "  --xr-font-color2: var(--jp-content-font-color2, rgba(0, 0, 0, 0.54));\n",
       "  --xr-font-color3: var(--jp-content-font-color3, rgba(0, 0, 0, 0.38));\n",
       "  --xr-border-color: var(--jp-border-color2, #e0e0e0);\n",
       "  --xr-disabled-color: var(--jp-layout-color3, #bdbdbd);\n",
       "  --xr-background-color: var(--jp-layout-color0, white);\n",
       "  --xr-background-color-row-even: var(--jp-layout-color1, white);\n",
       "  --xr-background-color-row-odd: var(--jp-layout-color2, #eeeeee);\n",
       "}\n",
       "\n",
       "html[theme=dark],\n",
       "body[data-theme=dark],\n",
       "body.vscode-dark {\n",
       "  --xr-font-color0: rgba(255, 255, 255, 1);\n",
       "  --xr-font-color2: rgba(255, 255, 255, 0.54);\n",
       "  --xr-font-color3: rgba(255, 255, 255, 0.38);\n",
       "  --xr-border-color: #1F1F1F;\n",
       "  --xr-disabled-color: #515151;\n",
       "  --xr-background-color: #111111;\n",
       "  --xr-background-color-row-even: #111111;\n",
       "  --xr-background-color-row-odd: #313131;\n",
       "}\n",
       "\n",
       ".xr-wrap {\n",
       "  display: block !important;\n",
       "  min-width: 300px;\n",
       "  max-width: 700px;\n",
       "}\n",
       "\n",
       ".xr-text-repr-fallback {\n",
       "  /* fallback to plain text repr when CSS is not injected (untrusted notebook) */\n",
       "  display: none;\n",
       "}\n",
       "\n",
       ".xr-header {\n",
       "  padding-top: 6px;\n",
       "  padding-bottom: 6px;\n",
       "  margin-bottom: 4px;\n",
       "  border-bottom: solid 1px var(--xr-border-color);\n",
       "}\n",
       "\n",
       ".xr-header > div,\n",
       ".xr-header > ul {\n",
       "  display: inline;\n",
       "  margin-top: 0;\n",
       "  margin-bottom: 0;\n",
       "}\n",
       "\n",
       ".xr-obj-type,\n",
       ".xr-array-name {\n",
       "  margin-left: 2px;\n",
       "  margin-right: 10px;\n",
       "}\n",
       "\n",
       ".xr-obj-type {\n",
       "  color: var(--xr-font-color2);\n",
       "}\n",
       "\n",
       ".xr-sections {\n",
       "  padding-left: 0 !important;\n",
       "  display: grid;\n",
       "  grid-template-columns: 150px auto auto 1fr 20px 20px;\n",
       "}\n",
       "\n",
       ".xr-section-item {\n",
       "  display: contents;\n",
       "}\n",
       "\n",
       ".xr-section-item input {\n",
       "  display: none;\n",
       "}\n",
       "\n",
       ".xr-section-item input + label {\n",
       "  color: var(--xr-disabled-color);\n",
       "}\n",
       "\n",
       ".xr-section-item input:enabled + label {\n",
       "  cursor: pointer;\n",
       "  color: var(--xr-font-color2);\n",
       "}\n",
       "\n",
       ".xr-section-item input:enabled + label:hover {\n",
       "  color: var(--xr-font-color0);\n",
       "}\n",
       "\n",
       ".xr-section-summary {\n",
       "  grid-column: 1;\n",
       "  color: var(--xr-font-color2);\n",
       "  font-weight: 500;\n",
       "}\n",
       "\n",
       ".xr-section-summary > span {\n",
       "  display: inline-block;\n",
       "  padding-left: 0.5em;\n",
       "}\n",
       "\n",
       ".xr-section-summary-in:disabled + label {\n",
       "  color: var(--xr-font-color2);\n",
       "}\n",
       "\n",
       ".xr-section-summary-in + label:before {\n",
       "  display: inline-block;\n",
       "  content: '►';\n",
       "  font-size: 11px;\n",
       "  width: 15px;\n",
       "  text-align: center;\n",
       "}\n",
       "\n",
       ".xr-section-summary-in:disabled + label:before {\n",
       "  color: var(--xr-disabled-color);\n",
       "}\n",
       "\n",
       ".xr-section-summary-in:checked + label:before {\n",
       "  content: '▼';\n",
       "}\n",
       "\n",
       ".xr-section-summary-in:checked + label > span {\n",
       "  display: none;\n",
       "}\n",
       "\n",
       ".xr-section-summary,\n",
       ".xr-section-inline-details {\n",
       "  padding-top: 4px;\n",
       "  padding-bottom: 4px;\n",
       "}\n",
       "\n",
       ".xr-section-inline-details {\n",
       "  grid-column: 2 / -1;\n",
       "}\n",
       "\n",
       ".xr-section-details {\n",
       "  display: none;\n",
       "  grid-column: 1 / -1;\n",
       "  margin-bottom: 5px;\n",
       "}\n",
       "\n",
       ".xr-section-summary-in:checked ~ .xr-section-details {\n",
       "  display: contents;\n",
       "}\n",
       "\n",
       ".xr-array-wrap {\n",
       "  grid-column: 1 / -1;\n",
       "  display: grid;\n",
       "  grid-template-columns: 20px auto;\n",
       "}\n",
       "\n",
       ".xr-array-wrap > label {\n",
       "  grid-column: 1;\n",
       "  vertical-align: top;\n",
       "}\n",
       "\n",
       ".xr-preview {\n",
       "  color: var(--xr-font-color3);\n",
       "}\n",
       "\n",
       ".xr-array-preview,\n",
       ".xr-array-data {\n",
       "  padding: 0 5px !important;\n",
       "  grid-column: 2;\n",
       "}\n",
       "\n",
       ".xr-array-data,\n",
       ".xr-array-in:checked ~ .xr-array-preview {\n",
       "  display: none;\n",
       "}\n",
       "\n",
       ".xr-array-in:checked ~ .xr-array-data,\n",
       ".xr-array-preview {\n",
       "  display: inline-block;\n",
       "}\n",
       "\n",
       ".xr-dim-list {\n",
       "  display: inline-block !important;\n",
       "  list-style: none;\n",
       "  padding: 0 !important;\n",
       "  margin: 0;\n",
       "}\n",
       "\n",
       ".xr-dim-list li {\n",
       "  display: inline-block;\n",
       "  padding: 0;\n",
       "  margin: 0;\n",
       "}\n",
       "\n",
       ".xr-dim-list:before {\n",
       "  content: '(';\n",
       "}\n",
       "\n",
       ".xr-dim-list:after {\n",
       "  content: ')';\n",
       "}\n",
       "\n",
       ".xr-dim-list li:not(:last-child):after {\n",
       "  content: ',';\n",
       "  padding-right: 5px;\n",
       "}\n",
       "\n",
       ".xr-has-index {\n",
       "  font-weight: bold;\n",
       "}\n",
       "\n",
       ".xr-var-list,\n",
       ".xr-var-item {\n",
       "  display: contents;\n",
       "}\n",
       "\n",
       ".xr-var-item > div,\n",
       ".xr-var-item label,\n",
       ".xr-var-item > .xr-var-name span {\n",
       "  background-color: var(--xr-background-color-row-even);\n",
       "  margin-bottom: 0;\n",
       "}\n",
       "\n",
       ".xr-var-item > .xr-var-name:hover span {\n",
       "  padding-right: 5px;\n",
       "}\n",
       "\n",
       ".xr-var-list > li:nth-child(odd) > div,\n",
       ".xr-var-list > li:nth-child(odd) > label,\n",
       ".xr-var-list > li:nth-child(odd) > .xr-var-name span {\n",
       "  background-color: var(--xr-background-color-row-odd);\n",
       "}\n",
       "\n",
       ".xr-var-name {\n",
       "  grid-column: 1;\n",
       "}\n",
       "\n",
       ".xr-var-dims {\n",
       "  grid-column: 2;\n",
       "}\n",
       "\n",
       ".xr-var-dtype {\n",
       "  grid-column: 3;\n",
       "  text-align: right;\n",
       "  color: var(--xr-font-color2);\n",
       "}\n",
       "\n",
       ".xr-var-preview {\n",
       "  grid-column: 4;\n",
       "}\n",
       "\n",
       ".xr-index-preview {\n",
       "  grid-column: 2 / 5;\n",
       "  color: var(--xr-font-color2);\n",
       "}\n",
       "\n",
       ".xr-var-name,\n",
       ".xr-var-dims,\n",
       ".xr-var-dtype,\n",
       ".xr-preview,\n",
       ".xr-attrs dt {\n",
       "  white-space: nowrap;\n",
       "  overflow: hidden;\n",
       "  text-overflow: ellipsis;\n",
       "  padding-right: 10px;\n",
       "}\n",
       "\n",
       ".xr-var-name:hover,\n",
       ".xr-var-dims:hover,\n",
       ".xr-var-dtype:hover,\n",
       ".xr-attrs dt:hover {\n",
       "  overflow: visible;\n",
       "  width: auto;\n",
       "  z-index: 1;\n",
       "}\n",
       "\n",
       ".xr-var-attrs,\n",
       ".xr-var-data,\n",
       ".xr-index-data {\n",
       "  display: none;\n",
       "  background-color: var(--xr-background-color) !important;\n",
       "  padding-bottom: 5px !important;\n",
       "}\n",
       "\n",
       ".xr-var-attrs-in:checked ~ .xr-var-attrs,\n",
       ".xr-var-data-in:checked ~ .xr-var-data,\n",
       ".xr-index-data-in:checked ~ .xr-index-data {\n",
       "  display: block;\n",
       "}\n",
       "\n",
       ".xr-var-data > table {\n",
       "  float: right;\n",
       "}\n",
       "\n",
       ".xr-var-name span,\n",
       ".xr-var-data,\n",
       ".xr-index-name div,\n",
       ".xr-index-data,\n",
       ".xr-attrs {\n",
       "  padding-left: 25px !important;\n",
       "}\n",
       "\n",
       ".xr-attrs,\n",
       ".xr-var-attrs,\n",
       ".xr-var-data,\n",
       ".xr-index-data {\n",
       "  grid-column: 1 / -1;\n",
       "}\n",
       "\n",
       "dl.xr-attrs {\n",
       "  padding: 0;\n",
       "  margin: 0;\n",
       "  display: grid;\n",
       "  grid-template-columns: 125px auto;\n",
       "}\n",
       "\n",
       ".xr-attrs dt,\n",
       ".xr-attrs dd {\n",
       "  padding: 0;\n",
       "  margin: 0;\n",
       "  float: left;\n",
       "  padding-right: 10px;\n",
       "  width: auto;\n",
       "}\n",
       "\n",
       ".xr-attrs dt {\n",
       "  font-weight: normal;\n",
       "  grid-column: 1;\n",
       "}\n",
       "\n",
       ".xr-attrs dt:hover span {\n",
       "  display: inline-block;\n",
       "  background: var(--xr-background-color);\n",
       "  padding-right: 10px;\n",
       "}\n",
       "\n",
       ".xr-attrs dd {\n",
       "  grid-column: 2;\n",
       "  white-space: pre-wrap;\n",
       "  word-break: break-all;\n",
       "}\n",
       "\n",
       ".xr-icon-database,\n",
       ".xr-icon-file-text2,\n",
       ".xr-no-icon {\n",
       "  display: inline-block;\n",
       "  vertical-align: middle;\n",
       "  width: 1em;\n",
       "  height: 1.5em !important;\n",
       "  stroke-width: 0;\n",
       "  stroke: currentColor;\n",
       "  fill: currentColor;\n",
       "}\n",
       "</style><pre class='xr-text-repr-fallback'>&lt;xarray.DataArray &#x27;aice&#x27; (month: 12, yt_ocean: 407, xt_ocean: 1440)&gt;\n",
       "[7032960 values with dtype=float32]\n",
       "Coordinates:\n",
       "    TLON      (yt_ocean, xt_ocean) float32 ...\n",
       "    TLAT      (yt_ocean, xt_ocean) float32 ...\n",
       "    ULON      (yt_ocean, xt_ocean) float32 ...\n",
       "    ULAT      (yt_ocean, xt_ocean) float32 ...\n",
       "  * xt_ocean  (xt_ocean) float64 -279.9 -279.6 -279.4 ... 79.38 79.62 79.88\n",
       "  * yt_ocean  (yt_ocean) float64 40.13 40.32 40.51 40.7 ... 89.74 89.84 89.95\n",
       "  * month     (month) int64 1 2 3 4 5 6 7 8 9 10 11 12\n",
       "Attributes:\n",
       "    units:          1\n",
       "    long_name:      ice area  (aggregate)\n",
       "    cell_measures:  area: tarea\n",
       "    cell_methods:   time: mean\n",
       "    time_rep:       averaged\n",
       "    ncfiles:        [&#x27;/g/data/p73/archive/non-CMIP/ACCESS-CM2/cj877/history/i...\n",
       "    contact:        Martin Dix\n",
       "    email:          martin.dix@csiro.au\n",
       "    created:        2021-11-30\n",
       "    description:    ACCESS-CM2 with n96 atmosphere coupled to COSIMA OM2 0.25...\n",
       "    url:            https://code.metoffice.gov.uk/svn/roses-u/c/j/8/7/7/trunk</pre><div class='xr-wrap' style='display:none'><div class='xr-header'><div class='xr-obj-type'>xarray.DataArray</div><div class='xr-array-name'>'aice'</div><ul class='xr-dim-list'><li><span class='xr-has-index'>month</span>: 12</li><li><span class='xr-has-index'>yt_ocean</span>: 407</li><li><span class='xr-has-index'>xt_ocean</span>: 1440</li></ul></div><ul class='xr-sections'><li class='xr-section-item'><div class='xr-array-wrap'><input id='section-10aa96a6-89e8-4fe4-b882-9077b64f946c' class='xr-array-in' type='checkbox' checked><label for='section-10aa96a6-89e8-4fe4-b882-9077b64f946c' title='Show/hide data repr'><svg class='icon xr-icon-database'><use xlink:href='#icon-database'></use></svg></label><div class='xr-array-preview xr-preview'><span>...</span></div><div class='xr-array-data'><pre>[7032960 values with dtype=float32]</pre></div></div></li><li class='xr-section-item'><input id='section-769ecac0-b491-4a13-a461-17f35a9db4d6' class='xr-section-summary-in' type='checkbox'  checked><label for='section-769ecac0-b491-4a13-a461-17f35a9db4d6' class='xr-section-summary' >Coordinates: <span>(7)</span></label><div class='xr-section-inline-details'></div><div class='xr-section-details'><ul class='xr-var-list'><li class='xr-var-item'><div class='xr-var-name'><span>TLON</span></div><div class='xr-var-dims'>(yt_ocean, xt_ocean)</div><div class='xr-var-dtype'>float32</div><div class='xr-var-preview xr-preview'>...</div><input id='attrs-cef960e9-9ffa-4a42-b85e-ee26e1ac0f31' class='xr-var-attrs-in' type='checkbox' ><label for='attrs-cef960e9-9ffa-4a42-b85e-ee26e1ac0f31' title='Show/Hide attributes'><svg class='icon xr-icon-file-text2'><use xlink:href='#icon-file-text2'></use></svg></label><input id='data-e621480b-f47b-4748-9446-d49ce85601c3' class='xr-var-data-in' type='checkbox'><label for='data-e621480b-f47b-4748-9446-d49ce85601c3' title='Show/Hide data repr'><svg class='icon xr-icon-database'><use xlink:href='#icon-database'></use></svg></label><div class='xr-var-attrs'><dl class='xr-attrs'><dt><span>long_name :</span></dt><dd>T grid center longitude</dd><dt><span>units :</span></dt><dd>degrees_east</dd></dl></div><div class='xr-var-data'><pre>[586080 values with dtype=float32]</pre></div></li><li class='xr-var-item'><div class='xr-var-name'><span>TLAT</span></div><div class='xr-var-dims'>(yt_ocean, xt_ocean)</div><div class='xr-var-dtype'>float32</div><div class='xr-var-preview xr-preview'>...</div><input id='attrs-15ce326f-ced0-4bad-9765-19adb65f1534' class='xr-var-attrs-in' type='checkbox' ><label for='attrs-15ce326f-ced0-4bad-9765-19adb65f1534' title='Show/Hide attributes'><svg class='icon xr-icon-file-text2'><use xlink:href='#icon-file-text2'></use></svg></label><input id='data-23273c7a-760a-4190-a6ca-b0b8660ee9e1' class='xr-var-data-in' type='checkbox'><label for='data-23273c7a-760a-4190-a6ca-b0b8660ee9e1' title='Show/Hide data repr'><svg class='icon xr-icon-database'><use xlink:href='#icon-database'></use></svg></label><div class='xr-var-attrs'><dl class='xr-attrs'><dt><span>long_name :</span></dt><dd>T grid center latitude</dd><dt><span>units :</span></dt><dd>degrees_north</dd></dl></div><div class='xr-var-data'><pre>[586080 values with dtype=float32]</pre></div></li><li class='xr-var-item'><div class='xr-var-name'><span>ULON</span></div><div class='xr-var-dims'>(yt_ocean, xt_ocean)</div><div class='xr-var-dtype'>float32</div><div class='xr-var-preview xr-preview'>...</div><input id='attrs-d4bdbb6e-1124-416d-930c-b15170bcb98d' class='xr-var-attrs-in' type='checkbox' ><label for='attrs-d4bdbb6e-1124-416d-930c-b15170bcb98d' title='Show/Hide attributes'><svg class='icon xr-icon-file-text2'><use xlink:href='#icon-file-text2'></use></svg></label><input id='data-f8ad674f-af9e-4531-9797-d7b979f29df1' class='xr-var-data-in' type='checkbox'><label for='data-f8ad674f-af9e-4531-9797-d7b979f29df1' title='Show/Hide data repr'><svg class='icon xr-icon-database'><use xlink:href='#icon-database'></use></svg></label><div class='xr-var-attrs'><dl class='xr-attrs'><dt><span>long_name :</span></dt><dd>U grid center longitude</dd><dt><span>units :</span></dt><dd>degrees_east</dd></dl></div><div class='xr-var-data'><pre>[586080 values with dtype=float32]</pre></div></li><li class='xr-var-item'><div class='xr-var-name'><span>ULAT</span></div><div class='xr-var-dims'>(yt_ocean, xt_ocean)</div><div class='xr-var-dtype'>float32</div><div class='xr-var-preview xr-preview'>...</div><input id='attrs-278d27c1-ce24-4c07-b603-65440cb9ed72' class='xr-var-attrs-in' type='checkbox' ><label for='attrs-278d27c1-ce24-4c07-b603-65440cb9ed72' title='Show/Hide attributes'><svg class='icon xr-icon-file-text2'><use xlink:href='#icon-file-text2'></use></svg></label><input id='data-bbe039ec-0874-47af-900e-0ab6f5e31af7' class='xr-var-data-in' type='checkbox'><label for='data-bbe039ec-0874-47af-900e-0ab6f5e31af7' title='Show/Hide data repr'><svg class='icon xr-icon-database'><use xlink:href='#icon-database'></use></svg></label><div class='xr-var-attrs'><dl class='xr-attrs'><dt><span>long_name :</span></dt><dd>U grid center latitude</dd><dt><span>units :</span></dt><dd>degrees_north</dd><dt><span>comment :</span></dt><dd>Latitude of NE corner of T grid cell</dd></dl></div><div class='xr-var-data'><pre>[586080 values with dtype=float32]</pre></div></li><li class='xr-var-item'><div class='xr-var-name'><span class='xr-has-index'>xt_ocean</span></div><div class='xr-var-dims'>(xt_ocean)</div><div class='xr-var-dtype'>float64</div><div class='xr-var-preview xr-preview'>-279.9 -279.6 ... 79.62 79.88</div><input id='attrs-06160534-01b0-4981-b390-e58a6e682464' class='xr-var-attrs-in' type='checkbox' disabled><label for='attrs-06160534-01b0-4981-b390-e58a6e682464' title='Show/Hide attributes'><svg class='icon xr-icon-file-text2'><use xlink:href='#icon-file-text2'></use></svg></label><input id='data-32fff6f0-a292-45e5-84da-101d92d0770c' class='xr-var-data-in' type='checkbox'><label for='data-32fff6f0-a292-45e5-84da-101d92d0770c' title='Show/Hide data repr'><svg class='icon xr-icon-database'><use xlink:href='#icon-database'></use></svg></label><div class='xr-var-attrs'><dl class='xr-attrs'></dl></div><div class='xr-var-data'><pre>array([-279.875, -279.625, -279.375, ...,   79.375,   79.625,   79.875])</pre></div></li><li class='xr-var-item'><div class='xr-var-name'><span class='xr-has-index'>yt_ocean</span></div><div class='xr-var-dims'>(yt_ocean)</div><div class='xr-var-dtype'>float64</div><div class='xr-var-preview xr-preview'>40.13 40.32 40.51 ... 89.84 89.95</div><input id='attrs-5173cf72-8c01-4c36-b17a-94a1e4fd3bd6' class='xr-var-attrs-in' type='checkbox' disabled><label for='attrs-5173cf72-8c01-4c36-b17a-94a1e4fd3bd6' title='Show/Hide attributes'><svg class='icon xr-icon-file-text2'><use xlink:href='#icon-file-text2'></use></svg></label><input id='data-e15edb65-8bfd-4144-a0a5-43d0592e8716' class='xr-var-data-in' type='checkbox'><label for='data-e15edb65-8bfd-4144-a0a5-43d0592e8716' title='Show/Hide data repr'><svg class='icon xr-icon-database'><use xlink:href='#icon-database'></use></svg></label><div class='xr-var-attrs'><dl class='xr-attrs'></dl></div><div class='xr-var-data'><pre>array([40.125204, 40.316094, 40.506447, ..., 89.736085, 89.841684, 89.947282])</pre></div></li><li class='xr-var-item'><div class='xr-var-name'><span class='xr-has-index'>month</span></div><div class='xr-var-dims'>(month)</div><div class='xr-var-dtype'>int64</div><div class='xr-var-preview xr-preview'>1 2 3 4 5 6 7 8 9 10 11 12</div><input id='attrs-c42b62da-72e7-42b2-b91e-5a5e0eb69918' class='xr-var-attrs-in' type='checkbox' disabled><label for='attrs-c42b62da-72e7-42b2-b91e-5a5e0eb69918' title='Show/Hide attributes'><svg class='icon xr-icon-file-text2'><use xlink:href='#icon-file-text2'></use></svg></label><input id='data-e9b1754f-9990-4dc2-a671-411e7f5e7574' class='xr-var-data-in' type='checkbox'><label for='data-e9b1754f-9990-4dc2-a671-411e7f5e7574' title='Show/Hide data repr'><svg class='icon xr-icon-database'><use xlink:href='#icon-database'></use></svg></label><div class='xr-var-attrs'><dl class='xr-attrs'></dl></div><div class='xr-var-data'><pre>array([ 1,  2,  3,  4,  5,  6,  7,  8,  9, 10, 11, 12])</pre></div></li></ul></div></li><li class='xr-section-item'><input id='section-a8d87729-4d76-4d73-b522-2f49f3a9ac9e' class='xr-section-summary-in' type='checkbox'  ><label for='section-a8d87729-4d76-4d73-b522-2f49f3a9ac9e' class='xr-section-summary' >Indexes: <span>(3)</span></label><div class='xr-section-inline-details'></div><div class='xr-section-details'><ul class='xr-var-list'><li class='xr-var-item'><div class='xr-index-name'><div>xt_ocean</div></div><div class='xr-index-preview'>PandasIndex</div><div></div><input id='index-77a630dc-dd22-4dd6-a315-419e1d6a591a' class='xr-index-data-in' type='checkbox'/><label for='index-77a630dc-dd22-4dd6-a315-419e1d6a591a' title='Show/Hide index repr'><svg class='icon xr-icon-database'><use xlink:href='#icon-database'></use></svg></label><div class='xr-index-data'><pre>PandasIndex(Float64Index([-279.875, -279.625, -279.375, -279.125, -278.875, -278.625,\n",
       "              -278.375, -278.125, -277.875, -277.625,\n",
       "              ...\n",
       "                77.625,   77.875,   78.125,   78.375,   78.625,   78.875,\n",
       "                79.125,   79.375,   79.625,   79.875],\n",
       "             dtype=&#x27;float64&#x27;, name=&#x27;xt_ocean&#x27;, length=1440))</pre></div></li><li class='xr-var-item'><div class='xr-index-name'><div>yt_ocean</div></div><div class='xr-index-preview'>PandasIndex</div><div></div><input id='index-3816e7c8-38f1-4721-8176-af182c03ab87' class='xr-index-data-in' type='checkbox'/><label for='index-3816e7c8-38f1-4721-8176-af182c03ab87' title='Show/Hide index repr'><svg class='icon xr-icon-database'><use xlink:href='#icon-database'></use></svg></label><div class='xr-index-data'><pre>PandasIndex(Float64Index([40.125204026746204,  40.31609397370077, 40.506447337245405,\n",
       "              40.696260413788075,  40.88553578514614,  41.07426978038944,\n",
       "              41.262465049367066,  41.45011795286375, 41.637231208288156,\n",
       "               41.82380120718251,\n",
       "              ...\n",
       "                88.9968950242055,  89.10249361341039,  89.20809220261533,\n",
       "               89.31369079182024,  89.41928938102512,  89.52488797023008,\n",
       "                 89.630486559435,  89.73608514863992,  89.84168373784476,\n",
       "               89.94728232704986],\n",
       "             dtype=&#x27;float64&#x27;, name=&#x27;yt_ocean&#x27;, length=407))</pre></div></li><li class='xr-var-item'><div class='xr-index-name'><div>month</div></div><div class='xr-index-preview'>PandasIndex</div><div></div><input id='index-08fb5dfb-586b-4507-b44a-dcea495e9f26' class='xr-index-data-in' type='checkbox'/><label for='index-08fb5dfb-586b-4507-b44a-dcea495e9f26' title='Show/Hide index repr'><svg class='icon xr-icon-database'><use xlink:href='#icon-database'></use></svg></label><div class='xr-index-data'><pre>PandasIndex(Int64Index([1, 2, 3, 4, 5, 6, 7, 8, 9, 10, 11, 12], dtype=&#x27;int64&#x27;, name=&#x27;month&#x27;))</pre></div></li></ul></div></li><li class='xr-section-item'><input id='section-a77f8773-de63-4416-8706-f76c114276fd' class='xr-section-summary-in' type='checkbox'  ><label for='section-a77f8773-de63-4416-8706-f76c114276fd' class='xr-section-summary' >Attributes: <span>(11)</span></label><div class='xr-section-inline-details'></div><div class='xr-section-details'><dl class='xr-attrs'><dt><span>units :</span></dt><dd>1</dd><dt><span>long_name :</span></dt><dd>ice area  (aggregate)</dd><dt><span>cell_measures :</span></dt><dd>area: tarea</dd><dt><span>cell_methods :</span></dt><dd>time: mean</dd><dt><span>time_rep :</span></dt><dd>averaged</dd><dt><span>ncfiles :</span></dt><dd>[&#x27;/g/data/p73/archive/non-CMIP/ACCESS-CM2/cj877/history/ice/iceh_m.0399-12.nc&#x27;, &#x27;/g/data/p73/archive/non-CMIP/ACCESS-CM2/cj877/history/ice/iceh_m.0400-01.nc&#x27;, &#x27;/g/data/p73/archive/non-CMIP/ACCESS-CM2/cj877/history/ice/iceh_m.0400-02.nc&#x27;, &#x27;/g/data/p73/archive/non-CMIP/ACCESS-CM2/cj877/history/ice/iceh_m.0400-03.nc&#x27;, &#x27;/g/data/p73/archive/non-CMIP/ACCESS-CM2/cj877/history/ice/iceh_m.0400-04.nc&#x27;, &#x27;/g/data/p73/archive/non-CMIP/ACCESS-CM2/cj877/history/ice/iceh_m.0400-05.nc&#x27;, &#x27;/g/data/p73/archive/non-CMIP/ACCESS-CM2/cj877/history/ice/iceh_m.0400-06.nc&#x27;, &#x27;/g/data/p73/archive/non-CMIP/ACCESS-CM2/cj877/history/ice/iceh_m.0400-07.nc&#x27;, &#x27;/g/data/p73/archive/non-CMIP/ACCESS-CM2/cj877/history/ice/iceh_m.0400-08.nc&#x27;, &#x27;/g/data/p73/archive/non-CMIP/ACCESS-CM2/cj877/history/ice/iceh_m.0400-09.nc&#x27;, &#x27;/g/data/p73/archive/non-CMIP/ACCESS-CM2/cj877/history/ice/iceh_m.0400-10.nc&#x27;, &#x27;/g/data/p73/archive/non-CMIP/ACCESS-CM2/cj877/history/ice/iceh_m.0400-11.nc&#x27;, &#x27;/g/data/p73/archive/non-CMIP/ACCESS-CM2/cj877/history/ice/iceh_m.0400-12.nc&#x27;, &#x27;/g/data/p73/archive/non-CMIP/ACCESS-CM2/cj877/history/ice/iceh_m.0401-01.nc&#x27;, &#x27;/g/data/p73/archive/non-CMIP/ACCESS-CM2/cj877/history/ice/iceh_m.0401-02.nc&#x27;, &#x27;/g/data/p73/archive/non-CMIP/ACCESS-CM2/cj877/history/ice/iceh_m.0401-03.nc&#x27;, &#x27;/g/data/p73/archive/non-CMIP/ACCESS-CM2/cj877/history/ice/iceh_m.0401-04.nc&#x27;, &#x27;/g/data/p73/archive/non-CMIP/ACCESS-CM2/cj877/history/ice/iceh_m.0401-05.nc&#x27;, &#x27;/g/data/p73/archive/non-CMIP/ACCESS-CM2/cj877/history/ice/iceh_m.0401-06.nc&#x27;, &#x27;/g/data/p73/archive/non-CMIP/ACCESS-CM2/cj877/history/ice/iceh_m.0401-07.nc&#x27;, &#x27;/g/data/p73/archive/non-CMIP/ACCESS-CM2/cj877/history/ice/iceh_m.0401-08.nc&#x27;, &#x27;/g/data/p73/archive/non-CMIP/ACCESS-CM2/cj877/history/ice/iceh_m.0401-09.nc&#x27;, &#x27;/g/data/p73/archive/non-CMIP/ACCESS-CM2/cj877/history/ice/iceh_m.0401-10.nc&#x27;, &#x27;/g/data/p73/archive/non-CMIP/ACCESS-CM2/cj877/history/ice/iceh_m.0401-11.nc&#x27;, &#x27;/g/data/p73/archive/non-CMIP/ACCESS-CM2/cj877/history/ice/iceh_m.0401-12.nc&#x27;, &#x27;/g/data/p73/archive/non-CMIP/ACCESS-CM2/cj877/history/ice/iceh_m.0402-01.nc&#x27;, &#x27;/g/data/p73/archive/non-CMIP/ACCESS-CM2/cj877/history/ice/iceh_m.0402-02.nc&#x27;, &#x27;/g/data/p73/archive/non-CMIP/ACCESS-CM2/cj877/history/ice/iceh_m.0402-03.nc&#x27;, &#x27;/g/data/p73/archive/non-CMIP/ACCESS-CM2/cj877/history/ice/iceh_m.0402-04.nc&#x27;, &#x27;/g/data/p73/archive/non-CMIP/ACCESS-CM2/cj877/history/ice/iceh_m.0402-05.nc&#x27;, &#x27;/g/data/p73/archive/non-CMIP/ACCESS-CM2/cj877/history/ice/iceh_m.0402-06.nc&#x27;, &#x27;/g/data/p73/archive/non-CMIP/ACCESS-CM2/cj877/history/ice/iceh_m.0402-07.nc&#x27;, &#x27;/g/data/p73/archive/non-CMIP/ACCESS-CM2/cj877/history/ice/iceh_m.0402-08.nc&#x27;, &#x27;/g/data/p73/archive/non-CMIP/ACCESS-CM2/cj877/history/ice/iceh_m.0402-09.nc&#x27;, &#x27;/g/data/p73/archive/non-CMIP/ACCESS-CM2/cj877/history/ice/iceh_m.0402-10.nc&#x27;, &#x27;/g/data/p73/archive/non-CMIP/ACCESS-CM2/cj877/history/ice/iceh_m.0402-11.nc&#x27;, &#x27;/g/data/p73/archive/non-CMIP/ACCESS-CM2/cj877/history/ice/iceh_m.0402-12.nc&#x27;, &#x27;/g/data/p73/archive/non-CMIP/ACCESS-CM2/cj877/history/ice/iceh_m.0403-01.nc&#x27;, &#x27;/g/data/p73/archive/non-CMIP/ACCESS-CM2/cj877/history/ice/iceh_m.0403-02.nc&#x27;, &#x27;/g/data/p73/archive/non-CMIP/ACCESS-CM2/cj877/history/ice/iceh_m.0403-03.nc&#x27;, &#x27;/g/data/p73/archive/non-CMIP/ACCESS-CM2/cj877/history/ice/iceh_m.0403-04.nc&#x27;, &#x27;/g/data/p73/archive/non-CMIP/ACCESS-CM2/cj877/history/ice/iceh_m.0403-05.nc&#x27;, &#x27;/g/data/p73/archive/non-CMIP/ACCESS-CM2/cj877/history/ice/iceh_m.0403-06.nc&#x27;, &#x27;/g/data/p73/archive/non-CMIP/ACCESS-CM2/cj877/history/ice/iceh_m.0403-07.nc&#x27;, &#x27;/g/data/p73/archive/non-CMIP/ACCESS-CM2/cj877/history/ice/iceh_m.0403-08.nc&#x27;, &#x27;/g/data/p73/archive/non-CMIP/ACCESS-CM2/cj877/history/ice/iceh_m.0403-09.nc&#x27;, &#x27;/g/data/p73/archive/non-CMIP/ACCESS-CM2/cj877/history/ice/iceh_m.0403-10.nc&#x27;, &#x27;/g/data/p73/archive/non-CMIP/ACCESS-CM2/cj877/history/ice/iceh_m.0403-11.nc&#x27;, &#x27;/g/data/p73/archive/non-CMIP/ACCESS-CM2/cj877/history/ice/iceh_m.0403-12.nc&#x27;, &#x27;/g/data/p73/archive/non-CMIP/ACCESS-CM2/cj877/history/ice/iceh_m.0404-01.nc&#x27;, &#x27;/g/data/p73/archive/non-CMIP/ACCESS-CM2/cj877/history/ice/iceh_m.0404-02.nc&#x27;, &#x27;/g/data/p73/archive/non-CMIP/ACCESS-CM2/cj877/history/ice/iceh_m.0404-03.nc&#x27;, &#x27;/g/data/p73/archive/non-CMIP/ACCESS-CM2/cj877/history/ice/iceh_m.0404-04.nc&#x27;, &#x27;/g/data/p73/archive/non-CMIP/ACCESS-CM2/cj877/history/ice/iceh_m.0404-05.nc&#x27;, &#x27;/g/data/p73/archive/non-CMIP/ACCESS-CM2/cj877/history/ice/iceh_m.0404-06.nc&#x27;, &#x27;/g/data/p73/archive/non-CMIP/ACCESS-CM2/cj877/history/ice/iceh_m.0404-07.nc&#x27;, &#x27;/g/data/p73/archive/non-CMIP/ACCESS-CM2/cj877/history/ice/iceh_m.0404-08.nc&#x27;, &#x27;/g/data/p73/archive/non-CMIP/ACCESS-CM2/cj877/history/ice/iceh_m.0404-09.nc&#x27;, &#x27;/g/data/p73/archive/non-CMIP/ACCESS-CM2/cj877/history/ice/iceh_m.0404-10.nc&#x27;, &#x27;/g/data/p73/archive/non-CMIP/ACCESS-CM2/cj877/history/ice/iceh_m.0404-11.nc&#x27;, &#x27;/g/data/p73/archive/non-CMIP/ACCESS-CM2/cj877/history/ice/iceh_m.0404-12.nc&#x27;, &#x27;/g/data/p73/archive/non-CMIP/ACCESS-CM2/cj877/history/ice/iceh_m.0405-01.nc&#x27;, &#x27;/g/data/p73/archive/non-CMIP/ACCESS-CM2/cj877/history/ice/iceh_m.0405-02.nc&#x27;, &#x27;/g/data/p73/archive/non-CMIP/ACCESS-CM2/cj877/history/ice/iceh_m.0405-03.nc&#x27;, &#x27;/g/data/p73/archive/non-CMIP/ACCESS-CM2/cj877/history/ice/iceh_m.0405-04.nc&#x27;, &#x27;/g/data/p73/archive/non-CMIP/ACCESS-CM2/cj877/history/ice/iceh_m.0405-05.nc&#x27;, &#x27;/g/data/p73/archive/non-CMIP/ACCESS-CM2/cj877/history/ice/iceh_m.0405-06.nc&#x27;, &#x27;/g/data/p73/archive/non-CMIP/ACCESS-CM2/cj877/history/ice/iceh_m.0405-07.nc&#x27;, &#x27;/g/data/p73/archive/non-CMIP/ACCESS-CM2/cj877/history/ice/iceh_m.0405-08.nc&#x27;, &#x27;/g/data/p73/archive/non-CMIP/ACCESS-CM2/cj877/history/ice/iceh_m.0405-09.nc&#x27;, &#x27;/g/data/p73/archive/non-CMIP/ACCESS-CM2/cj877/history/ice/iceh_m.0405-10.nc&#x27;, &#x27;/g/data/p73/archive/non-CMIP/ACCESS-CM2/cj877/history/ice/iceh_m.0405-11.nc&#x27;, &#x27;/g/data/p73/archive/non-CMIP/ACCESS-CM2/cj877/history/ice/iceh_m.0405-12.nc&#x27;, &#x27;/g/data/p73/archive/non-CMIP/ACCESS-CM2/cj877/history/ice/iceh_m.0406-01.nc&#x27;, &#x27;/g/data/p73/archive/non-CMIP/ACCESS-CM2/cj877/history/ice/iceh_m.0406-02.nc&#x27;, &#x27;/g/data/p73/archive/non-CMIP/ACCESS-CM2/cj877/history/ice/iceh_m.0406-03.nc&#x27;, &#x27;/g/data/p73/archive/non-CMIP/ACCESS-CM2/cj877/history/ice/iceh_m.0406-04.nc&#x27;, &#x27;/g/data/p73/archive/non-CMIP/ACCESS-CM2/cj877/history/ice/iceh_m.0406-05.nc&#x27;, &#x27;/g/data/p73/archive/non-CMIP/ACCESS-CM2/cj877/history/ice/iceh_m.0406-06.nc&#x27;, &#x27;/g/data/p73/archive/non-CMIP/ACCESS-CM2/cj877/history/ice/iceh_m.0406-07.nc&#x27;, &#x27;/g/data/p73/archive/non-CMIP/ACCESS-CM2/cj877/history/ice/iceh_m.0406-08.nc&#x27;, &#x27;/g/data/p73/archive/non-CMIP/ACCESS-CM2/cj877/history/ice/iceh_m.0406-09.nc&#x27;, &#x27;/g/data/p73/archive/non-CMIP/ACCESS-CM2/cj877/history/ice/iceh_m.0406-10.nc&#x27;, &#x27;/g/data/p73/archive/non-CMIP/ACCESS-CM2/cj877/history/ice/iceh_m.0406-11.nc&#x27;, &#x27;/g/data/p73/archive/non-CMIP/ACCESS-CM2/cj877/history/ice/iceh_m.0406-12.nc&#x27;, &#x27;/g/data/p73/archive/non-CMIP/ACCESS-CM2/cj877/history/ice/iceh_m.0407-01.nc&#x27;, &#x27;/g/data/p73/archive/non-CMIP/ACCESS-CM2/cj877/history/ice/iceh_m.0407-02.nc&#x27;, &#x27;/g/data/p73/archive/non-CMIP/ACCESS-CM2/cj877/history/ice/iceh_m.0407-03.nc&#x27;, &#x27;/g/data/p73/archive/non-CMIP/ACCESS-CM2/cj877/history/ice/iceh_m.0407-04.nc&#x27;, &#x27;/g/data/p73/archive/non-CMIP/ACCESS-CM2/cj877/history/ice/iceh_m.0407-05.nc&#x27;, &#x27;/g/data/p73/archive/non-CMIP/ACCESS-CM2/cj877/history/ice/iceh_m.0407-06.nc&#x27;, &#x27;/g/data/p73/archive/non-CMIP/ACCESS-CM2/cj877/history/ice/iceh_m.0407-07.nc&#x27;, &#x27;/g/data/p73/archive/non-CMIP/ACCESS-CM2/cj877/history/ice/iceh_m.0407-08.nc&#x27;, &#x27;/g/data/p73/archive/non-CMIP/ACCESS-CM2/cj877/history/ice/iceh_m.0407-09.nc&#x27;, &#x27;/g/data/p73/archive/non-CMIP/ACCESS-CM2/cj877/history/ice/iceh_m.0407-10.nc&#x27;, &#x27;/g/data/p73/archive/non-CMIP/ACCESS-CM2/cj877/history/ice/iceh_m.0407-11.nc&#x27;, &#x27;/g/data/p73/archive/non-CMIP/ACCESS-CM2/cj877/history/ice/iceh_m.0407-12.nc&#x27;, &#x27;/g/data/p73/archive/non-CMIP/ACCESS-CM2/cj877/history/ice/iceh_m.0408-01.nc&#x27;, &#x27;/g/data/p73/archive/non-CMIP/ACCESS-CM2/cj877/history/ice/iceh_m.0408-02.nc&#x27;, &#x27;/g/data/p73/archive/non-CMIP/ACCESS-CM2/cj877/history/ice/iceh_m.0408-03.nc&#x27;, &#x27;/g/data/p73/archive/non-CMIP/ACCESS-CM2/cj877/history/ice/iceh_m.0408-04.nc&#x27;, &#x27;/g/data/p73/archive/non-CMIP/ACCESS-CM2/cj877/history/ice/iceh_m.0408-05.nc&#x27;, &#x27;/g/data/p73/archive/non-CMIP/ACCESS-CM2/cj877/history/ice/iceh_m.0408-06.nc&#x27;, &#x27;/g/data/p73/archive/non-CMIP/ACCESS-CM2/cj877/history/ice/iceh_m.0408-07.nc&#x27;, &#x27;/g/data/p73/archive/non-CMIP/ACCESS-CM2/cj877/history/ice/iceh_m.0408-08.nc&#x27;, &#x27;/g/data/p73/archive/non-CMIP/ACCESS-CM2/cj877/history/ice/iceh_m.0408-09.nc&#x27;, &#x27;/g/data/p73/archive/non-CMIP/ACCESS-CM2/cj877/history/ice/iceh_m.0408-10.nc&#x27;, &#x27;/g/data/p73/archive/non-CMIP/ACCESS-CM2/cj877/history/ice/iceh_m.0408-11.nc&#x27;, &#x27;/g/data/p73/archive/non-CMIP/ACCESS-CM2/cj877/history/ice/iceh_m.0408-12.nc&#x27;, &#x27;/g/data/p73/archive/non-CMIP/ACCESS-CM2/cj877/history/ice/iceh_m.0409-01.nc&#x27;, &#x27;/g/data/p73/archive/non-CMIP/ACCESS-CM2/cj877/history/ice/iceh_m.0409-02.nc&#x27;, &#x27;/g/data/p73/archive/non-CMIP/ACCESS-CM2/cj877/history/ice/iceh_m.0409-03.nc&#x27;, &#x27;/g/data/p73/archive/non-CMIP/ACCESS-CM2/cj877/history/ice/iceh_m.0409-04.nc&#x27;, &#x27;/g/data/p73/archive/non-CMIP/ACCESS-CM2/cj877/history/ice/iceh_m.0409-05.nc&#x27;, &#x27;/g/data/p73/archive/non-CMIP/ACCESS-CM2/cj877/history/ice/iceh_m.0409-06.nc&#x27;, &#x27;/g/data/p73/archive/non-CMIP/ACCESS-CM2/cj877/history/ice/iceh_m.0409-07.nc&#x27;, &#x27;/g/data/p73/archive/non-CMIP/ACCESS-CM2/cj877/history/ice/iceh_m.0409-08.nc&#x27;, &#x27;/g/data/p73/archive/non-CMIP/ACCESS-CM2/cj877/history/ice/iceh_m.0409-09.nc&#x27;, &#x27;/g/data/p73/archive/non-CMIP/ACCESS-CM2/cj877/history/ice/iceh_m.0409-10.nc&#x27;, &#x27;/g/data/p73/archive/non-CMIP/ACCESS-CM2/cj877/history/ice/iceh_m.0409-11.nc&#x27;, &#x27;/g/data/p73/archive/non-CMIP/ACCESS-CM2/cj877/history/ice/iceh_m.0409-12.nc&#x27;, &#x27;/g/data/p73/archive/non-CMIP/ACCESS-CM2/cj877/history/ice/iceh_m.0410-01.nc&#x27;, &#x27;/g/data/p73/archive/non-CMIP/ACCESS-CM2/cj877/history/ice/iceh_m.0410-02.nc&#x27;, &#x27;/g/data/p73/archive/non-CMIP/ACCESS-CM2/cj877/history/ice/iceh_m.0410-03.nc&#x27;, &#x27;/g/data/p73/archive/non-CMIP/ACCESS-CM2/cj877/history/ice/iceh_m.0410-04.nc&#x27;, &#x27;/g/data/p73/archive/non-CMIP/ACCESS-CM2/cj877/history/ice/iceh_m.0410-05.nc&#x27;, &#x27;/g/data/p73/archive/non-CMIP/ACCESS-CM2/cj877/history/ice/iceh_m.0410-06.nc&#x27;, &#x27;/g/data/p73/archive/non-CMIP/ACCESS-CM2/cj877/history/ice/iceh_m.0410-07.nc&#x27;, &#x27;/g/data/p73/archive/non-CMIP/ACCESS-CM2/cj877/history/ice/iceh_m.0410-08.nc&#x27;, &#x27;/g/data/p73/archive/non-CMIP/ACCESS-CM2/cj877/history/ice/iceh_m.0410-09.nc&#x27;, &#x27;/g/data/p73/archive/non-CMIP/ACCESS-CM2/cj877/history/ice/iceh_m.0410-10.nc&#x27;, &#x27;/g/data/p73/archive/non-CMIP/ACCESS-CM2/cj877/history/ice/iceh_m.0410-11.nc&#x27;, &#x27;/g/data/p73/archive/non-CMIP/ACCESS-CM2/cj877/history/ice/iceh_m.0410-12.nc&#x27;, &#x27;/g/data/p73/archive/non-CMIP/ACCESS-CM2/cj877/history/ice/iceh_m.0411-01.nc&#x27;, &#x27;/g/data/p73/archive/non-CMIP/ACCESS-CM2/cj877/history/ice/iceh_m.0411-02.nc&#x27;, &#x27;/g/data/p73/archive/non-CMIP/ACCESS-CM2/cj877/history/ice/iceh_m.0411-03.nc&#x27;, &#x27;/g/data/p73/archive/non-CMIP/ACCESS-CM2/cj877/history/ice/iceh_m.0411-04.nc&#x27;, &#x27;/g/data/p73/archive/non-CMIP/ACCESS-CM2/cj877/history/ice/iceh_m.0411-05.nc&#x27;, &#x27;/g/data/p73/archive/non-CMIP/ACCESS-CM2/cj877/history/ice/iceh_m.0411-06.nc&#x27;, &#x27;/g/data/p73/archive/non-CMIP/ACCESS-CM2/cj877/history/ice/iceh_m.0411-07.nc&#x27;, &#x27;/g/data/p73/archive/non-CMIP/ACCESS-CM2/cj877/history/ice/iceh_m.0411-08.nc&#x27;, &#x27;/g/data/p73/archive/non-CMIP/ACCESS-CM2/cj877/history/ice/iceh_m.0411-09.nc&#x27;, &#x27;/g/data/p73/archive/non-CMIP/ACCESS-CM2/cj877/history/ice/iceh_m.0411-10.nc&#x27;, &#x27;/g/data/p73/archive/non-CMIP/ACCESS-CM2/cj877/history/ice/iceh_m.0411-11.nc&#x27;, &#x27;/g/data/p73/archive/non-CMIP/ACCESS-CM2/cj877/history/ice/iceh_m.0411-12.nc&#x27;, &#x27;/g/data/p73/archive/non-CMIP/ACCESS-CM2/cj877/history/ice/iceh_m.0412-01.nc&#x27;, &#x27;/g/data/p73/archive/non-CMIP/ACCESS-CM2/cj877/history/ice/iceh_m.0412-02.nc&#x27;, &#x27;/g/data/p73/archive/non-CMIP/ACCESS-CM2/cj877/history/ice/iceh_m.0412-03.nc&#x27;, &#x27;/g/data/p73/archive/non-CMIP/ACCESS-CM2/cj877/history/ice/iceh_m.0412-04.nc&#x27;, &#x27;/g/data/p73/archive/non-CMIP/ACCESS-CM2/cj877/history/ice/iceh_m.0412-05.nc&#x27;, &#x27;/g/data/p73/archive/non-CMIP/ACCESS-CM2/cj877/history/ice/iceh_m.0412-06.nc&#x27;, &#x27;/g/data/p73/archive/non-CMIP/ACCESS-CM2/cj877/history/ice/iceh_m.0412-07.nc&#x27;, &#x27;/g/data/p73/archive/non-CMIP/ACCESS-CM2/cj877/history/ice/iceh_m.0412-08.nc&#x27;, &#x27;/g/data/p73/archive/non-CMIP/ACCESS-CM2/cj877/history/ice/iceh_m.0412-09.nc&#x27;, &#x27;/g/data/p73/archive/non-CMIP/ACCESS-CM2/cj877/history/ice/iceh_m.0412-10.nc&#x27;, &#x27;/g/data/p73/archive/non-CMIP/ACCESS-CM2/cj877/history/ice/iceh_m.0412-11.nc&#x27;, &#x27;/g/data/p73/archive/non-CMIP/ACCESS-CM2/cj877/history/ice/iceh_m.0412-12.nc&#x27;, &#x27;/g/data/p73/archive/non-CMIP/ACCESS-CM2/cj877/history/ice/iceh_m.0413-01.nc&#x27;, &#x27;/g/data/p73/archive/non-CMIP/ACCESS-CM2/cj877/history/ice/iceh_m.0413-02.nc&#x27;, &#x27;/g/data/p73/archive/non-CMIP/ACCESS-CM2/cj877/history/ice/iceh_m.0413-03.nc&#x27;, &#x27;/g/data/p73/archive/non-CMIP/ACCESS-CM2/cj877/history/ice/iceh_m.0413-04.nc&#x27;, &#x27;/g/data/p73/archive/non-CMIP/ACCESS-CM2/cj877/history/ice/iceh_m.0413-05.nc&#x27;, &#x27;/g/data/p73/archive/non-CMIP/ACCESS-CM2/cj877/history/ice/iceh_m.0413-06.nc&#x27;, &#x27;/g/data/p73/archive/non-CMIP/ACCESS-CM2/cj877/history/ice/iceh_m.0413-07.nc&#x27;, &#x27;/g/data/p73/archive/non-CMIP/ACCESS-CM2/cj877/history/ice/iceh_m.0413-08.nc&#x27;, &#x27;/g/data/p73/archive/non-CMIP/ACCESS-CM2/cj877/history/ice/iceh_m.0413-09.nc&#x27;, &#x27;/g/data/p73/archive/non-CMIP/ACCESS-CM2/cj877/history/ice/iceh_m.0413-10.nc&#x27;, &#x27;/g/data/p73/archive/non-CMIP/ACCESS-CM2/cj877/history/ice/iceh_m.0413-11.nc&#x27;, &#x27;/g/data/p73/archive/non-CMIP/ACCESS-CM2/cj877/history/ice/iceh_m.0413-12.nc&#x27;, &#x27;/g/data/p73/archive/non-CMIP/ACCESS-CM2/cj877/history/ice/iceh_m.0414-01.nc&#x27;, &#x27;/g/data/p73/archive/non-CMIP/ACCESS-CM2/cj877/history/ice/iceh_m.0414-02.nc&#x27;, &#x27;/g/data/p73/archive/non-CMIP/ACCESS-CM2/cj877/history/ice/iceh_m.0414-03.nc&#x27;, &#x27;/g/data/p73/archive/non-CMIP/ACCESS-CM2/cj877/history/ice/iceh_m.0414-04.nc&#x27;, &#x27;/g/data/p73/archive/non-CMIP/ACCESS-CM2/cj877/history/ice/iceh_m.0414-05.nc&#x27;, &#x27;/g/data/p73/archive/non-CMIP/ACCESS-CM2/cj877/history/ice/iceh_m.0414-06.nc&#x27;, &#x27;/g/data/p73/archive/non-CMIP/ACCESS-CM2/cj877/history/ice/iceh_m.0414-07.nc&#x27;, &#x27;/g/data/p73/archive/non-CMIP/ACCESS-CM2/cj877/history/ice/iceh_m.0414-08.nc&#x27;, &#x27;/g/data/p73/archive/non-CMIP/ACCESS-CM2/cj877/history/ice/iceh_m.0414-09.nc&#x27;, &#x27;/g/data/p73/archive/non-CMIP/ACCESS-CM2/cj877/history/ice/iceh_m.0414-10.nc&#x27;, &#x27;/g/data/p73/archive/non-CMIP/ACCESS-CM2/cj877/history/ice/iceh_m.0414-11.nc&#x27;, &#x27;/g/data/p73/archive/non-CMIP/ACCESS-CM2/cj877/history/ice/iceh_m.0414-12.nc&#x27;, &#x27;/g/data/p73/archive/non-CMIP/ACCESS-CM2/cj877/history/ice/iceh_m.0415-01.nc&#x27;, &#x27;/g/data/p73/archive/non-CMIP/ACCESS-CM2/cj877/history/ice/iceh_m.0415-02.nc&#x27;, &#x27;/g/data/p73/archive/non-CMIP/ACCESS-CM2/cj877/history/ice/iceh_m.0415-03.nc&#x27;, &#x27;/g/data/p73/archive/non-CMIP/ACCESS-CM2/cj877/history/ice/iceh_m.0415-04.nc&#x27;, &#x27;/g/data/p73/archive/non-CMIP/ACCESS-CM2/cj877/history/ice/iceh_m.0415-05.nc&#x27;, &#x27;/g/data/p73/archive/non-CMIP/ACCESS-CM2/cj877/history/ice/iceh_m.0415-06.nc&#x27;, &#x27;/g/data/p73/archive/non-CMIP/ACCESS-CM2/cj877/history/ice/iceh_m.0415-07.nc&#x27;, &#x27;/g/data/p73/archive/non-CMIP/ACCESS-CM2/cj877/history/ice/iceh_m.0415-08.nc&#x27;, &#x27;/g/data/p73/archive/non-CMIP/ACCESS-CM2/cj877/history/ice/iceh_m.0415-09.nc&#x27;, &#x27;/g/data/p73/archive/non-CMIP/ACCESS-CM2/cj877/history/ice/iceh_m.0415-10.nc&#x27;, &#x27;/g/data/p73/archive/non-CMIP/ACCESS-CM2/cj877/history/ice/iceh_m.0415-11.nc&#x27;, &#x27;/g/data/p73/archive/non-CMIP/ACCESS-CM2/cj877/history/ice/iceh_m.0415-12.nc&#x27;, &#x27;/g/data/p73/archive/non-CMIP/ACCESS-CM2/cj877/history/ice/iceh_m.0416-01.nc&#x27;, &#x27;/g/data/p73/archive/non-CMIP/ACCESS-CM2/cj877/history/ice/iceh_m.0416-02.nc&#x27;, &#x27;/g/data/p73/archive/non-CMIP/ACCESS-CM2/cj877/history/ice/iceh_m.0416-03.nc&#x27;, &#x27;/g/data/p73/archive/non-CMIP/ACCESS-CM2/cj877/history/ice/iceh_m.0416-04.nc&#x27;, &#x27;/g/data/p73/archive/non-CMIP/ACCESS-CM2/cj877/history/ice/iceh_m.0416-05.nc&#x27;, &#x27;/g/data/p73/archive/non-CMIP/ACCESS-CM2/cj877/history/ice/iceh_m.0416-06.nc&#x27;, &#x27;/g/data/p73/archive/non-CMIP/ACCESS-CM2/cj877/history/ice/iceh_m.0416-07.nc&#x27;, &#x27;/g/data/p73/archive/non-CMIP/ACCESS-CM2/cj877/history/ice/iceh_m.0416-08.nc&#x27;, &#x27;/g/data/p73/archive/non-CMIP/ACCESS-CM2/cj877/history/ice/iceh_m.0416-09.nc&#x27;, &#x27;/g/data/p73/archive/non-CMIP/ACCESS-CM2/cj877/history/ice/iceh_m.0416-10.nc&#x27;, &#x27;/g/data/p73/archive/non-CMIP/ACCESS-CM2/cj877/history/ice/iceh_m.0416-11.nc&#x27;, &#x27;/g/data/p73/archive/non-CMIP/ACCESS-CM2/cj877/history/ice/iceh_m.0416-12.nc&#x27;, &#x27;/g/data/p73/archive/non-CMIP/ACCESS-CM2/cj877/history/ice/iceh_m.0417-01.nc&#x27;, &#x27;/g/data/p73/archive/non-CMIP/ACCESS-CM2/cj877/history/ice/iceh_m.0417-02.nc&#x27;, &#x27;/g/data/p73/archive/non-CMIP/ACCESS-CM2/cj877/history/ice/iceh_m.0417-03.nc&#x27;, &#x27;/g/data/p73/archive/non-CMIP/ACCESS-CM2/cj877/history/ice/iceh_m.0417-04.nc&#x27;, &#x27;/g/data/p73/archive/non-CMIP/ACCESS-CM2/cj877/history/ice/iceh_m.0417-05.nc&#x27;, &#x27;/g/data/p73/archive/non-CMIP/ACCESS-CM2/cj877/history/ice/iceh_m.0417-06.nc&#x27;, &#x27;/g/data/p73/archive/non-CMIP/ACCESS-CM2/cj877/history/ice/iceh_m.0417-07.nc&#x27;, &#x27;/g/data/p73/archive/non-CMIP/ACCESS-CM2/cj877/history/ice/iceh_m.0417-08.nc&#x27;, &#x27;/g/data/p73/archive/non-CMIP/ACCESS-CM2/cj877/history/ice/iceh_m.0417-09.nc&#x27;, &#x27;/g/data/p73/archive/non-CMIP/ACCESS-CM2/cj877/history/ice/iceh_m.0417-10.nc&#x27;, &#x27;/g/data/p73/archive/non-CMIP/ACCESS-CM2/cj877/history/ice/iceh_m.0417-11.nc&#x27;, &#x27;/g/data/p73/archive/non-CMIP/ACCESS-CM2/cj877/history/ice/iceh_m.0417-12.nc&#x27;, &#x27;/g/data/p73/archive/non-CMIP/ACCESS-CM2/cj877/history/ice/iceh_m.0418-01.nc&#x27;, &#x27;/g/data/p73/archive/non-CMIP/ACCESS-CM2/cj877/history/ice/iceh_m.0418-02.nc&#x27;, &#x27;/g/data/p73/archive/non-CMIP/ACCESS-CM2/cj877/history/ice/iceh_m.0418-03.nc&#x27;, &#x27;/g/data/p73/archive/non-CMIP/ACCESS-CM2/cj877/history/ice/iceh_m.0418-04.nc&#x27;, &#x27;/g/data/p73/archive/non-CMIP/ACCESS-CM2/cj877/history/ice/iceh_m.0418-05.nc&#x27;, &#x27;/g/data/p73/archive/non-CMIP/ACCESS-CM2/cj877/history/ice/iceh_m.0418-06.nc&#x27;, &#x27;/g/data/p73/archive/non-CMIP/ACCESS-CM2/cj877/history/ice/iceh_m.0418-07.nc&#x27;, &#x27;/g/data/p73/archive/non-CMIP/ACCESS-CM2/cj877/history/ice/iceh_m.0418-08.nc&#x27;, &#x27;/g/data/p73/archive/non-CMIP/ACCESS-CM2/cj877/history/ice/iceh_m.0418-09.nc&#x27;, &#x27;/g/data/p73/archive/non-CMIP/ACCESS-CM2/cj877/history/ice/iceh_m.0418-10.nc&#x27;, &#x27;/g/data/p73/archive/non-CMIP/ACCESS-CM2/cj877/history/ice/iceh_m.0418-11.nc&#x27;, &#x27;/g/data/p73/archive/non-CMIP/ACCESS-CM2/cj877/history/ice/iceh_m.0418-12.nc&#x27;, &#x27;/g/data/p73/archive/non-CMIP/ACCESS-CM2/cj877/history/ice/iceh_m.0419-01.nc&#x27;, &#x27;/g/data/p73/archive/non-CMIP/ACCESS-CM2/cj877/history/ice/iceh_m.0419-02.nc&#x27;, &#x27;/g/data/p73/archive/non-CMIP/ACCESS-CM2/cj877/history/ice/iceh_m.0419-03.nc&#x27;, &#x27;/g/data/p73/archive/non-CMIP/ACCESS-CM2/cj877/history/ice/iceh_m.0419-04.nc&#x27;, &#x27;/g/data/p73/archive/non-CMIP/ACCESS-CM2/cj877/history/ice/iceh_m.0419-05.nc&#x27;, &#x27;/g/data/p73/archive/non-CMIP/ACCESS-CM2/cj877/history/ice/iceh_m.0419-06.nc&#x27;, &#x27;/g/data/p73/archive/non-CMIP/ACCESS-CM2/cj877/history/ice/iceh_m.0419-07.nc&#x27;, &#x27;/g/data/p73/archive/non-CMIP/ACCESS-CM2/cj877/history/ice/iceh_m.0419-08.nc&#x27;, &#x27;/g/data/p73/archive/non-CMIP/ACCESS-CM2/cj877/history/ice/iceh_m.0419-09.nc&#x27;, &#x27;/g/data/p73/archive/non-CMIP/ACCESS-CM2/cj877/history/ice/iceh_m.0419-10.nc&#x27;, &#x27;/g/data/p73/archive/non-CMIP/ACCESS-CM2/cj877/history/ice/iceh_m.0419-11.nc&#x27;, &#x27;/g/data/p73/archive/non-CMIP/ACCESS-CM2/cj877/history/ice/iceh_m.0419-12.nc&#x27;, &#x27;/g/data/p73/archive/non-CMIP/ACCESS-CM2/cj877/history/ice/iceh_m.0420-01.nc&#x27;, &#x27;/g/data/p73/archive/non-CMIP/ACCESS-CM2/cj877/history/ice/iceh_m.0420-02.nc&#x27;, &#x27;/g/data/p73/archive/non-CMIP/ACCESS-CM2/cj877/history/ice/iceh_m.0420-03.nc&#x27;, &#x27;/g/data/p73/archive/non-CMIP/ACCESS-CM2/cj877/history/ice/iceh_m.0420-04.nc&#x27;, &#x27;/g/data/p73/archive/non-CMIP/ACCESS-CM2/cj877/history/ice/iceh_m.0420-05.nc&#x27;, &#x27;/g/data/p73/archive/non-CMIP/ACCESS-CM2/cj877/history/ice/iceh_m.0420-06.nc&#x27;, &#x27;/g/data/p73/archive/non-CMIP/ACCESS-CM2/cj877/history/ice/iceh_m.0420-07.nc&#x27;, &#x27;/g/data/p73/archive/non-CMIP/ACCESS-CM2/cj877/history/ice/iceh_m.0420-08.nc&#x27;, &#x27;/g/data/p73/archive/non-CMIP/ACCESS-CM2/cj877/history/ice/iceh_m.0420-09.nc&#x27;, &#x27;/g/data/p73/archive/non-CMIP/ACCESS-CM2/cj877/history/ice/iceh_m.0420-10.nc&#x27;, &#x27;/g/data/p73/archive/non-CMIP/ACCESS-CM2/cj877/history/ice/iceh_m.0420-11.nc&#x27;, &#x27;/g/data/p73/archive/non-CMIP/ACCESS-CM2/cj877/history/ice/iceh_m.0420-12.nc&#x27;, &#x27;/g/data/p73/archive/non-CMIP/ACCESS-CM2/cj877/history/ice/iceh_m.0421-01.nc&#x27;, &#x27;/g/data/p73/archive/non-CMIP/ACCESS-CM2/cj877/history/ice/iceh_m.0421-02.nc&#x27;, &#x27;/g/data/p73/archive/non-CMIP/ACCESS-CM2/cj877/history/ice/iceh_m.0421-03.nc&#x27;, &#x27;/g/data/p73/archive/non-CMIP/ACCESS-CM2/cj877/history/ice/iceh_m.0421-04.nc&#x27;, &#x27;/g/data/p73/archive/non-CMIP/ACCESS-CM2/cj877/history/ice/iceh_m.0421-05.nc&#x27;, &#x27;/g/data/p73/archive/non-CMIP/ACCESS-CM2/cj877/history/ice/iceh_m.0421-06.nc&#x27;, &#x27;/g/data/p73/archive/non-CMIP/ACCESS-CM2/cj877/history/ice/iceh_m.0421-07.nc&#x27;, &#x27;/g/data/p73/archive/non-CMIP/ACCESS-CM2/cj877/history/ice/iceh_m.0421-08.nc&#x27;, &#x27;/g/data/p73/archive/non-CMIP/ACCESS-CM2/cj877/history/ice/iceh_m.0421-09.nc&#x27;, &#x27;/g/data/p73/archive/non-CMIP/ACCESS-CM2/cj877/history/ice/iceh_m.0421-10.nc&#x27;, &#x27;/g/data/p73/archive/non-CMIP/ACCESS-CM2/cj877/history/ice/iceh_m.0421-11.nc&#x27;, &#x27;/g/data/p73/archive/non-CMIP/ACCESS-CM2/cj877/history/ice/iceh_m.0421-12.nc&#x27;, &#x27;/g/data/p73/archive/non-CMIP/ACCESS-CM2/cj877/history/ice/iceh_m.0422-01.nc&#x27;, &#x27;/g/data/p73/archive/non-CMIP/ACCESS-CM2/cj877/history/ice/iceh_m.0422-02.nc&#x27;, &#x27;/g/data/p73/archive/non-CMIP/ACCESS-CM2/cj877/history/ice/iceh_m.0422-03.nc&#x27;, &#x27;/g/data/p73/archive/non-CMIP/ACCESS-CM2/cj877/history/ice/iceh_m.0422-04.nc&#x27;, &#x27;/g/data/p73/archive/non-CMIP/ACCESS-CM2/cj877/history/ice/iceh_m.0422-05.nc&#x27;, &#x27;/g/data/p73/archive/non-CMIP/ACCESS-CM2/cj877/history/ice/iceh_m.0422-06.nc&#x27;, &#x27;/g/data/p73/archive/non-CMIP/ACCESS-CM2/cj877/history/ice/iceh_m.0422-07.nc&#x27;, &#x27;/g/data/p73/archive/non-CMIP/ACCESS-CM2/cj877/history/ice/iceh_m.0422-08.nc&#x27;, &#x27;/g/data/p73/archive/non-CMIP/ACCESS-CM2/cj877/history/ice/iceh_m.0422-09.nc&#x27;, &#x27;/g/data/p73/archive/non-CMIP/ACCESS-CM2/cj877/history/ice/iceh_m.0422-10.nc&#x27;, &#x27;/g/data/p73/archive/non-CMIP/ACCESS-CM2/cj877/history/ice/iceh_m.0422-11.nc&#x27;, &#x27;/g/data/p73/archive/non-CMIP/ACCESS-CM2/cj877/history/ice/iceh_m.0422-12.nc&#x27;, &#x27;/g/data/p73/archive/non-CMIP/ACCESS-CM2/cj877/history/ice/iceh_m.0423-01.nc&#x27;, &#x27;/g/data/p73/archive/non-CMIP/ACCESS-CM2/cj877/history/ice/iceh_m.0423-02.nc&#x27;, &#x27;/g/data/p73/archive/non-CMIP/ACCESS-CM2/cj877/history/ice/iceh_m.0423-03.nc&#x27;, &#x27;/g/data/p73/archive/non-CMIP/ACCESS-CM2/cj877/history/ice/iceh_m.0423-04.nc&#x27;, &#x27;/g/data/p73/archive/non-CMIP/ACCESS-CM2/cj877/history/ice/iceh_m.0423-05.nc&#x27;, &#x27;/g/data/p73/archive/non-CMIP/ACCESS-CM2/cj877/history/ice/iceh_m.0423-06.nc&#x27;, &#x27;/g/data/p73/archive/non-CMIP/ACCESS-CM2/cj877/history/ice/iceh_m.0423-07.nc&#x27;, &#x27;/g/data/p73/archive/non-CMIP/ACCESS-CM2/cj877/history/ice/iceh_m.0423-08.nc&#x27;, &#x27;/g/data/p73/archive/non-CMIP/ACCESS-CM2/cj877/history/ice/iceh_m.0423-09.nc&#x27;, &#x27;/g/data/p73/archive/non-CMIP/ACCESS-CM2/cj877/history/ice/iceh_m.0423-10.nc&#x27;, &#x27;/g/data/p73/archive/non-CMIP/ACCESS-CM2/cj877/history/ice/iceh_m.0423-11.nc&#x27;, &#x27;/g/data/p73/archive/non-CMIP/ACCESS-CM2/cj877/history/ice/iceh_m.0423-12.nc&#x27;, &#x27;/g/data/p73/archive/non-CMIP/ACCESS-CM2/cj877/history/ice/iceh_m.0424-01.nc&#x27;, &#x27;/g/data/p73/archive/non-CMIP/ACCESS-CM2/cj877/history/ice/iceh_m.0424-02.nc&#x27;, &#x27;/g/data/p73/archive/non-CMIP/ACCESS-CM2/cj877/history/ice/iceh_m.0424-03.nc&#x27;, &#x27;/g/data/p73/archive/non-CMIP/ACCESS-CM2/cj877/history/ice/iceh_m.0424-04.nc&#x27;, &#x27;/g/data/p73/archive/non-CMIP/ACCESS-CM2/cj877/history/ice/iceh_m.0424-05.nc&#x27;, &#x27;/g/data/p73/archive/non-CMIP/ACCESS-CM2/cj877/history/ice/iceh_m.0424-06.nc&#x27;, &#x27;/g/data/p73/archive/non-CMIP/ACCESS-CM2/cj877/history/ice/iceh_m.0424-07.nc&#x27;, &#x27;/g/data/p73/archive/non-CMIP/ACCESS-CM2/cj877/history/ice/iceh_m.0424-08.nc&#x27;, &#x27;/g/data/p73/archive/non-CMIP/ACCESS-CM2/cj877/history/ice/iceh_m.0424-09.nc&#x27;, &#x27;/g/data/p73/archive/non-CMIP/ACCESS-CM2/cj877/history/ice/iceh_m.0424-10.nc&#x27;, &#x27;/g/data/p73/archive/non-CMIP/ACCESS-CM2/cj877/history/ice/iceh_m.0424-11.nc&#x27;, &#x27;/g/data/p73/archive/non-CMIP/ACCESS-CM2/cj877/history/ice/iceh_m.0424-12.nc&#x27;, &#x27;/g/data/p73/archive/non-CMIP/ACCESS-CM2/cj877/history/ice/iceh_m.0425-01.nc&#x27;, &#x27;/g/data/p73/archive/non-CMIP/ACCESS-CM2/cj877/history/ice/iceh_m.0425-02.nc&#x27;, &#x27;/g/data/p73/archive/non-CMIP/ACCESS-CM2/cj877/history/ice/iceh_m.0425-03.nc&#x27;, &#x27;/g/data/p73/archive/non-CMIP/ACCESS-CM2/cj877/history/ice/iceh_m.0425-04.nc&#x27;, &#x27;/g/data/p73/archive/non-CMIP/ACCESS-CM2/cj877/history/ice/iceh_m.0425-05.nc&#x27;, &#x27;/g/data/p73/archive/non-CMIP/ACCESS-CM2/cj877/history/ice/iceh_m.0425-06.nc&#x27;, &#x27;/g/data/p73/archive/non-CMIP/ACCESS-CM2/cj877/history/ice/iceh_m.0425-07.nc&#x27;, &#x27;/g/data/p73/archive/non-CMIP/ACCESS-CM2/cj877/history/ice/iceh_m.0425-08.nc&#x27;, &#x27;/g/data/p73/archive/non-CMIP/ACCESS-CM2/cj877/history/ice/iceh_m.0425-09.nc&#x27;, &#x27;/g/data/p73/archive/non-CMIP/ACCESS-CM2/cj877/history/ice/iceh_m.0425-10.nc&#x27;, &#x27;/g/data/p73/archive/non-CMIP/ACCESS-CM2/cj877/history/ice/iceh_m.0425-11.nc&#x27;, &#x27;/g/data/p73/archive/non-CMIP/ACCESS-CM2/cj877/history/ice/iceh_m.0425-12.nc&#x27;, &#x27;/g/data/p73/archive/non-CMIP/ACCESS-CM2/cj877/history/ice/iceh_m.0426-01.nc&#x27;, &#x27;/g/data/p73/archive/non-CMIP/ACCESS-CM2/cj877/history/ice/iceh_m.0426-02.nc&#x27;, &#x27;/g/data/p73/archive/non-CMIP/ACCESS-CM2/cj877/history/ice/iceh_m.0426-03.nc&#x27;, &#x27;/g/data/p73/archive/non-CMIP/ACCESS-CM2/cj877/history/ice/iceh_m.0426-04.nc&#x27;, &#x27;/g/data/p73/archive/non-CMIP/ACCESS-CM2/cj877/history/ice/iceh_m.0426-05.nc&#x27;, &#x27;/g/data/p73/archive/non-CMIP/ACCESS-CM2/cj877/history/ice/iceh_m.0426-06.nc&#x27;, &#x27;/g/data/p73/archive/non-CMIP/ACCESS-CM2/cj877/history/ice/iceh_m.0426-07.nc&#x27;, &#x27;/g/data/p73/archive/non-CMIP/ACCESS-CM2/cj877/history/ice/iceh_m.0426-08.nc&#x27;, &#x27;/g/data/p73/archive/non-CMIP/ACCESS-CM2/cj877/history/ice/iceh_m.0426-09.nc&#x27;, &#x27;/g/data/p73/archive/non-CMIP/ACCESS-CM2/cj877/history/ice/iceh_m.0426-10.nc&#x27;, &#x27;/g/data/p73/archive/non-CMIP/ACCESS-CM2/cj877/history/ice/iceh_m.0426-11.nc&#x27;, &#x27;/g/data/p73/archive/non-CMIP/ACCESS-CM2/cj877/history/ice/iceh_m.0426-12.nc&#x27;, &#x27;/g/data/p73/archive/non-CMIP/ACCESS-CM2/cj877/history/ice/iceh_m.0427-01.nc&#x27;, &#x27;/g/data/p73/archive/non-CMIP/ACCESS-CM2/cj877/history/ice/iceh_m.0427-02.nc&#x27;, &#x27;/g/data/p73/archive/non-CMIP/ACCESS-CM2/cj877/history/ice/iceh_m.0427-03.nc&#x27;, &#x27;/g/data/p73/archive/non-CMIP/ACCESS-CM2/cj877/history/ice/iceh_m.0427-04.nc&#x27;, &#x27;/g/data/p73/archive/non-CMIP/ACCESS-CM2/cj877/history/ice/iceh_m.0427-05.nc&#x27;, &#x27;/g/data/p73/archive/non-CMIP/ACCESS-CM2/cj877/history/ice/iceh_m.0427-06.nc&#x27;, &#x27;/g/data/p73/archive/non-CMIP/ACCESS-CM2/cj877/history/ice/iceh_m.0427-07.nc&#x27;, &#x27;/g/data/p73/archive/non-CMIP/ACCESS-CM2/cj877/history/ice/iceh_m.0427-08.nc&#x27;, &#x27;/g/data/p73/archive/non-CMIP/ACCESS-CM2/cj877/history/ice/iceh_m.0427-09.nc&#x27;, &#x27;/g/data/p73/archive/non-CMIP/ACCESS-CM2/cj877/history/ice/iceh_m.0427-10.nc&#x27;, &#x27;/g/data/p73/archive/non-CMIP/ACCESS-CM2/cj877/history/ice/iceh_m.0427-11.nc&#x27;, &#x27;/g/data/p73/archive/non-CMIP/ACCESS-CM2/cj877/history/ice/iceh_m.0427-12.nc&#x27;, &#x27;/g/data/p73/archive/non-CMIP/ACCESS-CM2/cj877/history/ice/iceh_m.0428-01.nc&#x27;, &#x27;/g/data/p73/archive/non-CMIP/ACCESS-CM2/cj877/history/ice/iceh_m.0428-02.nc&#x27;, &#x27;/g/data/p73/archive/non-CMIP/ACCESS-CM2/cj877/history/ice/iceh_m.0428-03.nc&#x27;, &#x27;/g/data/p73/archive/non-CMIP/ACCESS-CM2/cj877/history/ice/iceh_m.0428-04.nc&#x27;, &#x27;/g/data/p73/archive/non-CMIP/ACCESS-CM2/cj877/history/ice/iceh_m.0428-05.nc&#x27;, &#x27;/g/data/p73/archive/non-CMIP/ACCESS-CM2/cj877/history/ice/iceh_m.0428-06.nc&#x27;, &#x27;/g/data/p73/archive/non-CMIP/ACCESS-CM2/cj877/history/ice/iceh_m.0428-07.nc&#x27;, &#x27;/g/data/p73/archive/non-CMIP/ACCESS-CM2/cj877/history/ice/iceh_m.0428-08.nc&#x27;, &#x27;/g/data/p73/archive/non-CMIP/ACCESS-CM2/cj877/history/ice/iceh_m.0428-09.nc&#x27;, &#x27;/g/data/p73/archive/non-CMIP/ACCESS-CM2/cj877/history/ice/iceh_m.0428-10.nc&#x27;, &#x27;/g/data/p73/archive/non-CMIP/ACCESS-CM2/cj877/history/ice/iceh_m.0428-11.nc&#x27;, &#x27;/g/data/p73/archive/non-CMIP/ACCESS-CM2/cj877/history/ice/iceh_m.0428-12.nc&#x27;, &#x27;/g/data/p73/archive/non-CMIP/ACCESS-CM2/cj877/history/ice/iceh_m.0429-01.nc&#x27;, &#x27;/g/data/p73/archive/non-CMIP/ACCESS-CM2/cj877/history/ice/iceh_m.0429-02.nc&#x27;, &#x27;/g/data/p73/archive/non-CMIP/ACCESS-CM2/cj877/history/ice/iceh_m.0429-03.nc&#x27;, &#x27;/g/data/p73/archive/non-CMIP/ACCESS-CM2/cj877/history/ice/iceh_m.0429-04.nc&#x27;, &#x27;/g/data/p73/archive/non-CMIP/ACCESS-CM2/cj877/history/ice/iceh_m.0429-05.nc&#x27;, &#x27;/g/data/p73/archive/non-CMIP/ACCESS-CM2/cj877/history/ice/iceh_m.0429-06.nc&#x27;, &#x27;/g/data/p73/archive/non-CMIP/ACCESS-CM2/cj877/history/ice/iceh_m.0429-07.nc&#x27;, &#x27;/g/data/p73/archive/non-CMIP/ACCESS-CM2/cj877/history/ice/iceh_m.0429-08.nc&#x27;, &#x27;/g/data/p73/archive/non-CMIP/ACCESS-CM2/cj877/history/ice/iceh_m.0429-09.nc&#x27;, &#x27;/g/data/p73/archive/non-CMIP/ACCESS-CM2/cj877/history/ice/iceh_m.0429-10.nc&#x27;, &#x27;/g/data/p73/archive/non-CMIP/ACCESS-CM2/cj877/history/ice/iceh_m.0429-11.nc&#x27;, &#x27;/g/data/p73/archive/non-CMIP/ACCESS-CM2/cj877/history/ice/iceh_m.0429-12.nc&#x27;, &#x27;/g/data/p73/archive/non-CMIP/ACCESS-CM2/cj877/history/ice/iceh_m.0430-01.nc&#x27;, &#x27;/g/data/p73/archive/non-CMIP/ACCESS-CM2/cj877/history/ice/iceh_m.0430-02.nc&#x27;, &#x27;/g/data/p73/archive/non-CMIP/ACCESS-CM2/cj877/history/ice/iceh_m.0430-03.nc&#x27;, &#x27;/g/data/p73/archive/non-CMIP/ACCESS-CM2/cj877/history/ice/iceh_m.0430-04.nc&#x27;, &#x27;/g/data/p73/archive/non-CMIP/ACCESS-CM2/cj877/history/ice/iceh_m.0430-05.nc&#x27;, &#x27;/g/data/p73/archive/non-CMIP/ACCESS-CM2/cj877/history/ice/iceh_m.0430-06.nc&#x27;, &#x27;/g/data/p73/archive/non-CMIP/ACCESS-CM2/cj877/history/ice/iceh_m.0430-07.nc&#x27;, &#x27;/g/data/p73/archive/non-CMIP/ACCESS-CM2/cj877/history/ice/iceh_m.0430-08.nc&#x27;, &#x27;/g/data/p73/archive/non-CMIP/ACCESS-CM2/cj877/history/ice/iceh_m.0430-09.nc&#x27;, &#x27;/g/data/p73/archive/non-CMIP/ACCESS-CM2/cj877/history/ice/iceh_m.0430-10.nc&#x27;, &#x27;/g/data/p73/archive/non-CMIP/ACCESS-CM2/cj877/history/ice/iceh_m.0430-11.nc&#x27;, &#x27;/g/data/p73/archive/non-CMIP/ACCESS-CM2/cj877/history/ice/iceh_m.0430-12.nc&#x27;, &#x27;/g/data/p73/archive/non-CMIP/ACCESS-CM2/cj877/history/ice/iceh_m.0431-01.nc&#x27;, &#x27;/g/data/p73/archive/non-CMIP/ACCESS-CM2/cj877/history/ice/iceh_m.0431-02.nc&#x27;, &#x27;/g/data/p73/archive/non-CMIP/ACCESS-CM2/cj877/history/ice/iceh_m.0431-03.nc&#x27;, &#x27;/g/data/p73/archive/non-CMIP/ACCESS-CM2/cj877/history/ice/iceh_m.0431-04.nc&#x27;, &#x27;/g/data/p73/archive/non-CMIP/ACCESS-CM2/cj877/history/ice/iceh_m.0431-05.nc&#x27;, &#x27;/g/data/p73/archive/non-CMIP/ACCESS-CM2/cj877/history/ice/iceh_m.0431-06.nc&#x27;, &#x27;/g/data/p73/archive/non-CMIP/ACCESS-CM2/cj877/history/ice/iceh_m.0431-07.nc&#x27;, &#x27;/g/data/p73/archive/non-CMIP/ACCESS-CM2/cj877/history/ice/iceh_m.0431-08.nc&#x27;, &#x27;/g/data/p73/archive/non-CMIP/ACCESS-CM2/cj877/history/ice/iceh_m.0431-09.nc&#x27;, &#x27;/g/data/p73/archive/non-CMIP/ACCESS-CM2/cj877/history/ice/iceh_m.0431-10.nc&#x27;, &#x27;/g/data/p73/archive/non-CMIP/ACCESS-CM2/cj877/history/ice/iceh_m.0431-11.nc&#x27;, &#x27;/g/data/p73/archive/non-CMIP/ACCESS-CM2/cj877/history/ice/iceh_m.0431-12.nc&#x27;, &#x27;/g/data/p73/archive/non-CMIP/ACCESS-CM2/cj877/history/ice/iceh_m.0432-01.nc&#x27;, &#x27;/g/data/p73/archive/non-CMIP/ACCESS-CM2/cj877/history/ice/iceh_m.0432-02.nc&#x27;, &#x27;/g/data/p73/archive/non-CMIP/ACCESS-CM2/cj877/history/ice/iceh_m.0432-03.nc&#x27;, &#x27;/g/data/p73/archive/non-CMIP/ACCESS-CM2/cj877/history/ice/iceh_m.0432-04.nc&#x27;, &#x27;/g/data/p73/archive/non-CMIP/ACCESS-CM2/cj877/history/ice/iceh_m.0432-05.nc&#x27;, &#x27;/g/data/p73/archive/non-CMIP/ACCESS-CM2/cj877/history/ice/iceh_m.0432-06.nc&#x27;, &#x27;/g/data/p73/archive/non-CMIP/ACCESS-CM2/cj877/history/ice/iceh_m.0432-07.nc&#x27;, &#x27;/g/data/p73/archive/non-CMIP/ACCESS-CM2/cj877/history/ice/iceh_m.0432-08.nc&#x27;, &#x27;/g/data/p73/archive/non-CMIP/ACCESS-CM2/cj877/history/ice/iceh_m.0432-09.nc&#x27;, &#x27;/g/data/p73/archive/non-CMIP/ACCESS-CM2/cj877/history/ice/iceh_m.0432-10.nc&#x27;, &#x27;/g/data/p73/archive/non-CMIP/ACCESS-CM2/cj877/history/ice/iceh_m.0432-11.nc&#x27;, &#x27;/g/data/p73/archive/non-CMIP/ACCESS-CM2/cj877/history/ice/iceh_m.0432-12.nc&#x27;, &#x27;/g/data/p73/archive/non-CMIP/ACCESS-CM2/cj877/history/ice/iceh_m.0433-01.nc&#x27;, &#x27;/g/data/p73/archive/non-CMIP/ACCESS-CM2/cj877/history/ice/iceh_m.0433-02.nc&#x27;, &#x27;/g/data/p73/archive/non-CMIP/ACCESS-CM2/cj877/history/ice/iceh_m.0433-03.nc&#x27;, &#x27;/g/data/p73/archive/non-CMIP/ACCESS-CM2/cj877/history/ice/iceh_m.0433-04.nc&#x27;, &#x27;/g/data/p73/archive/non-CMIP/ACCESS-CM2/cj877/history/ice/iceh_m.0433-05.nc&#x27;, &#x27;/g/data/p73/archive/non-CMIP/ACCESS-CM2/cj877/history/ice/iceh_m.0433-06.nc&#x27;, &#x27;/g/data/p73/archive/non-CMIP/ACCESS-CM2/cj877/history/ice/iceh_m.0433-07.nc&#x27;, &#x27;/g/data/p73/archive/non-CMIP/ACCESS-CM2/cj877/history/ice/iceh_m.0433-08.nc&#x27;, &#x27;/g/data/p73/archive/non-CMIP/ACCESS-CM2/cj877/history/ice/iceh_m.0433-09.nc&#x27;, &#x27;/g/data/p73/archive/non-CMIP/ACCESS-CM2/cj877/history/ice/iceh_m.0433-10.nc&#x27;, &#x27;/g/data/p73/archive/non-CMIP/ACCESS-CM2/cj877/history/ice/iceh_m.0433-11.nc&#x27;, &#x27;/g/data/p73/archive/non-CMIP/ACCESS-CM2/cj877/history/ice/iceh_m.0433-12.nc&#x27;, &#x27;/g/data/p73/archive/non-CMIP/ACCESS-CM2/cj877/history/ice/iceh_m.0434-01.nc&#x27;, &#x27;/g/data/p73/archive/non-CMIP/ACCESS-CM2/cj877/history/ice/iceh_m.0434-02.nc&#x27;, &#x27;/g/data/p73/archive/non-CMIP/ACCESS-CM2/cj877/history/ice/iceh_m.0434-03.nc&#x27;, &#x27;/g/data/p73/archive/non-CMIP/ACCESS-CM2/cj877/history/ice/iceh_m.0434-04.nc&#x27;, &#x27;/g/data/p73/archive/non-CMIP/ACCESS-CM2/cj877/history/ice/iceh_m.0434-05.nc&#x27;, &#x27;/g/data/p73/archive/non-CMIP/ACCESS-CM2/cj877/history/ice/iceh_m.0434-06.nc&#x27;, &#x27;/g/data/p73/archive/non-CMIP/ACCESS-CM2/cj877/history/ice/iceh_m.0434-07.nc&#x27;, &#x27;/g/data/p73/archive/non-CMIP/ACCESS-CM2/cj877/history/ice/iceh_m.0434-08.nc&#x27;, &#x27;/g/data/p73/archive/non-CMIP/ACCESS-CM2/cj877/history/ice/iceh_m.0434-09.nc&#x27;, &#x27;/g/data/p73/archive/non-CMIP/ACCESS-CM2/cj877/history/ice/iceh_m.0434-10.nc&#x27;, &#x27;/g/data/p73/archive/non-CMIP/ACCESS-CM2/cj877/history/ice/iceh_m.0434-11.nc&#x27;, &#x27;/g/data/p73/archive/non-CMIP/ACCESS-CM2/cj877/history/ice/iceh_m.0434-12.nc&#x27;, &#x27;/g/data/p73/archive/non-CMIP/ACCESS-CM2/cj877/history/ice/iceh_m.0435-01.nc&#x27;, &#x27;/g/data/p73/archive/non-CMIP/ACCESS-CM2/cj877/history/ice/iceh_m.0435-02.nc&#x27;, &#x27;/g/data/p73/archive/non-CMIP/ACCESS-CM2/cj877/history/ice/iceh_m.0435-03.nc&#x27;, &#x27;/g/data/p73/archive/non-CMIP/ACCESS-CM2/cj877/history/ice/iceh_m.0435-04.nc&#x27;, &#x27;/g/data/p73/archive/non-CMIP/ACCESS-CM2/cj877/history/ice/iceh_m.0435-05.nc&#x27;, &#x27;/g/data/p73/archive/non-CMIP/ACCESS-CM2/cj877/history/ice/iceh_m.0435-06.nc&#x27;, &#x27;/g/data/p73/archive/non-CMIP/ACCESS-CM2/cj877/history/ice/iceh_m.0435-07.nc&#x27;, &#x27;/g/data/p73/archive/non-CMIP/ACCESS-CM2/cj877/history/ice/iceh_m.0435-08.nc&#x27;, &#x27;/g/data/p73/archive/non-CMIP/ACCESS-CM2/cj877/history/ice/iceh_m.0435-09.nc&#x27;, &#x27;/g/data/p73/archive/non-CMIP/ACCESS-CM2/cj877/history/ice/iceh_m.0435-10.nc&#x27;, &#x27;/g/data/p73/archive/non-CMIP/ACCESS-CM2/cj877/history/ice/iceh_m.0435-11.nc&#x27;, &#x27;/g/data/p73/archive/non-CMIP/ACCESS-CM2/cj877/history/ice/iceh_m.0435-12.nc&#x27;, &#x27;/g/data/p73/archive/non-CMIP/ACCESS-CM2/cj877/history/ice/iceh_m.0436-01.nc&#x27;, &#x27;/g/data/p73/archive/non-CMIP/ACCESS-CM2/cj877/history/ice/iceh_m.0436-02.nc&#x27;, &#x27;/g/data/p73/archive/non-CMIP/ACCESS-CM2/cj877/history/ice/iceh_m.0436-03.nc&#x27;, &#x27;/g/data/p73/archive/non-CMIP/ACCESS-CM2/cj877/history/ice/iceh_m.0436-04.nc&#x27;, &#x27;/g/data/p73/archive/non-CMIP/ACCESS-CM2/cj877/history/ice/iceh_m.0436-05.nc&#x27;, &#x27;/g/data/p73/archive/non-CMIP/ACCESS-CM2/cj877/history/ice/iceh_m.0436-06.nc&#x27;, &#x27;/g/data/p73/archive/non-CMIP/ACCESS-CM2/cj877/history/ice/iceh_m.0436-07.nc&#x27;, &#x27;/g/data/p73/archive/non-CMIP/ACCESS-CM2/cj877/history/ice/iceh_m.0436-08.nc&#x27;, &#x27;/g/data/p73/archive/non-CMIP/ACCESS-CM2/cj877/history/ice/iceh_m.0436-09.nc&#x27;, &#x27;/g/data/p73/archive/non-CMIP/ACCESS-CM2/cj877/history/ice/iceh_m.0436-10.nc&#x27;, &#x27;/g/data/p73/archive/non-CMIP/ACCESS-CM2/cj877/history/ice/iceh_m.0436-11.nc&#x27;, &#x27;/g/data/p73/archive/non-CMIP/ACCESS-CM2/cj877/history/ice/iceh_m.0436-12.nc&#x27;, &#x27;/g/data/p73/archive/non-CMIP/ACCESS-CM2/cj877/history/ice/iceh_m.0437-01.nc&#x27;, &#x27;/g/data/p73/archive/non-CMIP/ACCESS-CM2/cj877/history/ice/iceh_m.0437-02.nc&#x27;, &#x27;/g/data/p73/archive/non-CMIP/ACCESS-CM2/cj877/history/ice/iceh_m.0437-03.nc&#x27;, &#x27;/g/data/p73/archive/non-CMIP/ACCESS-CM2/cj877/history/ice/iceh_m.0437-04.nc&#x27;, &#x27;/g/data/p73/archive/non-CMIP/ACCESS-CM2/cj877/history/ice/iceh_m.0437-05.nc&#x27;, &#x27;/g/data/p73/archive/non-CMIP/ACCESS-CM2/cj877/history/ice/iceh_m.0437-06.nc&#x27;, &#x27;/g/data/p73/archive/non-CMIP/ACCESS-CM2/cj877/history/ice/iceh_m.0437-07.nc&#x27;, &#x27;/g/data/p73/archive/non-CMIP/ACCESS-CM2/cj877/history/ice/iceh_m.0437-08.nc&#x27;, &#x27;/g/data/p73/archive/non-CMIP/ACCESS-CM2/cj877/history/ice/iceh_m.0437-09.nc&#x27;, &#x27;/g/data/p73/archive/non-CMIP/ACCESS-CM2/cj877/history/ice/iceh_m.0437-10.nc&#x27;, &#x27;/g/data/p73/archive/non-CMIP/ACCESS-CM2/cj877/history/ice/iceh_m.0437-11.nc&#x27;, &#x27;/g/data/p73/archive/non-CMIP/ACCESS-CM2/cj877/history/ice/iceh_m.0437-12.nc&#x27;, &#x27;/g/data/p73/archive/non-CMIP/ACCESS-CM2/cj877/history/ice/iceh_m.0438-01.nc&#x27;, &#x27;/g/data/p73/archive/non-CMIP/ACCESS-CM2/cj877/history/ice/iceh_m.0438-02.nc&#x27;, &#x27;/g/data/p73/archive/non-CMIP/ACCESS-CM2/cj877/history/ice/iceh_m.0438-03.nc&#x27;, &#x27;/g/data/p73/archive/non-CMIP/ACCESS-CM2/cj877/history/ice/iceh_m.0438-04.nc&#x27;, &#x27;/g/data/p73/archive/non-CMIP/ACCESS-CM2/cj877/history/ice/iceh_m.0438-05.nc&#x27;, &#x27;/g/data/p73/archive/non-CMIP/ACCESS-CM2/cj877/history/ice/iceh_m.0438-06.nc&#x27;, &#x27;/g/data/p73/archive/non-CMIP/ACCESS-CM2/cj877/history/ice/iceh_m.0438-07.nc&#x27;, &#x27;/g/data/p73/archive/non-CMIP/ACCESS-CM2/cj877/history/ice/iceh_m.0438-08.nc&#x27;, &#x27;/g/data/p73/archive/non-CMIP/ACCESS-CM2/cj877/history/ice/iceh_m.0438-09.nc&#x27;, &#x27;/g/data/p73/archive/non-CMIP/ACCESS-CM2/cj877/history/ice/iceh_m.0438-10.nc&#x27;, &#x27;/g/data/p73/archive/non-CMIP/ACCESS-CM2/cj877/history/ice/iceh_m.0438-11.nc&#x27;, &#x27;/g/data/p73/archive/non-CMIP/ACCESS-CM2/cj877/history/ice/iceh_m.0438-12.nc&#x27;, &#x27;/g/data/p73/archive/non-CMIP/ACCESS-CM2/cj877/history/ice/iceh_m.0439-01.nc&#x27;, &#x27;/g/data/p73/archive/non-CMIP/ACCESS-CM2/cj877/history/ice/iceh_m.0439-02.nc&#x27;, &#x27;/g/data/p73/archive/non-CMIP/ACCESS-CM2/cj877/history/ice/iceh_m.0439-03.nc&#x27;, &#x27;/g/data/p73/archive/non-CMIP/ACCESS-CM2/cj877/history/ice/iceh_m.0439-04.nc&#x27;, &#x27;/g/data/p73/archive/non-CMIP/ACCESS-CM2/cj877/history/ice/iceh_m.0439-05.nc&#x27;, &#x27;/g/data/p73/archive/non-CMIP/ACCESS-CM2/cj877/history/ice/iceh_m.0439-06.nc&#x27;, &#x27;/g/data/p73/archive/non-CMIP/ACCESS-CM2/cj877/history/ice/iceh_m.0439-07.nc&#x27;, &#x27;/g/data/p73/archive/non-CMIP/ACCESS-CM2/cj877/history/ice/iceh_m.0439-08.nc&#x27;, &#x27;/g/data/p73/archive/non-CMIP/ACCESS-CM2/cj877/history/ice/iceh_m.0439-09.nc&#x27;, &#x27;/g/data/p73/archive/non-CMIP/ACCESS-CM2/cj877/history/ice/iceh_m.0439-10.nc&#x27;, &#x27;/g/data/p73/archive/non-CMIP/ACCESS-CM2/cj877/history/ice/iceh_m.0439-11.nc&#x27;, &#x27;/g/data/p73/archive/non-CMIP/ACCESS-CM2/cj877/history/ice/iceh_m.0439-12.nc&#x27;, &#x27;/g/data/p73/archive/non-CMIP/ACCESS-CM2/cj877/history/ice/iceh_m.0440-01.nc&#x27;, &#x27;/g/data/p73/archive/non-CMIP/ACCESS-CM2/cj877/history/ice/iceh_m.0440-02.nc&#x27;, &#x27;/g/data/p73/archive/non-CMIP/ACCESS-CM2/cj877/history/ice/iceh_m.0440-03.nc&#x27;, &#x27;/g/data/p73/archive/non-CMIP/ACCESS-CM2/cj877/history/ice/iceh_m.0440-04.nc&#x27;, &#x27;/g/data/p73/archive/non-CMIP/ACCESS-CM2/cj877/history/ice/iceh_m.0440-05.nc&#x27;, &#x27;/g/data/p73/archive/non-CMIP/ACCESS-CM2/cj877/history/ice/iceh_m.0440-06.nc&#x27;, &#x27;/g/data/p73/archive/non-CMIP/ACCESS-CM2/cj877/history/ice/iceh_m.0440-07.nc&#x27;, &#x27;/g/data/p73/archive/non-CMIP/ACCESS-CM2/cj877/history/ice/iceh_m.0440-08.nc&#x27;, &#x27;/g/data/p73/archive/non-CMIP/ACCESS-CM2/cj877/history/ice/iceh_m.0440-09.nc&#x27;, &#x27;/g/data/p73/archive/non-CMIP/ACCESS-CM2/cj877/history/ice/iceh_m.0440-10.nc&#x27;, &#x27;/g/data/p73/archive/non-CMIP/ACCESS-CM2/cj877/history/ice/iceh_m.0440-11.nc&#x27;, &#x27;/g/data/p73/archive/non-CMIP/ACCESS-CM2/cj877/history/ice/iceh_m.0440-12.nc&#x27;, &#x27;/g/data/p73/archive/non-CMIP/ACCESS-CM2/cj877/history/ice/iceh_m.0441-01.nc&#x27;, &#x27;/g/data/p73/archive/non-CMIP/ACCESS-CM2/cj877/history/ice/iceh_m.0441-02.nc&#x27;, &#x27;/g/data/p73/archive/non-CMIP/ACCESS-CM2/cj877/history/ice/iceh_m.0441-03.nc&#x27;, &#x27;/g/data/p73/archive/non-CMIP/ACCESS-CM2/cj877/history/ice/iceh_m.0441-04.nc&#x27;, &#x27;/g/data/p73/archive/non-CMIP/ACCESS-CM2/cj877/history/ice/iceh_m.0441-05.nc&#x27;, &#x27;/g/data/p73/archive/non-CMIP/ACCESS-CM2/cj877/history/ice/iceh_m.0441-06.nc&#x27;, &#x27;/g/data/p73/archive/non-CMIP/ACCESS-CM2/cj877/history/ice/iceh_m.0441-07.nc&#x27;, &#x27;/g/data/p73/archive/non-CMIP/ACCESS-CM2/cj877/history/ice/iceh_m.0441-08.nc&#x27;, &#x27;/g/data/p73/archive/non-CMIP/ACCESS-CM2/cj877/history/ice/iceh_m.0441-09.nc&#x27;, &#x27;/g/data/p73/archive/non-CMIP/ACCESS-CM2/cj877/history/ice/iceh_m.0441-10.nc&#x27;, &#x27;/g/data/p73/archive/non-CMIP/ACCESS-CM2/cj877/history/ice/iceh_m.0441-11.nc&#x27;, &#x27;/g/data/p73/archive/non-CMIP/ACCESS-CM2/cj877/history/ice/iceh_m.0441-12.nc&#x27;, &#x27;/g/data/p73/archive/non-CMIP/ACCESS-CM2/cj877/history/ice/iceh_m.0442-01.nc&#x27;, &#x27;/g/data/p73/archive/non-CMIP/ACCESS-CM2/cj877/history/ice/iceh_m.0442-02.nc&#x27;, &#x27;/g/data/p73/archive/non-CMIP/ACCESS-CM2/cj877/history/ice/iceh_m.0442-03.nc&#x27;, &#x27;/g/data/p73/archive/non-CMIP/ACCESS-CM2/cj877/history/ice/iceh_m.0442-04.nc&#x27;, &#x27;/g/data/p73/archive/non-CMIP/ACCESS-CM2/cj877/history/ice/iceh_m.0442-05.nc&#x27;, &#x27;/g/data/p73/archive/non-CMIP/ACCESS-CM2/cj877/history/ice/iceh_m.0442-06.nc&#x27;, &#x27;/g/data/p73/archive/non-CMIP/ACCESS-CM2/cj877/history/ice/iceh_m.0442-07.nc&#x27;, &#x27;/g/data/p73/archive/non-CMIP/ACCESS-CM2/cj877/history/ice/iceh_m.0442-08.nc&#x27;, &#x27;/g/data/p73/archive/non-CMIP/ACCESS-CM2/cj877/history/ice/iceh_m.0442-09.nc&#x27;, &#x27;/g/data/p73/archive/non-CMIP/ACCESS-CM2/cj877/history/ice/iceh_m.0442-10.nc&#x27;, &#x27;/g/data/p73/archive/non-CMIP/ACCESS-CM2/cj877/history/ice/iceh_m.0442-11.nc&#x27;, &#x27;/g/data/p73/archive/non-CMIP/ACCESS-CM2/cj877/history/ice/iceh_m.0442-12.nc&#x27;, &#x27;/g/data/p73/archive/non-CMIP/ACCESS-CM2/cj877/history/ice/iceh_m.0443-01.nc&#x27;, &#x27;/g/data/p73/archive/non-CMIP/ACCESS-CM2/cj877/history/ice/iceh_m.0443-02.nc&#x27;, &#x27;/g/data/p73/archive/non-CMIP/ACCESS-CM2/cj877/history/ice/iceh_m.0443-03.nc&#x27;, &#x27;/g/data/p73/archive/non-CMIP/ACCESS-CM2/cj877/history/ice/iceh_m.0443-04.nc&#x27;, &#x27;/g/data/p73/archive/non-CMIP/ACCESS-CM2/cj877/history/ice/iceh_m.0443-05.nc&#x27;, &#x27;/g/data/p73/archive/non-CMIP/ACCESS-CM2/cj877/history/ice/iceh_m.0443-06.nc&#x27;, &#x27;/g/data/p73/archive/non-CMIP/ACCESS-CM2/cj877/history/ice/iceh_m.0443-07.nc&#x27;, &#x27;/g/data/p73/archive/non-CMIP/ACCESS-CM2/cj877/history/ice/iceh_m.0443-08.nc&#x27;, &#x27;/g/data/p73/archive/non-CMIP/ACCESS-CM2/cj877/history/ice/iceh_m.0443-09.nc&#x27;, &#x27;/g/data/p73/archive/non-CMIP/ACCESS-CM2/cj877/history/ice/iceh_m.0443-10.nc&#x27;, &#x27;/g/data/p73/archive/non-CMIP/ACCESS-CM2/cj877/history/ice/iceh_m.0443-11.nc&#x27;, &#x27;/g/data/p73/archive/non-CMIP/ACCESS-CM2/cj877/history/ice/iceh_m.0443-12.nc&#x27;, &#x27;/g/data/p73/archive/non-CMIP/ACCESS-CM2/cj877/history/ice/iceh_m.0444-01.nc&#x27;, &#x27;/g/data/p73/archive/non-CMIP/ACCESS-CM2/cj877/history/ice/iceh_m.0444-02.nc&#x27;, &#x27;/g/data/p73/archive/non-CMIP/ACCESS-CM2/cj877/history/ice/iceh_m.0444-03.nc&#x27;, &#x27;/g/data/p73/archive/non-CMIP/ACCESS-CM2/cj877/history/ice/iceh_m.0444-04.nc&#x27;, &#x27;/g/data/p73/archive/non-CMIP/ACCESS-CM2/cj877/history/ice/iceh_m.0444-05.nc&#x27;, &#x27;/g/data/p73/archive/non-CMIP/ACCESS-CM2/cj877/history/ice/iceh_m.0444-06.nc&#x27;, &#x27;/g/data/p73/archive/non-CMIP/ACCESS-CM2/cj877/history/ice/iceh_m.0444-07.nc&#x27;, &#x27;/g/data/p73/archive/non-CMIP/ACCESS-CM2/cj877/history/ice/iceh_m.0444-08.nc&#x27;, &#x27;/g/data/p73/archive/non-CMIP/ACCESS-CM2/cj877/history/ice/iceh_m.0444-09.nc&#x27;, &#x27;/g/data/p73/archive/non-CMIP/ACCESS-CM2/cj877/history/ice/iceh_m.0444-10.nc&#x27;, &#x27;/g/data/p73/archive/non-CMIP/ACCESS-CM2/cj877/history/ice/iceh_m.0444-11.nc&#x27;, &#x27;/g/data/p73/archive/non-CMIP/ACCESS-CM2/cj877/history/ice/iceh_m.0444-12.nc&#x27;, &#x27;/g/data/p73/archive/non-CMIP/ACCESS-CM2/cj877/history/ice/iceh_m.0445-01.nc&#x27;, &#x27;/g/data/p73/archive/non-CMIP/ACCESS-CM2/cj877/history/ice/iceh_m.0445-02.nc&#x27;, &#x27;/g/data/p73/archive/non-CMIP/ACCESS-CM2/cj877/history/ice/iceh_m.0445-03.nc&#x27;, &#x27;/g/data/p73/archive/non-CMIP/ACCESS-CM2/cj877/history/ice/iceh_m.0445-04.nc&#x27;, &#x27;/g/data/p73/archive/non-CMIP/ACCESS-CM2/cj877/history/ice/iceh_m.0445-05.nc&#x27;, &#x27;/g/data/p73/archive/non-CMIP/ACCESS-CM2/cj877/history/ice/iceh_m.0445-06.nc&#x27;, &#x27;/g/data/p73/archive/non-CMIP/ACCESS-CM2/cj877/history/ice/iceh_m.0445-07.nc&#x27;, &#x27;/g/data/p73/archive/non-CMIP/ACCESS-CM2/cj877/history/ice/iceh_m.0445-08.nc&#x27;, &#x27;/g/data/p73/archive/non-CMIP/ACCESS-CM2/cj877/history/ice/iceh_m.0445-09.nc&#x27;, &#x27;/g/data/p73/archive/non-CMIP/ACCESS-CM2/cj877/history/ice/iceh_m.0445-10.nc&#x27;, &#x27;/g/data/p73/archive/non-CMIP/ACCESS-CM2/cj877/history/ice/iceh_m.0445-11.nc&#x27;, &#x27;/g/data/p73/archive/non-CMIP/ACCESS-CM2/cj877/history/ice/iceh_m.0445-12.nc&#x27;, &#x27;/g/data/p73/archive/non-CMIP/ACCESS-CM2/cj877/history/ice/iceh_m.0446-01.nc&#x27;, &#x27;/g/data/p73/archive/non-CMIP/ACCESS-CM2/cj877/history/ice/iceh_m.0446-02.nc&#x27;, &#x27;/g/data/p73/archive/non-CMIP/ACCESS-CM2/cj877/history/ice/iceh_m.0446-03.nc&#x27;, &#x27;/g/data/p73/archive/non-CMIP/ACCESS-CM2/cj877/history/ice/iceh_m.0446-04.nc&#x27;, &#x27;/g/data/p73/archive/non-CMIP/ACCESS-CM2/cj877/history/ice/iceh_m.0446-05.nc&#x27;, &#x27;/g/data/p73/archive/non-CMIP/ACCESS-CM2/cj877/history/ice/iceh_m.0446-06.nc&#x27;, &#x27;/g/data/p73/archive/non-CMIP/ACCESS-CM2/cj877/history/ice/iceh_m.0446-07.nc&#x27;, &#x27;/g/data/p73/archive/non-CMIP/ACCESS-CM2/cj877/history/ice/iceh_m.0446-08.nc&#x27;, &#x27;/g/data/p73/archive/non-CMIP/ACCESS-CM2/cj877/history/ice/iceh_m.0446-09.nc&#x27;, &#x27;/g/data/p73/archive/non-CMIP/ACCESS-CM2/cj877/history/ice/iceh_m.0446-10.nc&#x27;, &#x27;/g/data/p73/archive/non-CMIP/ACCESS-CM2/cj877/history/ice/iceh_m.0446-11.nc&#x27;, &#x27;/g/data/p73/archive/non-CMIP/ACCESS-CM2/cj877/history/ice/iceh_m.0446-12.nc&#x27;, &#x27;/g/data/p73/archive/non-CMIP/ACCESS-CM2/cj877/history/ice/iceh_m.0447-01.nc&#x27;, &#x27;/g/data/p73/archive/non-CMIP/ACCESS-CM2/cj877/history/ice/iceh_m.0447-02.nc&#x27;, &#x27;/g/data/p73/archive/non-CMIP/ACCESS-CM2/cj877/history/ice/iceh_m.0447-03.nc&#x27;, &#x27;/g/data/p73/archive/non-CMIP/ACCESS-CM2/cj877/history/ice/iceh_m.0447-04.nc&#x27;, &#x27;/g/data/p73/archive/non-CMIP/ACCESS-CM2/cj877/history/ice/iceh_m.0447-05.nc&#x27;, &#x27;/g/data/p73/archive/non-CMIP/ACCESS-CM2/cj877/history/ice/iceh_m.0447-06.nc&#x27;, &#x27;/g/data/p73/archive/non-CMIP/ACCESS-CM2/cj877/history/ice/iceh_m.0447-07.nc&#x27;, &#x27;/g/data/p73/archive/non-CMIP/ACCESS-CM2/cj877/history/ice/iceh_m.0447-08.nc&#x27;, &#x27;/g/data/p73/archive/non-CMIP/ACCESS-CM2/cj877/history/ice/iceh_m.0447-09.nc&#x27;, &#x27;/g/data/p73/archive/non-CMIP/ACCESS-CM2/cj877/history/ice/iceh_m.0447-10.nc&#x27;, &#x27;/g/data/p73/archive/non-CMIP/ACCESS-CM2/cj877/history/ice/iceh_m.0447-11.nc&#x27;, &#x27;/g/data/p73/archive/non-CMIP/ACCESS-CM2/cj877/history/ice/iceh_m.0447-12.nc&#x27;, &#x27;/g/data/p73/archive/non-CMIP/ACCESS-CM2/cj877/history/ice/iceh_m.0448-01.nc&#x27;, &#x27;/g/data/p73/archive/non-CMIP/ACCESS-CM2/cj877/history/ice/iceh_m.0448-02.nc&#x27;, &#x27;/g/data/p73/archive/non-CMIP/ACCESS-CM2/cj877/history/ice/iceh_m.0448-03.nc&#x27;, &#x27;/g/data/p73/archive/non-CMIP/ACCESS-CM2/cj877/history/ice/iceh_m.0448-04.nc&#x27;, &#x27;/g/data/p73/archive/non-CMIP/ACCESS-CM2/cj877/history/ice/iceh_m.0448-05.nc&#x27;, &#x27;/g/data/p73/archive/non-CMIP/ACCESS-CM2/cj877/history/ice/iceh_m.0448-06.nc&#x27;, &#x27;/g/data/p73/archive/non-CMIP/ACCESS-CM2/cj877/history/ice/iceh_m.0448-07.nc&#x27;, &#x27;/g/data/p73/archive/non-CMIP/ACCESS-CM2/cj877/history/ice/iceh_m.0448-08.nc&#x27;, &#x27;/g/data/p73/archive/non-CMIP/ACCESS-CM2/cj877/history/ice/iceh_m.0448-09.nc&#x27;, &#x27;/g/data/p73/archive/non-CMIP/ACCESS-CM2/cj877/history/ice/iceh_m.0448-10.nc&#x27;, &#x27;/g/data/p73/archive/non-CMIP/ACCESS-CM2/cj877/history/ice/iceh_m.0448-11.nc&#x27;, &#x27;/g/data/p73/archive/non-CMIP/ACCESS-CM2/cj877/history/ice/iceh_m.0448-12.nc&#x27;, &#x27;/g/data/p73/archive/non-CMIP/ACCESS-CM2/cj877/history/ice/iceh_m.0449-01.nc&#x27;, &#x27;/g/data/p73/archive/non-CMIP/ACCESS-CM2/cj877/history/ice/iceh_m.0449-02.nc&#x27;, &#x27;/g/data/p73/archive/non-CMIP/ACCESS-CM2/cj877/history/ice/iceh_m.0449-03.nc&#x27;, &#x27;/g/data/p73/archive/non-CMIP/ACCESS-CM2/cj877/history/ice/iceh_m.0449-04.nc&#x27;, &#x27;/g/data/p73/archive/non-CMIP/ACCESS-CM2/cj877/history/ice/iceh_m.0449-05.nc&#x27;, &#x27;/g/data/p73/archive/non-CMIP/ACCESS-CM2/cj877/history/ice/iceh_m.0449-06.nc&#x27;, &#x27;/g/data/p73/archive/non-CMIP/ACCESS-CM2/cj877/history/ice/iceh_m.0449-07.nc&#x27;, &#x27;/g/data/p73/archive/non-CMIP/ACCESS-CM2/cj877/history/ice/iceh_m.0449-08.nc&#x27;, &#x27;/g/data/p73/archive/non-CMIP/ACCESS-CM2/cj877/history/ice/iceh_m.0449-09.nc&#x27;, &#x27;/g/data/p73/archive/non-CMIP/ACCESS-CM2/cj877/history/ice/iceh_m.0449-10.nc&#x27;, &#x27;/g/data/p73/archive/non-CMIP/ACCESS-CM2/cj877/history/ice/iceh_m.0449-11.nc&#x27;, &#x27;/g/data/p73/archive/non-CMIP/ACCESS-CM2/cj877/history/ice/iceh_m.0449-12.nc&#x27;, &#x27;/g/data/p73/archive/non-CMIP/ACCESS-CM2/cj877/history/ice/iceh_m.0450-01.nc&#x27;, &#x27;/g/data/p73/archive/non-CMIP/ACCESS-CM2/cj877/history/ice/iceh_m.0450-02.nc&#x27;, &#x27;/g/data/p73/archive/non-CMIP/ACCESS-CM2/cj877/history/ice/iceh_m.0450-03.nc&#x27;, &#x27;/g/data/p73/archive/non-CMIP/ACCESS-CM2/cj877/history/ice/iceh_m.0450-04.nc&#x27;, &#x27;/g/data/p73/archive/non-CMIP/ACCESS-CM2/cj877/history/ice/iceh_m.0450-05.nc&#x27;, &#x27;/g/data/p73/archive/non-CMIP/ACCESS-CM2/cj877/history/ice/iceh_m.0450-06.nc&#x27;, &#x27;/g/data/p73/archive/non-CMIP/ACCESS-CM2/cj877/history/ice/iceh_m.0450-07.nc&#x27;, &#x27;/g/data/p73/archive/non-CMIP/ACCESS-CM2/cj877/history/ice/iceh_m.0450-08.nc&#x27;, &#x27;/g/data/p73/archive/non-CMIP/ACCESS-CM2/cj877/history/ice/iceh_m.0450-09.nc&#x27;, &#x27;/g/data/p73/archive/non-CMIP/ACCESS-CM2/cj877/history/ice/iceh_m.0450-10.nc&#x27;, &#x27;/g/data/p73/archive/non-CMIP/ACCESS-CM2/cj877/history/ice/iceh_m.0450-11.nc&#x27;, &#x27;/g/data/p73/archive/non-CMIP/ACCESS-CM2/cj877/history/ice/iceh_m.0450-12.nc&#x27;, &#x27;/g/data/p73/archive/non-CMIP/ACCESS-CM2/cj877/history/ice/iceh_m.0451-01.nc&#x27;, &#x27;/g/data/p73/archive/non-CMIP/ACCESS-CM2/cj877/history/ice/iceh_m.0451-02.nc&#x27;, &#x27;/g/data/p73/archive/non-CMIP/ACCESS-CM2/cj877/history/ice/iceh_m.0451-03.nc&#x27;, &#x27;/g/data/p73/archive/non-CMIP/ACCESS-CM2/cj877/history/ice/iceh_m.0451-04.nc&#x27;, &#x27;/g/data/p73/archive/non-CMIP/ACCESS-CM2/cj877/history/ice/iceh_m.0451-05.nc&#x27;, &#x27;/g/data/p73/archive/non-CMIP/ACCESS-CM2/cj877/history/ice/iceh_m.0451-06.nc&#x27;, &#x27;/g/data/p73/archive/non-CMIP/ACCESS-CM2/cj877/history/ice/iceh_m.0451-07.nc&#x27;, &#x27;/g/data/p73/archive/non-CMIP/ACCESS-CM2/cj877/history/ice/iceh_m.0451-08.nc&#x27;, &#x27;/g/data/p73/archive/non-CMIP/ACCESS-CM2/cj877/history/ice/iceh_m.0451-09.nc&#x27;, &#x27;/g/data/p73/archive/non-CMIP/ACCESS-CM2/cj877/history/ice/iceh_m.0451-10.nc&#x27;, &#x27;/g/data/p73/archive/non-CMIP/ACCESS-CM2/cj877/history/ice/iceh_m.0451-11.nc&#x27;, &#x27;/g/data/p73/archive/non-CMIP/ACCESS-CM2/cj877/history/ice/iceh_m.0451-12.nc&#x27;, &#x27;/g/data/p73/archive/non-CMIP/ACCESS-CM2/cj877/history/ice/iceh_m.0452-01.nc&#x27;, &#x27;/g/data/p73/archive/non-CMIP/ACCESS-CM2/cj877/history/ice/iceh_m.0452-02.nc&#x27;, &#x27;/g/data/p73/archive/non-CMIP/ACCESS-CM2/cj877/history/ice/iceh_m.0452-03.nc&#x27;, &#x27;/g/data/p73/archive/non-CMIP/ACCESS-CM2/cj877/history/ice/iceh_m.0452-04.nc&#x27;, &#x27;/g/data/p73/archive/non-CMIP/ACCESS-CM2/cj877/history/ice/iceh_m.0452-05.nc&#x27;, &#x27;/g/data/p73/archive/non-CMIP/ACCESS-CM2/cj877/history/ice/iceh_m.0452-06.nc&#x27;, &#x27;/g/data/p73/archive/non-CMIP/ACCESS-CM2/cj877/history/ice/iceh_m.0452-07.nc&#x27;, &#x27;/g/data/p73/archive/non-CMIP/ACCESS-CM2/cj877/history/ice/iceh_m.0452-08.nc&#x27;, &#x27;/g/data/p73/archive/non-CMIP/ACCESS-CM2/cj877/history/ice/iceh_m.0452-09.nc&#x27;, &#x27;/g/data/p73/archive/non-CMIP/ACCESS-CM2/cj877/history/ice/iceh_m.0452-10.nc&#x27;, &#x27;/g/data/p73/archive/non-CMIP/ACCESS-CM2/cj877/history/ice/iceh_m.0452-11.nc&#x27;, &#x27;/g/data/p73/archive/non-CMIP/ACCESS-CM2/cj877/history/ice/iceh_m.0452-12.nc&#x27;, &#x27;/g/data/p73/archive/non-CMIP/ACCESS-CM2/cj877/history/ice/iceh_m.0453-01.nc&#x27;, &#x27;/g/data/p73/archive/non-CMIP/ACCESS-CM2/cj877/history/ice/iceh_m.0453-02.nc&#x27;, &#x27;/g/data/p73/archive/non-CMIP/ACCESS-CM2/cj877/history/ice/iceh_m.0453-03.nc&#x27;, &#x27;/g/data/p73/archive/non-CMIP/ACCESS-CM2/cj877/history/ice/iceh_m.0453-04.nc&#x27;, &#x27;/g/data/p73/archive/non-CMIP/ACCESS-CM2/cj877/history/ice/iceh_m.0453-05.nc&#x27;, &#x27;/g/data/p73/archive/non-CMIP/ACCESS-CM2/cj877/history/ice/iceh_m.0453-06.nc&#x27;, &#x27;/g/data/p73/archive/non-CMIP/ACCESS-CM2/cj877/history/ice/iceh_m.0453-07.nc&#x27;, &#x27;/g/data/p73/archive/non-CMIP/ACCESS-CM2/cj877/history/ice/iceh_m.0453-08.nc&#x27;, &#x27;/g/data/p73/archive/non-CMIP/ACCESS-CM2/cj877/history/ice/iceh_m.0453-09.nc&#x27;, &#x27;/g/data/p73/archive/non-CMIP/ACCESS-CM2/cj877/history/ice/iceh_m.0453-10.nc&#x27;, &#x27;/g/data/p73/archive/non-CMIP/ACCESS-CM2/cj877/history/ice/iceh_m.0453-11.nc&#x27;, &#x27;/g/data/p73/archive/non-CMIP/ACCESS-CM2/cj877/history/ice/iceh_m.0453-12.nc&#x27;, &#x27;/g/data/p73/archive/non-CMIP/ACCESS-CM2/cj877/history/ice/iceh_m.0454-01.nc&#x27;, &#x27;/g/data/p73/archive/non-CMIP/ACCESS-CM2/cj877/history/ice/iceh_m.0454-02.nc&#x27;, &#x27;/g/data/p73/archive/non-CMIP/ACCESS-CM2/cj877/history/ice/iceh_m.0454-03.nc&#x27;, &#x27;/g/data/p73/archive/non-CMIP/ACCESS-CM2/cj877/history/ice/iceh_m.0454-04.nc&#x27;, &#x27;/g/data/p73/archive/non-CMIP/ACCESS-CM2/cj877/history/ice/iceh_m.0454-05.nc&#x27;, &#x27;/g/data/p73/archive/non-CMIP/ACCESS-CM2/cj877/history/ice/iceh_m.0454-06.nc&#x27;, &#x27;/g/data/p73/archive/non-CMIP/ACCESS-CM2/cj877/history/ice/iceh_m.0454-07.nc&#x27;, &#x27;/g/data/p73/archive/non-CMIP/ACCESS-CM2/cj877/history/ice/iceh_m.0454-08.nc&#x27;, &#x27;/g/data/p73/archive/non-CMIP/ACCESS-CM2/cj877/history/ice/iceh_m.0454-09.nc&#x27;, &#x27;/g/data/p73/archive/non-CMIP/ACCESS-CM2/cj877/history/ice/iceh_m.0454-10.nc&#x27;, &#x27;/g/data/p73/archive/non-CMIP/ACCESS-CM2/cj877/history/ice/iceh_m.0454-11.nc&#x27;, &#x27;/g/data/p73/archive/non-CMIP/ACCESS-CM2/cj877/history/ice/iceh_m.0454-12.nc&#x27;, &#x27;/g/data/p73/archive/non-CMIP/ACCESS-CM2/cj877/history/ice/iceh_m.0455-01.nc&#x27;, &#x27;/g/data/p73/archive/non-CMIP/ACCESS-CM2/cj877/history/ice/iceh_m.0455-02.nc&#x27;, &#x27;/g/data/p73/archive/non-CMIP/ACCESS-CM2/cj877/history/ice/iceh_m.0455-03.nc&#x27;, &#x27;/g/data/p73/archive/non-CMIP/ACCESS-CM2/cj877/history/ice/iceh_m.0455-04.nc&#x27;, &#x27;/g/data/p73/archive/non-CMIP/ACCESS-CM2/cj877/history/ice/iceh_m.0455-05.nc&#x27;, &#x27;/g/data/p73/archive/non-CMIP/ACCESS-CM2/cj877/history/ice/iceh_m.0455-06.nc&#x27;, &#x27;/g/data/p73/archive/non-CMIP/ACCESS-CM2/cj877/history/ice/iceh_m.0455-07.nc&#x27;, &#x27;/g/data/p73/archive/non-CMIP/ACCESS-CM2/cj877/history/ice/iceh_m.0455-08.nc&#x27;, &#x27;/g/data/p73/archive/non-CMIP/ACCESS-CM2/cj877/history/ice/iceh_m.0455-09.nc&#x27;, &#x27;/g/data/p73/archive/non-CMIP/ACCESS-CM2/cj877/history/ice/iceh_m.0455-10.nc&#x27;, &#x27;/g/data/p73/archive/non-CMIP/ACCESS-CM2/cj877/history/ice/iceh_m.0455-11.nc&#x27;, &#x27;/g/data/p73/archive/non-CMIP/ACCESS-CM2/cj877/history/ice/iceh_m.0455-12.nc&#x27;, &#x27;/g/data/p73/archive/non-CMIP/ACCESS-CM2/cj877/history/ice/iceh_m.0456-01.nc&#x27;, &#x27;/g/data/p73/archive/non-CMIP/ACCESS-CM2/cj877/history/ice/iceh_m.0456-02.nc&#x27;, &#x27;/g/data/p73/archive/non-CMIP/ACCESS-CM2/cj877/history/ice/iceh_m.0456-03.nc&#x27;, &#x27;/g/data/p73/archive/non-CMIP/ACCESS-CM2/cj877/history/ice/iceh_m.0456-04.nc&#x27;, &#x27;/g/data/p73/archive/non-CMIP/ACCESS-CM2/cj877/history/ice/iceh_m.0456-05.nc&#x27;, &#x27;/g/data/p73/archive/non-CMIP/ACCESS-CM2/cj877/history/ice/iceh_m.0456-06.nc&#x27;, &#x27;/g/data/p73/archive/non-CMIP/ACCESS-CM2/cj877/history/ice/iceh_m.0456-07.nc&#x27;, &#x27;/g/data/p73/archive/non-CMIP/ACCESS-CM2/cj877/history/ice/iceh_m.0456-08.nc&#x27;, &#x27;/g/data/p73/archive/non-CMIP/ACCESS-CM2/cj877/history/ice/iceh_m.0456-09.nc&#x27;, &#x27;/g/data/p73/archive/non-CMIP/ACCESS-CM2/cj877/history/ice/iceh_m.0456-10.nc&#x27;, &#x27;/g/data/p73/archive/non-CMIP/ACCESS-CM2/cj877/history/ice/iceh_m.0456-11.nc&#x27;, &#x27;/g/data/p73/archive/non-CMIP/ACCESS-CM2/cj877/history/ice/iceh_m.0456-12.nc&#x27;, &#x27;/g/data/p73/archive/non-CMIP/ACCESS-CM2/cj877/history/ice/iceh_m.0457-01.nc&#x27;, &#x27;/g/data/p73/archive/non-CMIP/ACCESS-CM2/cj877/history/ice/iceh_m.0457-02.nc&#x27;, &#x27;/g/data/p73/archive/non-CMIP/ACCESS-CM2/cj877/history/ice/iceh_m.0457-03.nc&#x27;, &#x27;/g/data/p73/archive/non-CMIP/ACCESS-CM2/cj877/history/ice/iceh_m.0457-04.nc&#x27;, &#x27;/g/data/p73/archive/non-CMIP/ACCESS-CM2/cj877/history/ice/iceh_m.0457-05.nc&#x27;, &#x27;/g/data/p73/archive/non-CMIP/ACCESS-CM2/cj877/history/ice/iceh_m.0457-06.nc&#x27;, &#x27;/g/data/p73/archive/non-CMIP/ACCESS-CM2/cj877/history/ice/iceh_m.0457-07.nc&#x27;, &#x27;/g/data/p73/archive/non-CMIP/ACCESS-CM2/cj877/history/ice/iceh_m.0457-08.nc&#x27;, &#x27;/g/data/p73/archive/non-CMIP/ACCESS-CM2/cj877/history/ice/iceh_m.0457-09.nc&#x27;, &#x27;/g/data/p73/archive/non-CMIP/ACCESS-CM2/cj877/history/ice/iceh_m.0457-10.nc&#x27;, &#x27;/g/data/p73/archive/non-CMIP/ACCESS-CM2/cj877/history/ice/iceh_m.0457-11.nc&#x27;, &#x27;/g/data/p73/archive/non-CMIP/ACCESS-CM2/cj877/history/ice/iceh_m.0457-12.nc&#x27;, &#x27;/g/data/p73/archive/non-CMIP/ACCESS-CM2/cj877/history/ice/iceh_m.0458-01.nc&#x27;, &#x27;/g/data/p73/archive/non-CMIP/ACCESS-CM2/cj877/history/ice/iceh_m.0458-02.nc&#x27;, &#x27;/g/data/p73/archive/non-CMIP/ACCESS-CM2/cj877/history/ice/iceh_m.0458-03.nc&#x27;, &#x27;/g/data/p73/archive/non-CMIP/ACCESS-CM2/cj877/history/ice/iceh_m.0458-04.nc&#x27;, &#x27;/g/data/p73/archive/non-CMIP/ACCESS-CM2/cj877/history/ice/iceh_m.0458-05.nc&#x27;, &#x27;/g/data/p73/archive/non-CMIP/ACCESS-CM2/cj877/history/ice/iceh_m.0458-06.nc&#x27;, &#x27;/g/data/p73/archive/non-CMIP/ACCESS-CM2/cj877/history/ice/iceh_m.0458-07.nc&#x27;, &#x27;/g/data/p73/archive/non-CMIP/ACCESS-CM2/cj877/history/ice/iceh_m.0458-08.nc&#x27;, &#x27;/g/data/p73/archive/non-CMIP/ACCESS-CM2/cj877/history/ice/iceh_m.0458-09.nc&#x27;, &#x27;/g/data/p73/archive/non-CMIP/ACCESS-CM2/cj877/history/ice/iceh_m.0458-10.nc&#x27;, &#x27;/g/data/p73/archive/non-CMIP/ACCESS-CM2/cj877/history/ice/iceh_m.0458-11.nc&#x27;, &#x27;/g/data/p73/archive/non-CMIP/ACCESS-CM2/cj877/history/ice/iceh_m.0458-12.nc&#x27;, &#x27;/g/data/p73/archive/non-CMIP/ACCESS-CM2/cj877/history/ice/iceh_m.0459-01.nc&#x27;, &#x27;/g/data/p73/archive/non-CMIP/ACCESS-CM2/cj877/history/ice/iceh_m.0459-02.nc&#x27;, &#x27;/g/data/p73/archive/non-CMIP/ACCESS-CM2/cj877/history/ice/iceh_m.0459-03.nc&#x27;, &#x27;/g/data/p73/archive/non-CMIP/ACCESS-CM2/cj877/history/ice/iceh_m.0459-04.nc&#x27;, &#x27;/g/data/p73/archive/non-CMIP/ACCESS-CM2/cj877/history/ice/iceh_m.0459-05.nc&#x27;, &#x27;/g/data/p73/archive/non-CMIP/ACCESS-CM2/cj877/history/ice/iceh_m.0459-06.nc&#x27;, &#x27;/g/data/p73/archive/non-CMIP/ACCESS-CM2/cj877/history/ice/iceh_m.0459-07.nc&#x27;, &#x27;/g/data/p73/archive/non-CMIP/ACCESS-CM2/cj877/history/ice/iceh_m.0459-08.nc&#x27;, &#x27;/g/data/p73/archive/non-CMIP/ACCESS-CM2/cj877/history/ice/iceh_m.0459-09.nc&#x27;, &#x27;/g/data/p73/archive/non-CMIP/ACCESS-CM2/cj877/history/ice/iceh_m.0459-10.nc&#x27;, &#x27;/g/data/p73/archive/non-CMIP/ACCESS-CM2/cj877/history/ice/iceh_m.0459-11.nc&#x27;, &#x27;/g/data/p73/archive/non-CMIP/ACCESS-CM2/cj877/history/ice/iceh_m.0459-12.nc&#x27;, &#x27;/g/data/p73/archive/non-CMIP/ACCESS-CM2/cj877/history/ice/iceh_m.0460-01.nc&#x27;, &#x27;/g/data/p73/archive/non-CMIP/ACCESS-CM2/cj877/history/ice/iceh_m.0460-02.nc&#x27;, &#x27;/g/data/p73/archive/non-CMIP/ACCESS-CM2/cj877/history/ice/iceh_m.0460-03.nc&#x27;, &#x27;/g/data/p73/archive/non-CMIP/ACCESS-CM2/cj877/history/ice/iceh_m.0460-04.nc&#x27;, &#x27;/g/data/p73/archive/non-CMIP/ACCESS-CM2/cj877/history/ice/iceh_m.0460-05.nc&#x27;, &#x27;/g/data/p73/archive/non-CMIP/ACCESS-CM2/cj877/history/ice/iceh_m.0460-06.nc&#x27;, &#x27;/g/data/p73/archive/non-CMIP/ACCESS-CM2/cj877/history/ice/iceh_m.0460-07.nc&#x27;, &#x27;/g/data/p73/archive/non-CMIP/ACCESS-CM2/cj877/history/ice/iceh_m.0460-08.nc&#x27;, &#x27;/g/data/p73/archive/non-CMIP/ACCESS-CM2/cj877/history/ice/iceh_m.0460-09.nc&#x27;, &#x27;/g/data/p73/archive/non-CMIP/ACCESS-CM2/cj877/history/ice/iceh_m.0460-10.nc&#x27;, &#x27;/g/data/p73/archive/non-CMIP/ACCESS-CM2/cj877/history/ice/iceh_m.0460-11.nc&#x27;, &#x27;/g/data/p73/archive/non-CMIP/ACCESS-CM2/cj877/history/ice/iceh_m.0460-12.nc&#x27;, &#x27;/g/data/p73/archive/non-CMIP/ACCESS-CM2/cj877/history/ice/iceh_m.0461-01.nc&#x27;, &#x27;/g/data/p73/archive/non-CMIP/ACCESS-CM2/cj877/history/ice/iceh_m.0461-02.nc&#x27;, &#x27;/g/data/p73/archive/non-CMIP/ACCESS-CM2/cj877/history/ice/iceh_m.0461-03.nc&#x27;, &#x27;/g/data/p73/archive/non-CMIP/ACCESS-CM2/cj877/history/ice/iceh_m.0461-04.nc&#x27;, &#x27;/g/data/p73/archive/non-CMIP/ACCESS-CM2/cj877/history/ice/iceh_m.0461-05.nc&#x27;, &#x27;/g/data/p73/archive/non-CMIP/ACCESS-CM2/cj877/history/ice/iceh_m.0461-06.nc&#x27;, &#x27;/g/data/p73/archive/non-CMIP/ACCESS-CM2/cj877/history/ice/iceh_m.0461-07.nc&#x27;, &#x27;/g/data/p73/archive/non-CMIP/ACCESS-CM2/cj877/history/ice/iceh_m.0461-08.nc&#x27;, &#x27;/g/data/p73/archive/non-CMIP/ACCESS-CM2/cj877/history/ice/iceh_m.0461-09.nc&#x27;, &#x27;/g/data/p73/archive/non-CMIP/ACCESS-CM2/cj877/history/ice/iceh_m.0461-10.nc&#x27;, &#x27;/g/data/p73/archive/non-CMIP/ACCESS-CM2/cj877/history/ice/iceh_m.0461-11.nc&#x27;, &#x27;/g/data/p73/archive/non-CMIP/ACCESS-CM2/cj877/history/ice/iceh_m.0461-12.nc&#x27;, &#x27;/g/data/p73/archive/non-CMIP/ACCESS-CM2/cj877/history/ice/iceh_m.0462-01.nc&#x27;, &#x27;/g/data/p73/archive/non-CMIP/ACCESS-CM2/cj877/history/ice/iceh_m.0462-02.nc&#x27;, &#x27;/g/data/p73/archive/non-CMIP/ACCESS-CM2/cj877/history/ice/iceh_m.0462-03.nc&#x27;, &#x27;/g/data/p73/archive/non-CMIP/ACCESS-CM2/cj877/history/ice/iceh_m.0462-04.nc&#x27;, &#x27;/g/data/p73/archive/non-CMIP/ACCESS-CM2/cj877/history/ice/iceh_m.0462-05.nc&#x27;, &#x27;/g/data/p73/archive/non-CMIP/ACCESS-CM2/cj877/history/ice/iceh_m.0462-06.nc&#x27;, &#x27;/g/data/p73/archive/non-CMIP/ACCESS-CM2/cj877/history/ice/iceh_m.0462-07.nc&#x27;, &#x27;/g/data/p73/archive/non-CMIP/ACCESS-CM2/cj877/history/ice/iceh_m.0462-08.nc&#x27;, &#x27;/g/data/p73/archive/non-CMIP/ACCESS-CM2/cj877/history/ice/iceh_m.0462-09.nc&#x27;, &#x27;/g/data/p73/archive/non-CMIP/ACCESS-CM2/cj877/history/ice/iceh_m.0462-10.nc&#x27;, &#x27;/g/data/p73/archive/non-CMIP/ACCESS-CM2/cj877/history/ice/iceh_m.0462-11.nc&#x27;, &#x27;/g/data/p73/archive/non-CMIP/ACCESS-CM2/cj877/history/ice/iceh_m.0462-12.nc&#x27;, &#x27;/g/data/p73/archive/non-CMIP/ACCESS-CM2/cj877/history/ice/iceh_m.0463-01.nc&#x27;, &#x27;/g/data/p73/archive/non-CMIP/ACCESS-CM2/cj877/history/ice/iceh_m.0463-02.nc&#x27;, &#x27;/g/data/p73/archive/non-CMIP/ACCESS-CM2/cj877/history/ice/iceh_m.0463-03.nc&#x27;, &#x27;/g/data/p73/archive/non-CMIP/ACCESS-CM2/cj877/history/ice/iceh_m.0463-04.nc&#x27;, &#x27;/g/data/p73/archive/non-CMIP/ACCESS-CM2/cj877/history/ice/iceh_m.0463-05.nc&#x27;, &#x27;/g/data/p73/archive/non-CMIP/ACCESS-CM2/cj877/history/ice/iceh_m.0463-06.nc&#x27;, &#x27;/g/data/p73/archive/non-CMIP/ACCESS-CM2/cj877/history/ice/iceh_m.0463-07.nc&#x27;, &#x27;/g/data/p73/archive/non-CMIP/ACCESS-CM2/cj877/history/ice/iceh_m.0463-08.nc&#x27;, &#x27;/g/data/p73/archive/non-CMIP/ACCESS-CM2/cj877/history/ice/iceh_m.0463-09.nc&#x27;, &#x27;/g/data/p73/archive/non-CMIP/ACCESS-CM2/cj877/history/ice/iceh_m.0463-10.nc&#x27;, &#x27;/g/data/p73/archive/non-CMIP/ACCESS-CM2/cj877/history/ice/iceh_m.0463-11.nc&#x27;, &#x27;/g/data/p73/archive/non-CMIP/ACCESS-CM2/cj877/history/ice/iceh_m.0463-12.nc&#x27;, &#x27;/g/data/p73/archive/non-CMIP/ACCESS-CM2/cj877/history/ice/iceh_m.0464-01.nc&#x27;, &#x27;/g/data/p73/archive/non-CMIP/ACCESS-CM2/cj877/history/ice/iceh_m.0464-02.nc&#x27;, &#x27;/g/data/p73/archive/non-CMIP/ACCESS-CM2/cj877/history/ice/iceh_m.0464-03.nc&#x27;, &#x27;/g/data/p73/archive/non-CMIP/ACCESS-CM2/cj877/history/ice/iceh_m.0464-04.nc&#x27;, &#x27;/g/data/p73/archive/non-CMIP/ACCESS-CM2/cj877/history/ice/iceh_m.0464-05.nc&#x27;, &#x27;/g/data/p73/archive/non-CMIP/ACCESS-CM2/cj877/history/ice/iceh_m.0464-06.nc&#x27;, &#x27;/g/data/p73/archive/non-CMIP/ACCESS-CM2/cj877/history/ice/iceh_m.0464-07.nc&#x27;, &#x27;/g/data/p73/archive/non-CMIP/ACCESS-CM2/cj877/history/ice/iceh_m.0464-08.nc&#x27;, &#x27;/g/data/p73/archive/non-CMIP/ACCESS-CM2/cj877/history/ice/iceh_m.0464-09.nc&#x27;, &#x27;/g/data/p73/archive/non-CMIP/ACCESS-CM2/cj877/history/ice/iceh_m.0464-10.nc&#x27;, &#x27;/g/data/p73/archive/non-CMIP/ACCESS-CM2/cj877/history/ice/iceh_m.0464-11.nc&#x27;, &#x27;/g/data/p73/archive/non-CMIP/ACCESS-CM2/cj877/history/ice/iceh_m.0464-12.nc&#x27;, &#x27;/g/data/p73/archive/non-CMIP/ACCESS-CM2/cj877/history/ice/iceh_m.0465-01.nc&#x27;, &#x27;/g/data/p73/archive/non-CMIP/ACCESS-CM2/cj877/history/ice/iceh_m.0465-02.nc&#x27;, &#x27;/g/data/p73/archive/non-CMIP/ACCESS-CM2/cj877/history/ice/iceh_m.0465-03.nc&#x27;, &#x27;/g/data/p73/archive/non-CMIP/ACCESS-CM2/cj877/history/ice/iceh_m.0465-04.nc&#x27;, &#x27;/g/data/p73/archive/non-CMIP/ACCESS-CM2/cj877/history/ice/iceh_m.0465-05.nc&#x27;, &#x27;/g/data/p73/archive/non-CMIP/ACCESS-CM2/cj877/history/ice/iceh_m.0465-06.nc&#x27;, &#x27;/g/data/p73/archive/non-CMIP/ACCESS-CM2/cj877/history/ice/iceh_m.0465-07.nc&#x27;, &#x27;/g/data/p73/archive/non-CMIP/ACCESS-CM2/cj877/history/ice/iceh_m.0465-08.nc&#x27;, &#x27;/g/data/p73/archive/non-CMIP/ACCESS-CM2/cj877/history/ice/iceh_m.0465-09.nc&#x27;, &#x27;/g/data/p73/archive/non-CMIP/ACCESS-CM2/cj877/history/ice/iceh_m.0465-10.nc&#x27;, &#x27;/g/data/p73/archive/non-CMIP/ACCESS-CM2/cj877/history/ice/iceh_m.0465-11.nc&#x27;, &#x27;/g/data/p73/archive/non-CMIP/ACCESS-CM2/cj877/history/ice/iceh_m.0465-12.nc&#x27;, &#x27;/g/data/p73/archive/non-CMIP/ACCESS-CM2/cj877/history/ice/iceh_m.0466-01.nc&#x27;, &#x27;/g/data/p73/archive/non-CMIP/ACCESS-CM2/cj877/history/ice/iceh_m.0466-02.nc&#x27;, &#x27;/g/data/p73/archive/non-CMIP/ACCESS-CM2/cj877/history/ice/iceh_m.0466-03.nc&#x27;, &#x27;/g/data/p73/archive/non-CMIP/ACCESS-CM2/cj877/history/ice/iceh_m.0466-04.nc&#x27;, &#x27;/g/data/p73/archive/non-CMIP/ACCESS-CM2/cj877/history/ice/iceh_m.0466-05.nc&#x27;, &#x27;/g/data/p73/archive/non-CMIP/ACCESS-CM2/cj877/history/ice/iceh_m.0466-06.nc&#x27;, &#x27;/g/data/p73/archive/non-CMIP/ACCESS-CM2/cj877/history/ice/iceh_m.0466-07.nc&#x27;, &#x27;/g/data/p73/archive/non-CMIP/ACCESS-CM2/cj877/history/ice/iceh_m.0466-08.nc&#x27;, &#x27;/g/data/p73/archive/non-CMIP/ACCESS-CM2/cj877/history/ice/iceh_m.0466-09.nc&#x27;, &#x27;/g/data/p73/archive/non-CMIP/ACCESS-CM2/cj877/history/ice/iceh_m.0466-10.nc&#x27;, &#x27;/g/data/p73/archive/non-CMIP/ACCESS-CM2/cj877/history/ice/iceh_m.0466-11.nc&#x27;, &#x27;/g/data/p73/archive/non-CMIP/ACCESS-CM2/cj877/history/ice/iceh_m.0466-12.nc&#x27;, &#x27;/g/data/p73/archive/non-CMIP/ACCESS-CM2/cj877/history/ice/iceh_m.0467-01.nc&#x27;, &#x27;/g/data/p73/archive/non-CMIP/ACCESS-CM2/cj877/history/ice/iceh_m.0467-02.nc&#x27;, &#x27;/g/data/p73/archive/non-CMIP/ACCESS-CM2/cj877/history/ice/iceh_m.0467-03.nc&#x27;, &#x27;/g/data/p73/archive/non-CMIP/ACCESS-CM2/cj877/history/ice/iceh_m.0467-04.nc&#x27;, &#x27;/g/data/p73/archive/non-CMIP/ACCESS-CM2/cj877/history/ice/iceh_m.0467-05.nc&#x27;, &#x27;/g/data/p73/archive/non-CMIP/ACCESS-CM2/cj877/history/ice/iceh_m.0467-06.nc&#x27;, &#x27;/g/data/p73/archive/non-CMIP/ACCESS-CM2/cj877/history/ice/iceh_m.0467-07.nc&#x27;, &#x27;/g/data/p73/archive/non-CMIP/ACCESS-CM2/cj877/history/ice/iceh_m.0467-08.nc&#x27;, &#x27;/g/data/p73/archive/non-CMIP/ACCESS-CM2/cj877/history/ice/iceh_m.0467-09.nc&#x27;, &#x27;/g/data/p73/archive/non-CMIP/ACCESS-CM2/cj877/history/ice/iceh_m.0467-10.nc&#x27;, &#x27;/g/data/p73/archive/non-CMIP/ACCESS-CM2/cj877/history/ice/iceh_m.0467-11.nc&#x27;, &#x27;/g/data/p73/archive/non-CMIP/ACCESS-CM2/cj877/history/ice/iceh_m.0467-12.nc&#x27;, &#x27;/g/data/p73/archive/non-CMIP/ACCESS-CM2/cj877/history/ice/iceh_m.0468-01.nc&#x27;, &#x27;/g/data/p73/archive/non-CMIP/ACCESS-CM2/cj877/history/ice/iceh_m.0468-02.nc&#x27;, &#x27;/g/data/p73/archive/non-CMIP/ACCESS-CM2/cj877/history/ice/iceh_m.0468-03.nc&#x27;, &#x27;/g/data/p73/archive/non-CMIP/ACCESS-CM2/cj877/history/ice/iceh_m.0468-04.nc&#x27;, &#x27;/g/data/p73/archive/non-CMIP/ACCESS-CM2/cj877/history/ice/iceh_m.0468-05.nc&#x27;, &#x27;/g/data/p73/archive/non-CMIP/ACCESS-CM2/cj877/history/ice/iceh_m.0468-06.nc&#x27;, &#x27;/g/data/p73/archive/non-CMIP/ACCESS-CM2/cj877/history/ice/iceh_m.0468-07.nc&#x27;, &#x27;/g/data/p73/archive/non-CMIP/ACCESS-CM2/cj877/history/ice/iceh_m.0468-08.nc&#x27;, &#x27;/g/data/p73/archive/non-CMIP/ACCESS-CM2/cj877/history/ice/iceh_m.0468-09.nc&#x27;, &#x27;/g/data/p73/archive/non-CMIP/ACCESS-CM2/cj877/history/ice/iceh_m.0468-10.nc&#x27;, &#x27;/g/data/p73/archive/non-CMIP/ACCESS-CM2/cj877/history/ice/iceh_m.0468-11.nc&#x27;, &#x27;/g/data/p73/archive/non-CMIP/ACCESS-CM2/cj877/history/ice/iceh_m.0468-12.nc&#x27;, &#x27;/g/data/p73/archive/non-CMIP/ACCESS-CM2/cj877/history/ice/iceh_m.0469-01.nc&#x27;, &#x27;/g/data/p73/archive/non-CMIP/ACCESS-CM2/cj877/history/ice/iceh_m.0469-02.nc&#x27;, &#x27;/g/data/p73/archive/non-CMIP/ACCESS-CM2/cj877/history/ice/iceh_m.0469-03.nc&#x27;, &#x27;/g/data/p73/archive/non-CMIP/ACCESS-CM2/cj877/history/ice/iceh_m.0469-04.nc&#x27;, &#x27;/g/data/p73/archive/non-CMIP/ACCESS-CM2/cj877/history/ice/iceh_m.0469-05.nc&#x27;, &#x27;/g/data/p73/archive/non-CMIP/ACCESS-CM2/cj877/history/ice/iceh_m.0469-06.nc&#x27;, &#x27;/g/data/p73/archive/non-CMIP/ACCESS-CM2/cj877/history/ice/iceh_m.0469-07.nc&#x27;, &#x27;/g/data/p73/archive/non-CMIP/ACCESS-CM2/cj877/history/ice/iceh_m.0469-08.nc&#x27;, &#x27;/g/data/p73/archive/non-CMIP/ACCESS-CM2/cj877/history/ice/iceh_m.0469-09.nc&#x27;, &#x27;/g/data/p73/archive/non-CMIP/ACCESS-CM2/cj877/history/ice/iceh_m.0469-10.nc&#x27;, &#x27;/g/data/p73/archive/non-CMIP/ACCESS-CM2/cj877/history/ice/iceh_m.0469-11.nc&#x27;, &#x27;/g/data/p73/archive/non-CMIP/ACCESS-CM2/cj877/history/ice/iceh_m.0469-12.nc&#x27;, &#x27;/g/data/p73/archive/non-CMIP/ACCESS-CM2/cj877/history/ice/iceh_m.0470-01.nc&#x27;, &#x27;/g/data/p73/archive/non-CMIP/ACCESS-CM2/cj877/history/ice/iceh_m.0470-02.nc&#x27;, &#x27;/g/data/p73/archive/non-CMIP/ACCESS-CM2/cj877/history/ice/iceh_m.0470-03.nc&#x27;, &#x27;/g/data/p73/archive/non-CMIP/ACCESS-CM2/cj877/history/ice/iceh_m.0470-04.nc&#x27;, &#x27;/g/data/p73/archive/non-CMIP/ACCESS-CM2/cj877/history/ice/iceh_m.0470-05.nc&#x27;, &#x27;/g/data/p73/archive/non-CMIP/ACCESS-CM2/cj877/history/ice/iceh_m.0470-06.nc&#x27;, &#x27;/g/data/p73/archive/non-CMIP/ACCESS-CM2/cj877/history/ice/iceh_m.0470-07.nc&#x27;, &#x27;/g/data/p73/archive/non-CMIP/ACCESS-CM2/cj877/history/ice/iceh_m.0470-08.nc&#x27;, &#x27;/g/data/p73/archive/non-CMIP/ACCESS-CM2/cj877/history/ice/iceh_m.0470-09.nc&#x27;, &#x27;/g/data/p73/archive/non-CMIP/ACCESS-CM2/cj877/history/ice/iceh_m.0470-10.nc&#x27;, &#x27;/g/data/p73/archive/non-CMIP/ACCESS-CM2/cj877/history/ice/iceh_m.0470-11.nc&#x27;, &#x27;/g/data/p73/archive/non-CMIP/ACCESS-CM2/cj877/history/ice/iceh_m.0470-12.nc&#x27;, &#x27;/g/data/p73/archive/non-CMIP/ACCESS-CM2/cj877/history/ice/iceh_m.0471-01.nc&#x27;, &#x27;/g/data/p73/archive/non-CMIP/ACCESS-CM2/cj877/history/ice/iceh_m.0471-02.nc&#x27;, &#x27;/g/data/p73/archive/non-CMIP/ACCESS-CM2/cj877/history/ice/iceh_m.0471-03.nc&#x27;, &#x27;/g/data/p73/archive/non-CMIP/ACCESS-CM2/cj877/history/ice/iceh_m.0471-04.nc&#x27;, &#x27;/g/data/p73/archive/non-CMIP/ACCESS-CM2/cj877/history/ice/iceh_m.0471-05.nc&#x27;, &#x27;/g/data/p73/archive/non-CMIP/ACCESS-CM2/cj877/history/ice/iceh_m.0471-06.nc&#x27;, &#x27;/g/data/p73/archive/non-CMIP/ACCESS-CM2/cj877/history/ice/iceh_m.0471-07.nc&#x27;, &#x27;/g/data/p73/archive/non-CMIP/ACCESS-CM2/cj877/history/ice/iceh_m.0471-08.nc&#x27;, &#x27;/g/data/p73/archive/non-CMIP/ACCESS-CM2/cj877/history/ice/iceh_m.0471-09.nc&#x27;, &#x27;/g/data/p73/archive/non-CMIP/ACCESS-CM2/cj877/history/ice/iceh_m.0471-10.nc&#x27;, &#x27;/g/data/p73/archive/non-CMIP/ACCESS-CM2/cj877/history/ice/iceh_m.0471-11.nc&#x27;, &#x27;/g/data/p73/archive/non-CMIP/ACCESS-CM2/cj877/history/ice/iceh_m.0471-12.nc&#x27;, &#x27;/g/data/p73/archive/non-CMIP/ACCESS-CM2/cj877/history/ice/iceh_m.0472-01.nc&#x27;, &#x27;/g/data/p73/archive/non-CMIP/ACCESS-CM2/cj877/history/ice/iceh_m.0472-02.nc&#x27;, &#x27;/g/data/p73/archive/non-CMIP/ACCESS-CM2/cj877/history/ice/iceh_m.0472-03.nc&#x27;, &#x27;/g/data/p73/archive/non-CMIP/ACCESS-CM2/cj877/history/ice/iceh_m.0472-04.nc&#x27;, &#x27;/g/data/p73/archive/non-CMIP/ACCESS-CM2/cj877/history/ice/iceh_m.0472-05.nc&#x27;, &#x27;/g/data/p73/archive/non-CMIP/ACCESS-CM2/cj877/history/ice/iceh_m.0472-06.nc&#x27;, &#x27;/g/data/p73/archive/non-CMIP/ACCESS-CM2/cj877/history/ice/iceh_m.0472-07.nc&#x27;, &#x27;/g/data/p73/archive/non-CMIP/ACCESS-CM2/cj877/history/ice/iceh_m.0472-08.nc&#x27;, &#x27;/g/data/p73/archive/non-CMIP/ACCESS-CM2/cj877/history/ice/iceh_m.0472-09.nc&#x27;, &#x27;/g/data/p73/archive/non-CMIP/ACCESS-CM2/cj877/history/ice/iceh_m.0472-10.nc&#x27;, &#x27;/g/data/p73/archive/non-CMIP/ACCESS-CM2/cj877/history/ice/iceh_m.0472-11.nc&#x27;, &#x27;/g/data/p73/archive/non-CMIP/ACCESS-CM2/cj877/history/ice/iceh_m.0472-12.nc&#x27;, &#x27;/g/data/p73/archive/non-CMIP/ACCESS-CM2/cj877/history/ice/iceh_m.0473-01.nc&#x27;, &#x27;/g/data/p73/archive/non-CMIP/ACCESS-CM2/cj877/history/ice/iceh_m.0473-02.nc&#x27;, &#x27;/g/data/p73/archive/non-CMIP/ACCESS-CM2/cj877/history/ice/iceh_m.0473-03.nc&#x27;, &#x27;/g/data/p73/archive/non-CMIP/ACCESS-CM2/cj877/history/ice/iceh_m.0473-04.nc&#x27;, &#x27;/g/data/p73/archive/non-CMIP/ACCESS-CM2/cj877/history/ice/iceh_m.0473-05.nc&#x27;, &#x27;/g/data/p73/archive/non-CMIP/ACCESS-CM2/cj877/history/ice/iceh_m.0473-06.nc&#x27;, &#x27;/g/data/p73/archive/non-CMIP/ACCESS-CM2/cj877/history/ice/iceh_m.0473-07.nc&#x27;, &#x27;/g/data/p73/archive/non-CMIP/ACCESS-CM2/cj877/history/ice/iceh_m.0473-08.nc&#x27;, &#x27;/g/data/p73/archive/non-CMIP/ACCESS-CM2/cj877/history/ice/iceh_m.0473-09.nc&#x27;, &#x27;/g/data/p73/archive/non-CMIP/ACCESS-CM2/cj877/history/ice/iceh_m.0473-10.nc&#x27;, &#x27;/g/data/p73/archive/non-CMIP/ACCESS-CM2/cj877/history/ice/iceh_m.0473-11.nc&#x27;, &#x27;/g/data/p73/archive/non-CMIP/ACCESS-CM2/cj877/history/ice/iceh_m.0473-12.nc&#x27;, &#x27;/g/data/p73/archive/non-CMIP/ACCESS-CM2/cj877/history/ice/iceh_m.0474-01.nc&#x27;, &#x27;/g/data/p73/archive/non-CMIP/ACCESS-CM2/cj877/history/ice/iceh_m.0474-02.nc&#x27;, &#x27;/g/data/p73/archive/non-CMIP/ACCESS-CM2/cj877/history/ice/iceh_m.0474-03.nc&#x27;, &#x27;/g/data/p73/archive/non-CMIP/ACCESS-CM2/cj877/history/ice/iceh_m.0474-04.nc&#x27;, &#x27;/g/data/p73/archive/non-CMIP/ACCESS-CM2/cj877/history/ice/iceh_m.0474-05.nc&#x27;, &#x27;/g/data/p73/archive/non-CMIP/ACCESS-CM2/cj877/history/ice/iceh_m.0474-06.nc&#x27;, &#x27;/g/data/p73/archive/non-CMIP/ACCESS-CM2/cj877/history/ice/iceh_m.0474-07.nc&#x27;, &#x27;/g/data/p73/archive/non-CMIP/ACCESS-CM2/cj877/history/ice/iceh_m.0474-08.nc&#x27;, &#x27;/g/data/p73/archive/non-CMIP/ACCESS-CM2/cj877/history/ice/iceh_m.0474-09.nc&#x27;, &#x27;/g/data/p73/archive/non-CMIP/ACCESS-CM2/cj877/history/ice/iceh_m.0474-10.nc&#x27;, &#x27;/g/data/p73/archive/non-CMIP/ACCESS-CM2/cj877/history/ice/iceh_m.0474-11.nc&#x27;, &#x27;/g/data/p73/archive/non-CMIP/ACCESS-CM2/cj877/history/ice/iceh_m.0474-12.nc&#x27;, &#x27;/g/data/p73/archive/non-CMIP/ACCESS-CM2/cj877/history/ice/iceh_m.0475-01.nc&#x27;, &#x27;/g/data/p73/archive/non-CMIP/ACCESS-CM2/cj877/history/ice/iceh_m.0475-02.nc&#x27;, &#x27;/g/data/p73/archive/non-CMIP/ACCESS-CM2/cj877/history/ice/iceh_m.0475-03.nc&#x27;, &#x27;/g/data/p73/archive/non-CMIP/ACCESS-CM2/cj877/history/ice/iceh_m.0475-04.nc&#x27;, &#x27;/g/data/p73/archive/non-CMIP/ACCESS-CM2/cj877/history/ice/iceh_m.0475-05.nc&#x27;, &#x27;/g/data/p73/archive/non-CMIP/ACCESS-CM2/cj877/history/ice/iceh_m.0475-06.nc&#x27;, &#x27;/g/data/p73/archive/non-CMIP/ACCESS-CM2/cj877/history/ice/iceh_m.0475-07.nc&#x27;, &#x27;/g/data/p73/archive/non-CMIP/ACCESS-CM2/cj877/history/ice/iceh_m.0475-08.nc&#x27;, &#x27;/g/data/p73/archive/non-CMIP/ACCESS-CM2/cj877/history/ice/iceh_m.0475-09.nc&#x27;, &#x27;/g/data/p73/archive/non-CMIP/ACCESS-CM2/cj877/history/ice/iceh_m.0475-10.nc&#x27;, &#x27;/g/data/p73/archive/non-CMIP/ACCESS-CM2/cj877/history/ice/iceh_m.0475-11.nc&#x27;, &#x27;/g/data/p73/archive/non-CMIP/ACCESS-CM2/cj877/history/ice/iceh_m.0475-12.nc&#x27;, &#x27;/g/data/p73/archive/non-CMIP/ACCESS-CM2/cj877/history/ice/iceh_m.0476-01.nc&#x27;, &#x27;/g/data/p73/archive/non-CMIP/ACCESS-CM2/cj877/history/ice/iceh_m.0476-02.nc&#x27;, &#x27;/g/data/p73/archive/non-CMIP/ACCESS-CM2/cj877/history/ice/iceh_m.0476-03.nc&#x27;, &#x27;/g/data/p73/archive/non-CMIP/ACCESS-CM2/cj877/history/ice/iceh_m.0476-04.nc&#x27;, &#x27;/g/data/p73/archive/non-CMIP/ACCESS-CM2/cj877/history/ice/iceh_m.0476-05.nc&#x27;, &#x27;/g/data/p73/archive/non-CMIP/ACCESS-CM2/cj877/history/ice/iceh_m.0476-06.nc&#x27;, &#x27;/g/data/p73/archive/non-CMIP/ACCESS-CM2/cj877/history/ice/iceh_m.0476-07.nc&#x27;, &#x27;/g/data/p73/archive/non-CMIP/ACCESS-CM2/cj877/history/ice/iceh_m.0476-08.nc&#x27;, &#x27;/g/data/p73/archive/non-CMIP/ACCESS-CM2/cj877/history/ice/iceh_m.0476-09.nc&#x27;, &#x27;/g/data/p73/archive/non-CMIP/ACCESS-CM2/cj877/history/ice/iceh_m.0476-10.nc&#x27;, &#x27;/g/data/p73/archive/non-CMIP/ACCESS-CM2/cj877/history/ice/iceh_m.0476-11.nc&#x27;, &#x27;/g/data/p73/archive/non-CMIP/ACCESS-CM2/cj877/history/ice/iceh_m.0476-12.nc&#x27;, &#x27;/g/data/p73/archive/non-CMIP/ACCESS-CM2/cj877/history/ice/iceh_m.0477-01.nc&#x27;, &#x27;/g/data/p73/archive/non-CMIP/ACCESS-CM2/cj877/history/ice/iceh_m.0477-02.nc&#x27;, &#x27;/g/data/p73/archive/non-CMIP/ACCESS-CM2/cj877/history/ice/iceh_m.0477-03.nc&#x27;, &#x27;/g/data/p73/archive/non-CMIP/ACCESS-CM2/cj877/history/ice/iceh_m.0477-04.nc&#x27;, &#x27;/g/data/p73/archive/non-CMIP/ACCESS-CM2/cj877/history/ice/iceh_m.0477-05.nc&#x27;, &#x27;/g/data/p73/archive/non-CMIP/ACCESS-CM2/cj877/history/ice/iceh_m.0477-06.nc&#x27;, &#x27;/g/data/p73/archive/non-CMIP/ACCESS-CM2/cj877/history/ice/iceh_m.0477-07.nc&#x27;, &#x27;/g/data/p73/archive/non-CMIP/ACCESS-CM2/cj877/history/ice/iceh_m.0477-08.nc&#x27;, &#x27;/g/data/p73/archive/non-CMIP/ACCESS-CM2/cj877/history/ice/iceh_m.0477-09.nc&#x27;, &#x27;/g/data/p73/archive/non-CMIP/ACCESS-CM2/cj877/history/ice/iceh_m.0477-10.nc&#x27;, &#x27;/g/data/p73/archive/non-CMIP/ACCESS-CM2/cj877/history/ice/iceh_m.0477-11.nc&#x27;, &#x27;/g/data/p73/archive/non-CMIP/ACCESS-CM2/cj877/history/ice/iceh_m.0477-12.nc&#x27;, &#x27;/g/data/p73/archive/non-CMIP/ACCESS-CM2/cj877/history/ice/iceh_m.0478-01.nc&#x27;, &#x27;/g/data/p73/archive/non-CMIP/ACCESS-CM2/cj877/history/ice/iceh_m.0478-02.nc&#x27;, &#x27;/g/data/p73/archive/non-CMIP/ACCESS-CM2/cj877/history/ice/iceh_m.0478-03.nc&#x27;, &#x27;/g/data/p73/archive/non-CMIP/ACCESS-CM2/cj877/history/ice/iceh_m.0478-04.nc&#x27;, &#x27;/g/data/p73/archive/non-CMIP/ACCESS-CM2/cj877/history/ice/iceh_m.0478-05.nc&#x27;, &#x27;/g/data/p73/archive/non-CMIP/ACCESS-CM2/cj877/history/ice/iceh_m.0478-06.nc&#x27;, &#x27;/g/data/p73/archive/non-CMIP/ACCESS-CM2/cj877/history/ice/iceh_m.0478-07.nc&#x27;, &#x27;/g/data/p73/archive/non-CMIP/ACCESS-CM2/cj877/history/ice/iceh_m.0478-08.nc&#x27;, &#x27;/g/data/p73/archive/non-CMIP/ACCESS-CM2/cj877/history/ice/iceh_m.0478-09.nc&#x27;, &#x27;/g/data/p73/archive/non-CMIP/ACCESS-CM2/cj877/history/ice/iceh_m.0478-10.nc&#x27;, &#x27;/g/data/p73/archive/non-CMIP/ACCESS-CM2/cj877/history/ice/iceh_m.0478-11.nc&#x27;, &#x27;/g/data/p73/archive/non-CMIP/ACCESS-CM2/cj877/history/ice/iceh_m.0478-12.nc&#x27;, &#x27;/g/data/p73/archive/non-CMIP/ACCESS-CM2/cj877/history/ice/iceh_m.0479-01.nc&#x27;, &#x27;/g/data/p73/archive/non-CMIP/ACCESS-CM2/cj877/history/ice/iceh_m.0479-02.nc&#x27;, &#x27;/g/data/p73/archive/non-CMIP/ACCESS-CM2/cj877/history/ice/iceh_m.0479-03.nc&#x27;, &#x27;/g/data/p73/archive/non-CMIP/ACCESS-CM2/cj877/history/ice/iceh_m.0479-04.nc&#x27;, &#x27;/g/data/p73/archive/non-CMIP/ACCESS-CM2/cj877/history/ice/iceh_m.0479-05.nc&#x27;, &#x27;/g/data/p73/archive/non-CMIP/ACCESS-CM2/cj877/history/ice/iceh_m.0479-06.nc&#x27;, &#x27;/g/data/p73/archive/non-CMIP/ACCESS-CM2/cj877/history/ice/iceh_m.0479-07.nc&#x27;, &#x27;/g/data/p73/archive/non-CMIP/ACCESS-CM2/cj877/history/ice/iceh_m.0479-08.nc&#x27;, &#x27;/g/data/p73/archive/non-CMIP/ACCESS-CM2/cj877/history/ice/iceh_m.0479-09.nc&#x27;, &#x27;/g/data/p73/archive/non-CMIP/ACCESS-CM2/cj877/history/ice/iceh_m.0479-10.nc&#x27;, &#x27;/g/data/p73/archive/non-CMIP/ACCESS-CM2/cj877/history/ice/iceh_m.0479-11.nc&#x27;, &#x27;/g/data/p73/archive/non-CMIP/ACCESS-CM2/cj877/history/ice/iceh_m.0479-12.nc&#x27;, &#x27;/g/data/p73/archive/non-CMIP/ACCESS-CM2/cj877/history/ice/iceh_m.0480-01.nc&#x27;, &#x27;/g/data/p73/archive/non-CMIP/ACCESS-CM2/cj877/history/ice/iceh_m.0480-02.nc&#x27;, &#x27;/g/data/p73/archive/non-CMIP/ACCESS-CM2/cj877/history/ice/iceh_m.0480-03.nc&#x27;, &#x27;/g/data/p73/archive/non-CMIP/ACCESS-CM2/cj877/history/ice/iceh_m.0480-04.nc&#x27;, &#x27;/g/data/p73/archive/non-CMIP/ACCESS-CM2/cj877/history/ice/iceh_m.0480-05.nc&#x27;, &#x27;/g/data/p73/archive/non-CMIP/ACCESS-CM2/cj877/history/ice/iceh_m.0480-06.nc&#x27;, &#x27;/g/data/p73/archive/non-CMIP/ACCESS-CM2/cj877/history/ice/iceh_m.0480-07.nc&#x27;, &#x27;/g/data/p73/archive/non-CMIP/ACCESS-CM2/cj877/history/ice/iceh_m.0480-08.nc&#x27;, &#x27;/g/data/p73/archive/non-CMIP/ACCESS-CM2/cj877/history/ice/iceh_m.0480-09.nc&#x27;, &#x27;/g/data/p73/archive/non-CMIP/ACCESS-CM2/cj877/history/ice/iceh_m.0480-10.nc&#x27;, &#x27;/g/data/p73/archive/non-CMIP/ACCESS-CM2/cj877/history/ice/iceh_m.0480-11.nc&#x27;, &#x27;/g/data/p73/archive/non-CMIP/ACCESS-CM2/cj877/history/ice/iceh_m.0480-12.nc&#x27;, &#x27;/g/data/p73/archive/non-CMIP/ACCESS-CM2/cj877/history/ice/iceh_m.0481-01.nc&#x27;, &#x27;/g/data/p73/archive/non-CMIP/ACCESS-CM2/cj877/history/ice/iceh_m.0481-02.nc&#x27;, &#x27;/g/data/p73/archive/non-CMIP/ACCESS-CM2/cj877/history/ice/iceh_m.0481-03.nc&#x27;, &#x27;/g/data/p73/archive/non-CMIP/ACCESS-CM2/cj877/history/ice/iceh_m.0481-04.nc&#x27;, &#x27;/g/data/p73/archive/non-CMIP/ACCESS-CM2/cj877/history/ice/iceh_m.0481-05.nc&#x27;, &#x27;/g/data/p73/archive/non-CMIP/ACCESS-CM2/cj877/history/ice/iceh_m.0481-06.nc&#x27;, &#x27;/g/data/p73/archive/non-CMIP/ACCESS-CM2/cj877/history/ice/iceh_m.0481-07.nc&#x27;, &#x27;/g/data/p73/archive/non-CMIP/ACCESS-CM2/cj877/history/ice/iceh_m.0481-08.nc&#x27;, &#x27;/g/data/p73/archive/non-CMIP/ACCESS-CM2/cj877/history/ice/iceh_m.0481-09.nc&#x27;, &#x27;/g/data/p73/archive/non-CMIP/ACCESS-CM2/cj877/history/ice/iceh_m.0481-10.nc&#x27;, &#x27;/g/data/p73/archive/non-CMIP/ACCESS-CM2/cj877/history/ice/iceh_m.0481-11.nc&#x27;, &#x27;/g/data/p73/archive/non-CMIP/ACCESS-CM2/cj877/history/ice/iceh_m.0481-12.nc&#x27;, &#x27;/g/data/p73/archive/non-CMIP/ACCESS-CM2/cj877/history/ice/iceh_m.0482-01.nc&#x27;, &#x27;/g/data/p73/archive/non-CMIP/ACCESS-CM2/cj877/history/ice/iceh_m.0482-02.nc&#x27;, &#x27;/g/data/p73/archive/non-CMIP/ACCESS-CM2/cj877/history/ice/iceh_m.0482-03.nc&#x27;, &#x27;/g/data/p73/archive/non-CMIP/ACCESS-CM2/cj877/history/ice/iceh_m.0482-04.nc&#x27;, &#x27;/g/data/p73/archive/non-CMIP/ACCESS-CM2/cj877/history/ice/iceh_m.0482-05.nc&#x27;, &#x27;/g/data/p73/archive/non-CMIP/ACCESS-CM2/cj877/history/ice/iceh_m.0482-06.nc&#x27;, &#x27;/g/data/p73/archive/non-CMIP/ACCESS-CM2/cj877/history/ice/iceh_m.0482-07.nc&#x27;, &#x27;/g/data/p73/archive/non-CMIP/ACCESS-CM2/cj877/history/ice/iceh_m.0482-08.nc&#x27;, &#x27;/g/data/p73/archive/non-CMIP/ACCESS-CM2/cj877/history/ice/iceh_m.0482-09.nc&#x27;, &#x27;/g/data/p73/archive/non-CMIP/ACCESS-CM2/cj877/history/ice/iceh_m.0482-10.nc&#x27;, &#x27;/g/data/p73/archive/non-CMIP/ACCESS-CM2/cj877/history/ice/iceh_m.0482-11.nc&#x27;, &#x27;/g/data/p73/archive/non-CMIP/ACCESS-CM2/cj877/history/ice/iceh_m.0482-12.nc&#x27;, &#x27;/g/data/p73/archive/non-CMIP/ACCESS-CM2/cj877/history/ice/iceh_m.0483-01.nc&#x27;, &#x27;/g/data/p73/archive/non-CMIP/ACCESS-CM2/cj877/history/ice/iceh_m.0483-02.nc&#x27;, &#x27;/g/data/p73/archive/non-CMIP/ACCESS-CM2/cj877/history/ice/iceh_m.0483-03.nc&#x27;, &#x27;/g/data/p73/archive/non-CMIP/ACCESS-CM2/cj877/history/ice/iceh_m.0483-04.nc&#x27;, &#x27;/g/data/p73/archive/non-CMIP/ACCESS-CM2/cj877/history/ice/iceh_m.0483-05.nc&#x27;, &#x27;/g/data/p73/archive/non-CMIP/ACCESS-CM2/cj877/history/ice/iceh_m.0483-06.nc&#x27;, &#x27;/g/data/p73/archive/non-CMIP/ACCESS-CM2/cj877/history/ice/iceh_m.0483-07.nc&#x27;, &#x27;/g/data/p73/archive/non-CMIP/ACCESS-CM2/cj877/history/ice/iceh_m.0483-08.nc&#x27;, &#x27;/g/data/p73/archive/non-CMIP/ACCESS-CM2/cj877/history/ice/iceh_m.0483-09.nc&#x27;, &#x27;/g/data/p73/archive/non-CMIP/ACCESS-CM2/cj877/history/ice/iceh_m.0483-10.nc&#x27;, &#x27;/g/data/p73/archive/non-CMIP/ACCESS-CM2/cj877/history/ice/iceh_m.0483-11.nc&#x27;, &#x27;/g/data/p73/archive/non-CMIP/ACCESS-CM2/cj877/history/ice/iceh_m.0483-12.nc&#x27;, &#x27;/g/data/p73/archive/non-CMIP/ACCESS-CM2/cj877/history/ice/iceh_m.0484-01.nc&#x27;, &#x27;/g/data/p73/archive/non-CMIP/ACCESS-CM2/cj877/history/ice/iceh_m.0484-02.nc&#x27;, &#x27;/g/data/p73/archive/non-CMIP/ACCESS-CM2/cj877/history/ice/iceh_m.0484-03.nc&#x27;, &#x27;/g/data/p73/archive/non-CMIP/ACCESS-CM2/cj877/history/ice/iceh_m.0484-04.nc&#x27;, &#x27;/g/data/p73/archive/non-CMIP/ACCESS-CM2/cj877/history/ice/iceh_m.0484-05.nc&#x27;, &#x27;/g/data/p73/archive/non-CMIP/ACCESS-CM2/cj877/history/ice/iceh_m.0484-06.nc&#x27;, &#x27;/g/data/p73/archive/non-CMIP/ACCESS-CM2/cj877/history/ice/iceh_m.0484-07.nc&#x27;, &#x27;/g/data/p73/archive/non-CMIP/ACCESS-CM2/cj877/history/ice/iceh_m.0484-08.nc&#x27;, &#x27;/g/data/p73/archive/non-CMIP/ACCESS-CM2/cj877/history/ice/iceh_m.0484-09.nc&#x27;, &#x27;/g/data/p73/archive/non-CMIP/ACCESS-CM2/cj877/history/ice/iceh_m.0484-10.nc&#x27;, &#x27;/g/data/p73/archive/non-CMIP/ACCESS-CM2/cj877/history/ice/iceh_m.0484-11.nc&#x27;, &#x27;/g/data/p73/archive/non-CMIP/ACCESS-CM2/cj877/history/ice/iceh_m.0484-12.nc&#x27;, &#x27;/g/data/p73/archive/non-CMIP/ACCESS-CM2/cj877/history/ice/iceh_m.0485-01.nc&#x27;, &#x27;/g/data/p73/archive/non-CMIP/ACCESS-CM2/cj877/history/ice/iceh_m.0485-02.nc&#x27;, &#x27;/g/data/p73/archive/non-CMIP/ACCESS-CM2/cj877/history/ice/iceh_m.0485-03.nc&#x27;, &#x27;/g/data/p73/archive/non-CMIP/ACCESS-CM2/cj877/history/ice/iceh_m.0485-04.nc&#x27;, &#x27;/g/data/p73/archive/non-CMIP/ACCESS-CM2/cj877/history/ice/iceh_m.0485-05.nc&#x27;, &#x27;/g/data/p73/archive/non-CMIP/ACCESS-CM2/cj877/history/ice/iceh_m.0485-06.nc&#x27;, &#x27;/g/data/p73/archive/non-CMIP/ACCESS-CM2/cj877/history/ice/iceh_m.0485-07.nc&#x27;, &#x27;/g/data/p73/archive/non-CMIP/ACCESS-CM2/cj877/history/ice/iceh_m.0485-08.nc&#x27;, &#x27;/g/data/p73/archive/non-CMIP/ACCESS-CM2/cj877/history/ice/iceh_m.0485-09.nc&#x27;, &#x27;/g/data/p73/archive/non-CMIP/ACCESS-CM2/cj877/history/ice/iceh_m.0485-10.nc&#x27;, &#x27;/g/data/p73/archive/non-CMIP/ACCESS-CM2/cj877/history/ice/iceh_m.0485-11.nc&#x27;, &#x27;/g/data/p73/archive/non-CMIP/ACCESS-CM2/cj877/history/ice/iceh_m.0485-12.nc&#x27;, &#x27;/g/data/p73/archive/non-CMIP/ACCESS-CM2/cj877/history/ice/iceh_m.0486-01.nc&#x27;, &#x27;/g/data/p73/archive/non-CMIP/ACCESS-CM2/cj877/history/ice/iceh_m.0486-02.nc&#x27;, &#x27;/g/data/p73/archive/non-CMIP/ACCESS-CM2/cj877/history/ice/iceh_m.0486-03.nc&#x27;, &#x27;/g/data/p73/archive/non-CMIP/ACCESS-CM2/cj877/history/ice/iceh_m.0486-04.nc&#x27;, &#x27;/g/data/p73/archive/non-CMIP/ACCESS-CM2/cj877/history/ice/iceh_m.0486-05.nc&#x27;, &#x27;/g/data/p73/archive/non-CMIP/ACCESS-CM2/cj877/history/ice/iceh_m.0486-06.nc&#x27;, &#x27;/g/data/p73/archive/non-CMIP/ACCESS-CM2/cj877/history/ice/iceh_m.0486-07.nc&#x27;, &#x27;/g/data/p73/archive/non-CMIP/ACCESS-CM2/cj877/history/ice/iceh_m.0486-08.nc&#x27;, &#x27;/g/data/p73/archive/non-CMIP/ACCESS-CM2/cj877/history/ice/iceh_m.0486-09.nc&#x27;, &#x27;/g/data/p73/archive/non-CMIP/ACCESS-CM2/cj877/history/ice/iceh_m.0486-10.nc&#x27;, &#x27;/g/data/p73/archive/non-CMIP/ACCESS-CM2/cj877/history/ice/iceh_m.0486-11.nc&#x27;, &#x27;/g/data/p73/archive/non-CMIP/ACCESS-CM2/cj877/history/ice/iceh_m.0486-12.nc&#x27;, &#x27;/g/data/p73/archive/non-CMIP/ACCESS-CM2/cj877/history/ice/iceh_m.0487-01.nc&#x27;, &#x27;/g/data/p73/archive/non-CMIP/ACCESS-CM2/cj877/history/ice/iceh_m.0487-02.nc&#x27;, &#x27;/g/data/p73/archive/non-CMIP/ACCESS-CM2/cj877/history/ice/iceh_m.0487-03.nc&#x27;, &#x27;/g/data/p73/archive/non-CMIP/ACCESS-CM2/cj877/history/ice/iceh_m.0487-04.nc&#x27;, &#x27;/g/data/p73/archive/non-CMIP/ACCESS-CM2/cj877/history/ice/iceh_m.0487-05.nc&#x27;, &#x27;/g/data/p73/archive/non-CMIP/ACCESS-CM2/cj877/history/ice/iceh_m.0487-06.nc&#x27;, &#x27;/g/data/p73/archive/non-CMIP/ACCESS-CM2/cj877/history/ice/iceh_m.0487-07.nc&#x27;, &#x27;/g/data/p73/archive/non-CMIP/ACCESS-CM2/cj877/history/ice/iceh_m.0487-08.nc&#x27;, &#x27;/g/data/p73/archive/non-CMIP/ACCESS-CM2/cj877/history/ice/iceh_m.0487-09.nc&#x27;, &#x27;/g/data/p73/archive/non-CMIP/ACCESS-CM2/cj877/history/ice/iceh_m.0487-10.nc&#x27;, &#x27;/g/data/p73/archive/non-CMIP/ACCESS-CM2/cj877/history/ice/iceh_m.0487-11.nc&#x27;, &#x27;/g/data/p73/archive/non-CMIP/ACCESS-CM2/cj877/history/ice/iceh_m.0487-12.nc&#x27;, &#x27;/g/data/p73/archive/non-CMIP/ACCESS-CM2/cj877/history/ice/iceh_m.0488-01.nc&#x27;, &#x27;/g/data/p73/archive/non-CMIP/ACCESS-CM2/cj877/history/ice/iceh_m.0488-02.nc&#x27;, &#x27;/g/data/p73/archive/non-CMIP/ACCESS-CM2/cj877/history/ice/iceh_m.0488-03.nc&#x27;, &#x27;/g/data/p73/archive/non-CMIP/ACCESS-CM2/cj877/history/ice/iceh_m.0488-04.nc&#x27;, &#x27;/g/data/p73/archive/non-CMIP/ACCESS-CM2/cj877/history/ice/iceh_m.0488-05.nc&#x27;, &#x27;/g/data/p73/archive/non-CMIP/ACCESS-CM2/cj877/history/ice/iceh_m.0488-06.nc&#x27;, &#x27;/g/data/p73/archive/non-CMIP/ACCESS-CM2/cj877/history/ice/iceh_m.0488-07.nc&#x27;, &#x27;/g/data/p73/archive/non-CMIP/ACCESS-CM2/cj877/history/ice/iceh_m.0488-08.nc&#x27;, &#x27;/g/data/p73/archive/non-CMIP/ACCESS-CM2/cj877/history/ice/iceh_m.0488-09.nc&#x27;, &#x27;/g/data/p73/archive/non-CMIP/ACCESS-CM2/cj877/history/ice/iceh_m.0488-10.nc&#x27;, &#x27;/g/data/p73/archive/non-CMIP/ACCESS-CM2/cj877/history/ice/iceh_m.0488-11.nc&#x27;, &#x27;/g/data/p73/archive/non-CMIP/ACCESS-CM2/cj877/history/ice/iceh_m.0488-12.nc&#x27;, &#x27;/g/data/p73/archive/non-CMIP/ACCESS-CM2/cj877/history/ice/iceh_m.0489-01.nc&#x27;, &#x27;/g/data/p73/archive/non-CMIP/ACCESS-CM2/cj877/history/ice/iceh_m.0489-02.nc&#x27;, &#x27;/g/data/p73/archive/non-CMIP/ACCESS-CM2/cj877/history/ice/iceh_m.0489-03.nc&#x27;, &#x27;/g/data/p73/archive/non-CMIP/ACCESS-CM2/cj877/history/ice/iceh_m.0489-04.nc&#x27;, &#x27;/g/data/p73/archive/non-CMIP/ACCESS-CM2/cj877/history/ice/iceh_m.0489-05.nc&#x27;, &#x27;/g/data/p73/archive/non-CMIP/ACCESS-CM2/cj877/history/ice/iceh_m.0489-06.nc&#x27;, &#x27;/g/data/p73/archive/non-CMIP/ACCESS-CM2/cj877/history/ice/iceh_m.0489-07.nc&#x27;, &#x27;/g/data/p73/archive/non-CMIP/ACCESS-CM2/cj877/history/ice/iceh_m.0489-08.nc&#x27;, &#x27;/g/data/p73/archive/non-CMIP/ACCESS-CM2/cj877/history/ice/iceh_m.0489-09.nc&#x27;, &#x27;/g/data/p73/archive/non-CMIP/ACCESS-CM2/cj877/history/ice/iceh_m.0489-10.nc&#x27;, &#x27;/g/data/p73/archive/non-CMIP/ACCESS-CM2/cj877/history/ice/iceh_m.0489-11.nc&#x27;, &#x27;/g/data/p73/archive/non-CMIP/ACCESS-CM2/cj877/history/ice/iceh_m.0489-12.nc&#x27;, &#x27;/g/data/p73/archive/non-CMIP/ACCESS-CM2/cj877/history/ice/iceh_m.0490-01.nc&#x27;, &#x27;/g/data/p73/archive/non-CMIP/ACCESS-CM2/cj877/history/ice/iceh_m.0490-02.nc&#x27;, &#x27;/g/data/p73/archive/non-CMIP/ACCESS-CM2/cj877/history/ice/iceh_m.0490-03.nc&#x27;, &#x27;/g/data/p73/archive/non-CMIP/ACCESS-CM2/cj877/history/ice/iceh_m.0490-04.nc&#x27;, &#x27;/g/data/p73/archive/non-CMIP/ACCESS-CM2/cj877/history/ice/iceh_m.0490-05.nc&#x27;, &#x27;/g/data/p73/archive/non-CMIP/ACCESS-CM2/cj877/history/ice/iceh_m.0490-06.nc&#x27;, &#x27;/g/data/p73/archive/non-CMIP/ACCESS-CM2/cj877/history/ice/iceh_m.0490-07.nc&#x27;, &#x27;/g/data/p73/archive/non-CMIP/ACCESS-CM2/cj877/history/ice/iceh_m.0490-08.nc&#x27;, &#x27;/g/data/p73/archive/non-CMIP/ACCESS-CM2/cj877/history/ice/iceh_m.0490-09.nc&#x27;, &#x27;/g/data/p73/archive/non-CMIP/ACCESS-CM2/cj877/history/ice/iceh_m.0490-10.nc&#x27;, &#x27;/g/data/p73/archive/non-CMIP/ACCESS-CM2/cj877/history/ice/iceh_m.0490-11.nc&#x27;, &#x27;/g/data/p73/archive/non-CMIP/ACCESS-CM2/cj877/history/ice/iceh_m.0490-12.nc&#x27;, &#x27;/g/data/p73/archive/non-CMIP/ACCESS-CM2/cj877/history/ice/iceh_m.0491-01.nc&#x27;, &#x27;/g/data/p73/archive/non-CMIP/ACCESS-CM2/cj877/history/ice/iceh_m.0491-02.nc&#x27;, &#x27;/g/data/p73/archive/non-CMIP/ACCESS-CM2/cj877/history/ice/iceh_m.0491-03.nc&#x27;, &#x27;/g/data/p73/archive/non-CMIP/ACCESS-CM2/cj877/history/ice/iceh_m.0491-04.nc&#x27;, &#x27;/g/data/p73/archive/non-CMIP/ACCESS-CM2/cj877/history/ice/iceh_m.0491-05.nc&#x27;, &#x27;/g/data/p73/archive/non-CMIP/ACCESS-CM2/cj877/history/ice/iceh_m.0491-06.nc&#x27;, &#x27;/g/data/p73/archive/non-CMIP/ACCESS-CM2/cj877/history/ice/iceh_m.0491-07.nc&#x27;, &#x27;/g/data/p73/archive/non-CMIP/ACCESS-CM2/cj877/history/ice/iceh_m.0491-08.nc&#x27;, &#x27;/g/data/p73/archive/non-CMIP/ACCESS-CM2/cj877/history/ice/iceh_m.0491-09.nc&#x27;, &#x27;/g/data/p73/archive/non-CMIP/ACCESS-CM2/cj877/history/ice/iceh_m.0491-10.nc&#x27;, &#x27;/g/data/p73/archive/non-CMIP/ACCESS-CM2/cj877/history/ice/iceh_m.0491-11.nc&#x27;, &#x27;/g/data/p73/archive/non-CMIP/ACCESS-CM2/cj877/history/ice/iceh_m.0491-12.nc&#x27;, &#x27;/g/data/p73/archive/non-CMIP/ACCESS-CM2/cj877/history/ice/iceh_m.0492-01.nc&#x27;, &#x27;/g/data/p73/archive/non-CMIP/ACCESS-CM2/cj877/history/ice/iceh_m.0492-02.nc&#x27;, &#x27;/g/data/p73/archive/non-CMIP/ACCESS-CM2/cj877/history/ice/iceh_m.0492-03.nc&#x27;, &#x27;/g/data/p73/archive/non-CMIP/ACCESS-CM2/cj877/history/ice/iceh_m.0492-04.nc&#x27;, &#x27;/g/data/p73/archive/non-CMIP/ACCESS-CM2/cj877/history/ice/iceh_m.0492-05.nc&#x27;, &#x27;/g/data/p73/archive/non-CMIP/ACCESS-CM2/cj877/history/ice/iceh_m.0492-06.nc&#x27;, &#x27;/g/data/p73/archive/non-CMIP/ACCESS-CM2/cj877/history/ice/iceh_m.0492-07.nc&#x27;, &#x27;/g/data/p73/archive/non-CMIP/ACCESS-CM2/cj877/history/ice/iceh_m.0492-08.nc&#x27;, &#x27;/g/data/p73/archive/non-CMIP/ACCESS-CM2/cj877/history/ice/iceh_m.0492-09.nc&#x27;, &#x27;/g/data/p73/archive/non-CMIP/ACCESS-CM2/cj877/history/ice/iceh_m.0492-10.nc&#x27;, &#x27;/g/data/p73/archive/non-CMIP/ACCESS-CM2/cj877/history/ice/iceh_m.0492-11.nc&#x27;, &#x27;/g/data/p73/archive/non-CMIP/ACCESS-CM2/cj877/history/ice/iceh_m.0492-12.nc&#x27;, &#x27;/g/data/p73/archive/non-CMIP/ACCESS-CM2/cj877/history/ice/iceh_m.0493-01.nc&#x27;, &#x27;/g/data/p73/archive/non-CMIP/ACCESS-CM2/cj877/history/ice/iceh_m.0493-02.nc&#x27;, &#x27;/g/data/p73/archive/non-CMIP/ACCESS-CM2/cj877/history/ice/iceh_m.0493-03.nc&#x27;, &#x27;/g/data/p73/archive/non-CMIP/ACCESS-CM2/cj877/history/ice/iceh_m.0493-04.nc&#x27;, &#x27;/g/data/p73/archive/non-CMIP/ACCESS-CM2/cj877/history/ice/iceh_m.0493-05.nc&#x27;, &#x27;/g/data/p73/archive/non-CMIP/ACCESS-CM2/cj877/history/ice/iceh_m.0493-06.nc&#x27;, &#x27;/g/data/p73/archive/non-CMIP/ACCESS-CM2/cj877/history/ice/iceh_m.0493-07.nc&#x27;, &#x27;/g/data/p73/archive/non-CMIP/ACCESS-CM2/cj877/history/ice/iceh_m.0493-08.nc&#x27;, &#x27;/g/data/p73/archive/non-CMIP/ACCESS-CM2/cj877/history/ice/iceh_m.0493-09.nc&#x27;, &#x27;/g/data/p73/archive/non-CMIP/ACCESS-CM2/cj877/history/ice/iceh_m.0493-10.nc&#x27;, &#x27;/g/data/p73/archive/non-CMIP/ACCESS-CM2/cj877/history/ice/iceh_m.0493-11.nc&#x27;, &#x27;/g/data/p73/archive/non-CMIP/ACCESS-CM2/cj877/history/ice/iceh_m.0493-12.nc&#x27;, &#x27;/g/data/p73/archive/non-CMIP/ACCESS-CM2/cj877/history/ice/iceh_m.0494-01.nc&#x27;, &#x27;/g/data/p73/archive/non-CMIP/ACCESS-CM2/cj877/history/ice/iceh_m.0494-02.nc&#x27;, &#x27;/g/data/p73/archive/non-CMIP/ACCESS-CM2/cj877/history/ice/iceh_m.0494-03.nc&#x27;, &#x27;/g/data/p73/archive/non-CMIP/ACCESS-CM2/cj877/history/ice/iceh_m.0494-04.nc&#x27;, &#x27;/g/data/p73/archive/non-CMIP/ACCESS-CM2/cj877/history/ice/iceh_m.0494-05.nc&#x27;, &#x27;/g/data/p73/archive/non-CMIP/ACCESS-CM2/cj877/history/ice/iceh_m.0494-06.nc&#x27;, &#x27;/g/data/p73/archive/non-CMIP/ACCESS-CM2/cj877/history/ice/iceh_m.0494-07.nc&#x27;, &#x27;/g/data/p73/archive/non-CMIP/ACCESS-CM2/cj877/history/ice/iceh_m.0494-08.nc&#x27;, &#x27;/g/data/p73/archive/non-CMIP/ACCESS-CM2/cj877/history/ice/iceh_m.0494-09.nc&#x27;, &#x27;/g/data/p73/archive/non-CMIP/ACCESS-CM2/cj877/history/ice/iceh_m.0494-10.nc&#x27;, &#x27;/g/data/p73/archive/non-CMIP/ACCESS-CM2/cj877/history/ice/iceh_m.0494-11.nc&#x27;, &#x27;/g/data/p73/archive/non-CMIP/ACCESS-CM2/cj877/history/ice/iceh_m.0494-12.nc&#x27;, &#x27;/g/data/p73/archive/non-CMIP/ACCESS-CM2/cj877/history/ice/iceh_m.0495-01.nc&#x27;, &#x27;/g/data/p73/archive/non-CMIP/ACCESS-CM2/cj877/history/ice/iceh_m.0495-02.nc&#x27;, &#x27;/g/data/p73/archive/non-CMIP/ACCESS-CM2/cj877/history/ice/iceh_m.0495-03.nc&#x27;, &#x27;/g/data/p73/archive/non-CMIP/ACCESS-CM2/cj877/history/ice/iceh_m.0495-04.nc&#x27;, &#x27;/g/data/p73/archive/non-CMIP/ACCESS-CM2/cj877/history/ice/iceh_m.0495-05.nc&#x27;, &#x27;/g/data/p73/archive/non-CMIP/ACCESS-CM2/cj877/history/ice/iceh_m.0495-06.nc&#x27;, &#x27;/g/data/p73/archive/non-CMIP/ACCESS-CM2/cj877/history/ice/iceh_m.0495-07.nc&#x27;, &#x27;/g/data/p73/archive/non-CMIP/ACCESS-CM2/cj877/history/ice/iceh_m.0495-08.nc&#x27;, &#x27;/g/data/p73/archive/non-CMIP/ACCESS-CM2/cj877/history/ice/iceh_m.0495-09.nc&#x27;, &#x27;/g/data/p73/archive/non-CMIP/ACCESS-CM2/cj877/history/ice/iceh_m.0495-10.nc&#x27;, &#x27;/g/data/p73/archive/non-CMIP/ACCESS-CM2/cj877/history/ice/iceh_m.0495-11.nc&#x27;, &#x27;/g/data/p73/archive/non-CMIP/ACCESS-CM2/cj877/history/ice/iceh_m.0495-12.nc&#x27;, &#x27;/g/data/p73/archive/non-CMIP/ACCESS-CM2/cj877/history/ice/iceh_m.0496-01.nc&#x27;, &#x27;/g/data/p73/archive/non-CMIP/ACCESS-CM2/cj877/history/ice/iceh_m.0496-02.nc&#x27;, &#x27;/g/data/p73/archive/non-CMIP/ACCESS-CM2/cj877/history/ice/iceh_m.0496-03.nc&#x27;, &#x27;/g/data/p73/archive/non-CMIP/ACCESS-CM2/cj877/history/ice/iceh_m.0496-04.nc&#x27;, &#x27;/g/data/p73/archive/non-CMIP/ACCESS-CM2/cj877/history/ice/iceh_m.0496-05.nc&#x27;, &#x27;/g/data/p73/archive/non-CMIP/ACCESS-CM2/cj877/history/ice/iceh_m.0496-06.nc&#x27;, &#x27;/g/data/p73/archive/non-CMIP/ACCESS-CM2/cj877/history/ice/iceh_m.0496-07.nc&#x27;, &#x27;/g/data/p73/archive/non-CMIP/ACCESS-CM2/cj877/history/ice/iceh_m.0496-08.nc&#x27;, &#x27;/g/data/p73/archive/non-CMIP/ACCESS-CM2/cj877/history/ice/iceh_m.0496-09.nc&#x27;, &#x27;/g/data/p73/archive/non-CMIP/ACCESS-CM2/cj877/history/ice/iceh_m.0496-10.nc&#x27;, &#x27;/g/data/p73/archive/non-CMIP/ACCESS-CM2/cj877/history/ice/iceh_m.0496-11.nc&#x27;, &#x27;/g/data/p73/archive/non-CMIP/ACCESS-CM2/cj877/history/ice/iceh_m.0496-12.nc&#x27;, &#x27;/g/data/p73/archive/non-CMIP/ACCESS-CM2/cj877/history/ice/iceh_m.0497-01.nc&#x27;, &#x27;/g/data/p73/archive/non-CMIP/ACCESS-CM2/cj877/history/ice/iceh_m.0497-02.nc&#x27;, &#x27;/g/data/p73/archive/non-CMIP/ACCESS-CM2/cj877/history/ice/iceh_m.0497-03.nc&#x27;, &#x27;/g/data/p73/archive/non-CMIP/ACCESS-CM2/cj877/history/ice/iceh_m.0497-04.nc&#x27;, &#x27;/g/data/p73/archive/non-CMIP/ACCESS-CM2/cj877/history/ice/iceh_m.0497-05.nc&#x27;, &#x27;/g/data/p73/archive/non-CMIP/ACCESS-CM2/cj877/history/ice/iceh_m.0497-06.nc&#x27;, &#x27;/g/data/p73/archive/non-CMIP/ACCESS-CM2/cj877/history/ice/iceh_m.0497-07.nc&#x27;, &#x27;/g/data/p73/archive/non-CMIP/ACCESS-CM2/cj877/history/ice/iceh_m.0497-08.nc&#x27;, &#x27;/g/data/p73/archive/non-CMIP/ACCESS-CM2/cj877/history/ice/iceh_m.0497-09.nc&#x27;, &#x27;/g/data/p73/archive/non-CMIP/ACCESS-CM2/cj877/history/ice/iceh_m.0497-10.nc&#x27;, &#x27;/g/data/p73/archive/non-CMIP/ACCESS-CM2/cj877/history/ice/iceh_m.0497-11.nc&#x27;, &#x27;/g/data/p73/archive/non-CMIP/ACCESS-CM2/cj877/history/ice/iceh_m.0497-12.nc&#x27;, &#x27;/g/data/p73/archive/non-CMIP/ACCESS-CM2/cj877/history/ice/iceh_m.0498-01.nc&#x27;, &#x27;/g/data/p73/archive/non-CMIP/ACCESS-CM2/cj877/history/ice/iceh_m.0498-02.nc&#x27;, &#x27;/g/data/p73/archive/non-CMIP/ACCESS-CM2/cj877/history/ice/iceh_m.0498-03.nc&#x27;, &#x27;/g/data/p73/archive/non-CMIP/ACCESS-CM2/cj877/history/ice/iceh_m.0498-04.nc&#x27;, &#x27;/g/data/p73/archive/non-CMIP/ACCESS-CM2/cj877/history/ice/iceh_m.0498-05.nc&#x27;, &#x27;/g/data/p73/archive/non-CMIP/ACCESS-CM2/cj877/history/ice/iceh_m.0498-06.nc&#x27;, &#x27;/g/data/p73/archive/non-CMIP/ACCESS-CM2/cj877/history/ice/iceh_m.0498-07.nc&#x27;, &#x27;/g/data/p73/archive/non-CMIP/ACCESS-CM2/cj877/history/ice/iceh_m.0498-08.nc&#x27;, &#x27;/g/data/p73/archive/non-CMIP/ACCESS-CM2/cj877/history/ice/iceh_m.0498-09.nc&#x27;, &#x27;/g/data/p73/archive/non-CMIP/ACCESS-CM2/cj877/history/ice/iceh_m.0498-10.nc&#x27;, &#x27;/g/data/p73/archive/non-CMIP/ACCESS-CM2/cj877/history/ice/iceh_m.0498-11.nc&#x27;, &#x27;/g/data/p73/archive/non-CMIP/ACCESS-CM2/cj877/history/ice/iceh_m.0498-12.nc&#x27;, &#x27;/g/data/p73/archive/non-CMIP/ACCESS-CM2/cj877/history/ice/iceh_m.0499-01.nc&#x27;, &#x27;/g/data/p73/archive/non-CMIP/ACCESS-CM2/cj877/history/ice/iceh_m.0499-02.nc&#x27;, &#x27;/g/data/p73/archive/non-CMIP/ACCESS-CM2/cj877/history/ice/iceh_m.0499-03.nc&#x27;, &#x27;/g/data/p73/archive/non-CMIP/ACCESS-CM2/cj877/history/ice/iceh_m.0499-04.nc&#x27;, &#x27;/g/data/p73/archive/non-CMIP/ACCESS-CM2/cj877/history/ice/iceh_m.0499-05.nc&#x27;, &#x27;/g/data/p73/archive/non-CMIP/ACCESS-CM2/cj877/history/ice/iceh_m.0499-06.nc&#x27;, &#x27;/g/data/p73/archive/non-CMIP/ACCESS-CM2/cj877/history/ice/iceh_m.0499-07.nc&#x27;, &#x27;/g/data/p73/archive/non-CMIP/ACCESS-CM2/cj877/history/ice/iceh_m.0499-08.nc&#x27;, &#x27;/g/data/p73/archive/non-CMIP/ACCESS-CM2/cj877/history/ice/iceh_m.0499-09.nc&#x27;, &#x27;/g/data/p73/archive/non-CMIP/ACCESS-CM2/cj877/history/ice/iceh_m.0499-10.nc&#x27;, &#x27;/g/data/p73/archive/non-CMIP/ACCESS-CM2/cj877/history/ice/iceh_m.0499-11.nc&#x27;, &#x27;/g/data/p73/archive/non-CMIP/ACCESS-CM2/cj877/history/ice/iceh_m.0499-12.nc&#x27;, &#x27;/g/data/p73/archive/non-CMIP/ACCESS-CM2/cj877/history/ice/iceh_m.0500-01.nc&#x27;]</dd><dt><span>contact :</span></dt><dd>Martin Dix</dd><dt><span>email :</span></dt><dd>martin.dix@csiro.au</dd><dt><span>created :</span></dt><dd>2021-11-30</dd><dt><span>description :</span></dt><dd>ACCESS-CM2 with n96 atmosphere coupled to COSIMA OM2 0.25 degree ocean configuration. TOPO5 with Baltic and Mediterranean changes to increase mixing. Present day (PD) atmospheric forcing with 1985-2014 mean GHG, aerosol emissions etc. Suite name u-cj877</dd><dt><span>url :</span></dt><dd>https://code.metoffice.gov.uk/svn/roses-u/c/j/8/7/7/trunk</dd></dl></div></li></ul></div></div>"
      ],
      "text/plain": [
       "<xarray.DataArray 'aice' (month: 12, yt_ocean: 407, xt_ocean: 1440)>\n",
       "[7032960 values with dtype=float32]\n",
       "Coordinates:\n",
       "    TLON      (yt_ocean, xt_ocean) float32 ...\n",
       "    TLAT      (yt_ocean, xt_ocean) float32 ...\n",
       "    ULON      (yt_ocean, xt_ocean) float32 ...\n",
       "    ULAT      (yt_ocean, xt_ocean) float32 ...\n",
       "  * xt_ocean  (xt_ocean) float64 -279.9 -279.6 -279.4 ... 79.38 79.62 79.88\n",
       "  * yt_ocean  (yt_ocean) float64 40.13 40.32 40.51 40.7 ... 89.74 89.84 89.95\n",
       "  * month     (month) int64 1 2 3 4 5 6 7 8 9 10 11 12\n",
       "Attributes:\n",
       "    units:          1\n",
       "    long_name:      ice area  (aggregate)\n",
       "    cell_measures:  area: tarea\n",
       "    cell_methods:   time: mean\n",
       "    time_rep:       averaged\n",
       "    ncfiles:        ['/g/data/p73/archive/non-CMIP/ACCESS-CM2/cj877/history/i...\n",
       "    contact:        Martin Dix\n",
       "    email:          martin.dix@csiro.au\n",
       "    created:        2021-11-30\n",
       "    description:    ACCESS-CM2 with n96 atmosphere coupled to COSIMA OM2 0.25...\n",
       "    url:            https://code.metoffice.gov.uk/svn/roses-u/c/j/8/7/7/trunk"
      ]
     },
     "execution_count": 42,
     "metadata": {},
     "output_type": "execute_result"
    }
   ],
   "source": [
    "aice_CM2_025_NH_clim"
   ]
  },
  {
   "cell_type": "code",
   "execution_count": 43,
   "id": "18484afb-a3b1-46f7-bbf4-a5d50fc0d1f1",
   "metadata": {
    "tags": []
   },
   "outputs": [],
   "source": [
    "test_OM2_1 = cc.querying.getvar(expt_OM2_1, 'aice_m', session_OM2, frequency='1 monthly', start_time='2399-01-01', end_time='2400-01-31')"
   ]
  },
  {
   "cell_type": "code",
   "execution_count": 44,
   "id": "5dd421ba-3201-46fe-87b3-fd5213708127",
   "metadata": {
    "tags": []
   },
   "outputs": [
    {
     "data": {
      "text/html": [
       "<div><svg style=\"position: absolute; width: 0; height: 0; overflow: hidden\">\n",
       "<defs>\n",
       "<symbol id=\"icon-database\" viewBox=\"0 0 32 32\">\n",
       "<path d=\"M16 0c-8.837 0-16 2.239-16 5v4c0 2.761 7.163 5 16 5s16-2.239 16-5v-4c0-2.761-7.163-5-16-5z\"></path>\n",
       "<path d=\"M16 17c-8.837 0-16-2.239-16-5v6c0 2.761 7.163 5 16 5s16-2.239 16-5v-6c0 2.761-7.163 5-16 5z\"></path>\n",
       "<path d=\"M16 26c-8.837 0-16-2.239-16-5v6c0 2.761 7.163 5 16 5s16-2.239 16-5v-6c0 2.761-7.163 5-16 5z\"></path>\n",
       "</symbol>\n",
       "<symbol id=\"icon-file-text2\" viewBox=\"0 0 32 32\">\n",
       "<path d=\"M28.681 7.159c-0.694-0.947-1.662-2.053-2.724-3.116s-2.169-2.030-3.116-2.724c-1.612-1.182-2.393-1.319-2.841-1.319h-15.5c-1.378 0-2.5 1.121-2.5 2.5v27c0 1.378 1.122 2.5 2.5 2.5h23c1.378 0 2.5-1.122 2.5-2.5v-19.5c0-0.448-0.137-1.23-1.319-2.841zM24.543 5.457c0.959 0.959 1.712 1.825 2.268 2.543h-4.811v-4.811c0.718 0.556 1.584 1.309 2.543 2.268zM28 29.5c0 0.271-0.229 0.5-0.5 0.5h-23c-0.271 0-0.5-0.229-0.5-0.5v-27c0-0.271 0.229-0.5 0.5-0.5 0 0 15.499-0 15.5 0v7c0 0.552 0.448 1 1 1h7v19.5z\"></path>\n",
       "<path d=\"M23 26h-14c-0.552 0-1-0.448-1-1s0.448-1 1-1h14c0.552 0 1 0.448 1 1s-0.448 1-1 1z\"></path>\n",
       "<path d=\"M23 22h-14c-0.552 0-1-0.448-1-1s0.448-1 1-1h14c0.552 0 1 0.448 1 1s-0.448 1-1 1z\"></path>\n",
       "<path d=\"M23 18h-14c-0.552 0-1-0.448-1-1s0.448-1 1-1h14c0.552 0 1 0.448 1 1s-0.448 1-1 1z\"></path>\n",
       "</symbol>\n",
       "</defs>\n",
       "</svg>\n",
       "<style>/* CSS stylesheet for displaying xarray objects in jupyterlab.\n",
       " *\n",
       " */\n",
       "\n",
       ":root {\n",
       "  --xr-font-color0: var(--jp-content-font-color0, rgba(0, 0, 0, 1));\n",
       "  --xr-font-color2: var(--jp-content-font-color2, rgba(0, 0, 0, 0.54));\n",
       "  --xr-font-color3: var(--jp-content-font-color3, rgba(0, 0, 0, 0.38));\n",
       "  --xr-border-color: var(--jp-border-color2, #e0e0e0);\n",
       "  --xr-disabled-color: var(--jp-layout-color3, #bdbdbd);\n",
       "  --xr-background-color: var(--jp-layout-color0, white);\n",
       "  --xr-background-color-row-even: var(--jp-layout-color1, white);\n",
       "  --xr-background-color-row-odd: var(--jp-layout-color2, #eeeeee);\n",
       "}\n",
       "\n",
       "html[theme=dark],\n",
       "body[data-theme=dark],\n",
       "body.vscode-dark {\n",
       "  --xr-font-color0: rgba(255, 255, 255, 1);\n",
       "  --xr-font-color2: rgba(255, 255, 255, 0.54);\n",
       "  --xr-font-color3: rgba(255, 255, 255, 0.38);\n",
       "  --xr-border-color: #1F1F1F;\n",
       "  --xr-disabled-color: #515151;\n",
       "  --xr-background-color: #111111;\n",
       "  --xr-background-color-row-even: #111111;\n",
       "  --xr-background-color-row-odd: #313131;\n",
       "}\n",
       "\n",
       ".xr-wrap {\n",
       "  display: block !important;\n",
       "  min-width: 300px;\n",
       "  max-width: 700px;\n",
       "}\n",
       "\n",
       ".xr-text-repr-fallback {\n",
       "  /* fallback to plain text repr when CSS is not injected (untrusted notebook) */\n",
       "  display: none;\n",
       "}\n",
       "\n",
       ".xr-header {\n",
       "  padding-top: 6px;\n",
       "  padding-bottom: 6px;\n",
       "  margin-bottom: 4px;\n",
       "  border-bottom: solid 1px var(--xr-border-color);\n",
       "}\n",
       "\n",
       ".xr-header > div,\n",
       ".xr-header > ul {\n",
       "  display: inline;\n",
       "  margin-top: 0;\n",
       "  margin-bottom: 0;\n",
       "}\n",
       "\n",
       ".xr-obj-type,\n",
       ".xr-array-name {\n",
       "  margin-left: 2px;\n",
       "  margin-right: 10px;\n",
       "}\n",
       "\n",
       ".xr-obj-type {\n",
       "  color: var(--xr-font-color2);\n",
       "}\n",
       "\n",
       ".xr-sections {\n",
       "  padding-left: 0 !important;\n",
       "  display: grid;\n",
       "  grid-template-columns: 150px auto auto 1fr 20px 20px;\n",
       "}\n",
       "\n",
       ".xr-section-item {\n",
       "  display: contents;\n",
       "}\n",
       "\n",
       ".xr-section-item input {\n",
       "  display: none;\n",
       "}\n",
       "\n",
       ".xr-section-item input + label {\n",
       "  color: var(--xr-disabled-color);\n",
       "}\n",
       "\n",
       ".xr-section-item input:enabled + label {\n",
       "  cursor: pointer;\n",
       "  color: var(--xr-font-color2);\n",
       "}\n",
       "\n",
       ".xr-section-item input:enabled + label:hover {\n",
       "  color: var(--xr-font-color0);\n",
       "}\n",
       "\n",
       ".xr-section-summary {\n",
       "  grid-column: 1;\n",
       "  color: var(--xr-font-color2);\n",
       "  font-weight: 500;\n",
       "}\n",
       "\n",
       ".xr-section-summary > span {\n",
       "  display: inline-block;\n",
       "  padding-left: 0.5em;\n",
       "}\n",
       "\n",
       ".xr-section-summary-in:disabled + label {\n",
       "  color: var(--xr-font-color2);\n",
       "}\n",
       "\n",
       ".xr-section-summary-in + label:before {\n",
       "  display: inline-block;\n",
       "  content: '►';\n",
       "  font-size: 11px;\n",
       "  width: 15px;\n",
       "  text-align: center;\n",
       "}\n",
       "\n",
       ".xr-section-summary-in:disabled + label:before {\n",
       "  color: var(--xr-disabled-color);\n",
       "}\n",
       "\n",
       ".xr-section-summary-in:checked + label:before {\n",
       "  content: '▼';\n",
       "}\n",
       "\n",
       ".xr-section-summary-in:checked + label > span {\n",
       "  display: none;\n",
       "}\n",
       "\n",
       ".xr-section-summary,\n",
       ".xr-section-inline-details {\n",
       "  padding-top: 4px;\n",
       "  padding-bottom: 4px;\n",
       "}\n",
       "\n",
       ".xr-section-inline-details {\n",
       "  grid-column: 2 / -1;\n",
       "}\n",
       "\n",
       ".xr-section-details {\n",
       "  display: none;\n",
       "  grid-column: 1 / -1;\n",
       "  margin-bottom: 5px;\n",
       "}\n",
       "\n",
       ".xr-section-summary-in:checked ~ .xr-section-details {\n",
       "  display: contents;\n",
       "}\n",
       "\n",
       ".xr-array-wrap {\n",
       "  grid-column: 1 / -1;\n",
       "  display: grid;\n",
       "  grid-template-columns: 20px auto;\n",
       "}\n",
       "\n",
       ".xr-array-wrap > label {\n",
       "  grid-column: 1;\n",
       "  vertical-align: top;\n",
       "}\n",
       "\n",
       ".xr-preview {\n",
       "  color: var(--xr-font-color3);\n",
       "}\n",
       "\n",
       ".xr-array-preview,\n",
       ".xr-array-data {\n",
       "  padding: 0 5px !important;\n",
       "  grid-column: 2;\n",
       "}\n",
       "\n",
       ".xr-array-data,\n",
       ".xr-array-in:checked ~ .xr-array-preview {\n",
       "  display: none;\n",
       "}\n",
       "\n",
       ".xr-array-in:checked ~ .xr-array-data,\n",
       ".xr-array-preview {\n",
       "  display: inline-block;\n",
       "}\n",
       "\n",
       ".xr-dim-list {\n",
       "  display: inline-block !important;\n",
       "  list-style: none;\n",
       "  padding: 0 !important;\n",
       "  margin: 0;\n",
       "}\n",
       "\n",
       ".xr-dim-list li {\n",
       "  display: inline-block;\n",
       "  padding: 0;\n",
       "  margin: 0;\n",
       "}\n",
       "\n",
       ".xr-dim-list:before {\n",
       "  content: '(';\n",
       "}\n",
       "\n",
       ".xr-dim-list:after {\n",
       "  content: ')';\n",
       "}\n",
       "\n",
       ".xr-dim-list li:not(:last-child):after {\n",
       "  content: ',';\n",
       "  padding-right: 5px;\n",
       "}\n",
       "\n",
       ".xr-has-index {\n",
       "  font-weight: bold;\n",
       "}\n",
       "\n",
       ".xr-var-list,\n",
       ".xr-var-item {\n",
       "  display: contents;\n",
       "}\n",
       "\n",
       ".xr-var-item > div,\n",
       ".xr-var-item label,\n",
       ".xr-var-item > .xr-var-name span {\n",
       "  background-color: var(--xr-background-color-row-even);\n",
       "  margin-bottom: 0;\n",
       "}\n",
       "\n",
       ".xr-var-item > .xr-var-name:hover span {\n",
       "  padding-right: 5px;\n",
       "}\n",
       "\n",
       ".xr-var-list > li:nth-child(odd) > div,\n",
       ".xr-var-list > li:nth-child(odd) > label,\n",
       ".xr-var-list > li:nth-child(odd) > .xr-var-name span {\n",
       "  background-color: var(--xr-background-color-row-odd);\n",
       "}\n",
       "\n",
       ".xr-var-name {\n",
       "  grid-column: 1;\n",
       "}\n",
       "\n",
       ".xr-var-dims {\n",
       "  grid-column: 2;\n",
       "}\n",
       "\n",
       ".xr-var-dtype {\n",
       "  grid-column: 3;\n",
       "  text-align: right;\n",
       "  color: var(--xr-font-color2);\n",
       "}\n",
       "\n",
       ".xr-var-preview {\n",
       "  grid-column: 4;\n",
       "}\n",
       "\n",
       ".xr-index-preview {\n",
       "  grid-column: 2 / 5;\n",
       "  color: var(--xr-font-color2);\n",
       "}\n",
       "\n",
       ".xr-var-name,\n",
       ".xr-var-dims,\n",
       ".xr-var-dtype,\n",
       ".xr-preview,\n",
       ".xr-attrs dt {\n",
       "  white-space: nowrap;\n",
       "  overflow: hidden;\n",
       "  text-overflow: ellipsis;\n",
       "  padding-right: 10px;\n",
       "}\n",
       "\n",
       ".xr-var-name:hover,\n",
       ".xr-var-dims:hover,\n",
       ".xr-var-dtype:hover,\n",
       ".xr-attrs dt:hover {\n",
       "  overflow: visible;\n",
       "  width: auto;\n",
       "  z-index: 1;\n",
       "}\n",
       "\n",
       ".xr-var-attrs,\n",
       ".xr-var-data,\n",
       ".xr-index-data {\n",
       "  display: none;\n",
       "  background-color: var(--xr-background-color) !important;\n",
       "  padding-bottom: 5px !important;\n",
       "}\n",
       "\n",
       ".xr-var-attrs-in:checked ~ .xr-var-attrs,\n",
       ".xr-var-data-in:checked ~ .xr-var-data,\n",
       ".xr-index-data-in:checked ~ .xr-index-data {\n",
       "  display: block;\n",
       "}\n",
       "\n",
       ".xr-var-data > table {\n",
       "  float: right;\n",
       "}\n",
       "\n",
       ".xr-var-name span,\n",
       ".xr-var-data,\n",
       ".xr-index-name div,\n",
       ".xr-index-data,\n",
       ".xr-attrs {\n",
       "  padding-left: 25px !important;\n",
       "}\n",
       "\n",
       ".xr-attrs,\n",
       ".xr-var-attrs,\n",
       ".xr-var-data,\n",
       ".xr-index-data {\n",
       "  grid-column: 1 / -1;\n",
       "}\n",
       "\n",
       "dl.xr-attrs {\n",
       "  padding: 0;\n",
       "  margin: 0;\n",
       "  display: grid;\n",
       "  grid-template-columns: 125px auto;\n",
       "}\n",
       "\n",
       ".xr-attrs dt,\n",
       ".xr-attrs dd {\n",
       "  padding: 0;\n",
       "  margin: 0;\n",
       "  float: left;\n",
       "  padding-right: 10px;\n",
       "  width: auto;\n",
       "}\n",
       "\n",
       ".xr-attrs dt {\n",
       "  font-weight: normal;\n",
       "  grid-column: 1;\n",
       "}\n",
       "\n",
       ".xr-attrs dt:hover span {\n",
       "  display: inline-block;\n",
       "  background: var(--xr-background-color);\n",
       "  padding-right: 10px;\n",
       "}\n",
       "\n",
       ".xr-attrs dd {\n",
       "  grid-column: 2;\n",
       "  white-space: pre-wrap;\n",
       "  word-break: break-all;\n",
       "}\n",
       "\n",
       ".xr-icon-database,\n",
       ".xr-icon-file-text2,\n",
       ".xr-no-icon {\n",
       "  display: inline-block;\n",
       "  vertical-align: middle;\n",
       "  width: 1em;\n",
       "  height: 1.5em !important;\n",
       "  stroke-width: 0;\n",
       "  stroke: currentColor;\n",
       "  fill: currentColor;\n",
       "}\n",
       "</style><pre class='xr-text-repr-fallback'>&lt;xarray.DataArray &#x27;aice_m&#x27; (time: 14, nj: 300, ni: 360)&gt;\n",
       "dask.array&lt;concatenate, shape=(14, 300, 360), dtype=float32, chunksize=(1, 300, 360), chunktype=numpy.ndarray&gt;\n",
       "Coordinates:\n",
       "  * time     (time) object 2399-01-01 00:00:00 ... 2400-02-01 00:00:00\n",
       "    TLON     (nj, ni) float32 dask.array&lt;chunksize=(300, 360), meta=np.ndarray&gt;\n",
       "    TLAT     (nj, ni) float32 dask.array&lt;chunksize=(300, 360), meta=np.ndarray&gt;\n",
       "    ULON     (nj, ni) float32 dask.array&lt;chunksize=(300, 360), meta=np.ndarray&gt;\n",
       "    ULAT     (nj, ni) float32 dask.array&lt;chunksize=(300, 360), meta=np.ndarray&gt;\n",
       "Dimensions without coordinates: nj, ni\n",
       "Attributes:\n",
       "    units:          1\n",
       "    long_name:      ice area  (aggregate)\n",
       "    cell_measures:  area: tarea\n",
       "    cell_methods:   time: mean\n",
       "    time_rep:       averaged\n",
       "    ncfiles:        [&#x27;/g/data/ik11/outputs/access-om2/1deg_jra55_ryf9091_gadi...\n",
       "    contact:        Ryan Holmes\n",
       "    email:          ryan.holmes@unsw.edu.au\n",
       "    created:        2020-02-01\n",
       "    description:    1 degree ACCESS-OM2 global model configuration under 1990...</pre><div class='xr-wrap' style='display:none'><div class='xr-header'><div class='xr-obj-type'>xarray.DataArray</div><div class='xr-array-name'>'aice_m'</div><ul class='xr-dim-list'><li><span class='xr-has-index'>time</span>: 14</li><li><span>nj</span>: 300</li><li><span>ni</span>: 360</li></ul></div><ul class='xr-sections'><li class='xr-section-item'><div class='xr-array-wrap'><input id='section-53db80c3-b52f-4bb5-b886-81f304cabe39' class='xr-array-in' type='checkbox' checked><label for='section-53db80c3-b52f-4bb5-b886-81f304cabe39' title='Show/hide data repr'><svg class='icon xr-icon-database'><use xlink:href='#icon-database'></use></svg></label><div class='xr-array-preview xr-preview'><span>dask.array&lt;chunksize=(1, 300, 360), meta=np.ndarray&gt;</span></div><div class='xr-array-data'><table>\n",
       "    <tr>\n",
       "        <td>\n",
       "            <table style=\"border-collapse: collapse;\">\n",
       "                <thead>\n",
       "                    <tr>\n",
       "                        <td> </td>\n",
       "                        <th> Array </th>\n",
       "                        <th> Chunk </th>\n",
       "                    </tr>\n",
       "                </thead>\n",
       "                <tbody>\n",
       "                    \n",
       "                    <tr>\n",
       "                        <th> Bytes </th>\n",
       "                        <td> 5.77 MiB </td>\n",
       "                        <td> 421.88 kiB </td>\n",
       "                    </tr>\n",
       "                    \n",
       "                    <tr>\n",
       "                        <th> Shape </th>\n",
       "                        <td> (14, 300, 360) </td>\n",
       "                        <td> (1, 300, 360) </td>\n",
       "                    </tr>\n",
       "                    <tr>\n",
       "                        <th> Dask graph </th>\n",
       "                        <td colspan=\"2\"> 14 chunks in 29 graph layers </td>\n",
       "                    </tr>\n",
       "                    <tr>\n",
       "                        <th> Data type </th>\n",
       "                        <td colspan=\"2\"> float32 numpy.ndarray </td>\n",
       "                    </tr>\n",
       "                </tbody>\n",
       "            </table>\n",
       "        </td>\n",
       "        <td>\n",
       "        <svg width=\"199\" height=\"169\" style=\"stroke:rgb(0,0,0);stroke-width:1\" >\n",
       "\n",
       "  <!-- Horizontal lines -->\n",
       "  <line x1=\"10\" y1=\"0\" x2=\"29\" y2=\"19\" style=\"stroke-width:2\" />\n",
       "  <line x1=\"10\" y1=\"100\" x2=\"29\" y2=\"119\" style=\"stroke-width:2\" />\n",
       "\n",
       "  <!-- Vertical lines -->\n",
       "  <line x1=\"10\" y1=\"0\" x2=\"10\" y2=\"100\" style=\"stroke-width:2\" />\n",
       "  <line x1=\"11\" y1=\"1\" x2=\"11\" y2=\"101\" />\n",
       "  <line x1=\"12\" y1=\"2\" x2=\"12\" y2=\"102\" />\n",
       "  <line x1=\"14\" y1=\"4\" x2=\"14\" y2=\"104\" />\n",
       "  <line x1=\"15\" y1=\"5\" x2=\"15\" y2=\"105\" />\n",
       "  <line x1=\"16\" y1=\"6\" x2=\"16\" y2=\"106\" />\n",
       "  <line x1=\"18\" y1=\"8\" x2=\"18\" y2=\"108\" />\n",
       "  <line x1=\"19\" y1=\"9\" x2=\"19\" y2=\"109\" />\n",
       "  <line x1=\"21\" y1=\"11\" x2=\"21\" y2=\"111\" />\n",
       "  <line x1=\"22\" y1=\"12\" x2=\"22\" y2=\"112\" />\n",
       "  <line x1=\"23\" y1=\"13\" x2=\"23\" y2=\"113\" />\n",
       "  <line x1=\"25\" y1=\"15\" x2=\"25\" y2=\"115\" />\n",
       "  <line x1=\"26\" y1=\"16\" x2=\"26\" y2=\"116\" />\n",
       "  <line x1=\"28\" y1=\"18\" x2=\"28\" y2=\"118\" />\n",
       "  <line x1=\"29\" y1=\"19\" x2=\"29\" y2=\"119\" style=\"stroke-width:2\" />\n",
       "\n",
       "  <!-- Colored Rectangle -->\n",
       "  <polygon points=\"10.0,0.0 29.389234020968164,19.389234020968164 29.389234020968164,119.38923402096816 10.0,100.0\" style=\"fill:#ECB172A0;stroke-width:0\"/>\n",
       "\n",
       "  <!-- Horizontal lines -->\n",
       "  <line x1=\"10\" y1=\"0\" x2=\"130\" y2=\"0\" style=\"stroke-width:2\" />\n",
       "  <line x1=\"11\" y1=\"1\" x2=\"131\" y2=\"1\" />\n",
       "  <line x1=\"12\" y1=\"2\" x2=\"132\" y2=\"2\" />\n",
       "  <line x1=\"14\" y1=\"4\" x2=\"134\" y2=\"4\" />\n",
       "  <line x1=\"15\" y1=\"5\" x2=\"135\" y2=\"5\" />\n",
       "  <line x1=\"16\" y1=\"6\" x2=\"136\" y2=\"6\" />\n",
       "  <line x1=\"18\" y1=\"8\" x2=\"138\" y2=\"8\" />\n",
       "  <line x1=\"19\" y1=\"9\" x2=\"139\" y2=\"9\" />\n",
       "  <line x1=\"21\" y1=\"11\" x2=\"141\" y2=\"11\" />\n",
       "  <line x1=\"22\" y1=\"12\" x2=\"142\" y2=\"12\" />\n",
       "  <line x1=\"23\" y1=\"13\" x2=\"143\" y2=\"13\" />\n",
       "  <line x1=\"25\" y1=\"15\" x2=\"145\" y2=\"15\" />\n",
       "  <line x1=\"26\" y1=\"16\" x2=\"146\" y2=\"16\" />\n",
       "  <line x1=\"28\" y1=\"18\" x2=\"148\" y2=\"18\" />\n",
       "  <line x1=\"29\" y1=\"19\" x2=\"149\" y2=\"19\" style=\"stroke-width:2\" />\n",
       "\n",
       "  <!-- Vertical lines -->\n",
       "  <line x1=\"10\" y1=\"0\" x2=\"29\" y2=\"19\" style=\"stroke-width:2\" />\n",
       "  <line x1=\"130\" y1=\"0\" x2=\"149\" y2=\"19\" style=\"stroke-width:2\" />\n",
       "\n",
       "  <!-- Colored Rectangle -->\n",
       "  <polygon points=\"10.0,0.0 130.0,0.0 149.38923402096816,19.389234020968164 29.389234020968164,19.389234020968164\" style=\"fill:#ECB172A0;stroke-width:0\"/>\n",
       "\n",
       "  <!-- Horizontal lines -->\n",
       "  <line x1=\"29\" y1=\"19\" x2=\"149\" y2=\"19\" style=\"stroke-width:2\" />\n",
       "  <line x1=\"29\" y1=\"119\" x2=\"149\" y2=\"119\" style=\"stroke-width:2\" />\n",
       "\n",
       "  <!-- Vertical lines -->\n",
       "  <line x1=\"29\" y1=\"19\" x2=\"29\" y2=\"119\" style=\"stroke-width:2\" />\n",
       "  <line x1=\"149\" y1=\"19\" x2=\"149\" y2=\"119\" style=\"stroke-width:2\" />\n",
       "\n",
       "  <!-- Colored Rectangle -->\n",
       "  <polygon points=\"29.389234020968164,19.389234020968164 149.38923402096816,19.389234020968164 149.38923402096816,119.38923402096816 29.389234020968164,119.38923402096816\" style=\"fill:#ECB172A0;stroke-width:0\"/>\n",
       "\n",
       "  <!-- Text -->\n",
       "  <text x=\"89.389234\" y=\"139.389234\" font-size=\"1.0rem\" font-weight=\"100\" text-anchor=\"middle\" >360</text>\n",
       "  <text x=\"169.389234\" y=\"69.389234\" font-size=\"1.0rem\" font-weight=\"100\" text-anchor=\"middle\" transform=\"rotate(-90,169.389234,69.389234)\">300</text>\n",
       "  <text x=\"9.694617\" y=\"129.694617\" font-size=\"1.0rem\" font-weight=\"100\" text-anchor=\"middle\" transform=\"rotate(45,9.694617,129.694617)\">14</text>\n",
       "</svg>\n",
       "        </td>\n",
       "    </tr>\n",
       "</table></div></div></li><li class='xr-section-item'><input id='section-ef359a01-24fc-4222-a306-163898a5ed4b' class='xr-section-summary-in' type='checkbox'  checked><label for='section-ef359a01-24fc-4222-a306-163898a5ed4b' class='xr-section-summary' >Coordinates: <span>(5)</span></label><div class='xr-section-inline-details'></div><div class='xr-section-details'><ul class='xr-var-list'><li class='xr-var-item'><div class='xr-var-name'><span class='xr-has-index'>time</span></div><div class='xr-var-dims'>(time)</div><div class='xr-var-dtype'>object</div><div class='xr-var-preview xr-preview'>2399-01-01 00:00:00 ... 2400-02-...</div><input id='attrs-bc062522-fcaa-4280-8a4a-6c5756d98974' class='xr-var-attrs-in' type='checkbox' ><label for='attrs-bc062522-fcaa-4280-8a4a-6c5756d98974' title='Show/Hide attributes'><svg class='icon xr-icon-file-text2'><use xlink:href='#icon-file-text2'></use></svg></label><input id='data-20003e72-aecd-4294-93af-04835f400544' class='xr-var-data-in' type='checkbox'><label for='data-20003e72-aecd-4294-93af-04835f400544' title='Show/Hide data repr'><svg class='icon xr-icon-database'><use xlink:href='#icon-database'></use></svg></label><div class='xr-var-attrs'><dl class='xr-attrs'><dt><span>long_name :</span></dt><dd>model time</dd><dt><span>bounds :</span></dt><dd>time_bounds</dd></dl></div><div class='xr-var-data'><pre>array([cftime.DatetimeNoLeap(2399, 1, 1, 0, 0, 0, 0, has_year_zero=True),\n",
       "       cftime.DatetimeNoLeap(2399, 2, 1, 0, 0, 0, 0, has_year_zero=True),\n",
       "       cftime.DatetimeNoLeap(2399, 3, 1, 0, 0, 0, 0, has_year_zero=True),\n",
       "       cftime.DatetimeNoLeap(2399, 4, 1, 0, 0, 0, 0, has_year_zero=True),\n",
       "       cftime.DatetimeNoLeap(2399, 5, 1, 0, 0, 0, 0, has_year_zero=True),\n",
       "       cftime.DatetimeNoLeap(2399, 6, 1, 0, 0, 0, 0, has_year_zero=True),\n",
       "       cftime.DatetimeNoLeap(2399, 7, 1, 0, 0, 0, 0, has_year_zero=True),\n",
       "       cftime.DatetimeNoLeap(2399, 8, 1, 0, 0, 0, 0, has_year_zero=True),\n",
       "       cftime.DatetimeNoLeap(2399, 9, 1, 0, 0, 0, 0, has_year_zero=True),\n",
       "       cftime.DatetimeNoLeap(2399, 10, 1, 0, 0, 0, 0, has_year_zero=True),\n",
       "       cftime.DatetimeNoLeap(2399, 11, 1, 0, 0, 0, 0, has_year_zero=True),\n",
       "       cftime.DatetimeNoLeap(2399, 12, 1, 0, 0, 0, 0, has_year_zero=True),\n",
       "       cftime.DatetimeNoLeap(2400, 1, 1, 0, 0, 0, 0, has_year_zero=True),\n",
       "       cftime.DatetimeNoLeap(2400, 2, 1, 0, 0, 0, 0, has_year_zero=True)],\n",
       "      dtype=object)</pre></div></li><li class='xr-var-item'><div class='xr-var-name'><span>TLON</span></div><div class='xr-var-dims'>(nj, ni)</div><div class='xr-var-dtype'>float32</div><div class='xr-var-preview xr-preview'>dask.array&lt;chunksize=(300, 360), meta=np.ndarray&gt;</div><input id='attrs-a0bc4a1b-cd37-45f3-8a28-c8b32540ac3b' class='xr-var-attrs-in' type='checkbox' ><label for='attrs-a0bc4a1b-cd37-45f3-8a28-c8b32540ac3b' title='Show/Hide attributes'><svg class='icon xr-icon-file-text2'><use xlink:href='#icon-file-text2'></use></svg></label><input id='data-b1221229-8e81-4b1e-b220-2a82fa2355d4' class='xr-var-data-in' type='checkbox'><label for='data-b1221229-8e81-4b1e-b220-2a82fa2355d4' title='Show/Hide data repr'><svg class='icon xr-icon-database'><use xlink:href='#icon-database'></use></svg></label><div class='xr-var-attrs'><dl class='xr-attrs'><dt><span>long_name :</span></dt><dd>T grid center longitude</dd><dt><span>units :</span></dt><dd>degrees_east</dd></dl></div><div class='xr-var-data'><table>\n",
       "    <tr>\n",
       "        <td>\n",
       "            <table style=\"border-collapse: collapse;\">\n",
       "                <thead>\n",
       "                    <tr>\n",
       "                        <td> </td>\n",
       "                        <th> Array </th>\n",
       "                        <th> Chunk </th>\n",
       "                    </tr>\n",
       "                </thead>\n",
       "                <tbody>\n",
       "                    \n",
       "                    <tr>\n",
       "                        <th> Bytes </th>\n",
       "                        <td> 421.88 kiB </td>\n",
       "                        <td> 421.88 kiB </td>\n",
       "                    </tr>\n",
       "                    \n",
       "                    <tr>\n",
       "                        <th> Shape </th>\n",
       "                        <td> (300, 360) </td>\n",
       "                        <td> (300, 360) </td>\n",
       "                    </tr>\n",
       "                    <tr>\n",
       "                        <th> Dask graph </th>\n",
       "                        <td colspan=\"2\"> 1 chunks in 65 graph layers </td>\n",
       "                    </tr>\n",
       "                    <tr>\n",
       "                        <th> Data type </th>\n",
       "                        <td colspan=\"2\"> float32 numpy.ndarray </td>\n",
       "                    </tr>\n",
       "                </tbody>\n",
       "            </table>\n",
       "        </td>\n",
       "        <td>\n",
       "        <svg width=\"170\" height=\"150\" style=\"stroke:rgb(0,0,0);stroke-width:1\" >\n",
       "\n",
       "  <!-- Horizontal lines -->\n",
       "  <line x1=\"0\" y1=\"0\" x2=\"120\" y2=\"0\" style=\"stroke-width:2\" />\n",
       "  <line x1=\"0\" y1=\"100\" x2=\"120\" y2=\"100\" style=\"stroke-width:2\" />\n",
       "\n",
       "  <!-- Vertical lines -->\n",
       "  <line x1=\"0\" y1=\"0\" x2=\"0\" y2=\"100\" style=\"stroke-width:2\" />\n",
       "  <line x1=\"120\" y1=\"0\" x2=\"120\" y2=\"100\" style=\"stroke-width:2\" />\n",
       "\n",
       "  <!-- Colored Rectangle -->\n",
       "  <polygon points=\"0.0,0.0 120.0,0.0 120.0,100.0 0.0,100.0\" style=\"fill:#ECB172A0;stroke-width:0\"/>\n",
       "\n",
       "  <!-- Text -->\n",
       "  <text x=\"60.000000\" y=\"120.000000\" font-size=\"1.0rem\" font-weight=\"100\" text-anchor=\"middle\" >360</text>\n",
       "  <text x=\"140.000000\" y=\"50.000000\" font-size=\"1.0rem\" font-weight=\"100\" text-anchor=\"middle\" transform=\"rotate(-90,140.000000,50.000000)\">300</text>\n",
       "</svg>\n",
       "        </td>\n",
       "    </tr>\n",
       "</table></div></li><li class='xr-var-item'><div class='xr-var-name'><span>TLAT</span></div><div class='xr-var-dims'>(nj, ni)</div><div class='xr-var-dtype'>float32</div><div class='xr-var-preview xr-preview'>dask.array&lt;chunksize=(300, 360), meta=np.ndarray&gt;</div><input id='attrs-b5a17f0d-56e6-4991-abf3-f8b2c4359c1d' class='xr-var-attrs-in' type='checkbox' ><label for='attrs-b5a17f0d-56e6-4991-abf3-f8b2c4359c1d' title='Show/Hide attributes'><svg class='icon xr-icon-file-text2'><use xlink:href='#icon-file-text2'></use></svg></label><input id='data-0fdcb7a9-fdff-4286-9a09-3075fad2e827' class='xr-var-data-in' type='checkbox'><label for='data-0fdcb7a9-fdff-4286-9a09-3075fad2e827' title='Show/Hide data repr'><svg class='icon xr-icon-database'><use xlink:href='#icon-database'></use></svg></label><div class='xr-var-attrs'><dl class='xr-attrs'><dt><span>long_name :</span></dt><dd>T grid center latitude</dd><dt><span>units :</span></dt><dd>degrees_north</dd></dl></div><div class='xr-var-data'><table>\n",
       "    <tr>\n",
       "        <td>\n",
       "            <table style=\"border-collapse: collapse;\">\n",
       "                <thead>\n",
       "                    <tr>\n",
       "                        <td> </td>\n",
       "                        <th> Array </th>\n",
       "                        <th> Chunk </th>\n",
       "                    </tr>\n",
       "                </thead>\n",
       "                <tbody>\n",
       "                    \n",
       "                    <tr>\n",
       "                        <th> Bytes </th>\n",
       "                        <td> 421.88 kiB </td>\n",
       "                        <td> 421.88 kiB </td>\n",
       "                    </tr>\n",
       "                    \n",
       "                    <tr>\n",
       "                        <th> Shape </th>\n",
       "                        <td> (300, 360) </td>\n",
       "                        <td> (300, 360) </td>\n",
       "                    </tr>\n",
       "                    <tr>\n",
       "                        <th> Dask graph </th>\n",
       "                        <td colspan=\"2\"> 1 chunks in 65 graph layers </td>\n",
       "                    </tr>\n",
       "                    <tr>\n",
       "                        <th> Data type </th>\n",
       "                        <td colspan=\"2\"> float32 numpy.ndarray </td>\n",
       "                    </tr>\n",
       "                </tbody>\n",
       "            </table>\n",
       "        </td>\n",
       "        <td>\n",
       "        <svg width=\"170\" height=\"150\" style=\"stroke:rgb(0,0,0);stroke-width:1\" >\n",
       "\n",
       "  <!-- Horizontal lines -->\n",
       "  <line x1=\"0\" y1=\"0\" x2=\"120\" y2=\"0\" style=\"stroke-width:2\" />\n",
       "  <line x1=\"0\" y1=\"100\" x2=\"120\" y2=\"100\" style=\"stroke-width:2\" />\n",
       "\n",
       "  <!-- Vertical lines -->\n",
       "  <line x1=\"0\" y1=\"0\" x2=\"0\" y2=\"100\" style=\"stroke-width:2\" />\n",
       "  <line x1=\"120\" y1=\"0\" x2=\"120\" y2=\"100\" style=\"stroke-width:2\" />\n",
       "\n",
       "  <!-- Colored Rectangle -->\n",
       "  <polygon points=\"0.0,0.0 120.0,0.0 120.0,100.0 0.0,100.0\" style=\"fill:#ECB172A0;stroke-width:0\"/>\n",
       "\n",
       "  <!-- Text -->\n",
       "  <text x=\"60.000000\" y=\"120.000000\" font-size=\"1.0rem\" font-weight=\"100\" text-anchor=\"middle\" >360</text>\n",
       "  <text x=\"140.000000\" y=\"50.000000\" font-size=\"1.0rem\" font-weight=\"100\" text-anchor=\"middle\" transform=\"rotate(-90,140.000000,50.000000)\">300</text>\n",
       "</svg>\n",
       "        </td>\n",
       "    </tr>\n",
       "</table></div></li><li class='xr-var-item'><div class='xr-var-name'><span>ULON</span></div><div class='xr-var-dims'>(nj, ni)</div><div class='xr-var-dtype'>float32</div><div class='xr-var-preview xr-preview'>dask.array&lt;chunksize=(300, 360), meta=np.ndarray&gt;</div><input id='attrs-b2ae7fa5-2d33-4bca-a8d5-3d8ccb1f50e2' class='xr-var-attrs-in' type='checkbox' ><label for='attrs-b2ae7fa5-2d33-4bca-a8d5-3d8ccb1f50e2' title='Show/Hide attributes'><svg class='icon xr-icon-file-text2'><use xlink:href='#icon-file-text2'></use></svg></label><input id='data-41798bbd-5683-4f0a-bb25-1893d47a5448' class='xr-var-data-in' type='checkbox'><label for='data-41798bbd-5683-4f0a-bb25-1893d47a5448' title='Show/Hide data repr'><svg class='icon xr-icon-database'><use xlink:href='#icon-database'></use></svg></label><div class='xr-var-attrs'><dl class='xr-attrs'><dt><span>long_name :</span></dt><dd>U grid center longitude</dd><dt><span>units :</span></dt><dd>degrees_east</dd></dl></div><div class='xr-var-data'><table>\n",
       "    <tr>\n",
       "        <td>\n",
       "            <table style=\"border-collapse: collapse;\">\n",
       "                <thead>\n",
       "                    <tr>\n",
       "                        <td> </td>\n",
       "                        <th> Array </th>\n",
       "                        <th> Chunk </th>\n",
       "                    </tr>\n",
       "                </thead>\n",
       "                <tbody>\n",
       "                    \n",
       "                    <tr>\n",
       "                        <th> Bytes </th>\n",
       "                        <td> 421.88 kiB </td>\n",
       "                        <td> 421.88 kiB </td>\n",
       "                    </tr>\n",
       "                    \n",
       "                    <tr>\n",
       "                        <th> Shape </th>\n",
       "                        <td> (300, 360) </td>\n",
       "                        <td> (300, 360) </td>\n",
       "                    </tr>\n",
       "                    <tr>\n",
       "                        <th> Dask graph </th>\n",
       "                        <td colspan=\"2\"> 1 chunks in 65 graph layers </td>\n",
       "                    </tr>\n",
       "                    <tr>\n",
       "                        <th> Data type </th>\n",
       "                        <td colspan=\"2\"> float32 numpy.ndarray </td>\n",
       "                    </tr>\n",
       "                </tbody>\n",
       "            </table>\n",
       "        </td>\n",
       "        <td>\n",
       "        <svg width=\"170\" height=\"150\" style=\"stroke:rgb(0,0,0);stroke-width:1\" >\n",
       "\n",
       "  <!-- Horizontal lines -->\n",
       "  <line x1=\"0\" y1=\"0\" x2=\"120\" y2=\"0\" style=\"stroke-width:2\" />\n",
       "  <line x1=\"0\" y1=\"100\" x2=\"120\" y2=\"100\" style=\"stroke-width:2\" />\n",
       "\n",
       "  <!-- Vertical lines -->\n",
       "  <line x1=\"0\" y1=\"0\" x2=\"0\" y2=\"100\" style=\"stroke-width:2\" />\n",
       "  <line x1=\"120\" y1=\"0\" x2=\"120\" y2=\"100\" style=\"stroke-width:2\" />\n",
       "\n",
       "  <!-- Colored Rectangle -->\n",
       "  <polygon points=\"0.0,0.0 120.0,0.0 120.0,100.0 0.0,100.0\" style=\"fill:#ECB172A0;stroke-width:0\"/>\n",
       "\n",
       "  <!-- Text -->\n",
       "  <text x=\"60.000000\" y=\"120.000000\" font-size=\"1.0rem\" font-weight=\"100\" text-anchor=\"middle\" >360</text>\n",
       "  <text x=\"140.000000\" y=\"50.000000\" font-size=\"1.0rem\" font-weight=\"100\" text-anchor=\"middle\" transform=\"rotate(-90,140.000000,50.000000)\">300</text>\n",
       "</svg>\n",
       "        </td>\n",
       "    </tr>\n",
       "</table></div></li><li class='xr-var-item'><div class='xr-var-name'><span>ULAT</span></div><div class='xr-var-dims'>(nj, ni)</div><div class='xr-var-dtype'>float32</div><div class='xr-var-preview xr-preview'>dask.array&lt;chunksize=(300, 360), meta=np.ndarray&gt;</div><input id='attrs-d371846f-4fe2-40c5-88ae-4278d04c04bc' class='xr-var-attrs-in' type='checkbox' ><label for='attrs-d371846f-4fe2-40c5-88ae-4278d04c04bc' title='Show/Hide attributes'><svg class='icon xr-icon-file-text2'><use xlink:href='#icon-file-text2'></use></svg></label><input id='data-cb6682bd-1137-4e18-94bb-187b45d2c035' class='xr-var-data-in' type='checkbox'><label for='data-cb6682bd-1137-4e18-94bb-187b45d2c035' title='Show/Hide data repr'><svg class='icon xr-icon-database'><use xlink:href='#icon-database'></use></svg></label><div class='xr-var-attrs'><dl class='xr-attrs'><dt><span>long_name :</span></dt><dd>U grid center latitude</dd><dt><span>units :</span></dt><dd>degrees_north</dd><dt><span>comment :</span></dt><dd>Latitude of NE corner of T grid cell</dd></dl></div><div class='xr-var-data'><table>\n",
       "    <tr>\n",
       "        <td>\n",
       "            <table style=\"border-collapse: collapse;\">\n",
       "                <thead>\n",
       "                    <tr>\n",
       "                        <td> </td>\n",
       "                        <th> Array </th>\n",
       "                        <th> Chunk </th>\n",
       "                    </tr>\n",
       "                </thead>\n",
       "                <tbody>\n",
       "                    \n",
       "                    <tr>\n",
       "                        <th> Bytes </th>\n",
       "                        <td> 421.88 kiB </td>\n",
       "                        <td> 421.88 kiB </td>\n",
       "                    </tr>\n",
       "                    \n",
       "                    <tr>\n",
       "                        <th> Shape </th>\n",
       "                        <td> (300, 360) </td>\n",
       "                        <td> (300, 360) </td>\n",
       "                    </tr>\n",
       "                    <tr>\n",
       "                        <th> Dask graph </th>\n",
       "                        <td colspan=\"2\"> 1 chunks in 65 graph layers </td>\n",
       "                    </tr>\n",
       "                    <tr>\n",
       "                        <th> Data type </th>\n",
       "                        <td colspan=\"2\"> float32 numpy.ndarray </td>\n",
       "                    </tr>\n",
       "                </tbody>\n",
       "            </table>\n",
       "        </td>\n",
       "        <td>\n",
       "        <svg width=\"170\" height=\"150\" style=\"stroke:rgb(0,0,0);stroke-width:1\" >\n",
       "\n",
       "  <!-- Horizontal lines -->\n",
       "  <line x1=\"0\" y1=\"0\" x2=\"120\" y2=\"0\" style=\"stroke-width:2\" />\n",
       "  <line x1=\"0\" y1=\"100\" x2=\"120\" y2=\"100\" style=\"stroke-width:2\" />\n",
       "\n",
       "  <!-- Vertical lines -->\n",
       "  <line x1=\"0\" y1=\"0\" x2=\"0\" y2=\"100\" style=\"stroke-width:2\" />\n",
       "  <line x1=\"120\" y1=\"0\" x2=\"120\" y2=\"100\" style=\"stroke-width:2\" />\n",
       "\n",
       "  <!-- Colored Rectangle -->\n",
       "  <polygon points=\"0.0,0.0 120.0,0.0 120.0,100.0 0.0,100.0\" style=\"fill:#ECB172A0;stroke-width:0\"/>\n",
       "\n",
       "  <!-- Text -->\n",
       "  <text x=\"60.000000\" y=\"120.000000\" font-size=\"1.0rem\" font-weight=\"100\" text-anchor=\"middle\" >360</text>\n",
       "  <text x=\"140.000000\" y=\"50.000000\" font-size=\"1.0rem\" font-weight=\"100\" text-anchor=\"middle\" transform=\"rotate(-90,140.000000,50.000000)\">300</text>\n",
       "</svg>\n",
       "        </td>\n",
       "    </tr>\n",
       "</table></div></li></ul></div></li><li class='xr-section-item'><input id='section-fc30990a-4820-4693-a1b0-348ec5c60a48' class='xr-section-summary-in' type='checkbox'  ><label for='section-fc30990a-4820-4693-a1b0-348ec5c60a48' class='xr-section-summary' >Indexes: <span>(1)</span></label><div class='xr-section-inline-details'></div><div class='xr-section-details'><ul class='xr-var-list'><li class='xr-var-item'><div class='xr-index-name'><div>time</div></div><div class='xr-index-preview'>PandasIndex</div><div></div><input id='index-396428c7-6946-4743-87ef-ef6bc91038c2' class='xr-index-data-in' type='checkbox'/><label for='index-396428c7-6946-4743-87ef-ef6bc91038c2' title='Show/Hide index repr'><svg class='icon xr-icon-database'><use xlink:href='#icon-database'></use></svg></label><div class='xr-index-data'><pre>PandasIndex(CFTimeIndex([2399-01-01 00:00:00, 2399-02-01 00:00:00, 2399-03-01 00:00:00,\n",
       "             2399-04-01 00:00:00, 2399-05-01 00:00:00, 2399-06-01 00:00:00,\n",
       "             2399-07-01 00:00:00, 2399-08-01 00:00:00, 2399-09-01 00:00:00,\n",
       "             2399-10-01 00:00:00, 2399-11-01 00:00:00, 2399-12-01 00:00:00,\n",
       "             2400-01-01 00:00:00, 2400-02-01 00:00:00],\n",
       "            dtype=&#x27;object&#x27;, length=14, calendar=&#x27;noleap&#x27;, freq=&#x27;MS&#x27;))</pre></div></li></ul></div></li><li class='xr-section-item'><input id='section-0863d5d1-d39c-4e51-80c7-1e3a996773af' class='xr-section-summary-in' type='checkbox'  ><label for='section-0863d5d1-d39c-4e51-80c7-1e3a996773af' class='xr-section-summary' >Attributes: <span>(10)</span></label><div class='xr-section-inline-details'></div><div class='xr-section-details'><dl class='xr-attrs'><dt><span>units :</span></dt><dd>1</dd><dt><span>long_name :</span></dt><dd>ice area  (aggregate)</dd><dt><span>cell_measures :</span></dt><dd>area: tarea</dd><dt><span>cell_methods :</span></dt><dd>time: mean</dd><dt><span>time_rep :</span></dt><dd>averaged</dd><dt><span>ncfiles :</span></dt><dd>[&#x27;/g/data/ik11/outputs/access-om2/1deg_jra55_ryf9091_gadi/output049/ice/OUTPUT/iceh.2398-12.nc&#x27;, &#x27;/g/data/ik11/outputs/access-om2/1deg_jra55_ryf9091_gadi/output049/ice/OUTPUT/iceh.2399-01.nc&#x27;, &#x27;/g/data/ik11/outputs/access-om2/1deg_jra55_ryf9091_gadi/output049/ice/OUTPUT/iceh.2399-02.nc&#x27;, &#x27;/g/data/ik11/outputs/access-om2/1deg_jra55_ryf9091_gadi/output049/ice/OUTPUT/iceh.2399-03.nc&#x27;, &#x27;/g/data/ik11/outputs/access-om2/1deg_jra55_ryf9091_gadi/output049/ice/OUTPUT/iceh.2399-04.nc&#x27;, &#x27;/g/data/ik11/outputs/access-om2/1deg_jra55_ryf9091_gadi/output049/ice/OUTPUT/iceh.2399-05.nc&#x27;, &#x27;/g/data/ik11/outputs/access-om2/1deg_jra55_ryf9091_gadi/output049/ice/OUTPUT/iceh.2399-06.nc&#x27;, &#x27;/g/data/ik11/outputs/access-om2/1deg_jra55_ryf9091_gadi/output049/ice/OUTPUT/iceh.2399-07.nc&#x27;, &#x27;/g/data/ik11/outputs/access-om2/1deg_jra55_ryf9091_gadi/output049/ice/OUTPUT/iceh.2399-08.nc&#x27;, &#x27;/g/data/ik11/outputs/access-om2/1deg_jra55_ryf9091_gadi/output049/ice/OUTPUT/iceh.2399-09.nc&#x27;, &#x27;/g/data/ik11/outputs/access-om2/1deg_jra55_ryf9091_gadi/output049/ice/OUTPUT/iceh.2399-10.nc&#x27;, &#x27;/g/data/ik11/outputs/access-om2/1deg_jra55_ryf9091_gadi/output049/ice/OUTPUT/iceh.2399-11.nc&#x27;, &#x27;/g/data/ik11/outputs/access-om2/1deg_jra55_ryf9091_gadi/output049/ice/OUTPUT/iceh.2399-12.nc&#x27;, &#x27;/g/data/ik11/outputs/access-om2/1deg_jra55_ryf9091_gadi/output050/ice/OUTPUT/iceh.2400-01.nc&#x27;]</dd><dt><span>contact :</span></dt><dd>Ryan Holmes</dd><dt><span>email :</span></dt><dd>ryan.holmes@unsw.edu.au</dd><dt><span>created :</span></dt><dd>2020-02-01</dd><dt><span>description :</span></dt><dd>1 degree ACCESS-OM2 global model configuration under 1990-1991 repeat year forcing. 780-year spinup run ideal for use as a control run for perturbations. Updated configuration with many improvements from the original GMD configuration. Run exclusively on Gadi. (The  last 260 years of the run include monthly outputs of 3D temperature field.) Note: output051 also contains extra diagnostic output for closing the heat budget in both Eulerian model coordinates (ocean_heat.nc) and in temperature coordinates (ocean_wmass.nc). This includes snapshots of the temperature and grid-cell thicknesses (ocean_snap.nc). If you have any questions about using this output please contact Ryan.</dd></dl></div></li></ul></div></div>"
      ],
      "text/plain": [
       "<xarray.DataArray 'aice_m' (time: 14, nj: 300, ni: 360)>\n",
       "dask.array<concatenate, shape=(14, 300, 360), dtype=float32, chunksize=(1, 300, 360), chunktype=numpy.ndarray>\n",
       "Coordinates:\n",
       "  * time     (time) object 2399-01-01 00:00:00 ... 2400-02-01 00:00:00\n",
       "    TLON     (nj, ni) float32 dask.array<chunksize=(300, 360), meta=np.ndarray>\n",
       "    TLAT     (nj, ni) float32 dask.array<chunksize=(300, 360), meta=np.ndarray>\n",
       "    ULON     (nj, ni) float32 dask.array<chunksize=(300, 360), meta=np.ndarray>\n",
       "    ULAT     (nj, ni) float32 dask.array<chunksize=(300, 360), meta=np.ndarray>\n",
       "Dimensions without coordinates: nj, ni\n",
       "Attributes:\n",
       "    units:          1\n",
       "    long_name:      ice area  (aggregate)\n",
       "    cell_measures:  area: tarea\n",
       "    cell_methods:   time: mean\n",
       "    time_rep:       averaged\n",
       "    ncfiles:        ['/g/data/ik11/outputs/access-om2/1deg_jra55_ryf9091_gadi...\n",
       "    contact:        Ryan Holmes\n",
       "    email:          ryan.holmes@unsw.edu.au\n",
       "    created:        2020-02-01\n",
       "    description:    1 degree ACCESS-OM2 global model configuration under 1990..."
      ]
     },
     "execution_count": 44,
     "metadata": {},
     "output_type": "execute_result"
    }
   ],
   "source": [
    "test_OM2_1"
   ]
  },
  {
   "cell_type": "code",
   "execution_count": null,
   "id": "a733a6b4-2bcb-48a0-a1dc-68722375f0f6",
   "metadata": {},
   "outputs": [],
   "source": []
  },
  {
   "cell_type": "code",
   "execution_count": 54,
   "id": "9c73992b-ba5d-47fc-aff3-0b037a64d12e",
   "metadata": {
    "tags": []
   },
   "outputs": [],
   "source": [
    "subset_siconc = cmip6.search(activity_id='CMIP', experiment_id='1pctCO2', source_id='ACCESS-CM2', member_id='r1i1p1f1', table_id='SImon', variable_id='siconc')"
   ]
  },
  {
   "cell_type": "code",
   "execution_count": 55,
   "id": "44b4d17e-24db-4eb4-b89e-9fa15223d535",
   "metadata": {
    "tags": []
   },
   "outputs": [
    {
     "data": {
      "text/plain": [
       "dict_keys(['CMIP6.CMIP.CSIRO-ARCCSS.ACCESS-CM2.1pctCO2.r1i1p1f1.SImon.siconc.gn.v20200817'])"
      ]
     },
     "execution_count": 55,
     "metadata": {},
     "output_type": "execute_result"
    }
   ],
   "source": [
    "subset_siconc.keys()"
   ]
  },
  {
   "cell_type": "code",
   "execution_count": 56,
   "id": "8126f695-9741-4149-889d-dffa0b1e3259",
   "metadata": {
    "tags": []
   },
   "outputs": [
    {
     "name": "stdout",
     "output_type": "stream",
     "text": [
      "\n",
      "--> The keys in the returned dictionary of datasets are constructed as follows:\n",
      "\t'project.activity_id.institution_id.source_id.experiment_id.member_id.table_id.variable_id.grid_label.version'\n"
     ]
    },
    {
     "name": "stderr",
     "output_type": "stream",
     "text": [
      "/g/data/hh5/public/apps/miniconda3/envs/analysis3-22.07/lib/python3.9/site-packages/xarray/coding/times.py:150: SerializationWarning: Ambiguous reference date string: 950-01-01. The first value is assumed to be the year hence will be padded with zeros to remove the ambiguity (the padded reference date string is: 0950-01-01). To remove this message, remove the ambiguity by padding your reference date strings with zeros.\n",
      "  warnings.warn(warning_msg, SerializationWarning)\n",
      "/g/data/hh5/public/apps/miniconda3/envs/analysis3-22.07/lib/python3.9/site-packages/xarray/coding/times.py:699: SerializationWarning: Unable to decode time axis into full numpy.datetime64 objects, continuing using cftime.datetime objects instead, reason: dates out of range\n",
      "  dtype = _decode_cf_datetime_dtype(data, units, calendar, self.use_cftime)\n",
      "/g/data/hh5/public/apps/miniconda3/envs/analysis3-22.07/lib/python3.9/site-packages/xarray/core/indexing.py:524: SerializationWarning: Unable to decode time axis into full numpy.datetime64 objects, continuing using cftime.datetime objects instead, reason: dates out of range\n",
      "  return np.asarray(array[self.key], dtype=None)\n"
     ]
    },
    {
     "data": {
      "text/html": [
       "\n",
       "<style>\n",
       "    /* Turns off some styling */\n",
       "    progress {\n",
       "        /* gets rid of default border in Firefox and Opera. */\n",
       "        border: none;\n",
       "        /* Needs to be in here for Safari polyfill so background images work as expected. */\n",
       "        background-size: auto;\n",
       "    }\n",
       "    .progress-bar-interrupted, .progress-bar-interrupted::-webkit-progress-bar {\n",
       "        background: #F44336;\n",
       "    }\n",
       "</style>\n"
      ],
      "text/plain": [
       "<IPython.core.display.HTML object>"
      ]
     },
     "metadata": {},
     "output_type": "display_data"
    },
    {
     "data": {
      "text/html": [
       "\n",
       "    <div>\n",
       "      <progress value='1' class='' max='1' style='width:300px; height:20px; vertical-align: middle;'></progress>\n",
       "      100.00% [1/1 00:00<00:00]\n",
       "    </div>\n",
       "    "
      ],
      "text/plain": [
       "<IPython.core.display.HTML object>"
      ]
     },
     "metadata": {},
     "output_type": "display_data"
    }
   ],
   "source": [
    "dset_siconc = subset_siconc.to_dataset_dict()"
   ]
  },
  {
   "cell_type": "code",
   "execution_count": 57,
   "id": "0872be1b-2701-4357-a2a8-8c577017ef7b",
   "metadata": {
    "tags": []
   },
   "outputs": [],
   "source": [
    "siconc = dset_siconc['CMIP6.CMIP.CSIRO-ARCCSS.ACCESS-CM2.1pctCO2.r1i1p1f1.SImon.siconc.gn.v20200817']"
   ]
  },
  {
   "cell_type": "code",
   "execution_count": 63,
   "id": "8be91354-3c94-4b4f-a70c-1e663bb21761",
   "metadata": {
    "tags": []
   },
   "outputs": [],
   "source": [
    "out = siconc.sel(time=slice('0955-01-01','0958-12-31'))"
   ]
  },
  {
   "cell_type": "code",
   "execution_count": 66,
   "id": "29bc29db-b187-4d24-8cca-3e51b9c63fd7",
   "metadata": {
    "tags": []
   },
   "outputs": [
    {
     "data": {
      "text/plain": [
       "<matplotlib.collections.QuadMesh at 0x14cef0db57c0>"
      ]
     },
     "execution_count": 66,
     "metadata": {},
     "output_type": "execute_result"
    },
    {
     "data": {
      "image/png": "[encoded data removed]",
      "text/plain": [
       "<Figure size 432x288 with 2 Axes>"
      ]
     },
     "metadata": {
      "needs_background": "light"
     },
     "output_type": "display_data"
    }
   ],
   "source": [
    "out.siconc[0,...].plot()"
   ]
  },
  {
   "cell_type": "code",
   "execution_count": null,
   "id": "bf11b6f6-4af1-481b-b8d8-c78f8f547a10",
   "metadata": {},
   "outputs": [],
   "source": []
  },
  {
   "cell_type": "code",
   "execution_count": 9,
   "id": "41a3de15-a659-4a0d-bc1b-b203a9b24cb7",
   "metadata": {
    "tags": []
   },
   "outputs": [],
   "source": [
    "# Which experiments are available for ACCESS-CM2?\n",
    "subset = cmip6.search(activity_id='CMIP', source_id='ACCESS-CM2', member_id='r1i1p1f1', table_id='SImon', variable_id='siconc')"
   ]
  },
  {
   "cell_type": "code",
   "execution_count": 12,
   "id": "74572f9b-57f6-4fc1-8c3c-3047cfcc7c0d",
   "metadata": {
    "tags": []
   },
   "outputs": [
    {
     "data": {
      "text/plain": [
       "dict_keys(['CMIP6.CMIP.CSIRO-ARCCSS.ACCESS-CM2.1pctCO2.r1i1p1f1.SImon.siconc.gn.v20200817', 'CMIP6.CMIP.CSIRO-ARCCSS.ACCESS-CM2.abrupt-4xCO2.r1i1p1f1.SImon.siconc.gn.v20200817', 'CMIP6.CMIP.CSIRO-ARCCSS.ACCESS-CM2.historical.r1i1p1f1.SImon.siconc.gn.v20200817', 'CMIP6.CMIP.CSIRO-ARCCSS.ACCESS-CM2.piControl.r1i1p1f1.SImon.siconc.gn.v20200817'])"
      ]
     },
     "execution_count": 12,
     "metadata": {},
     "output_type": "execute_result"
    }
   ],
   "source": [
    "subset.keys()#.experiment_id"
   ]
  },
  {
   "cell_type": "code",
   "execution_count": null,
   "id": "baad6080-800c-4e4e-88bc-14d225a1b79e",
   "metadata": {},
   "outputs": [],
   "source": []
  },
  {
   "cell_type": "code",
   "execution_count": null,
   "id": "06d4a827-b24d-47cf-a46f-ac001ba434aa",
   "metadata": {},
   "outputs": [],
   "source": []
  },
  {
   "cell_type": "code",
   "execution_count": null,
   "id": "bd81785a-3255-4b94-a3bb-6602ba31682d",
   "metadata": {},
   "outputs": [],
   "source": []
  },
  {
   "cell_type": "code",
   "execution_count": null,
   "id": "a00953f0-33fb-4680-a14d-573a3a6066d9",
   "metadata": {},
   "outputs": [],
   "source": []
  },
  {
   "cell_type": "markdown",
   "id": "b97b475d-6c68-4076-b387-ff057adffdde",
   "metadata": {},
   "source": [
    "---"
   ]
  },
  {
   "cell_type": "markdown",
   "id": "bd0feae9-5ea7-4fe4-bbee-61caec782921",
   "metadata": {},
   "source": [
    "Some old plot: Concentration maps"
   ]
  },
  {
   "cell_type": "code",
   "execution_count": 103,
   "id": "45d943fc-0032-46f5-8cb3-9b6d40c20951",
   "metadata": {},
   "outputs": [],
   "source": [
    "geolon_t = xr.open_dataset('/g/data/ik11/grids/ocean_grid_025.nc').geolon_t\n",
    "geolat_t = xr.open_dataset('/g/data/ik11/grids/ocean_grid_025.nc').geolat_t"
   ]
  },
  {
   "cell_type": "code",
   "execution_count": 105,
   "id": "97a9aad3-e9c7-466c-a10e-5faefef40099",
   "metadata": {},
   "outputs": [],
   "source": [
    "aice_CM2_025_NH_clim = aice_CM2_025_NH_clim.assign_coords({'geolon_t': geolon_t.sel(yt_ocean=slice(45,90)), 'geolat_t': geolat_t.sel(yt_ocean=slice(45,90))})\n",
    "NH_obs_clim = NH_obs_clim.assign_coords({'geolon_t': geolon_t.sel(yt_ocean=slice(-90,-45)), 'geolat_t': geolat_t.sel(yt_ocean=slice(-90,-45))})"
   ]
  },
  {
   "cell_type": "code",
   "execution_count": 87,
   "id": "59d41ce0-c531-46e2-bdee-1f4431861c06",
   "metadata": {},
   "outputs": [],
   "source": [
    "theta  = np.linspace(0, 2*np.pi, 100)\n",
    "center, radius = [0.5, 0.5], 0.455\n",
    "verts  = np.vstack([np.sin(theta), np.cos(theta)]).T\n",
    "circle = mpath.Path(verts * radius + center)"
   ]
  },
  {
   "cell_type": "code",
   "execution_count": 98,
   "id": "586cbff2-2c0d-46fc-97cf-a3d28b870f52",
   "metadata": {},
   "outputs": [
    {
     "data": {
      "text/plain": [
       "<cartopy.mpl.geocollection.GeoQuadMesh at 0x14e7de8bd790>"
      ]
     },
     "execution_count": 98,
     "metadata": {},
     "output_type": "execute_result"
    },
    {
     "data": {
      "image/png": "[encoded data removed]",
      "text/plain": [
       "<Figure size 720x720 with 2 Axes>"
      ]
     },
     "metadata": {
      "needs_background": "light"
     },
     "output_type": "display_data"
    }
   ],
   "source": [
    "fig = plt.figure(figsize=(10,10))\n",
    "\n",
    "ax = plt.subplot(2,2,3, projection=ccrs.SouthPolarStereo())\n",
    "ax.set_boundary(circle, transform=ax.transAxes)\n",
    "ax.pcolormesh(SH_obs_clim.xt_ocean, SH_obs_clim.yt_ocean, SH_obs_clim[8,...], transform=ccrs.PlateCarree(), cmap=cm.cm.ice, vmin=0, vmax=1)\n",
    "\n",
    "ax = plt.subplot(2,2,4, projection=ccrs.SouthPolarStereo())\n",
    "ax.set_boundary(circle, transform=ax.transAxes)\n",
    "ax.pcolormesh(SH_obs_clim.xt_ocean, SH_obs_clim.yt_ocean, aice_CM2_025_SH_clim[8,...]-SH_obs_clim[8,...], transform=ccrs.PlateCarree(), cmap=cm.cm.balance, vmin=-0.2, vmax=0.2)"
   ]
  }
 ],
 "metadata": {
  "kernelspec": {
   "display_name": "Python [conda env:analysis3-22.07]",
   "language": "python",
   "name": "conda-env-analysis3-22.07-py"
  },
  "language_info": {
   "codemirror_mode": {
    "name": "ipython",
    "version": 3
   },
   "file_extension": ".py",
   "mimetype": "text/x-python",
   "name": "python",
   "nbconvert_exporter": "python",
   "pygments_lexer": "ipython3",
   "version": "3.9.15"
  }
 },
 "nbformat": 4,
 "nbformat_minor": 5
}
