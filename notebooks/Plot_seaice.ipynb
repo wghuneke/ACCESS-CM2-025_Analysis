{
 "cells": [
  {
   "cell_type": "markdown",
   "id": "4c02c09e-f586-4bc5-871a-d8a09638aa6a",
   "metadata": {},
   "source": [
    "# Plotting sea ice "
   ]
  },
  {
   "cell_type": "code",
   "execution_count": 1,
   "id": "94d1e3b8-5364-4279-9ac1-330dc9964810",
   "metadata": {},
   "outputs": [],
   "source": [
    "import cosima_cookbook as cc\n",
    "from dask.distributed import Client\n",
    "\n",
    "import xarray as xr\n",
    "import matplotlib.pyplot as plt\n",
    "import cmocean as cm\n",
    "import cartopy.crs as ccrs\n",
    "import matplotlib.path as mpath\n",
    "import numpy as np\n",
    "%matplotlib inline\n",
    "\n",
    "#import glob\n",
    "\n",
    "#import xesmf\n",
    "#import os\n",
    "#import pandas as pd\n",
    "#import calendar\n",
    "#from tqdm import tqdm_notebook\n",
    "from datetime import timedelta\n",
    "\n",
    "# Stop annoying warnings coming out of xarray.\n",
    "import warnings\n",
    "warnings.filterwarnings('ignore')"
   ]
  },
  {
   "cell_type": "code",
   "execution_count": 2,
   "id": "197a3998-438f-4318-a1a5-1ff4b581e69e",
   "metadata": {},
   "outputs": [
    {
     "data": {
      "text/html": [
       "<div>\n",
       "    <div style=\"width: 24px; height: 24px; background-color: #e1e1e1; border: 3px solid #9D9D9D; border-radius: 5px; position: absolute;\"> </div>\n",
       "    <div style=\"margin-left: 48px;\">\n",
       "        <h3 style=\"margin-bottom: 0px;\">Client</h3>\n",
       "        <p style=\"color: #9D9D9D; margin-bottom: 0px;\">Client-5cc4d5df-b165-11ed-b17c-0000075ffe80</p>\n",
       "        <table style=\"width: 100%; text-align: left;\">\n",
       "\n",
       "        <tr>\n",
       "        \n",
       "            <td style=\"text-align: left;\"><strong>Connection method:</strong> Cluster object</td>\n",
       "            <td style=\"text-align: left;\"><strong>Cluster type:</strong> distributed.LocalCluster</td>\n",
       "        \n",
       "        </tr>\n",
       "\n",
       "        \n",
       "            <tr>\n",
       "                <td style=\"text-align: left;\">\n",
       "                    <strong>Dashboard: </strong> <a href=\"/proxy/8787/status\" target=\"_blank\">/proxy/8787/status</a>\n",
       "                </td>\n",
       "                <td style=\"text-align: left;\"></td>\n",
       "            </tr>\n",
       "        \n",
       "\n",
       "        </table>\n",
       "\n",
       "        \n",
       "\n",
       "        \n",
       "            <details>\n",
       "            <summary style=\"margin-bottom: 20px;\"><h3 style=\"display: inline;\">Cluster Info</h3></summary>\n",
       "            <div class=\"jp-RenderedHTMLCommon jp-RenderedHTML jp-mod-trusted jp-OutputArea-output\">\n",
       "    <div style=\"width: 24px; height: 24px; background-color: #e1e1e1; border: 3px solid #9D9D9D; border-radius: 5px; position: absolute;\">\n",
       "    </div>\n",
       "    <div style=\"margin-left: 48px;\">\n",
       "        <h3 style=\"margin-bottom: 0px; margin-top: 0px;\">LocalCluster</h3>\n",
       "        <p style=\"color: #9D9D9D; margin-bottom: 0px;\">9bdfb169</p>\n",
       "        <table style=\"width: 100%; text-align: left;\">\n",
       "            <tr>\n",
       "                <td style=\"text-align: left;\">\n",
       "                    <strong>Dashboard:</strong> <a href=\"/proxy/8787/status\" target=\"_blank\">/proxy/8787/status</a>\n",
       "                </td>\n",
       "                <td style=\"text-align: left;\">\n",
       "                    <strong>Workers:</strong> 7\n",
       "                </td>\n",
       "            </tr>\n",
       "            <tr>\n",
       "                <td style=\"text-align: left;\">\n",
       "                    <strong>Total threads:</strong> 28\n",
       "                </td>\n",
       "                <td style=\"text-align: left;\">\n",
       "                    <strong>Total memory:</strong> 125.20 GiB\n",
       "                </td>\n",
       "            </tr>\n",
       "            \n",
       "            <tr>\n",
       "    <td style=\"text-align: left;\"><strong>Status:</strong> running</td>\n",
       "    <td style=\"text-align: left;\"><strong>Using processes:</strong> True</td>\n",
       "</tr>\n",
       "\n",
       "            \n",
       "        </table>\n",
       "\n",
       "        <details>\n",
       "            <summary style=\"margin-bottom: 20px;\">\n",
       "                <h3 style=\"display: inline;\">Scheduler Info</h3>\n",
       "            </summary>\n",
       "\n",
       "            <div style=\"\">\n",
       "    <div>\n",
       "        <div style=\"width: 24px; height: 24px; background-color: #FFF7E5; border: 3px solid #FF6132; border-radius: 5px; position: absolute;\"> </div>\n",
       "        <div style=\"margin-left: 48px;\">\n",
       "            <h3 style=\"margin-bottom: 0px;\">Scheduler</h3>\n",
       "            <p style=\"color: #9D9D9D; margin-bottom: 0px;\">Scheduler-08d4a4b2-bc97-4a6c-9319-eb9835d56549</p>\n",
       "            <table style=\"width: 100%; text-align: left;\">\n",
       "                <tr>\n",
       "                    <td style=\"text-align: left;\">\n",
       "                        <strong>Comm:</strong> tcp://127.0.0.1:38309\n",
       "                    </td>\n",
       "                    <td style=\"text-align: left;\">\n",
       "                        <strong>Workers:</strong> 7\n",
       "                    </td>\n",
       "                </tr>\n",
       "                <tr>\n",
       "                    <td style=\"text-align: left;\">\n",
       "                        <strong>Dashboard:</strong> <a href=\"/proxy/8787/status\" target=\"_blank\">/proxy/8787/status</a>\n",
       "                    </td>\n",
       "                    <td style=\"text-align: left;\">\n",
       "                        <strong>Total threads:</strong> 28\n",
       "                    </td>\n",
       "                </tr>\n",
       "                <tr>\n",
       "                    <td style=\"text-align: left;\">\n",
       "                        <strong>Started:</strong> Just now\n",
       "                    </td>\n",
       "                    <td style=\"text-align: left;\">\n",
       "                        <strong>Total memory:</strong> 125.20 GiB\n",
       "                    </td>\n",
       "                </tr>\n",
       "            </table>\n",
       "        </div>\n",
       "    </div>\n",
       "\n",
       "    <details style=\"margin-left: 48px;\">\n",
       "        <summary style=\"margin-bottom: 20px;\">\n",
       "            <h3 style=\"display: inline;\">Workers</h3>\n",
       "        </summary>\n",
       "\n",
       "        \n",
       "        <div style=\"margin-bottom: 20px;\">\n",
       "            <div style=\"width: 24px; height: 24px; background-color: #DBF5FF; border: 3px solid #4CC9FF; border-radius: 5px; position: absolute;\"> </div>\n",
       "            <div style=\"margin-left: 48px;\">\n",
       "            <details>\n",
       "                <summary>\n",
       "                    <h4 style=\"margin-bottom: 0px; display: inline;\">Worker: 0</h4>\n",
       "                </summary>\n",
       "                <table style=\"width: 100%; text-align: left;\">\n",
       "                    <tr>\n",
       "                        <td style=\"text-align: left;\">\n",
       "                            <strong>Comm: </strong> tcp://127.0.0.1:41789\n",
       "                        </td>\n",
       "                        <td style=\"text-align: left;\">\n",
       "                            <strong>Total threads: </strong> 4\n",
       "                        </td>\n",
       "                    </tr>\n",
       "                    <tr>\n",
       "                        <td style=\"text-align: left;\">\n",
       "                            <strong>Dashboard: </strong> <a href=\"/proxy/45805/status\" target=\"_blank\">/proxy/45805/status</a>\n",
       "                        </td>\n",
       "                        <td style=\"text-align: left;\">\n",
       "                            <strong>Memory: </strong> 17.89 GiB\n",
       "                        </td>\n",
       "                    </tr>\n",
       "                    <tr>\n",
       "                        <td style=\"text-align: left;\">\n",
       "                            <strong>Nanny: </strong> tcp://127.0.0.1:45407\n",
       "                        </td>\n",
       "                        <td style=\"text-align: left;\"></td>\n",
       "                    </tr>\n",
       "                    <tr>\n",
       "                        <td colspan=\"2\" style=\"text-align: left;\">\n",
       "                            <strong>Local directory: </strong> /jobfs/73422782.gadi-pbs/dask-worker-space/worker-sch_p9ia\n",
       "                        </td>\n",
       "                    </tr>\n",
       "\n",
       "                    \n",
       "\n",
       "                    \n",
       "\n",
       "                </table>\n",
       "            </details>\n",
       "            </div>\n",
       "        </div>\n",
       "        \n",
       "        <div style=\"margin-bottom: 20px;\">\n",
       "            <div style=\"width: 24px; height: 24px; background-color: #DBF5FF; border: 3px solid #4CC9FF; border-radius: 5px; position: absolute;\"> </div>\n",
       "            <div style=\"margin-left: 48px;\">\n",
       "            <details>\n",
       "                <summary>\n",
       "                    <h4 style=\"margin-bottom: 0px; display: inline;\">Worker: 1</h4>\n",
       "                </summary>\n",
       "                <table style=\"width: 100%; text-align: left;\">\n",
       "                    <tr>\n",
       "                        <td style=\"text-align: left;\">\n",
       "                            <strong>Comm: </strong> tcp://127.0.0.1:37131\n",
       "                        </td>\n",
       "                        <td style=\"text-align: left;\">\n",
       "                            <strong>Total threads: </strong> 4\n",
       "                        </td>\n",
       "                    </tr>\n",
       "                    <tr>\n",
       "                        <td style=\"text-align: left;\">\n",
       "                            <strong>Dashboard: </strong> <a href=\"/proxy/41885/status\" target=\"_blank\">/proxy/41885/status</a>\n",
       "                        </td>\n",
       "                        <td style=\"text-align: left;\">\n",
       "                            <strong>Memory: </strong> 17.89 GiB\n",
       "                        </td>\n",
       "                    </tr>\n",
       "                    <tr>\n",
       "                        <td style=\"text-align: left;\">\n",
       "                            <strong>Nanny: </strong> tcp://127.0.0.1:33545\n",
       "                        </td>\n",
       "                        <td style=\"text-align: left;\"></td>\n",
       "                    </tr>\n",
       "                    <tr>\n",
       "                        <td colspan=\"2\" style=\"text-align: left;\">\n",
       "                            <strong>Local directory: </strong> /jobfs/73422782.gadi-pbs/dask-worker-space/worker-e13xyai8\n",
       "                        </td>\n",
       "                    </tr>\n",
       "\n",
       "                    \n",
       "\n",
       "                    \n",
       "\n",
       "                </table>\n",
       "            </details>\n",
       "            </div>\n",
       "        </div>\n",
       "        \n",
       "        <div style=\"margin-bottom: 20px;\">\n",
       "            <div style=\"width: 24px; height: 24px; background-color: #DBF5FF; border: 3px solid #4CC9FF; border-radius: 5px; position: absolute;\"> </div>\n",
       "            <div style=\"margin-left: 48px;\">\n",
       "            <details>\n",
       "                <summary>\n",
       "                    <h4 style=\"margin-bottom: 0px; display: inline;\">Worker: 2</h4>\n",
       "                </summary>\n",
       "                <table style=\"width: 100%; text-align: left;\">\n",
       "                    <tr>\n",
       "                        <td style=\"text-align: left;\">\n",
       "                            <strong>Comm: </strong> tcp://127.0.0.1:46279\n",
       "                        </td>\n",
       "                        <td style=\"text-align: left;\">\n",
       "                            <strong>Total threads: </strong> 4\n",
       "                        </td>\n",
       "                    </tr>\n",
       "                    <tr>\n",
       "                        <td style=\"text-align: left;\">\n",
       "                            <strong>Dashboard: </strong> <a href=\"/proxy/44355/status\" target=\"_blank\">/proxy/44355/status</a>\n",
       "                        </td>\n",
       "                        <td style=\"text-align: left;\">\n",
       "                            <strong>Memory: </strong> 17.89 GiB\n",
       "                        </td>\n",
       "                    </tr>\n",
       "                    <tr>\n",
       "                        <td style=\"text-align: left;\">\n",
       "                            <strong>Nanny: </strong> tcp://127.0.0.1:40433\n",
       "                        </td>\n",
       "                        <td style=\"text-align: left;\"></td>\n",
       "                    </tr>\n",
       "                    <tr>\n",
       "                        <td colspan=\"2\" style=\"text-align: left;\">\n",
       "                            <strong>Local directory: </strong> /jobfs/73422782.gadi-pbs/dask-worker-space/worker-x8k5y_d1\n",
       "                        </td>\n",
       "                    </tr>\n",
       "\n",
       "                    \n",
       "\n",
       "                    \n",
       "\n",
       "                </table>\n",
       "            </details>\n",
       "            </div>\n",
       "        </div>\n",
       "        \n",
       "        <div style=\"margin-bottom: 20px;\">\n",
       "            <div style=\"width: 24px; height: 24px; background-color: #DBF5FF; border: 3px solid #4CC9FF; border-radius: 5px; position: absolute;\"> </div>\n",
       "            <div style=\"margin-left: 48px;\">\n",
       "            <details>\n",
       "                <summary>\n",
       "                    <h4 style=\"margin-bottom: 0px; display: inline;\">Worker: 3</h4>\n",
       "                </summary>\n",
       "                <table style=\"width: 100%; text-align: left;\">\n",
       "                    <tr>\n",
       "                        <td style=\"text-align: left;\">\n",
       "                            <strong>Comm: </strong> tcp://127.0.0.1:45031\n",
       "                        </td>\n",
       "                        <td style=\"text-align: left;\">\n",
       "                            <strong>Total threads: </strong> 4\n",
       "                        </td>\n",
       "                    </tr>\n",
       "                    <tr>\n",
       "                        <td style=\"text-align: left;\">\n",
       "                            <strong>Dashboard: </strong> <a href=\"/proxy/36001/status\" target=\"_blank\">/proxy/36001/status</a>\n",
       "                        </td>\n",
       "                        <td style=\"text-align: left;\">\n",
       "                            <strong>Memory: </strong> 17.89 GiB\n",
       "                        </td>\n",
       "                    </tr>\n",
       "                    <tr>\n",
       "                        <td style=\"text-align: left;\">\n",
       "                            <strong>Nanny: </strong> tcp://127.0.0.1:38027\n",
       "                        </td>\n",
       "                        <td style=\"text-align: left;\"></td>\n",
       "                    </tr>\n",
       "                    <tr>\n",
       "                        <td colspan=\"2\" style=\"text-align: left;\">\n",
       "                            <strong>Local directory: </strong> /jobfs/73422782.gadi-pbs/dask-worker-space/worker-1y_o_li9\n",
       "                        </td>\n",
       "                    </tr>\n",
       "\n",
       "                    \n",
       "\n",
       "                    \n",
       "\n",
       "                </table>\n",
       "            </details>\n",
       "            </div>\n",
       "        </div>\n",
       "        \n",
       "        <div style=\"margin-bottom: 20px;\">\n",
       "            <div style=\"width: 24px; height: 24px; background-color: #DBF5FF; border: 3px solid #4CC9FF; border-radius: 5px; position: absolute;\"> </div>\n",
       "            <div style=\"margin-left: 48px;\">\n",
       "            <details>\n",
       "                <summary>\n",
       "                    <h4 style=\"margin-bottom: 0px; display: inline;\">Worker: 4</h4>\n",
       "                </summary>\n",
       "                <table style=\"width: 100%; text-align: left;\">\n",
       "                    <tr>\n",
       "                        <td style=\"text-align: left;\">\n",
       "                            <strong>Comm: </strong> tcp://127.0.0.1:36231\n",
       "                        </td>\n",
       "                        <td style=\"text-align: left;\">\n",
       "                            <strong>Total threads: </strong> 4\n",
       "                        </td>\n",
       "                    </tr>\n",
       "                    <tr>\n",
       "                        <td style=\"text-align: left;\">\n",
       "                            <strong>Dashboard: </strong> <a href=\"/proxy/34945/status\" target=\"_blank\">/proxy/34945/status</a>\n",
       "                        </td>\n",
       "                        <td style=\"text-align: left;\">\n",
       "                            <strong>Memory: </strong> 17.89 GiB\n",
       "                        </td>\n",
       "                    </tr>\n",
       "                    <tr>\n",
       "                        <td style=\"text-align: left;\">\n",
       "                            <strong>Nanny: </strong> tcp://127.0.0.1:39817\n",
       "                        </td>\n",
       "                        <td style=\"text-align: left;\"></td>\n",
       "                    </tr>\n",
       "                    <tr>\n",
       "                        <td colspan=\"2\" style=\"text-align: left;\">\n",
       "                            <strong>Local directory: </strong> /jobfs/73422782.gadi-pbs/dask-worker-space/worker-k3x19yp2\n",
       "                        </td>\n",
       "                    </tr>\n",
       "\n",
       "                    \n",
       "\n",
       "                    \n",
       "\n",
       "                </table>\n",
       "            </details>\n",
       "            </div>\n",
       "        </div>\n",
       "        \n",
       "        <div style=\"margin-bottom: 20px;\">\n",
       "            <div style=\"width: 24px; height: 24px; background-color: #DBF5FF; border: 3px solid #4CC9FF; border-radius: 5px; position: absolute;\"> </div>\n",
       "            <div style=\"margin-left: 48px;\">\n",
       "            <details>\n",
       "                <summary>\n",
       "                    <h4 style=\"margin-bottom: 0px; display: inline;\">Worker: 5</h4>\n",
       "                </summary>\n",
       "                <table style=\"width: 100%; text-align: left;\">\n",
       "                    <tr>\n",
       "                        <td style=\"text-align: left;\">\n",
       "                            <strong>Comm: </strong> tcp://127.0.0.1:33427\n",
       "                        </td>\n",
       "                        <td style=\"text-align: left;\">\n",
       "                            <strong>Total threads: </strong> 4\n",
       "                        </td>\n",
       "                    </tr>\n",
       "                    <tr>\n",
       "                        <td style=\"text-align: left;\">\n",
       "                            <strong>Dashboard: </strong> <a href=\"/proxy/44849/status\" target=\"_blank\">/proxy/44849/status</a>\n",
       "                        </td>\n",
       "                        <td style=\"text-align: left;\">\n",
       "                            <strong>Memory: </strong> 17.89 GiB\n",
       "                        </td>\n",
       "                    </tr>\n",
       "                    <tr>\n",
       "                        <td style=\"text-align: left;\">\n",
       "                            <strong>Nanny: </strong> tcp://127.0.0.1:37561\n",
       "                        </td>\n",
       "                        <td style=\"text-align: left;\"></td>\n",
       "                    </tr>\n",
       "                    <tr>\n",
       "                        <td colspan=\"2\" style=\"text-align: left;\">\n",
       "                            <strong>Local directory: </strong> /jobfs/73422782.gadi-pbs/dask-worker-space/worker-3u1abv32\n",
       "                        </td>\n",
       "                    </tr>\n",
       "\n",
       "                    \n",
       "\n",
       "                    \n",
       "\n",
       "                </table>\n",
       "            </details>\n",
       "            </div>\n",
       "        </div>\n",
       "        \n",
       "        <div style=\"margin-bottom: 20px;\">\n",
       "            <div style=\"width: 24px; height: 24px; background-color: #DBF5FF; border: 3px solid #4CC9FF; border-radius: 5px; position: absolute;\"> </div>\n",
       "            <div style=\"margin-left: 48px;\">\n",
       "            <details>\n",
       "                <summary>\n",
       "                    <h4 style=\"margin-bottom: 0px; display: inline;\">Worker: 6</h4>\n",
       "                </summary>\n",
       "                <table style=\"width: 100%; text-align: left;\">\n",
       "                    <tr>\n",
       "                        <td style=\"text-align: left;\">\n",
       "                            <strong>Comm: </strong> tcp://127.0.0.1:34491\n",
       "                        </td>\n",
       "                        <td style=\"text-align: left;\">\n",
       "                            <strong>Total threads: </strong> 4\n",
       "                        </td>\n",
       "                    </tr>\n",
       "                    <tr>\n",
       "                        <td style=\"text-align: left;\">\n",
       "                            <strong>Dashboard: </strong> <a href=\"/proxy/40623/status\" target=\"_blank\">/proxy/40623/status</a>\n",
       "                        </td>\n",
       "                        <td style=\"text-align: left;\">\n",
       "                            <strong>Memory: </strong> 17.89 GiB\n",
       "                        </td>\n",
       "                    </tr>\n",
       "                    <tr>\n",
       "                        <td style=\"text-align: left;\">\n",
       "                            <strong>Nanny: </strong> tcp://127.0.0.1:40109\n",
       "                        </td>\n",
       "                        <td style=\"text-align: left;\"></td>\n",
       "                    </tr>\n",
       "                    <tr>\n",
       "                        <td colspan=\"2\" style=\"text-align: left;\">\n",
       "                            <strong>Local directory: </strong> /jobfs/73422782.gadi-pbs/dask-worker-space/worker-a3umzm9_\n",
       "                        </td>\n",
       "                    </tr>\n",
       "\n",
       "                    \n",
       "\n",
       "                    \n",
       "\n",
       "                </table>\n",
       "            </details>\n",
       "            </div>\n",
       "        </div>\n",
       "        \n",
       "\n",
       "    </details>\n",
       "</div>\n",
       "\n",
       "        </details>\n",
       "    </div>\n",
       "</div>\n",
       "            </details>\n",
       "        \n",
       "\n",
       "    </div>\n",
       "</div>"
      ],
      "text/plain": [
       "<Client: 'tcp://127.0.0.1:38309' processes=7 threads=28, memory=125.20 GiB>"
      ]
     },
     "execution_count": 2,
     "metadata": {},
     "output_type": "execute_result"
    }
   ],
   "source": [
    "client = Client()\n",
    "client"
   ]
  },
  {
   "cell_type": "code",
   "execution_count": 3,
   "id": "07a8d58a-1aa0-4c07-8a00-0804fd7acd7f",
   "metadata": {},
   "outputs": [],
   "source": [
    "session_CM2  = cc.database.create_session('/g/data/p73/archive/non-CMIP/ACCESS-CM2/CM2.db')\n",
    "expt_CM2_025 = 'cj877'\n",
    "expt_CM2_1   = 'bz687'"
   ]
  },
  {
   "cell_type": "code",
   "execution_count": 4,
   "id": "746a6f9d-9a98-44f8-afb4-bf6156f3d40a",
   "metadata": {},
   "outputs": [],
   "source": [
    "# OM2 database\n",
    "session_OM2  = cc.database.create_session('/g/data/ik11/databases/cosima_master.db')\n",
    "expt_OM2_025 = '025deg_jra55_ryf9091_gadi'\n",
    "expt_OM2_1   = '1deg_jra55_ryf9091_gadi'"
   ]
  },
  {
   "cell_type": "markdown",
   "id": "ea84784d-edd7-4ea1-b530-c34d549e323f",
   "metadata": {},
   "source": [
    "If you get a 'read-only database' warning, it is because the database has not finished building. "
   ]
  },
  {
   "cell_type": "code",
   "execution_count": 5,
   "id": "66c9333e-521a-4381-b600-0fa0a00ed1d1",
   "metadata": {},
   "outputs": [],
   "source": [
    "path_to_data = '/g/data/x77/wgh581/Post_Process/ACCESS_CM2_025/'\n",
    "fig_path     = '/g/data/x77/wgh581/Figures/Figures_ACCESS_CM2/'"
   ]
  },
  {
   "cell_type": "code",
   "execution_count": 40,
   "id": "ae033c05-bcbd-4894-8b0a-ceb20f757a77",
   "metadata": {},
   "outputs": [],
   "source": [
    "# Plotting info\n",
    "ft_size = 16\n",
    "plt.rcParams.update({'font.size': ft_size})\n",
    "month_label = ['J','F','M','A','M','J','J','A','S','O','N','D']"
   ]
  },
  {
   "cell_type": "markdown",
   "id": "d732e094-ad77-4cde-8eee-1c1c7c393826",
   "metadata": {},
   "source": [
    "### Grid information"
   ]
  },
  {
   "cell_type": "code",
   "execution_count": 16,
   "id": "19eac7fe-3565-41bd-b4e5-ba1a001bbf02",
   "metadata": {
    "tags": []
   },
   "outputs": [],
   "source": [
    "area_t025 = cc.querying.getvar(expt_OM2_025, 'area_t', session_OM2, n=1)\n",
    "area_t1   = cc.querying.getvar(expt_OM2_1, 'area_t', session_OM2, n=1)"
   ]
  },
  {
   "cell_type": "code",
   "execution_count": 17,
   "id": "31b2453d-0022-46bd-ad57-089601d3e41a",
   "metadata": {
    "tags": []
   },
   "outputs": [],
   "source": [
    "geolon_t025 = xr.open_dataset('/g/data/ik11/grids/ocean_grid_025.nc').geolon_t\n",
    "geolat_t025 = xr.open_dataset('/g/data/ik11/grids/ocean_grid_025.nc').geolat_t"
   ]
  },
  {
   "cell_type": "code",
   "execution_count": 18,
   "id": "d6c04ea2-8913-4b01-ad74-a541a4b065e5",
   "metadata": {
    "tags": []
   },
   "outputs": [],
   "source": [
    "geolon_t1 = xr.open_dataset('/g/data/ik11/grids/ocean_grid_10.nc').geolon_t\n",
    "geolat_t1 = xr.open_dataset('/g/data/ik11/grids/ocean_grid_10.nc').geolat_t"
   ]
  },
  {
   "cell_type": "markdown",
   "id": "920f9601-2311-4b4f-b972-43ad07578310",
   "metadata": {},
   "source": [
    "### Observations\n",
    "\n",
    "Sea ice concentration is previously calculated in `Calc_NSIDC_sic_onto_OM2_grid.ipynb`."
   ]
  },
  {
   "cell_type": "code",
   "execution_count": 24,
   "id": "b912f62b-912c-4785-8f98-d9b2fe181852",
   "metadata": {},
   "outputs": [],
   "source": [
    "NH_sic_obs = xr.open_dataarray('/g/data/x77/wgh581/Post_Process/Observations/' + 'NSIDC_sic_1979_2019_monthly_NH_grid_OM2_025.nc')\n",
    "SH_sic_obs = xr.open_dataarray('/g/data/x77/wgh581/Post_Process/Observations/' + 'NSIDC_sic_1979_2019_monthly_SH_grid_OM2_025.nc')"
   ]
  },
  {
   "cell_type": "markdown",
   "id": "42d6889e-4155-4878-9d90-2efa8c6747c0",
   "metadata": {},
   "source": [
    "Sea ice concentration in peak season"
   ]
  },
  {
   "cell_type": "code",
   "execution_count": 25,
   "id": "d7bc5d8f-cc52-4be2-9d95-d184cadc9930",
   "metadata": {
    "tags": []
   },
   "outputs": [],
   "source": [
    "# NH: March\n",
    "NH_sic_obs_Mar = NH_sic_obs[({\"time\": NH_sic_obs.time.dt.month == 3})]\n",
    "# SH: Sep\n",
    "SH_sic_obs_Sep = SH_sic_obs[({\"time\": SH_sic_obs.time.dt.month == 9})]"
   ]
  },
  {
   "cell_type": "markdown",
   "id": "c37f8bc9-026f-4299-a694-3fe585422ba0",
   "metadata": {},
   "source": [
    "Monthly sic climatology all years"
   ]
  },
  {
   "cell_type": "code",
   "execution_count": 26,
   "id": "010aff2d-4ecc-4102-b084-d58a3feccf64",
   "metadata": {},
   "outputs": [],
   "source": [
    "NH_sic_obs_clim = NH_sic_obs.groupby('time.month').mean('time',skipna=True).sel(yt_ocean=slice(45, 90))\n",
    "SH_sic_obs_clim = SH_sic_obs.groupby('time.month').mean('time',skipna=True).sel(yt_ocean=slice(-90, -45)) "
   ]
  },
  {
   "cell_type": "markdown",
   "id": "0c920ef6-d0d4-4303-a81b-8fd4b5dc834d",
   "metadata": {},
   "source": [
    "Monthly climatology of sea ice area, in km2"
   ]
  },
  {
   "cell_type": "code",
   "execution_count": 35,
   "id": "a6c9f911-5620-4f5c-a212-e676481e84fa",
   "metadata": {
    "tags": []
   },
   "outputs": [],
   "source": [
    "NH_sia_obs_clim = (NH_sic_obs_clim * area_t025.sel(yt_ocean=slice(45, 90))).sum('xt_ocean').sum('yt_ocean') * 1e-6\n",
    "SH_sia_obs_clim = (SH_sic_obs_clim * area_t025.sel(yt_ocean=slice(-90, -45))).sum('xt_ocean').sum('yt_ocean') * 1e-6"
   ]
  },
  {
   "cell_type": "markdown",
   "id": "ec36db10-de92-4b70-958e-aa5840253e63",
   "metadata": {},
   "source": [
    "Plot"
   ]
  },
  {
   "cell_type": "code",
   "execution_count": 45,
   "id": "3ce8824c-c0f3-4053-aa69-2e415526b038",
   "metadata": {
    "tags": []
   },
   "outputs": [
    {
     "data": {
      "image/png": "[encoded data removed]",
      "text/plain": [
       "<Figure size 1000x300 with 1 Axes>"
      ]
     },
     "metadata": {},
     "output_type": "display_data"
    }
   ],
   "source": [
    "fig = plt.figure(figsize=(10,3))\n",
    "\n",
    "(NH_sia_obs_clim*1e-6).plot(label='NSDIC, NH')\n",
    "(SH_sia_obs_clim*1e-6).plot(label='NSDIC, SH')\n",
    "plt.legend()\n",
    "plt.title('Sea ice extent, observations', loc='left')\n",
    "plt.xlabel('Month')\n",
    "plt.ylabel('10$^{6}$ km$^{2}$')\n",
    "plt.xticks(ticks=np.arange(1,13,1), labels=month_label);"
   ]
  },
  {
   "cell_type": "code",
   "execution_count": null,
   "id": "9206a394-556d-4b94-a320-485a29be8270",
   "metadata": {},
   "outputs": [],
   "source": []
  },
  {
   "cell_type": "code",
   "execution_count": null,
   "id": "20cbec51-1414-4178-a1f4-c56bcc0666cd",
   "metadata": {},
   "outputs": [],
   "source": []
  },
  {
   "cell_type": "code",
   "execution_count": null,
   "id": "eede6668-e14f-47e6-8e3d-70879bcefaab",
   "metadata": {},
   "outputs": [],
   "source": []
  },
  {
   "cell_type": "markdown",
   "id": "7b50caa4-2f53-4079-98a3-d927e0f9ca1c",
   "metadata": {},
   "source": [
    "### Model sea ice"
   ]
  },
  {
   "cell_type": "markdown",
   "id": "7ddeb10d-2e6f-4526-a91f-b8f0bbb1e1e8",
   "metadata": {},
   "source": [
    "CM2-025"
   ]
  },
  {
   "cell_type": "code",
   "execution_count": null,
   "id": "ff7721b4-8ce8-4b25-ad47-39076795c28b",
   "metadata": {},
   "outputs": [],
   "source": [
    "aice_CM2_025_NH_clim = xr.open_dataarray(path_to_data + 'aice_CM2_025_NH_clim_400_499.nc')\n",
    "aice_CM2_025_SH_clim = xr.open_dataarray(path_to_data + 'aice_CM2_025_SH_clim_400_499.nc')"
   ]
  },
  {
   "cell_type": "code",
   "execution_count": null,
   "id": "486ccd2a-625b-4e62-a13e-63de89923cec",
   "metadata": {},
   "outputs": [],
   "source": [
    "area_t = cc.querying.getvar(expt_CM2_025, 'area_t', session_CM2, n=1)"
   ]
  },
  {
   "cell_type": "markdown",
   "id": "87cc0eb1-71d2-4ece-8fb1-89f5da19f5e6",
   "metadata": {},
   "source": [
    "---"
   ]
  },
  {
   "cell_type": "code",
   "execution_count": 13,
   "id": "681fdf95-d1a4-49a3-8626-c264dcfb09e8",
   "metadata": {},
   "outputs": [
    {
     "name": "stdout",
     "output_type": "stream",
     "text": [
      "CPU times: user 4min 44s, sys: 39.1 s, total: 5min 23s\n",
      "Wall time: 15min 10s\n"
     ]
    }
   ],
   "source": [
    "%%time\n",
    "aice_CM2_025 = cc.querying.getvar(expt_CM2_025, 'aice', session_CM2, frequency='1 monthly', start_time='0400-01-01', end_time='0500-01-31')\n",
    "aice_CM2_025 = aice_CM2_025.sel(time=slice('0400-01-01', '0500-01-31'))\n",
    "aice_CM2_025 = aice_CM2_025.time.to_pandas() - timedelta(hours = 12) # shift time to make sure it is in the correct month\n",
    "aice_CM2_025 = aice_CM2_025.sel(time=slice('0400-01-01', '0499-12-31'))\n",
    "aice_CM2_025.coords['ni'] = area_t['xt_ocean'].values\n",
    "aice_CM2_025.coords['nj'] = area_t['yt_ocean'].values\n",
    "aice_CM2_025 = aice_CM2_025.rename(({'ni':'xt_ocean', 'nj':'yt_ocean'}))"
   ]
  },
  {
   "cell_type": "code",
   "execution_count": 46,
   "id": "7bf020c1-31e0-4e9c-9862-569ee1fb6942",
   "metadata": {},
   "outputs": [],
   "source": [
    "aice_CM2_025_NH = aice_CM2_025.sel(yt_ocean=slice(45, 90))\n",
    "aice_CM2_025_SH = aice_CM2_025.sel(yt_ocean=slice(-90, -45))  "
   ]
  },
  {
   "cell_type": "code",
   "execution_count": 47,
   "id": "12628396-b75d-4622-bd56-fd5d947dda6c",
   "metadata": {},
   "outputs": [],
   "source": [
    "aice_CM2_025_SH_clim = aice_CM2_025_SH.groupby('time.month').mean('time', skipna=True)\n",
    "aice_CM2_025_NH_clim = aice_CM2_025_NH.groupby('time.month').mean('time', skipna=True)"
   ]
  },
  {
   "cell_type": "code",
   "execution_count": null,
   "id": "8f87272f-1386-4ae0-92ee-7dd79bb6be28",
   "metadata": {},
   "outputs": [],
   "source": [
    "aice_CM2_025_SH_clim = aice_CM2_025_SH_clim.load()"
   ]
  },
  {
   "cell_type": "code",
   "execution_count": 52,
   "id": "35c707ef-c287-4d35-a795-d026b3317bed",
   "metadata": {},
   "outputs": [],
   "source": [
    "aice_CM2_025_NH_clim = aice_CM2_025_NH_clim.load()"
   ]
  },
  {
   "cell_type": "code",
   "execution_count": 54,
   "id": "07f0308f-80f8-4b1c-9d35-782b2be08593",
   "metadata": {},
   "outputs": [
    {
     "data": {
      "text/plain": [
       "<matplotlib.collections.QuadMesh at 0x14e7f36272b0>"
      ]
     },
     "execution_count": 54,
     "metadata": {},
     "output_type": "execute_result"
    },
    {
     "data": {
      "image/png": "[encoded data removed]",
      "text/plain": [
       "<Figure size 432x288 with 2 Axes>"
      ]
     },
     "metadata": {
      "needs_background": "light"
     },
     "output_type": "display_data"
    }
   ],
   "source": [
    "aice_CM2_025_NH_clim.mean('month').plot()"
   ]
  },
  {
   "cell_type": "code",
   "execution_count": 55,
   "id": "4a2ecbea-f7f2-439f-ac45-268a58ab1fd9",
   "metadata": {},
   "outputs": [],
   "source": [
    "aice_CM2_025_NH_clim.to_netcdf(path_to_data + 'aice_CM2_025_NH_clim_400_499.nc')\n",
    "aice_CM2_025_SH_clim.to_netcdf(path_to_data + 'aice_CM2_025_SH_clim_400_499.nc')"
   ]
  },
  {
   "cell_type": "markdown",
   "id": "2691074b-2e73-4cfb-8332-43ce96386b6b",
   "metadata": {},
   "source": [
    "---"
   ]
  },
  {
   "cell_type": "markdown",
   "id": "de2996a9-bb58-4f38-ac51-280629ab08e4",
   "metadata": {},
   "source": [
    "OM2-025 (10 yr for now)"
   ]
  },
  {
   "cell_type": "code",
   "execution_count": 116,
   "id": "7526d07e-9fc3-46cf-88da-7ea8d865ae19",
   "metadata": {},
   "outputs": [
    {
     "name": "stdout",
     "output_type": "stream",
     "text": [
      "CPU times: user 24.4 s, sys: 2.86 s, total: 27.3 s\n",
      "Wall time: 1min 16s\n"
     ]
    }
   ],
   "source": [
    "%%time\n",
    "aice_OM2_025 = cc.querying.getvar(expt_OM2_025, 'aice_m', session_OM2, frequency='1 monthly', start_time='2389-02-01', end_time='2399-01-31')"
   ]
  },
  {
   "cell_type": "code",
   "execution_count": 117,
   "id": "28dbba97-834e-4119-be89-bb5bb3a7cd0a",
   "metadata": {},
   "outputs": [
    {
     "ename": "AttributeError",
     "evalue": "'Series' object has no attribute 'sel'",
     "output_type": "error",
     "traceback": [
      "\u001b[0;31m---------------------------------------------------------------------------\u001b[0m",
      "\u001b[0;31mAttributeError\u001b[0m                            Traceback (most recent call last)",
      "\u001b[0;32m/jobfs/64681711.gadi-pbs/ipykernel_1000365/1194290491.py\u001b[0m in \u001b[0;36m<cell line: 3>\u001b[0;34m()\u001b[0m\n\u001b[1;32m      1\u001b[0m \u001b[0maice_OM2_025\u001b[0m \u001b[0;34m=\u001b[0m \u001b[0maice_OM2_025\u001b[0m\u001b[0;34m.\u001b[0m\u001b[0msel\u001b[0m\u001b[0;34m(\u001b[0m\u001b[0mtime\u001b[0m\u001b[0;34m=\u001b[0m\u001b[0mslice\u001b[0m\u001b[0;34m(\u001b[0m\u001b[0;34m'2389-02-01'\u001b[0m\u001b[0;34m,\u001b[0m \u001b[0;34m'2399-01-31'\u001b[0m\u001b[0;34m)\u001b[0m\u001b[0;34m)\u001b[0m\u001b[0;34m\u001b[0m\u001b[0;34m\u001b[0m\u001b[0m\n\u001b[1;32m      2\u001b[0m \u001b[0maice_OM2_025\u001b[0m \u001b[0;34m=\u001b[0m \u001b[0maice_OM2_025\u001b[0m\u001b[0;34m.\u001b[0m\u001b[0mtime\u001b[0m\u001b[0;34m.\u001b[0m\u001b[0mto_pandas\u001b[0m\u001b[0;34m(\u001b[0m\u001b[0;34m)\u001b[0m \u001b[0;34m-\u001b[0m \u001b[0mtimedelta\u001b[0m\u001b[0;34m(\u001b[0m\u001b[0mhours\u001b[0m \u001b[0;34m=\u001b[0m \u001b[0;36m12\u001b[0m\u001b[0;34m)\u001b[0m \u001b[0;31m# shift time to make sure it is in the correct month\u001b[0m\u001b[0;34m\u001b[0m\u001b[0;34m\u001b[0m\u001b[0m\n\u001b[0;32m----> 3\u001b[0;31m \u001b[0maice_OM2_025\u001b[0m \u001b[0;34m=\u001b[0m \u001b[0maice_OM2_025\u001b[0m\u001b[0;34m.\u001b[0m\u001b[0msel\u001b[0m\u001b[0;34m(\u001b[0m\u001b[0mtime\u001b[0m\u001b[0;34m=\u001b[0m\u001b[0mslice\u001b[0m\u001b[0;34m(\u001b[0m\u001b[0;34m'2389-01-01'\u001b[0m\u001b[0;34m,\u001b[0m \u001b[0;34m'2398-12-31'\u001b[0m\u001b[0;34m)\u001b[0m\u001b[0;34m)\u001b[0m\u001b[0;34m\u001b[0m\u001b[0;34m\u001b[0m\u001b[0m\n\u001b[0m",
      "\u001b[0;32m/g/data/hh5/public/apps/miniconda3/envs/analysis3-22.04/lib/python3.9/site-packages/pandas/core/generic.py\u001b[0m in \u001b[0;36m__getattr__\u001b[0;34m(self, name)\u001b[0m\n\u001b[1;32m   5485\u001b[0m         ):\n\u001b[1;32m   5486\u001b[0m             \u001b[0;32mreturn\u001b[0m \u001b[0mself\u001b[0m\u001b[0;34m[\u001b[0m\u001b[0mname\u001b[0m\u001b[0;34m]\u001b[0m\u001b[0;34m\u001b[0m\u001b[0;34m\u001b[0m\u001b[0m\n\u001b[0;32m-> 5487\u001b[0;31m         \u001b[0;32mreturn\u001b[0m \u001b[0mobject\u001b[0m\u001b[0;34m.\u001b[0m\u001b[0m__getattribute__\u001b[0m\u001b[0;34m(\u001b[0m\u001b[0mself\u001b[0m\u001b[0;34m,\u001b[0m \u001b[0mname\u001b[0m\u001b[0;34m)\u001b[0m\u001b[0;34m\u001b[0m\u001b[0;34m\u001b[0m\u001b[0m\n\u001b[0m\u001b[1;32m   5488\u001b[0m \u001b[0;34m\u001b[0m\u001b[0m\n\u001b[1;32m   5489\u001b[0m     \u001b[0;32mdef\u001b[0m \u001b[0m__setattr__\u001b[0m\u001b[0;34m(\u001b[0m\u001b[0mself\u001b[0m\u001b[0;34m,\u001b[0m \u001b[0mname\u001b[0m\u001b[0;34m:\u001b[0m \u001b[0mstr\u001b[0m\u001b[0;34m,\u001b[0m \u001b[0mvalue\u001b[0m\u001b[0;34m)\u001b[0m \u001b[0;34m->\u001b[0m \u001b[0;32mNone\u001b[0m\u001b[0;34m:\u001b[0m\u001b[0;34m\u001b[0m\u001b[0;34m\u001b[0m\u001b[0m\n",
      "\u001b[0;31mAttributeError\u001b[0m: 'Series' object has no attribute 'sel'"
     ]
    }
   ],
   "source": [
    "aice_OM2_025 = aice_OM2_025.sel(time=slice('2389-02-01', '2399-01-31'))\n",
    "aice_OM2_025 = aice_OM2_025.time.to_pandas() - timedelta(hours = 12) # shift time to make sure it is in the correct month\n",
    "aice_OM2_025 = aice_OM2_025.sel(time=slice('2389-01-01', '2398-12-31'))"
   ]
  },
  {
   "cell_type": "code",
   "execution_count": 111,
   "id": "2088aec0-4a8f-4f85-948b-45c5f6444316",
   "metadata": {},
   "outputs": [],
   "source": [
    "aice_OM2_025.coords['ni'] = area_t['xt_ocean'].values\n",
    "aice_OM2_025.coords['nj'] = area_t['yt_ocean'].values\n",
    "aice_OM2_025 = aice_OM2_025.rename(({'ni':'xt_ocean', 'nj':'yt_ocean'}))"
   ]
  },
  {
   "cell_type": "code",
   "execution_count": null,
   "id": "826b5694-6646-4cdb-a39d-41cd98976685",
   "metadata": {},
   "outputs": [],
   "source": []
  },
  {
   "cell_type": "code",
   "execution_count": null,
   "id": "55f1fd20-139f-4d3a-b026-12d45ad523b5",
   "metadata": {},
   "outputs": [],
   "source": []
  },
  {
   "cell_type": "code",
   "execution_count": null,
   "id": "326f92f6-6d74-4245-8447-777d05005856",
   "metadata": {},
   "outputs": [],
   "source": []
  },
  {
   "cell_type": "code",
   "execution_count": null,
   "id": "30f68848-3d11-440f-9cce-c1145f16819e",
   "metadata": {},
   "outputs": [],
   "source": []
  },
  {
   "cell_type": "code",
   "execution_count": null,
   "id": "591013c5-5856-49ab-9875-d255275e8337",
   "metadata": {},
   "outputs": [],
   "source": []
  },
  {
   "cell_type": "markdown",
   "id": "39b80b41-9db6-4006-8d3e-06e25c6c5c28",
   "metadata": {},
   "source": [
    "Sea ice area"
   ]
  },
  {
   "cell_type": "code",
   "execution_count": 72,
   "id": "bded9828-4366-4807-8feb-3f73a8676828",
   "metadata": {},
   "outputs": [],
   "source": [
    "NH_obs_clim_area = (NH_obs_clim * area_t.sel(yt_ocean=slice(45, 90))).sum('xt_ocean').sum('yt_ocean')\n",
    "SH_obs_clim_area = (SH_obs_clim * area_t.sel(yt_ocean=slice(45, 90))).sum('xt_ocean').sum('yt_ocean')"
   ]
  },
  {
   "cell_type": "code",
   "execution_count": null,
   "id": "91c5c8e8-7914-4e4e-adb8-4f06597100cb",
   "metadata": {},
   "outputs": [],
   "source": []
  },
  {
   "cell_type": "code",
   "execution_count": 58,
   "id": "9215d709-ea31-4672-949b-df830fd8d974",
   "metadata": {},
   "outputs": [],
   "source": [
    "area_CM2_025_NH_clim = (aice_CM2_025_NH_clim * area_t.sel(yt_ocean=slice(45, 90))).sum('xt_ocean').sum('yt_ocean')\n"
   ]
  },
  {
   "cell_type": "code",
   "execution_count": 73,
   "id": "20cf662d-db86-4b56-a0de-e7c7c1a2789d",
   "metadata": {},
   "outputs": [
    {
     "data": {
      "text/plain": [
       "[<matplotlib.lines.Line2D at 0x14e7f2e2cca0>]"
      ]
     },
     "execution_count": 73,
     "metadata": {},
     "output_type": "execute_result"
    },
    {
     "data": {
      "image/png": "[encoded data removed]",
      "text/plain": [
       "<Figure size 432x288 with 1 Axes>"
      ]
     },
     "metadata": {
      "needs_background": "light"
     },
     "output_type": "display_data"
    }
   ],
   "source": [
    "(area_CM2_025_NH_clim*1e-6).plot()\n",
    "(NH_obs_clim_area*1e-6).plot()"
   ]
  },
  {
   "cell_type": "code",
   "execution_count": null,
   "id": "f70808cb-aa69-4592-91d6-5e302546723e",
   "metadata": {},
   "outputs": [],
   "source": []
  },
  {
   "cell_type": "markdown",
   "id": "bd0feae9-5ea7-4fe4-bbee-61caec782921",
   "metadata": {},
   "source": [
    "Concentration maps"
   ]
  },
  {
   "cell_type": "code",
   "execution_count": 103,
   "id": "45d943fc-0032-46f5-8cb3-9b6d40c20951",
   "metadata": {},
   "outputs": [],
   "source": [
    "geolon_t = xr.open_dataset('/g/data/ik11/grids/ocean_grid_025.nc').geolon_t\n",
    "geolat_t = xr.open_dataset('/g/data/ik11/grids/ocean_grid_025.nc').geolat_t"
   ]
  },
  {
   "cell_type": "code",
   "execution_count": 105,
   "id": "97a9aad3-e9c7-466c-a10e-5faefef40099",
   "metadata": {},
   "outputs": [],
   "source": [
    "aice_CM2_025_NH_clim = aice_CM2_025_NH_clim.assign_coords({'geolon_t': geolon_t.sel(yt_ocean=slice(45,90)), 'geolat_t': geolat_t.sel(yt_ocean=slice(45,90))})\n",
    "NH_obs_clim = NH_obs_clim.assign_coords({'geolon_t': geolon_t.sel(yt_ocean=slice(-90,-45)), 'geolat_t': geolat_t.sel(yt_ocean=slice(-90,-45))})"
   ]
  },
  {
   "cell_type": "code",
   "execution_count": 87,
   "id": "59d41ce0-c531-46e2-bdee-1f4431861c06",
   "metadata": {},
   "outputs": [],
   "source": [
    "theta  = np.linspace(0, 2*np.pi, 100)\n",
    "center, radius = [0.5, 0.5], 0.455\n",
    "verts  = np.vstack([np.sin(theta), np.cos(theta)]).T\n",
    "circle = mpath.Path(verts * radius + center)"
   ]
  },
  {
   "cell_type": "code",
   "execution_count": 98,
   "id": "586cbff2-2c0d-46fc-97cf-a3d28b870f52",
   "metadata": {},
   "outputs": [
    {
     "data": {
      "text/plain": [
       "<cartopy.mpl.geocollection.GeoQuadMesh at 0x14e7de8bd790>"
      ]
     },
     "execution_count": 98,
     "metadata": {},
     "output_type": "execute_result"
    },
    {
     "data": {
      "image/png": "[encoded data removed]",
      "text/plain": [
       "<Figure size 720x720 with 2 Axes>"
      ]
     },
     "metadata": {
      "needs_background": "light"
     },
     "output_type": "display_data"
    }
   ],
   "source": [
    "fig = plt.figure(figsize=(10,10))\n",
    "\n",
    "ax = plt.subplot(2,2,3, projection=ccrs.SouthPolarStereo())\n",
    "ax.set_boundary(circle, transform=ax.transAxes)\n",
    "ax.pcolormesh(SH_obs_clim.xt_ocean, SH_obs_clim.yt_ocean, SH_obs_clim[8,...], transform=ccrs.PlateCarree(), cmap=cm.cm.ice, vmin=0, vmax=1)\n",
    "\n",
    "ax = plt.subplot(2,2,4, projection=ccrs.SouthPolarStereo())\n",
    "ax.set_boundary(circle, transform=ax.transAxes)\n",
    "ax.pcolormesh(SH_obs_clim.xt_ocean, SH_obs_clim.yt_ocean, aice_CM2_025_SH_clim[8,...]-SH_obs_clim[8,...], transform=ccrs.PlateCarree(), cmap=cm.cm.balance, vmin=-0.2, vmax=0.2)"
   ]
  },
  {
   "cell_type": "code",
   "execution_count": null,
   "id": "33dfdab7-9560-43fa-a805-050a8ad2b572",
   "metadata": {},
   "outputs": [],
   "source": []
  },
  {
   "cell_type": "code",
   "execution_count": null,
   "id": "093ce4b2-4691-4405-ae9c-3c2bba22b2f3",
   "metadata": {},
   "outputs": [],
   "source": []
  },
  {
   "cell_type": "code",
   "execution_count": null,
   "id": "2288491a-9f25-4114-a6f9-d1a8d3140e22",
   "metadata": {},
   "outputs": [],
   "source": []
  },
  {
   "cell_type": "code",
   "execution_count": null,
   "id": "84008b42-a7d3-48ea-9cf6-8d0c4f0ff7f7",
   "metadata": {},
   "outputs": [],
   "source": []
  },
  {
   "cell_type": "code",
   "execution_count": null,
   "id": "8e2025c5-8dc1-41ee-a697-0980e44ac06e",
   "metadata": {},
   "outputs": [],
   "source": []
  },
  {
   "cell_type": "markdown",
   "id": "6f591d8e-0883-472d-bf99-4dff447dc9c3",
   "metadata": {},
   "source": [
    "### Model ice area"
   ]
  },
  {
   "cell_type": "code",
   "execution_count": null,
   "id": "79c132b7-e8f7-4e37-8580-16aa6222670e",
   "metadata": {},
   "outputs": [],
   "source": [
    "hi_m = cc.querying.getvar(control, 'hi', session_CM2, frequency='1 monthly', start_time='0001-01-01', end_time='0001-12-31')"
   ]
  },
  {
   "cell_type": "code",
   "execution_count": null,
   "id": "c0f89e94-554c-4632-a6f4-54626254cd40",
   "metadata": {},
   "outputs": [],
   "source": [
    "aice_m = cc.querying.getvar(control, 'aice', session_CM2, frequency='1 monthly', start_time='0001-01-01', end_time='0001-12-31')"
   ]
  },
  {
   "cell_type": "code",
   "execution_count": null,
   "id": "8361ea76-bc88-482a-bdc7-47c6ddad877c",
   "metadata": {},
   "outputs": [
    {
     "name": "stderr",
     "output_type": "stream",
     "text": [
      "2022-08-31 18:47:05,192 - distributed.nanny - WARNING - Restarting worker\n",
      "2022-08-31 18:47:05,221 - distributed.nanny - WARNING - Restarting worker\n",
      "2022-08-31 18:47:05,240 - distributed.nanny - WARNING - Restarting worker\n",
      "2022-08-31 18:47:05,242 - distributed.nanny - WARNING - Restarting worker\n",
      "2022-08-31 18:47:05,256 - distributed.nanny - WARNING - Restarting worker\n",
      "2022-08-31 18:47:05,290 - distributed.nanny - WARNING - Restarting worker\n",
      "2022-08-31 18:47:08,740 - distributed.nanny - WARNING - Restarting worker\n"
     ]
    }
   ],
   "source": [
    "area_t = cc.querying.getvar(control, 'area_t',session_CM2,n=1)"
   ]
  },
  {
   "cell_type": "code",
   "execution_count": null,
   "id": "e49fca02-9ede-45fd-87e2-130a60bca9d6",
   "metadata": {},
   "outputs": [],
   "source": []
  },
  {
   "cell_type": "code",
   "execution_count": 7,
   "id": "86aa162d-30ee-4ddb-86bb-7310ff1bcedc",
   "metadata": {},
   "outputs": [],
   "source": [
    "def get_aice(expt, session, start_time, end_time, frequency='1 monthly'):\n",
    "    \n",
    "    var = cc.querying.getvar(expt, 'aice', session, frequency=frequency, start_time=start_time, end_time=end_time)\n",
    "    area_t = cc.querying.getvar(expt, 'area_t', session, n=1)\n",
    "    var.coords['ni'] = area_t['xt_ocean'].values\n",
    "    var.coords['nj'] = area_t['yt_ocean'].values\n",
    "    var = var.rename(({'ni':'xt_ocean', 'nj':'yt_ocean'}))\n",
    "    #var = var[2::12,:,:]\n",
    "    \n",
    "    area = var*area_t\n",
    "    area_zonalsum = area.sum('xt_ocean')\n",
    "    NH_area = area_zonalsum.sel(yt_ocean=slice(45, 90)).sum('yt_ocean')\n",
    "    #SH_area = area_zonalsum.sel(yt_ocean=slice(-90, -45)).sum('yt_ocean')\n",
    "    \n",
    "    return NH_area#, SH_area"
   ]
  },
  {
   "cell_type": "code",
   "execution_count": 13,
   "id": "a39768c8-d582-4950-be79-ac5b55ea0293",
   "metadata": {},
   "outputs": [
    {
     "name": "stdout",
     "output_type": "stream",
     "text": [
      "CPU times: user 4min 15s, sys: 38 s, total: 4min 53s\n",
      "Wall time: 15min 8s\n"
     ]
    }
   ],
   "source": [
    "%%time\n",
    "#NH_area, SH_area = get_aice(control, session_CM2, '0001-01-01', '0100-12-31')\n",
    "NH_area= get_aice(control, session_CM2, '0300-01-01', '0399-12-31')"
   ]
  }
 ],
 "metadata": {
  "kernelspec": {
   "display_name": "Python [conda env:analysis3-22.10]",
   "language": "python",
   "name": "conda-env-analysis3-22.10-py"
  },
  "language_info": {
   "codemirror_mode": {
    "name": "ipython",
    "version": 3
   },
   "file_extension": ".py",
   "mimetype": "text/x-python",
   "name": "python",
   "nbconvert_exporter": "python",
   "pygments_lexer": "ipython3",
   "version": "3.9.15"
  }
 },
 "nbformat": 4,
 "nbformat_minor": 5
}
