{
 "cells": [
  {
   "cell_type": "markdown",
   "id": "31314690-7d0b-49ac-bf8b-a5cb57611aa2",
   "metadata": {},
   "source": [
    "# Make NRI intake catalogue for ACCESS-CM2-025 cz861 model output"
   ]
  },
  {
   "cell_type": "markdown",
   "id": "b2abca42-8475-40c9-9bf2-9f7db7356164",
   "metadata": {},
   "source": [
    "Following intstructions from [here](https://github.com/ACCESS-NRI/access-nri-intake-catalog/blob/main/docs/datastores/quickstart.ipynb).\n",
    "\n",
    "ARE instance: XX-Large, normalbw, openmpi module in advanced options, `/gdata/xp65`."
   ]
  },
  {
   "cell_type": "markdown",
   "id": "c4409a84-edef-4973-8ca4-f038e4e90132",
   "metadata": {},
   "source": [
    "Load ACCESS-NRI intake datastore builder:"
   ]
  },
  {
   "cell_type": "code",
   "execution_count": 1,
   "id": "13dd931c-d7c6-4c25-b263-b1d5cb55a5ee",
   "metadata": {},
   "outputs": [
    {
     "name": "stderr",
     "output_type": "stream",
     "text": [
      "Downloading data from 'https://raw.githubusercontent.com/ACCESS-NRI/schema/25643eb437e95ee48b3fa6b620c7a0986c2c3bb0/file_asset.json' to file '/home/581/wgh581/.cache/pooch/6fb83121c09b48f2e9dbb0953a7af7ad-file_asset.json'.\n"
     ]
    }
   ],
   "source": [
    "from access_nri_intake.source.builders import AccessCm2Builder"
   ]
  },
  {
   "cell_type": "markdown",
   "id": "cb8c5f5c-a953-49e9-8f37-a171fc1774d9",
   "metadata": {},
   "source": [
    "Build catalogue:"
   ]
  },
  {
   "cell_type": "code",
   "execution_count": 4,
   "id": "c510574b-aa18-45a7-b7f5-a6f607cf2c9c",
   "metadata": {},
   "outputs": [
    {
     "name": "stdout",
     "output_type": "stream",
     "text": [
      "CPU times: user 37.4 s, sys: 8.01 s, total: 45.4 s\n",
      "Wall time: 4min 51s\n"
     ]
    }
   ],
   "source": [
    "%%time\n",
    "\n",
    "builder = AccessCm2Builder(\n",
    "    path=\"/g/data/lg87/wgh581/cz861/history\",\n",
    "    ensemble=False\n",
    ").build()"
   ]
  },
  {
   "cell_type": "markdown",
   "id": "92b88a68-7fc6-43c8-a57e-01850fbec09d",
   "metadata": {},
   "source": [
    "Save catalogue:"
   ]
  },
  {
   "cell_type": "code",
   "execution_count": 6,
   "id": "ce13fda5-adc9-4aef-af9d-36ead8d03e56",
   "metadata": {},
   "outputs": [
    {
     "name": "stdout",
     "output_type": "stream",
     "text": [
      "Successfully wrote ESM catalog json file to: file:///g/data/lg87/wgh581/datastore_ACCESS_CM2_025_cz861.json\n",
      "CPU times: user 6.1 s, sys: 346 ms, total: 6.45 s\n",
      "Wall time: 6.62 s\n"
     ]
    }
   ],
   "source": [
    "%%time\n",
    "builder.save(\n",
    "    name=\"datastore_ACCESS_CM2_025_cz861\",\n",
    "    description=\"ACCESS-NRI datastore for ACCESS-CM2-025, suite cz861, run by wilma.huneke@anu.edu.au: ACCESS CM2-GA7.1 CABLE N96 UM10.6 + 0.25 degree MOM5 CICE5 PD control simulation. 20230515 ocean mask.\",\n",
    "    directory='/g/data/lg87/wgh581/'\n",
    ")"
   ]
  },
  {
   "cell_type": "code",
   "execution_count": null,
   "id": "5edf14b5-9b2d-44ba-98c1-d599560c0b3e",
   "metadata": {},
   "outputs": [],
   "source": []
  }
 ],
 "metadata": {
  "kernelspec": {
   "display_name": "Python [conda env:analysis3-24.07] *",
   "language": "python",
   "name": "conda-env-analysis3-24.07-py"
  },
  "language_info": {
   "codemirror_mode": {
    "name": "ipython",
    "version": 3
   },
   "file_extension": ".py",
   "mimetype": "text/x-python",
   "name": "python",
   "nbconvert_exporter": "python",
   "pygments_lexer": "ipython3",
   "version": "3.10.16"
  }
 },
 "nbformat": 4,
 "nbformat_minor": 5
}
