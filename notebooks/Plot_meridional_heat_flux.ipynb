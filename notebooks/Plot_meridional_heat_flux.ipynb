{
 "cells": [
  {
   "cell_type": "markdown",
   "id": "51da858c-f75b-454c-acbb-d02227607606",
   "metadata": {},
   "source": [
    "# Meridional heat flux\n",
    "\n",
    "\n",
    "Note: OM2-025 does not have the required output, using a different experiment `*_bgc` instead of `*_gadi` compared to other scripts."
   ]
  },
  {
   "cell_type": "code",
   "execution_count": 1,
   "id": "dff0b2c8-4ca9-4dc0-8f38-5f0d88f03d8d",
   "metadata": {},
   "outputs": [],
   "source": [
    "import cosima_cookbook as cc\n",
    "from dask.distributed import Client\n",
    "\n",
    "import xarray as xr\n",
    "import matplotlib.pyplot as plt\n",
    "import cmocean as cm\n",
    "import numpy as np\n",
    "%matplotlib inline\n",
    "\n",
    "# Stop annoying warnings coming out of xarray.\n",
    "import warnings\n",
    "warnings.filterwarnings('ignore')"
   ]
  },
  {
   "cell_type": "code",
   "execution_count": 2,
   "id": "ef1e8b7a-ac2f-43ef-b4ce-9067f47a41f2",
   "metadata": {},
   "outputs": [
    {
     "data": {
      "text/html": [
       "<div>\n",
       "    <div style=\"width: 24px; height: 24px; background-color: #e1e1e1; border: 3px solid #9D9D9D; border-radius: 5px; position: absolute;\"> </div>\n",
       "    <div style=\"margin-left: 48px;\">\n",
       "        <h3 style=\"margin-bottom: 0px;\">Client</h3>\n",
       "        <p style=\"color: #9D9D9D; margin-bottom: 0px;\">Client-d5bc389f-b87c-11ed-8d6b-00000768fe80</p>\n",
       "        <table style=\"width: 100%; text-align: left;\">\n",
       "\n",
       "        <tr>\n",
       "        \n",
       "            <td style=\"text-align: left;\"><strong>Connection method:</strong> Cluster object</td>\n",
       "            <td style=\"text-align: left;\"><strong>Cluster type:</strong> distributed.LocalCluster</td>\n",
       "        \n",
       "        </tr>\n",
       "\n",
       "        \n",
       "            <tr>\n",
       "                <td style=\"text-align: left;\">\n",
       "                    <strong>Dashboard: </strong> <a href=\"/proxy/44269/status\" target=\"_blank\">/proxy/44269/status</a>\n",
       "                </td>\n",
       "                <td style=\"text-align: left;\"></td>\n",
       "            </tr>\n",
       "        \n",
       "\n",
       "        </table>\n",
       "\n",
       "        \n",
       "\n",
       "        \n",
       "            <details>\n",
       "            <summary style=\"margin-bottom: 20px;\"><h3 style=\"display: inline;\">Cluster Info</h3></summary>\n",
       "            <div class=\"jp-RenderedHTMLCommon jp-RenderedHTML jp-mod-trusted jp-OutputArea-output\">\n",
       "    <div style=\"width: 24px; height: 24px; background-color: #e1e1e1; border: 3px solid #9D9D9D; border-radius: 5px; position: absolute;\">\n",
       "    </div>\n",
       "    <div style=\"margin-left: 48px;\">\n",
       "        <h3 style=\"margin-bottom: 0px; margin-top: 0px;\">LocalCluster</h3>\n",
       "        <p style=\"color: #9D9D9D; margin-bottom: 0px;\">04786e93</p>\n",
       "        <table style=\"width: 100%; text-align: left;\">\n",
       "            <tr>\n",
       "                <td style=\"text-align: left;\">\n",
       "                    <strong>Dashboard:</strong> <a href=\"/proxy/44269/status\" target=\"_blank\">/proxy/44269/status</a>\n",
       "                </td>\n",
       "                <td style=\"text-align: left;\">\n",
       "                    <strong>Workers:</strong> 7\n",
       "                </td>\n",
       "            </tr>\n",
       "            <tr>\n",
       "                <td style=\"text-align: left;\">\n",
       "                    <strong>Total threads:</strong> 28\n",
       "                </td>\n",
       "                <td style=\"text-align: left;\">\n",
       "                    <strong>Total memory:</strong> 128.00 GiB\n",
       "                </td>\n",
       "            </tr>\n",
       "            \n",
       "            <tr>\n",
       "    <td style=\"text-align: left;\"><strong>Status:</strong> running</td>\n",
       "    <td style=\"text-align: left;\"><strong>Using processes:</strong> True</td>\n",
       "</tr>\n",
       "\n",
       "            \n",
       "        </table>\n",
       "\n",
       "        <details>\n",
       "            <summary style=\"margin-bottom: 20px;\">\n",
       "                <h3 style=\"display: inline;\">Scheduler Info</h3>\n",
       "            </summary>\n",
       "\n",
       "            <div style=\"\">\n",
       "    <div>\n",
       "        <div style=\"width: 24px; height: 24px; background-color: #FFF7E5; border: 3px solid #FF6132; border-radius: 5px; position: absolute;\"> </div>\n",
       "        <div style=\"margin-left: 48px;\">\n",
       "            <h3 style=\"margin-bottom: 0px;\">Scheduler</h3>\n",
       "            <p style=\"color: #9D9D9D; margin-bottom: 0px;\">Scheduler-3987d10d-0b7b-49b5-ae99-58fd783d675c</p>\n",
       "            <table style=\"width: 100%; text-align: left;\">\n",
       "                <tr>\n",
       "                    <td style=\"text-align: left;\">\n",
       "                        <strong>Comm:</strong> tcp://127.0.0.1:43635\n",
       "                    </td>\n",
       "                    <td style=\"text-align: left;\">\n",
       "                        <strong>Workers:</strong> 7\n",
       "                    </td>\n",
       "                </tr>\n",
       "                <tr>\n",
       "                    <td style=\"text-align: left;\">\n",
       "                        <strong>Dashboard:</strong> <a href=\"/proxy/44269/status\" target=\"_blank\">/proxy/44269/status</a>\n",
       "                    </td>\n",
       "                    <td style=\"text-align: left;\">\n",
       "                        <strong>Total threads:</strong> 28\n",
       "                    </td>\n",
       "                </tr>\n",
       "                <tr>\n",
       "                    <td style=\"text-align: left;\">\n",
       "                        <strong>Started:</strong> Just now\n",
       "                    </td>\n",
       "                    <td style=\"text-align: left;\">\n",
       "                        <strong>Total memory:</strong> 128.00 GiB\n",
       "                    </td>\n",
       "                </tr>\n",
       "            </table>\n",
       "        </div>\n",
       "    </div>\n",
       "\n",
       "    <details style=\"margin-left: 48px;\">\n",
       "        <summary style=\"margin-bottom: 20px;\">\n",
       "            <h3 style=\"display: inline;\">Workers</h3>\n",
       "        </summary>\n",
       "\n",
       "        \n",
       "        <div style=\"margin-bottom: 20px;\">\n",
       "            <div style=\"width: 24px; height: 24px; background-color: #DBF5FF; border: 3px solid #4CC9FF; border-radius: 5px; position: absolute;\"> </div>\n",
       "            <div style=\"margin-left: 48px;\">\n",
       "            <details>\n",
       "                <summary>\n",
       "                    <h4 style=\"margin-bottom: 0px; display: inline;\">Worker: 0</h4>\n",
       "                </summary>\n",
       "                <table style=\"width: 100%; text-align: left;\">\n",
       "                    <tr>\n",
       "                        <td style=\"text-align: left;\">\n",
       "                            <strong>Comm: </strong> tcp://127.0.0.1:46815\n",
       "                        </td>\n",
       "                        <td style=\"text-align: left;\">\n",
       "                            <strong>Total threads: </strong> 4\n",
       "                        </td>\n",
       "                    </tr>\n",
       "                    <tr>\n",
       "                        <td style=\"text-align: left;\">\n",
       "                            <strong>Dashboard: </strong> <a href=\"/proxy/36017/status\" target=\"_blank\">/proxy/36017/status</a>\n",
       "                        </td>\n",
       "                        <td style=\"text-align: left;\">\n",
       "                            <strong>Memory: </strong> 18.29 GiB\n",
       "                        </td>\n",
       "                    </tr>\n",
       "                    <tr>\n",
       "                        <td style=\"text-align: left;\">\n",
       "                            <strong>Nanny: </strong> tcp://127.0.0.1:36895\n",
       "                        </td>\n",
       "                        <td style=\"text-align: left;\"></td>\n",
       "                    </tr>\n",
       "                    <tr>\n",
       "                        <td colspan=\"2\" style=\"text-align: left;\">\n",
       "                            <strong>Local directory: </strong> /jobfs/74834708.gadi-pbs/dask-worker-space/worker-w2fy8ct5\n",
       "                        </td>\n",
       "                    </tr>\n",
       "\n",
       "                    \n",
       "\n",
       "                    \n",
       "\n",
       "                </table>\n",
       "            </details>\n",
       "            </div>\n",
       "        </div>\n",
       "        \n",
       "        <div style=\"margin-bottom: 20px;\">\n",
       "            <div style=\"width: 24px; height: 24px; background-color: #DBF5FF; border: 3px solid #4CC9FF; border-radius: 5px; position: absolute;\"> </div>\n",
       "            <div style=\"margin-left: 48px;\">\n",
       "            <details>\n",
       "                <summary>\n",
       "                    <h4 style=\"margin-bottom: 0px; display: inline;\">Worker: 1</h4>\n",
       "                </summary>\n",
       "                <table style=\"width: 100%; text-align: left;\">\n",
       "                    <tr>\n",
       "                        <td style=\"text-align: left;\">\n",
       "                            <strong>Comm: </strong> tcp://127.0.0.1:36873\n",
       "                        </td>\n",
       "                        <td style=\"text-align: left;\">\n",
       "                            <strong>Total threads: </strong> 4\n",
       "                        </td>\n",
       "                    </tr>\n",
       "                    <tr>\n",
       "                        <td style=\"text-align: left;\">\n",
       "                            <strong>Dashboard: </strong> <a href=\"/proxy/44307/status\" target=\"_blank\">/proxy/44307/status</a>\n",
       "                        </td>\n",
       "                        <td style=\"text-align: left;\">\n",
       "                            <strong>Memory: </strong> 18.29 GiB\n",
       "                        </td>\n",
       "                    </tr>\n",
       "                    <tr>\n",
       "                        <td style=\"text-align: left;\">\n",
       "                            <strong>Nanny: </strong> tcp://127.0.0.1:39443\n",
       "                        </td>\n",
       "                        <td style=\"text-align: left;\"></td>\n",
       "                    </tr>\n",
       "                    <tr>\n",
       "                        <td colspan=\"2\" style=\"text-align: left;\">\n",
       "                            <strong>Local directory: </strong> /jobfs/74834708.gadi-pbs/dask-worker-space/worker-yqglh6t0\n",
       "                        </td>\n",
       "                    </tr>\n",
       "\n",
       "                    \n",
       "\n",
       "                    \n",
       "\n",
       "                </table>\n",
       "            </details>\n",
       "            </div>\n",
       "        </div>\n",
       "        \n",
       "        <div style=\"margin-bottom: 20px;\">\n",
       "            <div style=\"width: 24px; height: 24px; background-color: #DBF5FF; border: 3px solid #4CC9FF; border-radius: 5px; position: absolute;\"> </div>\n",
       "            <div style=\"margin-left: 48px;\">\n",
       "            <details>\n",
       "                <summary>\n",
       "                    <h4 style=\"margin-bottom: 0px; display: inline;\">Worker: 2</h4>\n",
       "                </summary>\n",
       "                <table style=\"width: 100%; text-align: left;\">\n",
       "                    <tr>\n",
       "                        <td style=\"text-align: left;\">\n",
       "                            <strong>Comm: </strong> tcp://127.0.0.1:35435\n",
       "                        </td>\n",
       "                        <td style=\"text-align: left;\">\n",
       "                            <strong>Total threads: </strong> 4\n",
       "                        </td>\n",
       "                    </tr>\n",
       "                    <tr>\n",
       "                        <td style=\"text-align: left;\">\n",
       "                            <strong>Dashboard: </strong> <a href=\"/proxy/35707/status\" target=\"_blank\">/proxy/35707/status</a>\n",
       "                        </td>\n",
       "                        <td style=\"text-align: left;\">\n",
       "                            <strong>Memory: </strong> 18.29 GiB\n",
       "                        </td>\n",
       "                    </tr>\n",
       "                    <tr>\n",
       "                        <td style=\"text-align: left;\">\n",
       "                            <strong>Nanny: </strong> tcp://127.0.0.1:35981\n",
       "                        </td>\n",
       "                        <td style=\"text-align: left;\"></td>\n",
       "                    </tr>\n",
       "                    <tr>\n",
       "                        <td colspan=\"2\" style=\"text-align: left;\">\n",
       "                            <strong>Local directory: </strong> /jobfs/74834708.gadi-pbs/dask-worker-space/worker-vzfmopfp\n",
       "                        </td>\n",
       "                    </tr>\n",
       "\n",
       "                    \n",
       "\n",
       "                    \n",
       "\n",
       "                </table>\n",
       "            </details>\n",
       "            </div>\n",
       "        </div>\n",
       "        \n",
       "        <div style=\"margin-bottom: 20px;\">\n",
       "            <div style=\"width: 24px; height: 24px; background-color: #DBF5FF; border: 3px solid #4CC9FF; border-radius: 5px; position: absolute;\"> </div>\n",
       "            <div style=\"margin-left: 48px;\">\n",
       "            <details>\n",
       "                <summary>\n",
       "                    <h4 style=\"margin-bottom: 0px; display: inline;\">Worker: 3</h4>\n",
       "                </summary>\n",
       "                <table style=\"width: 100%; text-align: left;\">\n",
       "                    <tr>\n",
       "                        <td style=\"text-align: left;\">\n",
       "                            <strong>Comm: </strong> tcp://127.0.0.1:42503\n",
       "                        </td>\n",
       "                        <td style=\"text-align: left;\">\n",
       "                            <strong>Total threads: </strong> 4\n",
       "                        </td>\n",
       "                    </tr>\n",
       "                    <tr>\n",
       "                        <td style=\"text-align: left;\">\n",
       "                            <strong>Dashboard: </strong> <a href=\"/proxy/35491/status\" target=\"_blank\">/proxy/35491/status</a>\n",
       "                        </td>\n",
       "                        <td style=\"text-align: left;\">\n",
       "                            <strong>Memory: </strong> 18.29 GiB\n",
       "                        </td>\n",
       "                    </tr>\n",
       "                    <tr>\n",
       "                        <td style=\"text-align: left;\">\n",
       "                            <strong>Nanny: </strong> tcp://127.0.0.1:44463\n",
       "                        </td>\n",
       "                        <td style=\"text-align: left;\"></td>\n",
       "                    </tr>\n",
       "                    <tr>\n",
       "                        <td colspan=\"2\" style=\"text-align: left;\">\n",
       "                            <strong>Local directory: </strong> /jobfs/74834708.gadi-pbs/dask-worker-space/worker-3s14e5yi\n",
       "                        </td>\n",
       "                    </tr>\n",
       "\n",
       "                    \n",
       "\n",
       "                    \n",
       "\n",
       "                </table>\n",
       "            </details>\n",
       "            </div>\n",
       "        </div>\n",
       "        \n",
       "        <div style=\"margin-bottom: 20px;\">\n",
       "            <div style=\"width: 24px; height: 24px; background-color: #DBF5FF; border: 3px solid #4CC9FF; border-radius: 5px; position: absolute;\"> </div>\n",
       "            <div style=\"margin-left: 48px;\">\n",
       "            <details>\n",
       "                <summary>\n",
       "                    <h4 style=\"margin-bottom: 0px; display: inline;\">Worker: 4</h4>\n",
       "                </summary>\n",
       "                <table style=\"width: 100%; text-align: left;\">\n",
       "                    <tr>\n",
       "                        <td style=\"text-align: left;\">\n",
       "                            <strong>Comm: </strong> tcp://127.0.0.1:34823\n",
       "                        </td>\n",
       "                        <td style=\"text-align: left;\">\n",
       "                            <strong>Total threads: </strong> 4\n",
       "                        </td>\n",
       "                    </tr>\n",
       "                    <tr>\n",
       "                        <td style=\"text-align: left;\">\n",
       "                            <strong>Dashboard: </strong> <a href=\"/proxy/33447/status\" target=\"_blank\">/proxy/33447/status</a>\n",
       "                        </td>\n",
       "                        <td style=\"text-align: left;\">\n",
       "                            <strong>Memory: </strong> 18.29 GiB\n",
       "                        </td>\n",
       "                    </tr>\n",
       "                    <tr>\n",
       "                        <td style=\"text-align: left;\">\n",
       "                            <strong>Nanny: </strong> tcp://127.0.0.1:35861\n",
       "                        </td>\n",
       "                        <td style=\"text-align: left;\"></td>\n",
       "                    </tr>\n",
       "                    <tr>\n",
       "                        <td colspan=\"2\" style=\"text-align: left;\">\n",
       "                            <strong>Local directory: </strong> /jobfs/74834708.gadi-pbs/dask-worker-space/worker-oxk0ge72\n",
       "                        </td>\n",
       "                    </tr>\n",
       "\n",
       "                    \n",
       "\n",
       "                    \n",
       "\n",
       "                </table>\n",
       "            </details>\n",
       "            </div>\n",
       "        </div>\n",
       "        \n",
       "        <div style=\"margin-bottom: 20px;\">\n",
       "            <div style=\"width: 24px; height: 24px; background-color: #DBF5FF; border: 3px solid #4CC9FF; border-radius: 5px; position: absolute;\"> </div>\n",
       "            <div style=\"margin-left: 48px;\">\n",
       "            <details>\n",
       "                <summary>\n",
       "                    <h4 style=\"margin-bottom: 0px; display: inline;\">Worker: 5</h4>\n",
       "                </summary>\n",
       "                <table style=\"width: 100%; text-align: left;\">\n",
       "                    <tr>\n",
       "                        <td style=\"text-align: left;\">\n",
       "                            <strong>Comm: </strong> tcp://127.0.0.1:41575\n",
       "                        </td>\n",
       "                        <td style=\"text-align: left;\">\n",
       "                            <strong>Total threads: </strong> 4\n",
       "                        </td>\n",
       "                    </tr>\n",
       "                    <tr>\n",
       "                        <td style=\"text-align: left;\">\n",
       "                            <strong>Dashboard: </strong> <a href=\"/proxy/45801/status\" target=\"_blank\">/proxy/45801/status</a>\n",
       "                        </td>\n",
       "                        <td style=\"text-align: left;\">\n",
       "                            <strong>Memory: </strong> 18.29 GiB\n",
       "                        </td>\n",
       "                    </tr>\n",
       "                    <tr>\n",
       "                        <td style=\"text-align: left;\">\n",
       "                            <strong>Nanny: </strong> tcp://127.0.0.1:42837\n",
       "                        </td>\n",
       "                        <td style=\"text-align: left;\"></td>\n",
       "                    </tr>\n",
       "                    <tr>\n",
       "                        <td colspan=\"2\" style=\"text-align: left;\">\n",
       "                            <strong>Local directory: </strong> /jobfs/74834708.gadi-pbs/dask-worker-space/worker-tmi31740\n",
       "                        </td>\n",
       "                    </tr>\n",
       "\n",
       "                    \n",
       "\n",
       "                    \n",
       "\n",
       "                </table>\n",
       "            </details>\n",
       "            </div>\n",
       "        </div>\n",
       "        \n",
       "        <div style=\"margin-bottom: 20px;\">\n",
       "            <div style=\"width: 24px; height: 24px; background-color: #DBF5FF; border: 3px solid #4CC9FF; border-radius: 5px; position: absolute;\"> </div>\n",
       "            <div style=\"margin-left: 48px;\">\n",
       "            <details>\n",
       "                <summary>\n",
       "                    <h4 style=\"margin-bottom: 0px; display: inline;\">Worker: 6</h4>\n",
       "                </summary>\n",
       "                <table style=\"width: 100%; text-align: left;\">\n",
       "                    <tr>\n",
       "                        <td style=\"text-align: left;\">\n",
       "                            <strong>Comm: </strong> tcp://127.0.0.1:44631\n",
       "                        </td>\n",
       "                        <td style=\"text-align: left;\">\n",
       "                            <strong>Total threads: </strong> 4\n",
       "                        </td>\n",
       "                    </tr>\n",
       "                    <tr>\n",
       "                        <td style=\"text-align: left;\">\n",
       "                            <strong>Dashboard: </strong> <a href=\"/proxy/39191/status\" target=\"_blank\">/proxy/39191/status</a>\n",
       "                        </td>\n",
       "                        <td style=\"text-align: left;\">\n",
       "                            <strong>Memory: </strong> 18.29 GiB\n",
       "                        </td>\n",
       "                    </tr>\n",
       "                    <tr>\n",
       "                        <td style=\"text-align: left;\">\n",
       "                            <strong>Nanny: </strong> tcp://127.0.0.1:38285\n",
       "                        </td>\n",
       "                        <td style=\"text-align: left;\"></td>\n",
       "                    </tr>\n",
       "                    <tr>\n",
       "                        <td colspan=\"2\" style=\"text-align: left;\">\n",
       "                            <strong>Local directory: </strong> /jobfs/74834708.gadi-pbs/dask-worker-space/worker-70n5x5lq\n",
       "                        </td>\n",
       "                    </tr>\n",
       "\n",
       "                    \n",
       "\n",
       "                    \n",
       "\n",
       "                </table>\n",
       "            </details>\n",
       "            </div>\n",
       "        </div>\n",
       "        \n",
       "\n",
       "    </details>\n",
       "</div>\n",
       "\n",
       "        </details>\n",
       "    </div>\n",
       "</div>\n",
       "            </details>\n",
       "        \n",
       "\n",
       "    </div>\n",
       "</div>"
      ],
      "text/plain": [
       "<Client: 'tcp://127.0.0.1:43635' processes=7 threads=28, memory=128.00 GiB>"
      ]
     },
     "execution_count": 2,
     "metadata": {},
     "output_type": "execute_result"
    }
   ],
   "source": [
    "client = Client()\n",
    "client"
   ]
  },
  {
   "cell_type": "code",
   "execution_count": 3,
   "id": "472a8142-35dd-4bca-827e-52862d4cea2d",
   "metadata": {},
   "outputs": [],
   "source": [
    "# CM2 database\n",
    "#session_CM2 = cc.database.create_session('/g/data/p73/archive/non-CMIP/ACCESS-CM2/cj877/cj877.db') \n",
    "session_CM2 = cc.database.create_session('/g/data/p73/archive/non-CMIP/ACCESS-CM2/CM2.db')\n",
    "expt_CM2_025 = 'cj877'\n",
    "expt_CM2_1   = 'bz687'"
   ]
  },
  {
   "cell_type": "code",
   "execution_count": 4,
   "id": "246b1ca6-c23d-461c-aa4a-b62813ca7772",
   "metadata": {},
   "outputs": [],
   "source": [
    "# OM2 database\n",
    "session_OM2  = cc.database.create_session('/g/data/ik11/databases/cosima_master.db')\n",
    "expt_OM2_025 = '025deg_jra55_ryf9091_gadi'  # '025deg_jra55_ryf9091_bgc'\n",
    "expt_OM2_1   = '1deg_jra55_ryf9091_gadi'"
   ]
  },
  {
   "cell_type": "code",
   "execution_count": 5,
   "id": "b6665b79-7cfb-4bf1-a415-53c7c8e73f15",
   "metadata": {},
   "outputs": [],
   "source": [
    "path_to_data = '/g/data/x77/wgh581/Post_Process/ACCESS_CM2_025/'"
   ]
  },
  {
   "cell_type": "markdown",
   "id": "44b5ad28-88c0-40a0-bb38-4f0e8d60212c",
   "metadata": {},
   "source": [
    "If you get a 'read-only database' warning, it is because the database has not finished building. "
   ]
  },
  {
   "cell_type": "code",
   "execution_count": 6,
   "id": "6b3356b0-ad65-4a5b-9994-0c0c911fe0c4",
   "metadata": {},
   "outputs": [],
   "source": [
    "# Plotting info\n",
    "ft_size = 16\n",
    "plt.rcParams.update({'font.size': ft_size})\n",
    "fig_path = '/g/data/x77/wgh581/Figures/Figures_ACCESS_CM2/'"
   ]
  },
  {
   "cell_type": "markdown",
   "id": "2ebb722d-ed9f-49ea-9217-4142672cdc9d",
   "metadata": {},
   "source": [
    "## Ocean\n",
    "\n",
    "https://github.com/COSIMA/ACCESS-OM2-1-025-010deg-report/blob/master/figures/meridional_heat_transport/Meridional_Heat_Transport.ipynb"
   ]
  },
  {
   "cell_type": "code",
   "execution_count": 7,
   "id": "ef5fa285-80e1-47b7-98fc-31f1f415275a",
   "metadata": {},
   "outputs": [],
   "source": [
    "start_time = '0400-01-01'\n",
    "end_time   = '0499-12-31'"
   ]
  },
  {
   "cell_type": "code",
   "execution_count": 8,
   "id": "aef614f0-2037-4be3-8889-a718b7130f73",
   "metadata": {},
   "outputs": [],
   "source": [
    "area_t_25 = cc.querying.getvar(expt_OM2_025, 'area_t', session_OM2, n=1).load()\n",
    "area_t_1  = cc.querying.getvar(expt_OM2_1, 'area_t', session_OM2, n=1).load()"
   ]
  },
  {
   "cell_type": "code",
   "execution_count": 9,
   "id": "b33ea767-b109-47c9-8230-70755332c74d",
   "metadata": {},
   "outputs": [],
   "source": [
    "lat_25 = cc.querying.getvar(expt_OM2_025, 'geolat_t', session_OM2, n=1).load()\n",
    "lat_1 = cc.querying.getvar(expt_OM2_1, 'geolat_t', session_OM2, n=1).load()"
   ]
  },
  {
   "cell_type": "code",
   "execution_count": 10,
   "id": "32cec8dc-866a-4c43-8ed8-1e63338c72a7",
   "metadata": {},
   "outputs": [],
   "source": [
    "latv_25 = cc.querying.getvar(expt_OM2_025, 'yt_ocean', session_OM2, n=1).load()\n",
    "latv_1 = cc.querying.getvar(expt_OM2_1, 'yt_ocean', session_OM2, n=1).load()"
   ]
  },
  {
   "cell_type": "code",
   "execution_count": 11,
   "id": "fd16c091-ac47-4118-8d28-52478198a280",
   "metadata": {},
   "outputs": [],
   "source": [
    "def get_MHF(shflux, area, lat, latv):\n",
    "    \n",
    "    MHF = np.zeros_like(latv)\n",
    "    for i in range(len(latv)):\n",
    "        inds = lat < latv[i]\n",
    "        MHF[i] = np.sum(area.where(lat < latv[i])*shflux.where(lat < latv[i]))\n",
    "    \n",
    "    MHF = MHF + (MHF[0]-MHF[-1])/2\n",
    "    \n",
    "    return MHF"
   ]
  },
  {
   "cell_type": "markdown",
   "id": "ecb48c31-d4c2-46a1-a229-36733ad837f0",
   "metadata": {},
   "source": [
    "Load data"
   ]
  },
  {
   "cell_type": "code",
   "execution_count": null,
   "id": "d0dc3c69-ddae-4aa5-b291-7a473854b983",
   "metadata": {},
   "outputs": [],
   "source": [
    "shflux_CM2_025 =  cc.querying.getvar(expt_CM2_025, 'net_sfc_heating', session_CM2, start_time=start_time, end_time=end_time)\n",
    "shflux_CM2_025 = shflux_CM2_025.sel(time=slice(start_time, end_time))"
   ]
  },
  {
   "cell_type": "code",
   "execution_count": null,
   "id": "699cdc42-b47a-4134-bcad-af36213b9ce6",
   "metadata": {},
   "outputs": [],
   "source": [
    "shflux_CM2_1 =  cc.querying.getvar(expt_CM2_1, 'net_sfc_heating', session_CM2, start_time=start_time, end_time=end_time)\n",
    "shflux_CM2_1 = shflux_CM2_1.sel(time=slice(start_time, end_time))"
   ]
  },
  {
   "cell_type": "code",
   "execution_count": null,
   "id": "b2fe9fe2-9a9e-4c03-b668-74a4bab74d71",
   "metadata": {},
   "outputs": [],
   "source": [
    "shflux_OM2_025 = cc.querying.getvar(expt_OM2_025, 'net_sfc_heating', session_OM2, start_time='2300-01-01', end_time='2399-12-31')\n",
    "shflux_OM2_025 = shflux_OM2_025.sel(time=slice('2300-01-01', '2399-12-31'))"
   ]
  },
  {
   "cell_type": "code",
   "execution_count": null,
   "id": "a8e09e35-ff8e-4347-b553-bf0b5512b9f1",
   "metadata": {},
   "outputs": [],
   "source": [
    "shflux_OM2_1 =  cc.querying.getvar(expt_OM2_1, 'net_sfc_heating', session_OM2, start_time='2300-01-01', end_time='2399-12-31')\n",
    "shflux_OM2_1 = shflux_OM2_1.sel(time=slice('2300-01-01', '2399-12-31'))"
   ]
  },
  {
   "cell_type": "markdown",
   "id": "8a90c7d0-edf1-4343-866a-33af2b576114",
   "metadata": {},
   "source": [
    "Load time averaged data"
   ]
  },
  {
   "cell_type": "code",
   "execution_count": 16,
   "id": "933276fe-4e62-4b7f-af5b-b9935ce9d8d5",
   "metadata": {},
   "outputs": [],
   "source": [
    "shflux_CM2_025 = shflux_CM2_025.mean('time').load()"
   ]
  },
  {
   "cell_type": "code",
   "execution_count": 17,
   "id": "bf5a4da9-59a1-4a7c-84bd-8a2454b69e28",
   "metadata": {},
   "outputs": [],
   "source": [
    "shflux_CM2_1   = shflux_CM2_1.mean('time').load()\n",
    "# Overwrite yt_ocean values\n",
    "shflux_CM2_1['yt_ocean'] = area_t_1.yt_ocean.values"
   ]
  },
  {
   "cell_type": "code",
   "execution_count": 18,
   "id": "09d52a70-975c-4965-a741-abd896412262",
   "metadata": {},
   "outputs": [],
   "source": [
    "shflux_OM2_025 = shflux_OM2_025.mean('time').load()"
   ]
  },
  {
   "cell_type": "code",
   "execution_count": 19,
   "id": "04fd285b-0dc5-4fed-b83f-f7f3820c62fe",
   "metadata": {},
   "outputs": [],
   "source": [
    "shflux_OM2_1   = shflux_OM2_1.mean('time').load()"
   ]
  },
  {
   "cell_type": "markdown",
   "id": "fcc33871-778f-429d-927e-cdbe93f714df",
   "metadata": {},
   "source": [
    "Calculate merdifional heat flux (MHF)"
   ]
  },
  {
   "cell_type": "code",
   "execution_count": 20,
   "id": "4dbd1c89-d57b-4281-85dd-c13e083cdc1e",
   "metadata": {},
   "outputs": [
    {
     "name": "stdout",
     "output_type": "stream",
     "text": [
      "CPU times: user 30.6 s, sys: 671 ms, total: 31.2 s\n",
      "Wall time: 28.3 s\n"
     ]
    }
   ],
   "source": [
    "%%time\n",
    "MHF_CM_25 = get_MHF(shflux_CM2_025, area_t_25, lat_25, latv_25)"
   ]
  },
  {
   "cell_type": "code",
   "execution_count": 21,
   "id": "70f0de9b-a5af-4462-b4c8-6b4cf3210f8d",
   "metadata": {},
   "outputs": [
    {
     "name": "stdout",
     "output_type": "stream",
     "text": [
      "CPU times: user 2.12 s, sys: 69.2 ms, total: 2.18 s\n",
      "Wall time: 2.03 s\n"
     ]
    }
   ],
   "source": [
    "%%time\n",
    "MHF_CM_1 = get_MHF(shflux_CM2_1, area_t_1, lat_1, latv_1)"
   ]
  },
  {
   "cell_type": "code",
   "execution_count": 22,
   "id": "af78c999-2b7f-4098-a653-cf65f0a65e5c",
   "metadata": {},
   "outputs": [],
   "source": [
    "MHF_OM_25 = get_MHF(shflux_OM2_025, area_t_25, lat_25, latv_25)"
   ]
  },
  {
   "cell_type": "code",
   "execution_count": 23,
   "id": "67a9bc55-f8d4-48af-b86f-bbf2d55a814f",
   "metadata": {},
   "outputs": [],
   "source": [
    "MHF_OM_1 = get_MHF(shflux_OM2_1, area_t_1, lat_1, latv_1)"
   ]
  },
  {
   "cell_type": "markdown",
   "id": "7739cc63-caa5-46fc-9847-662b6c22e59c",
   "metadata": {},
   "source": [
    "Observational estimates"
   ]
  },
  {
   "cell_type": "code",
   "execution_count": 24,
   "id": "37fb4fdd-a702-4e51-be6e-cbb640d76dd5",
   "metadata": {},
   "outputs": [
    {
     "data": {
      "text/plain": [
       "(-2.0, 2.5)"
      ]
     },
     "execution_count": 24,
     "metadata": {},
     "output_type": "execute_result"
    },
    {
     "data": {
      "image/png": "[encoded data removed]",
      "text/plain": [
       "<Figure size 640x480 with 1 Axes>"
      ]
     },
     "metadata": {},
     "output_type": "display_data"
    }
   ],
   "source": [
    "import pandas as pd\n",
    "\n",
    "# Read in observed meridional heat transport from Trenberth and Caron (http://www.cgd.ucar.edu/cas/catalog/ocean/ohts/rean_ohts.html)\n",
    "df=pd.read_csv('/g/data/x77/wgh581/Analysis/ACCESS-CM2-025_Analysis/notebooks/ANNUAL_TRANSPORTS_1985_1989.ascii.txt', sep=' ', skiprows=1, skipinitialspace=True)\n",
    "obs_lat = df.values[:,0]/100.\n",
    "obs_ncep = df.values[:,6]/100.\n",
    "obs_ncep_er = df.values[:,10]/100\n",
    "obs_ecmwf = df.values[:,14]/100.\n",
    "obs_ecmwf_er = df.values[:,18]/100.\n",
    "plt.errorbar(obs_lat[::5], obs_ncep[::5], yerr=obs_ncep_er[::5], fmt='xk', capsize=5)\n",
    "plt.errorbar(obs_lat[::5], obs_ecmwf[::5], yerr=obs_ecmwf_er[::5], fmt='ok', capsize=5)\n",
    "plt.ylim([-2, 2.5])"
   ]
  },
  {
   "cell_type": "code",
   "execution_count": 25,
   "id": "3d488387-b5ba-47a0-9a17-a39ba737079f",
   "metadata": {},
   "outputs": [
    {
     "data": {
      "text/plain": [
       "(-2.0, 2.5)"
      ]
     },
     "execution_count": 25,
     "metadata": {},
     "output_type": "execute_result"
    },
    {
     "data": {
      "image/png": "[encoded data removed]",
      "text/plain": [
       "<Figure size 640x480 with 1 Axes>"
      ]
     },
     "metadata": {},
     "output_type": "display_data"
    }
   ],
   "source": [
    "# Read in observed MHT from Ganachaud and Wunsch 2000 (\n",
    "df=pd.read_csv('/g/data/x77/wgh581/Analysis/ACCESS-CM2-025_Analysis/notebooks/GW2003_GlobalMHT.txt', sep=' ', skiprows=0, skipinitialspace=True)\n",
    "obsGW2003_lat = df.values[:,0]\n",
    "obsGW2003_mht = df.values[:,1]\n",
    "obsGW2003_mhte = df.values[:,2]\n",
    "plt.errorbar(obsGW2003_lat, obsGW2003_mht, yerr=obsGW2003_mhte, fmt='dr', capsize=5)\n",
    "plt.ylim([-2, 2.5])"
   ]
  },
  {
   "cell_type": "markdown",
   "id": "81b0f32a-d84b-4bef-8878-1c154e6e849c",
   "metadata": {},
   "source": [
    "Plotting"
   ]
  },
  {
   "cell_type": "code",
   "execution_count": 26,
   "id": "b22761bc-e515-4475-b5e3-812204b04a39",
   "metadata": {},
   "outputs": [],
   "source": [
    "CLEX_Red = '#DA1E48'\n",
    "CLEX_Pink = '#F48580'\n",
    "CLEX_SkyBlue = '#00BDF2'\n",
    "CLEX_MidBlue = '#008DD0'\n",
    "CLEX_CobaldBlue = '#0066B3'\n",
    "CLEX_MidnightBlue = '#113559'\n",
    "CLEX_Gray = '#4D4D47'"
   ]
  },
  {
   "cell_type": "code",
   "execution_count": 27,
   "id": "9257c7e6-985e-42d2-ae29-b3b3667e53c3",
   "metadata": {},
   "outputs": [
    {
     "data": {
      "image/png": "[encoded data removed]",
      "text/plain": [
       "<Figure size 1000x500 with 1 Axes>"
      ]
     },
     "metadata": {},
     "output_type": "display_data"
    }
   ],
   "source": [
    "fig = plt.figure(figsize=(10,5))\n",
    "\n",
    "plt.plot(latv_25, MHF_CM_25*1e-15, color=CLEX_CobaldBlue, label='CM2-025')\n",
    "plt.plot(latv_1, MHF_CM_1*1e-15, color=CLEX_SkyBlue, label='CM2-1')\n",
    "plt.plot(latv_25, MHF_OM_25*1e-15, color=CLEX_Red, label='OM2-025')\n",
    "plt.plot(latv_1, MHF_OM_1*1e-15, color=CLEX_Pink, label='OM2-1')\n",
    "plt.plot(obs_lat, obs_ncep, 'xk', label='NCEP', markersize=6)\n",
    "plt.errorbar(obs_lat[3::5], obs_ncep[3::5], yerr=obs_ncep_er[3::5], fmt='xk', capsize=3)\n",
    "plt.plot(obs_lat, obs_ecmwf, 'o', color='0.5', label='ECMWF', markersize=3)\n",
    "plt.errorbar(obs_lat[::5], obs_ecmwf[::5], yerr=obs_ecmwf_er[::5], fmt='o', color='0.5', capsize=3)\n",
    "plt.errorbar(obsGW2003_lat, obsGW2003_mht, yerr=obsGW2003_mhte, fmt='d', color='0.8', capsize=8, label='GW2003')\n",
    "plt.legend(ncol=2, fontsize=ft_size-1)\n",
    "plt.axhline(0, linewidth=0.5, color=CLEX_Gray)\n",
    "plt.xlim(-90, 90)\n",
    "plt.ylim([-2, 2.5])\n",
    "plt.xlabel('Latitude ($^{\\circ}$N)')\n",
    "plt.ylabel('Meridional heat flux, ocean (PW)')\n",
    "\n",
    "# Finished\n",
    "save_flag = 1\n",
    "if save_flag == 1:\n",
    "    fig_name = 'Fig_MHT_ocean.png'\n",
    "    plt.savefig(fig_path + fig_name, dpi=300);"
   ]
  },
  {
   "cell_type": "markdown",
   "id": "c5583368-1338-41d2-b61e-6885007157c2",
   "metadata": {},
   "source": [
    "Things to note:\n",
    "- 0.25 has less transpport than 1 in SH (and more transport in NH)\n",
    "- Larger difference between models than resolution\n",
    "- All models have less transport than what observational estimates suggest"
   ]
  },
  {
   "cell_type": "markdown",
   "id": "6d64f140-9e7c-4057-b682-b26c225c00ad",
   "metadata": {},
   "source": [
    "Some numbers"
   ]
  },
  {
   "cell_type": "code",
   "execution_count": 71,
   "id": "b0492d78-31ed-4d91-94fc-b4cba9e2cbae",
   "metadata": {},
   "outputs": [
    {
     "name": "stdout",
     "output_type": "stream",
     "text": [
      "Maximum transport (SH, NH), in PW\n",
      "CM2-025:  -0.79 1.66\n",
      "CM2-1:  -0.89 1.68\n",
      "OM2-025:  -0.37 1.45\n",
      "OM2-1:  -0.45 1.35\n"
     ]
    }
   ],
   "source": [
    "print('Maximum transport (SH, NH), in PW')\n",
    "print('CM2-025: ', np.round(MHF_CM_25.min()*1e-15, 2), np.round(MHF_CM_25.max()*1e-15, 2))\n",
    "print('CM2-1: ', np.round(MHF_CM_1.min()*1e-15, 2), np.round(MHF_CM_1.max()*1e-15, 2))\n",
    "print('OM2-025: ', np.round(MHF_OM_25.min()*1e-15, 2), np.round(MHF_OM_25.max()*1e-15, 2))\n",
    "print('OM2-1: ', np.round(MHF_OM_1.min()*1e-15, 2), np.round(MHF_OM_1.max()*1e-15, 2))"
   ]
  },
  {
   "cell_type": "code",
   "execution_count": 112,
   "id": "75176b51-1397-4798-b26f-02c158b58157",
   "metadata": {},
   "outputs": [
    {
     "name": "stdout",
     "output_type": "stream",
     "text": [
      "Transport at 30 S, 20 N), in PW\n",
      "CM2-025:  -0.52 1.46\n",
      "CM2-1:  -0.53 1.57\n",
      "OM2-025:  -0.25 1.37\n",
      "OM2-1:  -0.36 1.24\n"
     ]
    }
   ],
   "source": [
    "print('Transport at 30 S, 30 N), in PW')\n",
    "print('CM2-025: ', np.round(MHF_CM_25[372]*1e-15, 2), np.round(MHF_CM_25[623]*1e-15, 2))\n",
    "print('CM2-1: ', np.round(MHF_CM_1[77]*1e-15, 2), np.round(MHF_CM_1[196]*1e-15, 2))\n",
    "print('OM2-025: ', np.round(MHF_OM_25[372]*1e-15, 2), np.round(MHF_OM_25[623]*1e-15, 2))\n",
    "print('OM2-1: ', np.round(MHF_OM_1[77]*1e-15, 2), np.round(MHF_OM_1[196]*1e-15, 2))"
   ]
  },
  {
   "cell_type": "code",
   "execution_count": null,
   "id": "90faf34c-9371-4e67-9b91-db67d1f86c85",
   "metadata": {},
   "outputs": [],
   "source": []
  },
  {
   "cell_type": "code",
   "execution_count": null,
   "id": "cd32099b-2c3f-4bb6-b34a-03658057c665",
   "metadata": {},
   "outputs": [],
   "source": []
  }
 ],
 "metadata": {
  "kernelspec": {
   "display_name": "Python [conda env:analysis3-22.10]",
   "language": "python",
   "name": "conda-env-analysis3-22.10-py"
  },
  "language_info": {
   "codemirror_mode": {
    "name": "ipython",
    "version": 3
   },
   "file_extension": ".py",
   "mimetype": "text/x-python",
   "name": "python",
   "nbconvert_exporter": "python",
   "pygments_lexer": "ipython3",
   "version": "3.9.15"
  }
 },
 "nbformat": 4,
 "nbformat_minor": 5
}
